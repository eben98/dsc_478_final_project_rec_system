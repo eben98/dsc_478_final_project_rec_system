{
 "cells": [
  {
   "cell_type": "markdown",
   "id": "00c99b98-c0a7-426c-b35d-0ae3a3202f0a",
   "metadata": {},
   "source": [
    "# 📘 Final Project - Recommender Systems\n",
    "\n",
    "### 📌 Submitted by:\n",
    "#### 👤 1. Ebenezer Daniel  \n",
    "#### 👤 2. Raja Prabhakaran  \n",
    "#### 👤 3. Nitheesh Samiappan  "
   ]
  },
  {
   "cell_type": "markdown",
   "id": "222b4bdb-62a0-475c-a49c-51549bf41fa4",
   "metadata": {
    "tags": []
   },
   "source": [
    "## 📚 **Dataset Details: Goodreads Book Datasets (10M)**\n",
    "### 📌 Source:\n",
    "🔗 **[Goodreads Book Datasets (10M) on Kaggle](https://www.kaggle.com/datasets/bahramjannesarr/goodreads-book-datasets-10m/data)**\n",
    "\n",
    "### 📊 **Overview**\n",
    "This dataset contains **book information and user ratings** from **Goodreads**, a popular online book review platform. It includes metadata on **millions of books**, user-generated reviews, and rating distributions.\n",
    "\n",
    "### 📂 **Files Included**\n",
    "- **Books Data**: Contains metadata such as title, author, publisher, publication year, and ratings.\n",
    "- **User Ratings Data**: Includes detailed breakdowns of how users rated books (1-star to 5-star distributions).\n",
    "\n",
    "### 🔍 **Dataset Attributes**\n",
    "| Column Name         | Description |\n",
    "|---------------------|------------|\n",
    "| **Id**             | Unique book identifier |\n",
    "| **Name**           | Title of the book |\n",
    "| **Authors**        | Author(s) of the book |\n",
    "| **ISBN**           | International Standard Book Number (if available) |\n",
    "| **Publisher**      | Name of the publishing house |\n",
    "| **PagesNumber**    | Number of pages in the book |\n",
    "| **PublishYear**    | Year of publication |\n",
    "| **PublishMonth**   | Month of publication |\n",
    "| **PublishDay**     | Day of publication |\n",
    "| **Language**       | Language of the book |\n",
    "| **CountsOfReview** | Total number of user reviews |\n",
    "| **Rating**         | Average user rating (1-5) |\n",
    "| **RatingDist1**    | Number of 1-star ratings |\n",
    "| **RatingDist2**    | Number of 2-star ratings |\n",
    "| **RatingDist3**    | Number of 3-star ratings |\n",
    "| **RatingDist4**    | Number of 4-star ratings |\n",
    "| **RatingDist5**    | Number of 5-star ratings |\n",
    "| **RatingDistTotal** | Total number of ratings |\n",
    "\n",
    "### 📈 **Size of the Dataset**\n",
    "- **Number of books:** ~10 million  \n",
    "- **Number of user ratings:** ~25 million  \n",
    "\n",
    "### 🛠 **Preprocessing Done**\n",
    "- **Handling Missing Values:** Some books are missing ISBNs, publishers, or languages.\n",
    "- **Standardizing Column Names:** Ensured consistency across multiple files.\n",
    "- **Data Cleaning:** Removed duplicates, merged similar columns (e.g., `PagesNumber` and `pagesNumber`).\n",
    "\n",
    "---\n",
    "\n",
    "### 📌 **Why This Dataset?**\n",
    "- Large-scale book rating data enables **recommendation system development**.\n",
    "- Rich metadata for **book analysis, trend discovery, and user preferences**.\n",
    "- Real-world **collaborative filtering & machine learning applications**.\n",
    "\n",
    "---\n",
    "\n",
    "📢 *This dataset serves as the foundation for our book recommender system and data analysis!* 🚀\n"
   ]
  },
  {
   "cell_type": "code",
   "execution_count": 3,
   "id": "1bedcf3b-43d6-4b47-b1bc-43e714e23788",
   "metadata": {},
   "outputs": [
    {
     "name": "stdout",
     "output_type": "stream",
     "text": [
      "Installing scikit-learn...\n",
      "Installing scikit-surprise...\n",
      "All required libraries are installed.\n"
     ]
    }
   ],
   "source": [
    "import importlib\n",
    "import subprocess\n",
    "import sys\n",
    "\n",
    "# List of required libraries\n",
    "required_libraries = [\n",
    "    \"pandas\", \"numpy\", \"matplotlib\", \"seaborn\", \"scipy\",\n",
    "    \"nltk\", \"scikit-learn\", \"scikit-surprise\"  # Use scikit-surprise instead of surprise\n",
    "]\n",
    "\n",
    "# Function to check and install missing libraries\n",
    "def check_and_install(libraries):\n",
    "    for lib in libraries:\n",
    "        try:\n",
    "            importlib.import_module(lib)\n",
    "        except ImportError:\n",
    "            print(f\"Installing {lib}...\")\n",
    "            try:\n",
    "                subprocess.check_call([sys.executable, \"-m\", \"pip\", \"install\", lib])\n",
    "            except subprocess.CalledProcessError:\n",
    "                print(f\"Failed to install {lib}. Trying Conda (if applicable)...\")\n",
    "                try:\n",
    "                    subprocess.check_call([\"conda\", \"install\", \"-c\", \"conda-forge\", lib, \"-y\"])\n",
    "                except subprocess.CalledProcessError:\n",
    "                    print(f\"Could not install {lib}. Please install it manually.\")\n",
    "\n",
    "# Check and install missing libraries\n",
    "check_and_install(required_libraries)\n",
    "\n",
    "print(\"All required libraries are installed.\")\n"
   ]
  },
  {
   "cell_type": "code",
   "execution_count": 4,
   "id": "29c8775c-81ca-468c-8ad6-afe820801df4",
   "metadata": {
    "tags": []
   },
   "outputs": [
    {
     "name": "stdout",
     "output_type": "stream",
     "text": [
      "All required libraries are successfully imported.\n"
     ]
    }
   ],
   "source": [
    "# Jupyter magic command for inline plots\n",
    "%matplotlib inline\n",
    "\n",
    "# Import libraries\n",
    "import pandas as pd\n",
    "import glob\n",
    "import os\n",
    "import re\n",
    "import numpy as np\n",
    "import matplotlib.pyplot as plt\n",
    "import seaborn as sns\n",
    "from scipy import stats\n",
    "from ast import literal_eval\n",
    "from sklearn.feature_extraction.text import TfidfVectorizer, CountVectorizer\n",
    "from sklearn.metrics.pairwise import linear_kernel, cosine_similarity\n",
    "from nltk.stem.snowball import SnowballStemmer\n",
    "from nltk.stem.wordnet import WordNetLemmatizer\n",
    "from nltk.corpus import wordnet\n",
    "from surprise import Reader, Dataset, SVD\n",
    "from surprise.model_selection import cross_validate\n",
    "\n",
    "import warnings\n",
    "warnings.simplefilter('ignore')\n",
    "\n",
    "print(\"All required libraries are successfully imported.\")"
   ]
  },
  {
   "cell_type": "code",
   "execution_count": 5,
   "id": "d6b4d4eb-b724-4d32-81ee-2b89c12be468",
   "metadata": {
    "tags": []
   },
   "outputs": [
    {
     "name": "stdout",
     "output_type": "stream",
     "text": [
      "Combined 'book' DataFrame shape: (1850310, 20)\n",
      "Combined 'user' DataFrame shape: (362596, 3)\n"
     ]
    }
   ],
   "source": [
    "# Define the folder where your CSV files are stored\n",
    "csv_folder = \"Datasets/\" \n",
    "\n",
    "# Use glob to get only CSV files that start with 'book'\n",
    "csv_book_files = glob.glob(os.path.join(csv_folder, \"book*.csv\"))\n",
    "csv_user_files = glob.glob(os.path.join(csv_folder, \"user*.csv\"))\n",
    "\n",
    "# Load and concatenate all \"book\" CSV files into a single DataFrame\n",
    "# Function to read CSV files and standardize column names before combining\n",
    "def load_and_standardize_csv(file_list):\n",
    "    df_list = []\n",
    "    for file in file_list:\n",
    "        df = pd.read_csv(file)\n",
    "        df.columns = df.columns.str.lower()\n",
    "        df_list.append(df)\n",
    "    return pd.concat(df_list, ignore_index=True)\n",
    "\n",
    "# Load and combine \"book\" and \"user\" CSV files\n",
    "df_books = load_and_standardize_csv(csv_book_files)\n",
    "df_users = load_and_standardize_csv(csv_user_files)\n",
    "\n",
    "# Rename specific mismatched columns for consistency\n",
    "df_books.rename(columns={'pagesnumber': 'pagesNumber'}, inplace=True)\n",
    "\n",
    "print(f\"Combined 'book' DataFrame shape: {df_books.shape}\")\n",
    "print(f\"Combined 'user' DataFrame shape: {df_users.shape}\")"
   ]
  },
  {
   "cell_type": "code",
   "execution_count": 6,
   "id": "8bec11ab-fad2-46c2-9ef7-fcdc155ebc96",
   "metadata": {
    "tags": []
   },
   "outputs": [],
   "source": [
    "#store the merged data into a csv files for both books and user\n",
    "df_books.to_csv('combined_books_data.csv', index=False) # Causes memory error\n",
    "df_users.to_csv('combined_users_data.csv', index=False)"
   ]
  },
  {
   "cell_type": "code",
   "execution_count": 79,
   "id": "cae1f0c7-d8b0-4c64-95a1-5b9d55ba56de",
   "metadata": {},
   "outputs": [
    {
     "name": "stdout",
     "output_type": "stream",
     "text": [
      "Original data copied for future use. DONE!!!\n"
     ]
    }
   ],
   "source": [
    "#copy the data frame and keep the original data for further use\n",
    "df_books_original = df_books.copy()\n",
    "df_users_original = df_users.copy()\n",
    "print('Original data copied for future use. DONE!!!')"
   ]
  },
  {
   "cell_type": "markdown",
   "id": "31bd8a34-549b-479b-90b5-43dab8be8fb6",
   "metadata": {},
   "source": [
    "### Preprocessing & Data Cleaning"
   ]
  },
  {
   "cell_type": "code",
   "execution_count": 81,
   "id": "77503839-0012-4ddc-82c5-9576a5fa61e5",
   "metadata": {
    "tags": []
   },
   "outputs": [
    {
     "name": "stdout",
     "output_type": "stream",
     "text": [
      "Unique IDs: 1850115\n",
      "Unique ISBNs: 1844192\n"
     ]
    }
   ],
   "source": [
    "# find the unique ID and ISBN\n",
    "unique_ids = df_books['id'].nunique()\n",
    "unique_isbns = df_books['isbn'].nunique()\n",
    "print(f\"Unique IDs: {unique_ids}\")\n",
    "print(f\"Unique ISBNs: {unique_isbns}\")"
   ]
  },
  {
   "cell_type": "code",
   "execution_count": 82,
   "id": "75042280-09a0-45ca-b6d9-b976cc17dfce",
   "metadata": {
    "tags": []
   },
   "outputs": [
    {
     "name": "stdout",
     "output_type": "stream",
     "text": [
      "Duplicate Rows: 112\n"
     ]
    }
   ],
   "source": [
    "# find duplicates across all rows\n",
    "duplicate_rows = df_books.duplicated().sum()\n",
    "print(f\"Duplicate Rows: {duplicate_rows}\")"
   ]
  },
  {
   "cell_type": "code",
   "execution_count": 83,
   "id": "40c10dde-58ad-481b-ae12-fc405c9dcd11",
   "metadata": {
    "tags": []
   },
   "outputs": [
    {
     "name": "stdout",
     "output_type": "stream",
     "text": [
      "Missing ISBNs: 5923\n",
      "Missing Id: 0\n"
     ]
    }
   ],
   "source": [
    "# find missing ISBNs & ID\n",
    "missing_isbns = df_books['isbn'].isna().sum()\n",
    "print(f\"Missing ISBNs: {missing_isbns}\")\n",
    "\n",
    "missing_id = df_books['id'].isna().sum()\n",
    "print(f\"Missing Id: {missing_id}\")"
   ]
  },
  {
   "cell_type": "code",
   "execution_count": 85,
   "id": "d71d3841-325e-4802-8305-331607be2591",
   "metadata": {
    "tags": []
   },
   "outputs": [
    {
     "name": "stdout",
     "output_type": "stream",
     "text": [
      "After removing fully duplicated rows: 1850198 records remaining.\n",
      "After ensuring unique IDs: 1850115 records remaining.\n"
     ]
    }
   ],
   "source": [
    "# Drop duplicate rows\n",
    "df_books_cleaned = df_books.drop_duplicates()\n",
    "print(f\"After removing fully duplicated rows: {df_books_cleaned.shape[0]} records remaining.\")\n",
    "\n",
    "# Keep only the first occurrence of each ID\n",
    "df_books_cleaned = df_books_cleaned.drop_duplicates(subset=['id'], keep='first')\n",
    "print(f\"After ensuring unique IDs: {df_books_cleaned.shape[0]} records remaining.\")"
   ]
  },
  {
   "cell_type": "code",
   "execution_count": 87,
   "id": "65e23b19-edbc-4ad7-a1bb-615f81cdf6d9",
   "metadata": {
    "tags": []
   },
   "outputs": [
    {
     "data": {
      "text/plain": [
       "id                             0\n",
       "name                           0\n",
       "ratingdist1                    0\n",
       "pagesNumber                    0\n",
       "ratingdist4                    0\n",
       "ratingdisttotal                0\n",
       "publishmonth                   0\n",
       "publishday                     0\n",
       "publisher                  17821\n",
       "countsofreview                 0\n",
       "publishyear                    0\n",
       "language                 1598369\n",
       "authors                        0\n",
       "rating                         0\n",
       "ratingdist2                    0\n",
       "ratingdist5                    0\n",
       "isbn                        5922\n",
       "ratingdist3                    0\n",
       "description               678927\n",
       "count of text reviews    1440418\n",
       "dtype: int64"
      ]
     },
     "execution_count": 87,
     "metadata": {},
     "output_type": "execute_result"
    }
   ],
   "source": [
    "# Check for missing (NaN) values across all columns\n",
    "missing_values = df_books_cleaned.isna().sum()\n",
    "missing_values"
   ]
  },
  {
   "cell_type": "code",
   "execution_count": 94,
   "id": "458d36f3-505c-4360-840c-6b0619b47d2e",
   "metadata": {},
   "outputs": [
    {
     "data": {
      "text/html": [
       "<div>\n",
       "<style scoped>\n",
       "    .dataframe tbody tr th:only-of-type {\n",
       "        vertical-align: middle;\n",
       "    }\n",
       "\n",
       "    .dataframe tbody tr th {\n",
       "        vertical-align: top;\n",
       "    }\n",
       "\n",
       "    .dataframe thead th {\n",
       "        text-align: right;\n",
       "    }\n",
       "</style>\n",
       "<table border=\"1\" class=\"dataframe\">\n",
       "  <thead>\n",
       "    <tr style=\"text-align: right;\">\n",
       "      <th></th>\n",
       "      <th>id</th>\n",
       "      <th>name</th>\n",
       "      <th>ratingdist1</th>\n",
       "      <th>pagesNumber</th>\n",
       "      <th>ratingdist4</th>\n",
       "      <th>ratingdisttotal</th>\n",
       "      <th>publishmonth</th>\n",
       "      <th>publishday</th>\n",
       "      <th>publisher</th>\n",
       "      <th>countsofreview</th>\n",
       "      <th>publishyear</th>\n",
       "      <th>language</th>\n",
       "      <th>authors</th>\n",
       "      <th>rating</th>\n",
       "      <th>ratingdist2</th>\n",
       "      <th>ratingdist5</th>\n",
       "      <th>ratingdist3</th>\n",
       "      <th>description</th>\n",
       "    </tr>\n",
       "  </thead>\n",
       "  <tbody>\n",
       "    <tr>\n",
       "      <th>0</th>\n",
       "      <td>1</td>\n",
       "      <td>Harry Potter and the Half-Blood Prince (Harry ...</td>\n",
       "      <td>1:9896</td>\n",
       "      <td>652</td>\n",
       "      <td>4:556485</td>\n",
       "      <td>total:2298124</td>\n",
       "      <td>16</td>\n",
       "      <td>9</td>\n",
       "      <td>Scholastic Inc.</td>\n",
       "      <td>28062</td>\n",
       "      <td>2006</td>\n",
       "      <td>eng</td>\n",
       "      <td>J.K. Rowling</td>\n",
       "      <td>4.57</td>\n",
       "      <td>2:25317</td>\n",
       "      <td>5:1546466</td>\n",
       "      <td>3:159960</td>\n",
       "      <td>NaN</td>\n",
       "    </tr>\n",
       "    <tr>\n",
       "      <th>1</th>\n",
       "      <td>2</td>\n",
       "      <td>Harry Potter and the Order of the Phoenix (Har...</td>\n",
       "      <td>1:12455</td>\n",
       "      <td>870</td>\n",
       "      <td>4:604283</td>\n",
       "      <td>total:2358637</td>\n",
       "      <td>1</td>\n",
       "      <td>9</td>\n",
       "      <td>Scholastic Inc.</td>\n",
       "      <td>29770</td>\n",
       "      <td>2004</td>\n",
       "      <td>eng</td>\n",
       "      <td>J.K. Rowling</td>\n",
       "      <td>4.50</td>\n",
       "      <td>2:37005</td>\n",
       "      <td>5:1493113</td>\n",
       "      <td>3:211781</td>\n",
       "      <td>NaN</td>\n",
       "    </tr>\n",
       "    <tr>\n",
       "      <th>2</th>\n",
       "      <td>3</td>\n",
       "      <td>Harry Potter and the Sorcerer's Stone (Harry P...</td>\n",
       "      <td>1:108202</td>\n",
       "      <td>309</td>\n",
       "      <td>4:1513191</td>\n",
       "      <td>total:6587388</td>\n",
       "      <td>1</td>\n",
       "      <td>11</td>\n",
       "      <td>Scholastic Inc</td>\n",
       "      <td>75911</td>\n",
       "      <td>2003</td>\n",
       "      <td>eng</td>\n",
       "      <td>J.K. Rowling</td>\n",
       "      <td>4.47</td>\n",
       "      <td>2:130310</td>\n",
       "      <td>5:4268227</td>\n",
       "      <td>3:567458</td>\n",
       "      <td>NaN</td>\n",
       "    </tr>\n",
       "    <tr>\n",
       "      <th>3</th>\n",
       "      <td>4</td>\n",
       "      <td>Harry Potter and the Chamber of Secrets (Harry...</td>\n",
       "      <td>1:11896</td>\n",
       "      <td>352</td>\n",
       "      <td>4:706082</td>\n",
       "      <td>total:2560657</td>\n",
       "      <td>1</td>\n",
       "      <td>11</td>\n",
       "      <td>Scholastic</td>\n",
       "      <td>244</td>\n",
       "      <td>2003</td>\n",
       "      <td>eng</td>\n",
       "      <td>J.K. Rowling</td>\n",
       "      <td>4.42</td>\n",
       "      <td>2:49353</td>\n",
       "      <td>5:1504505</td>\n",
       "      <td>3:288821</td>\n",
       "      <td>NaN</td>\n",
       "    </tr>\n",
       "    <tr>\n",
       "      <th>4</th>\n",
       "      <td>5</td>\n",
       "      <td>Harry Potter and the Prisoner of Azkaban (Harr...</td>\n",
       "      <td>1:10128</td>\n",
       "      <td>435</td>\n",
       "      <td>4:630534</td>\n",
       "      <td>total:2610317</td>\n",
       "      <td>1</td>\n",
       "      <td>5</td>\n",
       "      <td>Scholastic Inc.</td>\n",
       "      <td>37093</td>\n",
       "      <td>2004</td>\n",
       "      <td>eng</td>\n",
       "      <td>J.K. Rowling</td>\n",
       "      <td>4.57</td>\n",
       "      <td>2:24849</td>\n",
       "      <td>5:1749958</td>\n",
       "      <td>3:194848</td>\n",
       "      <td>NaN</td>\n",
       "    </tr>\n",
       "  </tbody>\n",
       "</table>\n",
       "</div>"
      ],
      "text/plain": [
       "   id                                               name ratingdist1  \\\n",
       "0   1  Harry Potter and the Half-Blood Prince (Harry ...      1:9896   \n",
       "1   2  Harry Potter and the Order of the Phoenix (Har...     1:12455   \n",
       "2   3  Harry Potter and the Sorcerer's Stone (Harry P...    1:108202   \n",
       "3   4  Harry Potter and the Chamber of Secrets (Harry...     1:11896   \n",
       "4   5  Harry Potter and the Prisoner of Azkaban (Harr...     1:10128   \n",
       "\n",
       "   pagesNumber ratingdist4 ratingdisttotal  publishmonth  publishday  \\\n",
       "0          652    4:556485   total:2298124            16           9   \n",
       "1          870    4:604283   total:2358637             1           9   \n",
       "2          309   4:1513191   total:6587388             1          11   \n",
       "3          352    4:706082   total:2560657             1          11   \n",
       "4          435    4:630534   total:2610317             1           5   \n",
       "\n",
       "         publisher  countsofreview  publishyear language       authors  \\\n",
       "0  Scholastic Inc.           28062         2006      eng  J.K. Rowling   \n",
       "1  Scholastic Inc.           29770         2004      eng  J.K. Rowling   \n",
       "2   Scholastic Inc           75911         2003      eng  J.K. Rowling   \n",
       "3       Scholastic             244         2003      eng  J.K. Rowling   \n",
       "4  Scholastic Inc.           37093         2004      eng  J.K. Rowling   \n",
       "\n",
       "   rating ratingdist2 ratingdist5 ratingdist3 description  \n",
       "0    4.57     2:25317   5:1546466    3:159960         NaN  \n",
       "1    4.50     2:37005   5:1493113    3:211781         NaN  \n",
       "2    4.47    2:130310   5:4268227    3:567458         NaN  \n",
       "3    4.42     2:49353   5:1504505    3:288821         NaN  \n",
       "4    4.57     2:24849   5:1749958    3:194848         NaN  "
      ]
     },
     "execution_count": 94,
     "metadata": {},
     "output_type": "execute_result"
    }
   ],
   "source": [
    "# Dropping all the unnesscary columns\n",
    "df_books_cleaned.drop(columns=['count of text reviews', 'isbn'], inplace=True)\n",
    "df_books_cleaned.head(5)"
   ]
  },
  {
   "cell_type": "code",
   "execution_count": 102,
   "id": "50cfb532-ffe4-4f58-aee8-388ddbfc8c59",
   "metadata": {},
   "outputs": [],
   "source": [
    "df_books_cleaned['publisher'].fillna(\"Unknown\", inplace=True)\n",
    "df_books_cleaned['language'].fillna(df_books_cleaned['language'].mode()[0], inplace=True)"
   ]
  },
  {
   "cell_type": "code",
   "execution_count": 104,
   "id": "f4061bc5-b35e-499a-b0dd-7afc3bf18981",
   "metadata": {},
   "outputs": [
    {
     "data": {
      "text/html": [
       "<div>\n",
       "<style scoped>\n",
       "    .dataframe tbody tr th:only-of-type {\n",
       "        vertical-align: middle;\n",
       "    }\n",
       "\n",
       "    .dataframe tbody tr th {\n",
       "        vertical-align: top;\n",
       "    }\n",
       "\n",
       "    .dataframe thead th {\n",
       "        text-align: right;\n",
       "    }\n",
       "</style>\n",
       "<table border=\"1\" class=\"dataframe\">\n",
       "  <thead>\n",
       "    <tr style=\"text-align: right;\">\n",
       "      <th></th>\n",
       "      <th>id</th>\n",
       "      <th>name</th>\n",
       "      <th>ratingdist1</th>\n",
       "      <th>pagesNumber</th>\n",
       "      <th>ratingdist4</th>\n",
       "      <th>ratingdisttotal</th>\n",
       "      <th>publishmonth</th>\n",
       "      <th>publishday</th>\n",
       "      <th>publisher</th>\n",
       "      <th>countsofreview</th>\n",
       "      <th>publishyear</th>\n",
       "      <th>language</th>\n",
       "      <th>authors</th>\n",
       "      <th>rating</th>\n",
       "      <th>ratingdist2</th>\n",
       "      <th>ratingdist5</th>\n",
       "      <th>ratingdist3</th>\n",
       "      <th>description</th>\n",
       "    </tr>\n",
       "  </thead>\n",
       "  <tbody>\n",
       "    <tr>\n",
       "      <th>0</th>\n",
       "      <td>1</td>\n",
       "      <td>Harry Potter and the Half-Blood Prince (Harry ...</td>\n",
       "      <td>1:9896</td>\n",
       "      <td>652</td>\n",
       "      <td>4:556485</td>\n",
       "      <td>total:2298124</td>\n",
       "      <td>16</td>\n",
       "      <td>9</td>\n",
       "      <td>Scholastic Inc.</td>\n",
       "      <td>28062</td>\n",
       "      <td>2006</td>\n",
       "      <td>eng</td>\n",
       "      <td>J.K. Rowling</td>\n",
       "      <td>4.57</td>\n",
       "      <td>2:25317</td>\n",
       "      <td>5:1546466</td>\n",
       "      <td>3:159960</td>\n",
       "      <td>NaN</td>\n",
       "    </tr>\n",
       "    <tr>\n",
       "      <th>1</th>\n",
       "      <td>2</td>\n",
       "      <td>Harry Potter and the Order of the Phoenix (Har...</td>\n",
       "      <td>1:12455</td>\n",
       "      <td>870</td>\n",
       "      <td>4:604283</td>\n",
       "      <td>total:2358637</td>\n",
       "      <td>1</td>\n",
       "      <td>9</td>\n",
       "      <td>Scholastic Inc.</td>\n",
       "      <td>29770</td>\n",
       "      <td>2004</td>\n",
       "      <td>eng</td>\n",
       "      <td>J.K. Rowling</td>\n",
       "      <td>4.50</td>\n",
       "      <td>2:37005</td>\n",
       "      <td>5:1493113</td>\n",
       "      <td>3:211781</td>\n",
       "      <td>NaN</td>\n",
       "    </tr>\n",
       "  </tbody>\n",
       "</table>\n",
       "</div>"
      ],
      "text/plain": [
       "   id                                               name ratingdist1  \\\n",
       "0   1  Harry Potter and the Half-Blood Prince (Harry ...      1:9896   \n",
       "1   2  Harry Potter and the Order of the Phoenix (Har...     1:12455   \n",
       "\n",
       "   pagesNumber ratingdist4 ratingdisttotal  publishmonth  publishday  \\\n",
       "0          652    4:556485   total:2298124            16           9   \n",
       "1          870    4:604283   total:2358637             1           9   \n",
       "\n",
       "         publisher  countsofreview  publishyear language       authors  \\\n",
       "0  Scholastic Inc.           28062         2006      eng  J.K. Rowling   \n",
       "1  Scholastic Inc.           29770         2004      eng  J.K. Rowling   \n",
       "\n",
       "   rating ratingdist2 ratingdist5 ratingdist3 description  \n",
       "0    4.57     2:25317   5:1546466    3:159960         NaN  \n",
       "1    4.50     2:37005   5:1493113    3:211781         NaN  "
      ]
     },
     "execution_count": 104,
     "metadata": {},
     "output_type": "execute_result"
    }
   ],
   "source": [
    "df_books_cleaned.head(2)"
   ]
  },
  {
   "cell_type": "code",
   "execution_count": 106,
   "id": "c2e7a79f-8739-4900-bc89-3900567833fd",
   "metadata": {},
   "outputs": [],
   "source": [
    "from summa import summarizer\n",
    "\n",
    "# Step 1: Create a mapping of authors to non-null descriptions\n",
    "author_descriptions = df_books_cleaned.groupby('authors')['description'].apply(lambda x: \" \".join(x.dropna().values[:5]))\n",
    "\n",
    "# Step 2: Fill missing descriptions in bulk\n",
    "def generate_summary(author, desc):\n",
    "    if pd.isna(desc) and author in author_descriptions:\n",
    "        return summarizer.summarize(author_descriptions[author], words=50)\n",
    "    return desc\n",
    "\n",
    "# Apply faster in bulk (vectorized)\n",
    "df_books_cleaned['description'] = df_books_cleaned.apply(lambda row: generate_summary(row['authors'], row['description']), axis=1)"
   ]
  },
  {
   "cell_type": "code",
   "execution_count": 115,
   "id": "49a3025a-217a-421b-957e-a81c447fcaf2",
   "metadata": {
    "tags": []
   },
   "outputs": [
    {
     "name": "stdout",
     "output_type": "stream",
     "text": [
      "['it was amazing' 'really liked it' 'liked it' 'did not like it'\n",
      " 'it was ok' \"This user doesn't have any rating\"]\n"
     ]
    }
   ],
   "source": [
    "# find different types of rating in the rating colum\n",
    "ratings = df_users['rating'].unique()\n",
    "print(ratings)"
   ]
  },
  {
   "cell_type": "code",
   "execution_count": 117,
   "id": "46a9e652-0f86-4853-b8f6-ef935b482d86",
   "metadata": {},
   "outputs": [],
   "source": [
    "# Ask Prof for -->This user doesn't have any rating, can we remove them or assign 0"
   ]
  },
  {
   "cell_type": "code",
   "execution_count": 119,
   "id": "a79f874c-0700-42e0-b568-ffebe33a8b5e",
   "metadata": {
    "tags": []
   },
   "outputs": [
    {
     "data": {
      "text/html": [
       "<div>\n",
       "<style scoped>\n",
       "    .dataframe tbody tr th:only-of-type {\n",
       "        vertical-align: middle;\n",
       "    }\n",
       "\n",
       "    .dataframe tbody tr th {\n",
       "        vertical-align: top;\n",
       "    }\n",
       "\n",
       "    .dataframe thead th {\n",
       "        text-align: right;\n",
       "    }\n",
       "</style>\n",
       "<table border=\"1\" class=\"dataframe\">\n",
       "  <thead>\n",
       "    <tr style=\"text-align: right;\">\n",
       "      <th></th>\n",
       "      <th>id</th>\n",
       "      <th>name</th>\n",
       "      <th>rating</th>\n",
       "      <th>rating in numbers</th>\n",
       "    </tr>\n",
       "  </thead>\n",
       "  <tbody>\n",
       "    <tr>\n",
       "      <th>0</th>\n",
       "      <td>1</td>\n",
       "      <td>Agile Web Development with Rails: A Pragmatic ...</td>\n",
       "      <td>it was amazing</td>\n",
       "      <td>5.0</td>\n",
       "    </tr>\n",
       "    <tr>\n",
       "      <th>1</th>\n",
       "      <td>1</td>\n",
       "      <td>The Restaurant at the End of the Universe (Hit...</td>\n",
       "      <td>it was amazing</td>\n",
       "      <td>5.0</td>\n",
       "    </tr>\n",
       "    <tr>\n",
       "      <th>2</th>\n",
       "      <td>1</td>\n",
       "      <td>Siddhartha</td>\n",
       "      <td>it was amazing</td>\n",
       "      <td>5.0</td>\n",
       "    </tr>\n",
       "    <tr>\n",
       "      <th>3</th>\n",
       "      <td>1</td>\n",
       "      <td>The Clock of the Long Now: Time and Responsibi...</td>\n",
       "      <td>really liked it</td>\n",
       "      <td>4.0</td>\n",
       "    </tr>\n",
       "    <tr>\n",
       "      <th>4</th>\n",
       "      <td>1</td>\n",
       "      <td>Ready Player One (Ready Player One, #1)</td>\n",
       "      <td>really liked it</td>\n",
       "      <td>4.0</td>\n",
       "    </tr>\n",
       "  </tbody>\n",
       "</table>\n",
       "</div>"
      ],
      "text/plain": [
       "   id                                               name           rating  \\\n",
       "0   1  Agile Web Development with Rails: A Pragmatic ...   it was amazing   \n",
       "1   1  The Restaurant at the End of the Universe (Hit...   it was amazing   \n",
       "2   1                                         Siddhartha   it was amazing   \n",
       "3   1  The Clock of the Long Now: Time and Responsibi...  really liked it   \n",
       "4   1            Ready Player One (Ready Player One, #1)  really liked it   \n",
       "\n",
       "   rating in numbers  \n",
       "0                5.0  \n",
       "1                5.0  \n",
       "2                5.0  \n",
       "3                4.0  \n",
       "4                4.0  "
      ]
     },
     "execution_count": 119,
     "metadata": {},
     "output_type": "execute_result"
    }
   ],
   "source": [
    "rating_mapping = {\n",
    "    \"it was amazing\": 5,\n",
    "    \"really liked it\": 4,\n",
    "    \"liked it\": 3,\n",
    "    \"it was ok\": 2,\n",
    "    \"did not like it\": 1,\n",
    "    \"This user doesn't have any rating\": None  # Convert to NaN or remove\n",
    "}\n",
    "\n",
    "# create a numeric rating colum\n",
    "df_users['rating in numbers'] = df_users['rating'].map(rating_mapping)\n",
    "df_users.head(5)"
   ]
  },
  {
   "cell_type": "code",
   "execution_count": 121,
   "id": "18accfdb-efef-4035-b131-bb87ce13f203",
   "metadata": {
    "tags": []
   },
   "outputs": [],
   "source": [
    "df_users_copy = df_users.copy()\n",
    "df_books_copy = df_books_cleaned.copy() "
   ]
  },
  {
   "cell_type": "code",
   "execution_count": 122,
   "id": "55e3d826-5211-4d94-a8ea-2762662fb9d5",
   "metadata": {
    "tags": []
   },
   "outputs": [],
   "source": [
    "df_books_copy.rename(columns={'id': 'book_id'}, inplace=True)\n",
    "df_users_copy.rename(columns={'id': 'user_id'}, inplace=True)"
   ]
  },
  {
   "cell_type": "code",
   "execution_count": 125,
   "id": "3c4bb111-fad3-47fa-9f0a-a0bcfa65044c",
   "metadata": {
    "tags": []
   },
   "outputs": [
    {
     "data": {
      "text/html": [
       "<div>\n",
       "<style scoped>\n",
       "    .dataframe tbody tr th:only-of-type {\n",
       "        vertical-align: middle;\n",
       "    }\n",
       "\n",
       "    .dataframe tbody tr th {\n",
       "        vertical-align: top;\n",
       "    }\n",
       "\n",
       "    .dataframe thead th {\n",
       "        text-align: right;\n",
       "    }\n",
       "</style>\n",
       "<table border=\"1\" class=\"dataframe\">\n",
       "  <thead>\n",
       "    <tr style=\"text-align: right;\">\n",
       "      <th></th>\n",
       "      <th>user_id</th>\n",
       "      <th>name</th>\n",
       "      <th>rating</th>\n",
       "      <th>rating in numbers</th>\n",
       "    </tr>\n",
       "  </thead>\n",
       "  <tbody>\n",
       "    <tr>\n",
       "      <th>0</th>\n",
       "      <td>1</td>\n",
       "      <td>Agile Web Development with Rails: A Pragmatic ...</td>\n",
       "      <td>it was amazing</td>\n",
       "      <td>5.0</td>\n",
       "    </tr>\n",
       "    <tr>\n",
       "      <th>1</th>\n",
       "      <td>1</td>\n",
       "      <td>The Restaurant at the End of the Universe (Hit...</td>\n",
       "      <td>it was amazing</td>\n",
       "      <td>5.0</td>\n",
       "    </tr>\n",
       "    <tr>\n",
       "      <th>2</th>\n",
       "      <td>1</td>\n",
       "      <td>Siddhartha</td>\n",
       "      <td>it was amazing</td>\n",
       "      <td>5.0</td>\n",
       "    </tr>\n",
       "    <tr>\n",
       "      <th>3</th>\n",
       "      <td>1</td>\n",
       "      <td>The Clock of the Long Now: Time and Responsibi...</td>\n",
       "      <td>really liked it</td>\n",
       "      <td>4.0</td>\n",
       "    </tr>\n",
       "    <tr>\n",
       "      <th>4</th>\n",
       "      <td>1</td>\n",
       "      <td>Ready Player One (Ready Player One, #1)</td>\n",
       "      <td>really liked it</td>\n",
       "      <td>4.0</td>\n",
       "    </tr>\n",
       "  </tbody>\n",
       "</table>\n",
       "</div>"
      ],
      "text/plain": [
       "   user_id                                               name  \\\n",
       "0        1  Agile Web Development with Rails: A Pragmatic ...   \n",
       "1        1  The Restaurant at the End of the Universe (Hit...   \n",
       "2        1                                         Siddhartha   \n",
       "3        1  The Clock of the Long Now: Time and Responsibi...   \n",
       "4        1            Ready Player One (Ready Player One, #1)   \n",
       "\n",
       "            rating  rating in numbers  \n",
       "0   it was amazing                5.0  \n",
       "1   it was amazing                5.0  \n",
       "2   it was amazing                5.0  \n",
       "3  really liked it                4.0  \n",
       "4  really liked it                4.0  "
      ]
     },
     "execution_count": 125,
     "metadata": {},
     "output_type": "execute_result"
    }
   ],
   "source": [
    "df_users_copy.head()"
   ]
  },
  {
   "cell_type": "code",
   "execution_count": 127,
   "id": "d58ce7da-eabd-43b2-a101-79c57bcf4746",
   "metadata": {
    "tags": []
   },
   "outputs": [
    {
     "data": {
      "text/html": [
       "<div>\n",
       "<style scoped>\n",
       "    .dataframe tbody tr th:only-of-type {\n",
       "        vertical-align: middle;\n",
       "    }\n",
       "\n",
       "    .dataframe tbody tr th {\n",
       "        vertical-align: top;\n",
       "    }\n",
       "\n",
       "    .dataframe thead th {\n",
       "        text-align: right;\n",
       "    }\n",
       "</style>\n",
       "<table border=\"1\" class=\"dataframe\">\n",
       "  <thead>\n",
       "    <tr style=\"text-align: right;\">\n",
       "      <th></th>\n",
       "      <th>book_id</th>\n",
       "      <th>name</th>\n",
       "      <th>ratingdist1</th>\n",
       "      <th>pagesNumber</th>\n",
       "      <th>ratingdist4</th>\n",
       "      <th>ratingdisttotal</th>\n",
       "      <th>publishmonth</th>\n",
       "      <th>publishday</th>\n",
       "      <th>publisher</th>\n",
       "      <th>countsofreview</th>\n",
       "      <th>publishyear</th>\n",
       "      <th>language</th>\n",
       "      <th>authors</th>\n",
       "      <th>rating</th>\n",
       "      <th>ratingdist2</th>\n",
       "      <th>ratingdist5</th>\n",
       "      <th>ratingdist3</th>\n",
       "      <th>description</th>\n",
       "    </tr>\n",
       "  </thead>\n",
       "  <tbody>\n",
       "    <tr>\n",
       "      <th>0</th>\n",
       "      <td>1</td>\n",
       "      <td>Harry Potter and the Half-Blood Prince (Harry ...</td>\n",
       "      <td>1:9896</td>\n",
       "      <td>652</td>\n",
       "      <td>4:556485</td>\n",
       "      <td>total:2298124</td>\n",
       "      <td>16</td>\n",
       "      <td>9</td>\n",
       "      <td>Scholastic Inc.</td>\n",
       "      <td>28062</td>\n",
       "      <td>2006</td>\n",
       "      <td>eng</td>\n",
       "      <td>J.K. Rowling</td>\n",
       "      <td>4.57</td>\n",
       "      <td>2:25317</td>\n",
       "      <td>5:1546466</td>\n",
       "      <td>3:159960</td>\n",
       "      <td>Harry kan dan ook niet wachten tot hij terug m...</td>\n",
       "    </tr>\n",
       "    <tr>\n",
       "      <th>1</th>\n",
       "      <td>2</td>\n",
       "      <td>Harry Potter and the Order of the Phoenix (Har...</td>\n",
       "      <td>1:12455</td>\n",
       "      <td>870</td>\n",
       "      <td>4:604283</td>\n",
       "      <td>total:2358637</td>\n",
       "      <td>1</td>\n",
       "      <td>9</td>\n",
       "      <td>Scholastic Inc.</td>\n",
       "      <td>29770</td>\n",
       "      <td>2004</td>\n",
       "      <td>eng</td>\n",
       "      <td>J.K. Rowling</td>\n",
       "      <td>4.50</td>\n",
       "      <td>2:37005</td>\n",
       "      <td>5:1493113</td>\n",
       "      <td>3:211781</td>\n",
       "      <td>Harry kan dan ook niet wachten tot hij terug m...</td>\n",
       "    </tr>\n",
       "    <tr>\n",
       "      <th>2</th>\n",
       "      <td>3</td>\n",
       "      <td>Harry Potter and the Sorcerer's Stone (Harry P...</td>\n",
       "      <td>1:108202</td>\n",
       "      <td>309</td>\n",
       "      <td>4:1513191</td>\n",
       "      <td>total:6587388</td>\n",
       "      <td>1</td>\n",
       "      <td>11</td>\n",
       "      <td>Scholastic Inc</td>\n",
       "      <td>75911</td>\n",
       "      <td>2003</td>\n",
       "      <td>eng</td>\n",
       "      <td>J.K. Rowling</td>\n",
       "      <td>4.47</td>\n",
       "      <td>2:130310</td>\n",
       "      <td>5:4268227</td>\n",
       "      <td>3:567458</td>\n",
       "      <td>Harry kan dan ook niet wachten tot hij terug m...</td>\n",
       "    </tr>\n",
       "    <tr>\n",
       "      <th>3</th>\n",
       "      <td>4</td>\n",
       "      <td>Harry Potter and the Chamber of Secrets (Harry...</td>\n",
       "      <td>1:11896</td>\n",
       "      <td>352</td>\n",
       "      <td>4:706082</td>\n",
       "      <td>total:2560657</td>\n",
       "      <td>1</td>\n",
       "      <td>11</td>\n",
       "      <td>Scholastic</td>\n",
       "      <td>244</td>\n",
       "      <td>2003</td>\n",
       "      <td>eng</td>\n",
       "      <td>J.K. Rowling</td>\n",
       "      <td>4.42</td>\n",
       "      <td>2:49353</td>\n",
       "      <td>5:1504505</td>\n",
       "      <td>3:288821</td>\n",
       "      <td>Harry kan dan ook niet wachten tot hij terug m...</td>\n",
       "    </tr>\n",
       "    <tr>\n",
       "      <th>4</th>\n",
       "      <td>5</td>\n",
       "      <td>Harry Potter and the Prisoner of Azkaban (Harr...</td>\n",
       "      <td>1:10128</td>\n",
       "      <td>435</td>\n",
       "      <td>4:630534</td>\n",
       "      <td>total:2610317</td>\n",
       "      <td>1</td>\n",
       "      <td>5</td>\n",
       "      <td>Scholastic Inc.</td>\n",
       "      <td>37093</td>\n",
       "      <td>2004</td>\n",
       "      <td>eng</td>\n",
       "      <td>J.K. Rowling</td>\n",
       "      <td>4.57</td>\n",
       "      <td>2:24849</td>\n",
       "      <td>5:1749958</td>\n",
       "      <td>3:194848</td>\n",
       "      <td>Harry kan dan ook niet wachten tot hij terug m...</td>\n",
       "    </tr>\n",
       "  </tbody>\n",
       "</table>\n",
       "</div>"
      ],
      "text/plain": [
       "   book_id                                               name ratingdist1  \\\n",
       "0        1  Harry Potter and the Half-Blood Prince (Harry ...      1:9896   \n",
       "1        2  Harry Potter and the Order of the Phoenix (Har...     1:12455   \n",
       "2        3  Harry Potter and the Sorcerer's Stone (Harry P...    1:108202   \n",
       "3        4  Harry Potter and the Chamber of Secrets (Harry...     1:11896   \n",
       "4        5  Harry Potter and the Prisoner of Azkaban (Harr...     1:10128   \n",
       "\n",
       "   pagesNumber ratingdist4 ratingdisttotal  publishmonth  publishday  \\\n",
       "0          652    4:556485   total:2298124            16           9   \n",
       "1          870    4:604283   total:2358637             1           9   \n",
       "2          309   4:1513191   total:6587388             1          11   \n",
       "3          352    4:706082   total:2560657             1          11   \n",
       "4          435    4:630534   total:2610317             1           5   \n",
       "\n",
       "         publisher  countsofreview  publishyear language       authors  \\\n",
       "0  Scholastic Inc.           28062         2006      eng  J.K. Rowling   \n",
       "1  Scholastic Inc.           29770         2004      eng  J.K. Rowling   \n",
       "2   Scholastic Inc           75911         2003      eng  J.K. Rowling   \n",
       "3       Scholastic             244         2003      eng  J.K. Rowling   \n",
       "4  Scholastic Inc.           37093         2004      eng  J.K. Rowling   \n",
       "\n",
       "   rating ratingdist2 ratingdist5 ratingdist3  \\\n",
       "0    4.57     2:25317   5:1546466    3:159960   \n",
       "1    4.50     2:37005   5:1493113    3:211781   \n",
       "2    4.47    2:130310   5:4268227    3:567458   \n",
       "3    4.42     2:49353   5:1504505    3:288821   \n",
       "4    4.57     2:24849   5:1749958    3:194848   \n",
       "\n",
       "                                         description  \n",
       "0  Harry kan dan ook niet wachten tot hij terug m...  \n",
       "1  Harry kan dan ook niet wachten tot hij terug m...  \n",
       "2  Harry kan dan ook niet wachten tot hij terug m...  \n",
       "3  Harry kan dan ook niet wachten tot hij terug m...  \n",
       "4  Harry kan dan ook niet wachten tot hij terug m...  "
      ]
     },
     "execution_count": 127,
     "metadata": {},
     "output_type": "execute_result"
    }
   ],
   "source": [
    "df_books_copy.head(5)"
   ]
  },
  {
   "cell_type": "code",
   "execution_count": 129,
   "id": "d6d10d60-557d-4c65-8a68-f1422562c953",
   "metadata": {
    "tags": []
   },
   "outputs": [],
   "source": [
    "def clean_text(text):\n",
    "    text = text.lower().strip()\n",
    "    text = re.sub(r'[^\\w\\s]', '', text)  # Remove punctuation\n",
    "    return text\n",
    "\n",
    "df_users_copy['clean_name'] = df_users_copy['name'].apply(clean_text)\n",
    "df_books_copy['clean_name'] = df_books_copy['name'].apply(clean_text)"
   ]
  },
  {
   "cell_type": "code",
   "execution_count": 130,
   "id": "79a6d9a7-5337-4e04-b42a-cba0a31046b3",
   "metadata": {
    "tags": []
   },
   "outputs": [],
   "source": [
    "name_to_book_id_map = df_books_copy.set_index('clean_name')['book_id'].to_dict()\n",
    "df_users_copy['book_id'] = df_users_copy['clean_name'].map(name_to_book_id_map)"
   ]
  },
  {
   "cell_type": "code",
   "execution_count": 132,
   "id": "e39e039a-bff3-4253-ac1a-49d44d5001ad",
   "metadata": {
    "tags": []
   },
   "outputs": [
    {
     "name": "stdout",
     "output_type": "stream",
     "text": [
      "Directly matched count: 234734\n"
     ]
    }
   ],
   "source": [
    "matched_count = df_users_copy['book_id'].notna().sum()\n",
    "print(f\"Directly matched count: {matched_count}\")"
   ]
  },
  {
   "cell_type": "code",
   "execution_count": 135,
   "id": "5dbb2c18-711d-4230-b1d7-4311f775f9f0",
   "metadata": {
    "tags": []
   },
   "outputs": [
    {
     "name": "stdout",
     "output_type": "stream",
     "text": [
      "Directly not matched count: 127862\n"
     ]
    }
   ],
   "source": [
    "unmatched_count = df_users_copy['book_id'].isna().sum()\n",
    "print(f\"Directly not matched count: {unmatched_count}\")"
   ]
  },
  {
   "cell_type": "code",
   "execution_count": 137,
   "id": "81734922-8058-4743-8ee4-96c83c8101f0",
   "metadata": {
    "tags": []
   },
   "outputs": [
    {
     "name": "stdout",
     "output_type": "stream",
     "text": [
      "Directly matched count: 234734\n"
     ]
    }
   ],
   "source": [
    "# First, map directly where names match exactly (FAST)\n",
    "df_users_copy['book_id'] = df_users_copy['clean_name'].map(name_to_book_id_map)\n",
    "\n",
    "# Count directly matched entries\n",
    "matched_count = df_users_copy['book_id'].notna().sum()\n",
    "print(f\"Directly matched count: {matched_count}\")\n"
   ]
  },
  {
   "cell_type": "code",
   "execution_count": 139,
   "id": "2866c161-19c7-4785-9e84-d22b3c9e1acb",
   "metadata": {
    "tags": []
   },
   "outputs": [
    {
     "data": {
      "text/html": [
       "<div>\n",
       "<style scoped>\n",
       "    .dataframe tbody tr th:only-of-type {\n",
       "        vertical-align: middle;\n",
       "    }\n",
       "\n",
       "    .dataframe tbody tr th {\n",
       "        vertical-align: top;\n",
       "    }\n",
       "\n",
       "    .dataframe thead th {\n",
       "        text-align: right;\n",
       "    }\n",
       "</style>\n",
       "<table border=\"1\" class=\"dataframe\">\n",
       "  <thead>\n",
       "    <tr style=\"text-align: right;\">\n",
       "      <th></th>\n",
       "      <th>user_id</th>\n",
       "      <th>name</th>\n",
       "      <th>rating</th>\n",
       "      <th>rating in numbers</th>\n",
       "      <th>clean_name</th>\n",
       "      <th>book_id</th>\n",
       "    </tr>\n",
       "  </thead>\n",
       "  <tbody>\n",
       "    <tr>\n",
       "      <th>0</th>\n",
       "      <td>1</td>\n",
       "      <td>Agile Web Development with Rails: A Pragmatic ...</td>\n",
       "      <td>it was amazing</td>\n",
       "      <td>5.0</td>\n",
       "      <td>agile web development with rails a pragmatic g...</td>\n",
       "      <td>45.0</td>\n",
       "    </tr>\n",
       "    <tr>\n",
       "      <th>1</th>\n",
       "      <td>1</td>\n",
       "      <td>The Restaurant at the End of the Universe (Hit...</td>\n",
       "      <td>it was amazing</td>\n",
       "      <td>5.0</td>\n",
       "      <td>the restaurant at the end of the universe hitc...</td>\n",
       "      <td>862825.0</td>\n",
       "    </tr>\n",
       "    <tr>\n",
       "      <th>2</th>\n",
       "      <td>1</td>\n",
       "      <td>Siddhartha</td>\n",
       "      <td>it was amazing</td>\n",
       "      <td>5.0</td>\n",
       "      <td>siddhartha</td>\n",
       "      <td>828548.0</td>\n",
       "    </tr>\n",
       "    <tr>\n",
       "      <th>3</th>\n",
       "      <td>1</td>\n",
       "      <td>The Clock of the Long Now: Time and Responsibi...</td>\n",
       "      <td>really liked it</td>\n",
       "      <td>4.0</td>\n",
       "      <td>the clock of the long now time and responsibility</td>\n",
       "      <td>1788479.0</td>\n",
       "    </tr>\n",
       "    <tr>\n",
       "      <th>4</th>\n",
       "      <td>1</td>\n",
       "      <td>Ready Player One (Ready Player One, #1)</td>\n",
       "      <td>really liked it</td>\n",
       "      <td>4.0</td>\n",
       "      <td>ready player one ready player one 1</td>\n",
       "      <td>NaN</td>\n",
       "    </tr>\n",
       "  </tbody>\n",
       "</table>\n",
       "</div>"
      ],
      "text/plain": [
       "   user_id                                               name  \\\n",
       "0        1  Agile Web Development with Rails: A Pragmatic ...   \n",
       "1        1  The Restaurant at the End of the Universe (Hit...   \n",
       "2        1                                         Siddhartha   \n",
       "3        1  The Clock of the Long Now: Time and Responsibi...   \n",
       "4        1            Ready Player One (Ready Player One, #1)   \n",
       "\n",
       "            rating  rating in numbers  \\\n",
       "0   it was amazing                5.0   \n",
       "1   it was amazing                5.0   \n",
       "2   it was amazing                5.0   \n",
       "3  really liked it                4.0   \n",
       "4  really liked it                4.0   \n",
       "\n",
       "                                          clean_name    book_id  \n",
       "0  agile web development with rails a pragmatic g...       45.0  \n",
       "1  the restaurant at the end of the universe hitc...   862825.0  \n",
       "2                                         siddhartha   828548.0  \n",
       "3  the clock of the long now time and responsibility  1788479.0  \n",
       "4                ready player one ready player one 1        NaN  "
      ]
     },
     "execution_count": 139,
     "metadata": {},
     "output_type": "execute_result"
    }
   ],
   "source": [
    "df_users_copy.head(5)"
   ]
  },
  {
   "cell_type": "code",
   "execution_count": 141,
   "id": "510dfeda-70be-4139-a616-ef479986f91c",
   "metadata": {
    "tags": []
   },
   "outputs": [],
   "source": [
    "unmatched_rows = df_users_copy[df_users_copy['book_id'].isna()]\n",
    "unmatched_rows.to_csv(\"unmatched_books.csv\", index=False)"
   ]
  },
  {
   "cell_type": "code",
   "execution_count": 143,
   "id": "f1b794f2-3af0-4131-9c12-618ab1b2fd16",
   "metadata": {
    "tags": []
   },
   "outputs": [],
   "source": [
    "matched_rows = df_users_copy[df_users_copy['book_id'].notna()]\n",
    "matched_rows.to_csv(\"matched_books.csv\", index=False)"
   ]
  },
  {
   "cell_type": "code",
   "execution_count": 145,
   "id": "c9dc7d1d-4ef6-453d-b94f-504c38e601e5",
   "metadata": {
    "tags": []
   },
   "outputs": [
    {
     "name": "stdout",
     "output_type": "stream",
     "text": [
      "Total unique book IDs: 51336\n"
     ]
    }
   ],
   "source": [
    "unique_book_ids = df_users_copy['book_id'].nunique()\n",
    "print(f\"Total unique book IDs: {unique_book_ids}\")"
   ]
  },
  {
   "cell_type": "code",
   "execution_count": 147,
   "id": "e8253978-7c15-449e-971f-6857375abbb8",
   "metadata": {},
   "outputs": [
    {
     "data": {
      "text/plain": [
       "user_id                   0\n",
       "name                      0\n",
       "rating                    0\n",
       "rating in numbers      4765\n",
       "clean_name                0\n",
       "book_id              127862\n",
       "dtype: int64"
      ]
     },
     "execution_count": 147,
     "metadata": {},
     "output_type": "execute_result"
    }
   ],
   "source": [
    "missing_values = df_users_copy.isna().sum()\n",
    "missing_values"
   ]
  },
  {
   "cell_type": "code",
   "execution_count": 151,
   "id": "bfaa5805-e40d-4cce-8fad-81bf5f3fc11b",
   "metadata": {},
   "outputs": [
    {
     "data": {
      "text/plain": [
       "book_id            0\n",
       "name               0\n",
       "ratingdist1        0\n",
       "pagesNumber        0\n",
       "ratingdist4        0\n",
       "ratingdisttotal    0\n",
       "publishmonth       0\n",
       "publishday         0\n",
       "publisher          0\n",
       "countsofreview     0\n",
       "publishyear        0\n",
       "language           0\n",
       "authors            0\n",
       "rating             0\n",
       "ratingdist2        0\n",
       "ratingdist5        0\n",
       "ratingdist3        0\n",
       "description        0\n",
       "clean_name         0\n",
       "dtype: int64"
      ]
     },
     "execution_count": 151,
     "metadata": {},
     "output_type": "execute_result"
    }
   ],
   "source": [
    "# Check for missing (NaN) values across all columns\n",
    "missing_values = df_books_copy.isna().sum()\n",
    "missing_values"
   ]
  },
  {
   "cell_type": "code",
   "execution_count": null,
   "id": "25270174-9b67-49ff-a6c7-36cb201cdff7",
   "metadata": {},
   "outputs": [],
   "source": []
  }
 ],
 "metadata": {
  "kernelspec": {
   "display_name": "Python [conda env:base] *",
   "language": "python",
   "name": "conda-base-py"
  },
  "language_info": {
   "codemirror_mode": {
    "name": "ipython",
    "version": 3
   },
   "file_extension": ".py",
   "mimetype": "text/x-python",
   "name": "python",
   "nbconvert_exporter": "python",
   "pygments_lexer": "ipython3",
   "version": "3.11.5"
  }
 },
 "nbformat": 4,
 "nbformat_minor": 5
}
