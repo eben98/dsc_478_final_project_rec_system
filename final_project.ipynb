{
 "cells": [
  {
   "cell_type": "markdown",
   "id": "00c99b98-c0a7-426c-b35d-0ae3a3202f0a",
   "metadata": {},
   "source": [
    "### Final Project\n",
    "#### Submitted by:  1. Ebenezer Daniel  2. Raja Prabhakaran 3. Nitheesh Samiappan\n",
    "-- change at the end, add some format"
   ]
  },
  {
   "cell_type": "markdown",
   "id": "222b4bdb-62a0-475c-a49c-51549bf41fa4",
   "metadata": {
    "tags": []
   },
   "source": [
    "Dataset details: -- fill this"
   ]
  },
  {
   "cell_type": "code",
   "execution_count": 1,
   "id": "1bedcf3b-43d6-4b47-b1bc-43e714e23788",
   "metadata": {},
   "outputs": [
    {
     "name": "stdout",
     "output_type": "stream",
     "text": [
      "Installing scikit-learn...\n",
      "Installing scikit-surprise...\n",
      "All required libraries are installed.\n"
     ]
    }
   ],
   "source": [
    "import importlib\n",
    "import subprocess\n",
    "import sys\n",
    "\n",
    "# List of required libraries\n",
    "required_libraries = [\n",
    "    \"pandas\", \"numpy\", \"matplotlib\", \"seaborn\", \"scipy\",\n",
    "    \"nltk\", \"scikit-learn\", \"scikit-surprise\"  # Use scikit-surprise instead of surprise\n",
    "]\n",
    "\n",
    "# Function to check and install missing libraries\n",
    "def check_and_install(libraries):\n",
    "    for lib in libraries:\n",
    "        try:\n",
    "            importlib.import_module(lib)\n",
    "        except ImportError:\n",
    "            print(f\"Installing {lib}...\")\n",
    "            try:\n",
    "                subprocess.check_call([sys.executable, \"-m\", \"pip\", \"install\", lib])\n",
    "            except subprocess.CalledProcessError:\n",
    "                print(f\"Failed to install {lib}. Trying Conda (if applicable)...\")\n",
    "                try:\n",
    "                    subprocess.check_call([\"conda\", \"install\", \"-c\", \"conda-forge\", lib, \"-y\"])\n",
    "                except subprocess.CalledProcessError:\n",
    "                    print(f\"Could not install {lib}. Please install it manually.\")\n",
    "\n",
    "# Check and install missing libraries\n",
    "check_and_install(required_libraries)\n",
    "\n",
    "print(\"All required libraries are installed.\")\n"
   ]
  },
  {
   "cell_type": "code",
   "execution_count": 21,
   "id": "29c8775c-81ca-468c-8ad6-afe820801df4",
   "metadata": {
    "tags": []
   },
   "outputs": [
    {
     "name": "stdout",
     "output_type": "stream",
     "text": [
      "All required libraries are successfully imported.\n"
     ]
    }
   ],
   "source": [
    "# Jupyter magic command for inline plots\n",
    "%matplotlib inline\n",
    "\n",
    "# Import libraries\n",
    "import pandas as pd\n",
    "import glob\n",
    "import os\n",
    "import re\n",
    "import numpy as np\n",
    "import matplotlib.pyplot as plt\n",
    "import seaborn as sns\n",
    "from scipy import stats\n",
    "from ast import literal_eval\n",
    "from sklearn.feature_extraction.text import TfidfVectorizer, CountVectorizer\n",
    "from sklearn.metrics.pairwise import linear_kernel, cosine_similarity\n",
    "from nltk.stem.snowball import SnowballStemmer\n",
    "from nltk.stem.wordnet import WordNetLemmatizer\n",
    "from nltk.corpus import wordnet\n",
    "from surprise import Reader, Dataset, SVD\n",
    "from surprise.model_selection import cross_validate\n",
    "\n",
    "import warnings\n",
    "warnings.simplefilter('ignore')\n",
    "\n",
    "print(\"All required libraries are successfully imported.\")"
   ]
  },
  {
   "cell_type": "code",
   "execution_count": 3,
   "id": "d6b4d4eb-b724-4d32-81ee-2b89c12be468",
   "metadata": {
    "tags": []
   },
   "outputs": [
    {
     "name": "stdout",
     "output_type": "stream",
     "text": [
      "Combined 'book' DataFrame shape: (1850310, 20)\n",
      "Combined 'user' DataFrame shape: (362596, 3)\n"
     ]
    }
   ],
   "source": [
    "# Define the folder where your CSV files are stored\n",
    "csv_folder = \"Datasets/\" \n",
    "\n",
    "# Use glob to get only CSV files that start with 'book'\n",
    "csv_book_files = glob.glob(os.path.join(csv_folder, \"book*.csv\"))\n",
    "csv_user_files = glob.glob(os.path.join(csv_folder, \"user*.csv\"))\n",
    "\n",
    "# Load and concatenate all \"book\" CSV files into a single DataFrame\n",
    "# Function to read CSV files and standardize column names before combining\n",
    "def load_and_standardize_csv(file_list):\n",
    "    df_list = []\n",
    "    for file in file_list:\n",
    "        df = pd.read_csv(file)\n",
    "        df.columns = df.columns.str.lower()\n",
    "        df_list.append(df)\n",
    "    return pd.concat(df_list, ignore_index=True)\n",
    "\n",
    "# Load and combine \"book\" and \"user\" CSV files\n",
    "df_books = load_and_standardize_csv(csv_book_files)\n",
    "df_users = load_and_standardize_csv(csv_user_files)\n",
    "\n",
    "# Rename specific mismatched columns for consistency\n",
    "df_books.rename(columns={'pagesnumber': 'pagesNumber'}, inplace=True)\n",
    "\n",
    "print(f\"Combined 'book' DataFrame shape: {df_books.shape}\")\n",
    "print(f\"Combined 'user' DataFrame shape: {df_users.shape}\")"
   ]
  },
  {
   "cell_type": "code",
   "execution_count": 4,
   "id": "8bec11ab-fad2-46c2-9ef7-fcdc155ebc96",
   "metadata": {
    "tags": []
   },
   "outputs": [],
   "source": [
    "#store the merged data into a csv files for both books and user\n",
    "df_books.to_csv('combined_books_data.csv', index=False) # Causes memory error\n",
    "df_users.to_csv('combined_users_data.csv', index=False)"
   ]
  },
  {
   "cell_type": "code",
   "execution_count": 5,
   "id": "cae1f0c7-d8b0-4c64-95a1-5b9d55ba56de",
   "metadata": {},
   "outputs": [
    {
     "name": "stdout",
     "output_type": "stream",
     "text": [
      "Original data copied for future use. DONE!!!\n"
     ]
    }
   ],
   "source": [
    "#copy the data frame and keep the original data for further use\n",
    "df_books_original = df_books.copy()\n",
    "df_users_original = df_users.copy()\n",
    "print('Original data copied for future use. DONE!!!')"
   ]
  },
  {
   "cell_type": "markdown",
   "id": "31bd8a34-549b-479b-90b5-43dab8be8fb6",
   "metadata": {},
   "source": [
    "### Preprocessing & Data Cleaning"
   ]
  },
  {
   "cell_type": "code",
   "execution_count": 6,
   "id": "77503839-0012-4ddc-82c5-9576a5fa61e5",
   "metadata": {
    "tags": []
   },
   "outputs": [
    {
     "name": "stdout",
     "output_type": "stream",
     "text": [
      "Unique IDs: 1850115\n",
      "Unique ISBNs: 1844192\n"
     ]
    }
   ],
   "source": [
    "# find the unique ID and ISBN\n",
    "unique_ids = df_books['id'].nunique()\n",
    "unique_isbns = df_books['isbn'].nunique()\n",
    "print(f\"Unique IDs: {unique_ids}\")\n",
    "print(f\"Unique ISBNs: {unique_isbns}\")"
   ]
  },
  {
   "cell_type": "code",
   "execution_count": 7,
   "id": "75042280-09a0-45ca-b6d9-b976cc17dfce",
   "metadata": {
    "tags": []
   },
   "outputs": [
    {
     "name": "stdout",
     "output_type": "stream",
     "text": [
      "Duplicate Rows: 112\n"
     ]
    }
   ],
   "source": [
    "# find duplicates across all rows\n",
    "duplicate_rows = df_books.duplicated().sum()\n",
    "print(f\"Duplicate Rows: {duplicate_rows}\")"
   ]
  },
  {
   "cell_type": "code",
   "execution_count": 8,
   "id": "40c10dde-58ad-481b-ae12-fc405c9dcd11",
   "metadata": {
    "tags": []
   },
   "outputs": [
    {
     "name": "stdout",
     "output_type": "stream",
     "text": [
      "Missing ISBNs: 5923\n",
      "Missing Id: 0\n"
     ]
    }
   ],
   "source": [
    "# find missing ISBNs & ID\n",
    "missing_isbns = df_books['isbn'].isna().sum()\n",
    "print(f\"Missing ISBNs: {missing_isbns}\")\n",
    "\n",
    "missing_id = df_books['id'].isna().sum()\n",
    "print(f\"Missing Id: {missing_id}\")"
   ]
  },
  {
   "cell_type": "code",
   "execution_count": 9,
   "id": "d71d3841-325e-4802-8305-331607be2591",
   "metadata": {
    "tags": []
   },
   "outputs": [
    {
     "name": "stdout",
     "output_type": "stream",
     "text": [
      "After removing fully duplicated rows: 1850198 records remaining.\n",
      "After ensuring unique IDs: 1850115 records remaining.\n"
     ]
    }
   ],
   "source": [
    "# Drop duplicate rows\n",
    "df_books_cleaned = df_books.drop_duplicates()\n",
    "print(f\"After removing fully duplicated rows: {df_books_cleaned.shape[0]} records remaining.\")\n",
    "\n",
    "# Keep only the first occurrence of each ID\n",
    "df_books_cleaned = df_books_cleaned.drop_duplicates(subset=['id'], keep='first')\n",
    "print(f\"After ensuring unique IDs: {df_books_cleaned.shape[0]} records remaining.\")"
   ]
  },
  {
   "cell_type": "code",
   "execution_count": 10,
   "id": "65e23b19-edbc-4ad7-a1bb-615f81cdf6d9",
   "metadata": {
    "tags": []
   },
   "outputs": [
    {
     "data": {
      "text/plain": [
       "id                             0\n",
       "name                           0\n",
       "ratingdist1                    0\n",
       "pagesNumber                    0\n",
       "ratingdist4                    0\n",
       "ratingdisttotal                0\n",
       "publishmonth                   0\n",
       "publishday                     0\n",
       "publisher                  17821\n",
       "countsofreview                 0\n",
       "publishyear                    0\n",
       "language                 1598369\n",
       "authors                        0\n",
       "rating                         0\n",
       "ratingdist2                    0\n",
       "ratingdist5                    0\n",
       "isbn                        5922\n",
       "ratingdist3                    0\n",
       "description               678927\n",
       "count of text reviews    1440418\n",
       "dtype: int64"
      ]
     },
     "execution_count": 10,
     "metadata": {},
     "output_type": "execute_result"
    }
   ],
   "source": [
    "# Check for missing (NaN) values across all columns\n",
    "missing_values = df_books_cleaned.isna().sum()\n",
    "missing_values"
   ]
  },
  {
   "cell_type": "code",
   "execution_count": 11,
   "id": "458d36f3-505c-4360-840c-6b0619b47d2e",
   "metadata": {},
   "outputs": [
    {
     "data": {
      "text/html": [
       "<div>\n",
       "<style scoped>\n",
       "    .dataframe tbody tr th:only-of-type {\n",
       "        vertical-align: middle;\n",
       "    }\n",
       "\n",
       "    .dataframe tbody tr th {\n",
       "        vertical-align: top;\n",
       "    }\n",
       "\n",
       "    .dataframe thead th {\n",
       "        text-align: right;\n",
       "    }\n",
       "</style>\n",
       "<table border=\"1\" class=\"dataframe\">\n",
       "  <thead>\n",
       "    <tr style=\"text-align: right;\">\n",
       "      <th></th>\n",
       "      <th>id</th>\n",
       "      <th>name</th>\n",
       "      <th>ratingdist1</th>\n",
       "      <th>pagesNumber</th>\n",
       "      <th>ratingdist4</th>\n",
       "      <th>ratingdisttotal</th>\n",
       "      <th>publishmonth</th>\n",
       "      <th>publishday</th>\n",
       "      <th>publisher</th>\n",
       "      <th>countsofreview</th>\n",
       "      <th>publishyear</th>\n",
       "      <th>language</th>\n",
       "      <th>authors</th>\n",
       "      <th>rating</th>\n",
       "      <th>ratingdist2</th>\n",
       "      <th>ratingdist5</th>\n",
       "      <th>isbn</th>\n",
       "      <th>ratingdist3</th>\n",
       "      <th>description</th>\n",
       "      <th>count of text reviews</th>\n",
       "    </tr>\n",
       "  </thead>\n",
       "  <tbody>\n",
       "    <tr>\n",
       "      <th>0</th>\n",
       "      <td>1</td>\n",
       "      <td>Harry Potter and the Half-Blood Prince (Harry ...</td>\n",
       "      <td>1:9896</td>\n",
       "      <td>652</td>\n",
       "      <td>4:556485</td>\n",
       "      <td>total:2298124</td>\n",
       "      <td>16</td>\n",
       "      <td>9</td>\n",
       "      <td>Scholastic Inc.</td>\n",
       "      <td>28062</td>\n",
       "      <td>2006</td>\n",
       "      <td>eng</td>\n",
       "      <td>J.K. Rowling</td>\n",
       "      <td>4.57</td>\n",
       "      <td>2:25317</td>\n",
       "      <td>5:1546466</td>\n",
       "      <td>NaN</td>\n",
       "      <td>3:159960</td>\n",
       "      <td>NaN</td>\n",
       "      <td>NaN</td>\n",
       "    </tr>\n",
       "    <tr>\n",
       "      <th>1</th>\n",
       "      <td>2</td>\n",
       "      <td>Harry Potter and the Order of the Phoenix (Har...</td>\n",
       "      <td>1:12455</td>\n",
       "      <td>870</td>\n",
       "      <td>4:604283</td>\n",
       "      <td>total:2358637</td>\n",
       "      <td>1</td>\n",
       "      <td>9</td>\n",
       "      <td>Scholastic Inc.</td>\n",
       "      <td>29770</td>\n",
       "      <td>2004</td>\n",
       "      <td>eng</td>\n",
       "      <td>J.K. Rowling</td>\n",
       "      <td>4.50</td>\n",
       "      <td>2:37005</td>\n",
       "      <td>5:1493113</td>\n",
       "      <td>0439358078</td>\n",
       "      <td>3:211781</td>\n",
       "      <td>NaN</td>\n",
       "      <td>NaN</td>\n",
       "    </tr>\n",
       "    <tr>\n",
       "      <th>2</th>\n",
       "      <td>3</td>\n",
       "      <td>Harry Potter and the Sorcerer's Stone (Harry P...</td>\n",
       "      <td>1:108202</td>\n",
       "      <td>309</td>\n",
       "      <td>4:1513191</td>\n",
       "      <td>total:6587388</td>\n",
       "      <td>1</td>\n",
       "      <td>11</td>\n",
       "      <td>Scholastic Inc</td>\n",
       "      <td>75911</td>\n",
       "      <td>2003</td>\n",
       "      <td>eng</td>\n",
       "      <td>J.K. Rowling</td>\n",
       "      <td>4.47</td>\n",
       "      <td>2:130310</td>\n",
       "      <td>5:4268227</td>\n",
       "      <td>NaN</td>\n",
       "      <td>3:567458</td>\n",
       "      <td>NaN</td>\n",
       "      <td>NaN</td>\n",
       "    </tr>\n",
       "    <tr>\n",
       "      <th>3</th>\n",
       "      <td>4</td>\n",
       "      <td>Harry Potter and the Chamber of Secrets (Harry...</td>\n",
       "      <td>1:11896</td>\n",
       "      <td>352</td>\n",
       "      <td>4:706082</td>\n",
       "      <td>total:2560657</td>\n",
       "      <td>1</td>\n",
       "      <td>11</td>\n",
       "      <td>Scholastic</td>\n",
       "      <td>244</td>\n",
       "      <td>2003</td>\n",
       "      <td>eng</td>\n",
       "      <td>J.K. Rowling</td>\n",
       "      <td>4.42</td>\n",
       "      <td>2:49353</td>\n",
       "      <td>5:1504505</td>\n",
       "      <td>0439554896</td>\n",
       "      <td>3:288821</td>\n",
       "      <td>NaN</td>\n",
       "      <td>NaN</td>\n",
       "    </tr>\n",
       "    <tr>\n",
       "      <th>4</th>\n",
       "      <td>5</td>\n",
       "      <td>Harry Potter and the Prisoner of Azkaban (Harr...</td>\n",
       "      <td>1:10128</td>\n",
       "      <td>435</td>\n",
       "      <td>4:630534</td>\n",
       "      <td>total:2610317</td>\n",
       "      <td>1</td>\n",
       "      <td>5</td>\n",
       "      <td>Scholastic Inc.</td>\n",
       "      <td>37093</td>\n",
       "      <td>2004</td>\n",
       "      <td>eng</td>\n",
       "      <td>J.K. Rowling</td>\n",
       "      <td>4.57</td>\n",
       "      <td>2:24849</td>\n",
       "      <td>5:1749958</td>\n",
       "      <td>043965548X</td>\n",
       "      <td>3:194848</td>\n",
       "      <td>NaN</td>\n",
       "      <td>NaN</td>\n",
       "    </tr>\n",
       "  </tbody>\n",
       "</table>\n",
       "</div>"
      ],
      "text/plain": [
       "   id                                               name ratingdist1  \\\n",
       "0   1  Harry Potter and the Half-Blood Prince (Harry ...      1:9896   \n",
       "1   2  Harry Potter and the Order of the Phoenix (Har...     1:12455   \n",
       "2   3  Harry Potter and the Sorcerer's Stone (Harry P...    1:108202   \n",
       "3   4  Harry Potter and the Chamber of Secrets (Harry...     1:11896   \n",
       "4   5  Harry Potter and the Prisoner of Azkaban (Harr...     1:10128   \n",
       "\n",
       "   pagesNumber ratingdist4 ratingdisttotal  publishmonth  publishday  \\\n",
       "0          652    4:556485   total:2298124            16           9   \n",
       "1          870    4:604283   total:2358637             1           9   \n",
       "2          309   4:1513191   total:6587388             1          11   \n",
       "3          352    4:706082   total:2560657             1          11   \n",
       "4          435    4:630534   total:2610317             1           5   \n",
       "\n",
       "         publisher  countsofreview  publishyear language       authors  \\\n",
       "0  Scholastic Inc.           28062         2006      eng  J.K. Rowling   \n",
       "1  Scholastic Inc.           29770         2004      eng  J.K. Rowling   \n",
       "2   Scholastic Inc           75911         2003      eng  J.K. Rowling   \n",
       "3       Scholastic             244         2003      eng  J.K. Rowling   \n",
       "4  Scholastic Inc.           37093         2004      eng  J.K. Rowling   \n",
       "\n",
       "   rating ratingdist2 ratingdist5        isbn ratingdist3 description  \\\n",
       "0    4.57     2:25317   5:1546466         NaN    3:159960         NaN   \n",
       "1    4.50     2:37005   5:1493113  0439358078    3:211781         NaN   \n",
       "2    4.47    2:130310   5:4268227         NaN    3:567458         NaN   \n",
       "3    4.42     2:49353   5:1504505  0439554896    3:288821         NaN   \n",
       "4    4.57     2:24849   5:1749958  043965548X    3:194848         NaN   \n",
       "\n",
       "   count of text reviews  \n",
       "0                    NaN  \n",
       "1                    NaN  \n",
       "2                    NaN  \n",
       "3                    NaN  \n",
       "4                    NaN  "
      ]
     },
     "execution_count": 11,
     "metadata": {},
     "output_type": "execute_result"
    }
   ],
   "source": [
    "# Dropping all the unnesscary columns\n",
    "df_books_cleaned.drop(columns=['count of text reviews', 'isbn'])\n",
    "df_books_cleaned.head(5)"
   ]
  },
  {
   "cell_type": "code",
   "execution_count": 12,
   "id": "4dea95f9-c60e-44b1-8e92-d836bb5a0bee",
   "metadata": {
    "tags": []
   },
   "outputs": [],
   "source": [
    "# from summa import summarizer\n",
    "\n",
    "# # Function to summarize book descriptions\n",
    "# def summarize_description(row, df):\n",
    "#     if pd.isna(row['Description']):\n",
    "#         similar_books = df[df['Authors'] == row['Authors']]['Description'].dropna()\n",
    "#         if len(similar_books) > 0:\n",
    "#             text = \" \".join(similar_books[:5])  # Take descriptions from similar books\n",
    "#             return summarizer.summarize(text, words=50)  # Generate a short summary\n",
    "#     return row['Description']\n",
    "\n",
    "# # Apply function to dataset\n",
    "# df_books_cleaned['Description'] = df_books_cleaned.apply(lambda row: summarize_description(row, df_books_cleaned), axis=1)\n",
    "\n",
    "# # Fill remaining missing values\n",
    "# df_books_cleaned['Description'].fillna(\"No description available.\", inplace=True)\n"
   ]
  },
  {
   "cell_type": "code",
   "execution_count": 13,
   "id": "49a3025a-217a-421b-957e-a81c447fcaf2",
   "metadata": {
    "tags": []
   },
   "outputs": [
    {
     "name": "stdout",
     "output_type": "stream",
     "text": [
      "['it was amazing' 'really liked it' 'liked it' 'did not like it'\n",
      " 'it was ok' \"This user doesn't have any rating\"]\n"
     ]
    }
   ],
   "source": [
    "# find different types of rating in the rating colum\n",
    "ratings = df_users['rating'].unique()\n",
    "print(ratings)"
   ]
  },
  {
   "cell_type": "code",
   "execution_count": 14,
   "id": "46a9e652-0f86-4853-b8f6-ef935b482d86",
   "metadata": {},
   "outputs": [],
   "source": [
    "# Ask Prof for -->This user doesn't have any rating, can we remove them or assign 0"
   ]
  },
  {
   "cell_type": "code",
   "execution_count": 15,
   "id": "a79f874c-0700-42e0-b568-ffebe33a8b5e",
   "metadata": {
    "tags": []
   },
   "outputs": [
    {
     "data": {
      "text/html": [
       "<div>\n",
       "<style scoped>\n",
       "    .dataframe tbody tr th:only-of-type {\n",
       "        vertical-align: middle;\n",
       "    }\n",
       "\n",
       "    .dataframe tbody tr th {\n",
       "        vertical-align: top;\n",
       "    }\n",
       "\n",
       "    .dataframe thead th {\n",
       "        text-align: right;\n",
       "    }\n",
       "</style>\n",
       "<table border=\"1\" class=\"dataframe\">\n",
       "  <thead>\n",
       "    <tr style=\"text-align: right;\">\n",
       "      <th></th>\n",
       "      <th>id</th>\n",
       "      <th>name</th>\n",
       "      <th>rating</th>\n",
       "      <th>rating in numbers</th>\n",
       "    </tr>\n",
       "  </thead>\n",
       "  <tbody>\n",
       "    <tr>\n",
       "      <th>0</th>\n",
       "      <td>1</td>\n",
       "      <td>Agile Web Development with Rails: A Pragmatic ...</td>\n",
       "      <td>it was amazing</td>\n",
       "      <td>5.0</td>\n",
       "    </tr>\n",
       "    <tr>\n",
       "      <th>1</th>\n",
       "      <td>1</td>\n",
       "      <td>The Restaurant at the End of the Universe (Hit...</td>\n",
       "      <td>it was amazing</td>\n",
       "      <td>5.0</td>\n",
       "    </tr>\n",
       "    <tr>\n",
       "      <th>2</th>\n",
       "      <td>1</td>\n",
       "      <td>Siddhartha</td>\n",
       "      <td>it was amazing</td>\n",
       "      <td>5.0</td>\n",
       "    </tr>\n",
       "    <tr>\n",
       "      <th>3</th>\n",
       "      <td>1</td>\n",
       "      <td>The Clock of the Long Now: Time and Responsibi...</td>\n",
       "      <td>really liked it</td>\n",
       "      <td>4.0</td>\n",
       "    </tr>\n",
       "    <tr>\n",
       "      <th>4</th>\n",
       "      <td>1</td>\n",
       "      <td>Ready Player One (Ready Player One, #1)</td>\n",
       "      <td>really liked it</td>\n",
       "      <td>4.0</td>\n",
       "    </tr>\n",
       "  </tbody>\n",
       "</table>\n",
       "</div>"
      ],
      "text/plain": [
       "   id                                               name           rating  \\\n",
       "0   1  Agile Web Development with Rails: A Pragmatic ...   it was amazing   \n",
       "1   1  The Restaurant at the End of the Universe (Hit...   it was amazing   \n",
       "2   1                                         Siddhartha   it was amazing   \n",
       "3   1  The Clock of the Long Now: Time and Responsibi...  really liked it   \n",
       "4   1            Ready Player One (Ready Player One, #1)  really liked it   \n",
       "\n",
       "   rating in numbers  \n",
       "0                5.0  \n",
       "1                5.0  \n",
       "2                5.0  \n",
       "3                4.0  \n",
       "4                4.0  "
      ]
     },
     "execution_count": 15,
     "metadata": {},
     "output_type": "execute_result"
    }
   ],
   "source": [
    "rating_mapping = {\n",
    "    \"it was amazing\": 5,\n",
    "    \"really liked it\": 4,\n",
    "    \"liked it\": 3,\n",
    "    \"it was ok\": 2,\n",
    "    \"did not like it\": 1,\n",
    "    \"This user doesn't have any rating\": None  # Convert to NaN or remove\n",
    "}\n",
    "\n",
    "# create a numeric rating colum\n",
    "df_users['rating in numbers'] = df_users['rating'].map(rating_mapping)\n",
    "df_users.head(5)"
   ]
  },
  {
   "cell_type": "code",
   "execution_count": null,
   "id": "65425660-ef3e-49d5-90c3-f29aa2f4ae76",
   "metadata": {},
   "outputs": [],
   "source": []
  },
  {
   "cell_type": "code",
   "execution_count": 16,
   "id": "18accfdb-efef-4035-b131-bb87ce13f203",
   "metadata": {
    "tags": []
   },
   "outputs": [],
   "source": [
    "df_users_copy = df_users.copy()\n",
    "df_books_copy = df_books_cleaned.copy() "
   ]
  },
  {
   "cell_type": "code",
   "execution_count": 17,
   "id": "55e3d826-5211-4d94-a8ea-2762662fb9d5",
   "metadata": {
    "tags": []
   },
   "outputs": [],
   "source": [
    "df_books_copy.rename(columns={'id': 'book_id'}, inplace=True)\n",
    "df_users_copy.rename(columns={'id': 'user_id'}, inplace=True)"
   ]
  },
  {
   "cell_type": "code",
   "execution_count": 18,
   "id": "3c4bb111-fad3-47fa-9f0a-a0bcfa65044c",
   "metadata": {
    "tags": []
   },
   "outputs": [
    {
     "data": {
      "text/html": [
       "<div>\n",
       "<style scoped>\n",
       "    .dataframe tbody tr th:only-of-type {\n",
       "        vertical-align: middle;\n",
       "    }\n",
       "\n",
       "    .dataframe tbody tr th {\n",
       "        vertical-align: top;\n",
       "    }\n",
       "\n",
       "    .dataframe thead th {\n",
       "        text-align: right;\n",
       "    }\n",
       "</style>\n",
       "<table border=\"1\" class=\"dataframe\">\n",
       "  <thead>\n",
       "    <tr style=\"text-align: right;\">\n",
       "      <th></th>\n",
       "      <th>user_id</th>\n",
       "      <th>name</th>\n",
       "      <th>rating</th>\n",
       "      <th>rating in numbers</th>\n",
       "    </tr>\n",
       "  </thead>\n",
       "  <tbody>\n",
       "    <tr>\n",
       "      <th>0</th>\n",
       "      <td>1</td>\n",
       "      <td>Agile Web Development with Rails: A Pragmatic ...</td>\n",
       "      <td>it was amazing</td>\n",
       "      <td>5.0</td>\n",
       "    </tr>\n",
       "    <tr>\n",
       "      <th>1</th>\n",
       "      <td>1</td>\n",
       "      <td>The Restaurant at the End of the Universe (Hit...</td>\n",
       "      <td>it was amazing</td>\n",
       "      <td>5.0</td>\n",
       "    </tr>\n",
       "    <tr>\n",
       "      <th>2</th>\n",
       "      <td>1</td>\n",
       "      <td>Siddhartha</td>\n",
       "      <td>it was amazing</td>\n",
       "      <td>5.0</td>\n",
       "    </tr>\n",
       "    <tr>\n",
       "      <th>3</th>\n",
       "      <td>1</td>\n",
       "      <td>The Clock of the Long Now: Time and Responsibi...</td>\n",
       "      <td>really liked it</td>\n",
       "      <td>4.0</td>\n",
       "    </tr>\n",
       "    <tr>\n",
       "      <th>4</th>\n",
       "      <td>1</td>\n",
       "      <td>Ready Player One (Ready Player One, #1)</td>\n",
       "      <td>really liked it</td>\n",
       "      <td>4.0</td>\n",
       "    </tr>\n",
       "  </tbody>\n",
       "</table>\n",
       "</div>"
      ],
      "text/plain": [
       "   user_id                                               name  \\\n",
       "0        1  Agile Web Development with Rails: A Pragmatic ...   \n",
       "1        1  The Restaurant at the End of the Universe (Hit...   \n",
       "2        1                                         Siddhartha   \n",
       "3        1  The Clock of the Long Now: Time and Responsibi...   \n",
       "4        1            Ready Player One (Ready Player One, #1)   \n",
       "\n",
       "            rating  rating in numbers  \n",
       "0   it was amazing                5.0  \n",
       "1   it was amazing                5.0  \n",
       "2   it was amazing                5.0  \n",
       "3  really liked it                4.0  \n",
       "4  really liked it                4.0  "
      ]
     },
     "execution_count": 18,
     "metadata": {},
     "output_type": "execute_result"
    }
   ],
   "source": [
    "df_users_copy.head()"
   ]
  },
  {
   "cell_type": "code",
   "execution_count": 19,
   "id": "d58ce7da-eabd-43b2-a101-79c57bcf4746",
   "metadata": {
    "tags": []
   },
   "outputs": [
    {
     "data": {
      "text/html": [
       "<div>\n",
       "<style scoped>\n",
       "    .dataframe tbody tr th:only-of-type {\n",
       "        vertical-align: middle;\n",
       "    }\n",
       "\n",
       "    .dataframe tbody tr th {\n",
       "        vertical-align: top;\n",
       "    }\n",
       "\n",
       "    .dataframe thead th {\n",
       "        text-align: right;\n",
       "    }\n",
       "</style>\n",
       "<table border=\"1\" class=\"dataframe\">\n",
       "  <thead>\n",
       "    <tr style=\"text-align: right;\">\n",
       "      <th></th>\n",
       "      <th>book_id</th>\n",
       "      <th>name</th>\n",
       "      <th>ratingdist1</th>\n",
       "      <th>pagesNumber</th>\n",
       "      <th>ratingdist4</th>\n",
       "      <th>ratingdisttotal</th>\n",
       "      <th>publishmonth</th>\n",
       "      <th>publishday</th>\n",
       "      <th>publisher</th>\n",
       "      <th>countsofreview</th>\n",
       "      <th>publishyear</th>\n",
       "      <th>language</th>\n",
       "      <th>authors</th>\n",
       "      <th>rating</th>\n",
       "      <th>ratingdist2</th>\n",
       "      <th>ratingdist5</th>\n",
       "      <th>isbn</th>\n",
       "      <th>ratingdist3</th>\n",
       "      <th>description</th>\n",
       "      <th>count of text reviews</th>\n",
       "    </tr>\n",
       "  </thead>\n",
       "  <tbody>\n",
       "    <tr>\n",
       "      <th>0</th>\n",
       "      <td>1</td>\n",
       "      <td>Harry Potter and the Half-Blood Prince (Harry ...</td>\n",
       "      <td>1:9896</td>\n",
       "      <td>652</td>\n",
       "      <td>4:556485</td>\n",
       "      <td>total:2298124</td>\n",
       "      <td>16</td>\n",
       "      <td>9</td>\n",
       "      <td>Scholastic Inc.</td>\n",
       "      <td>28062</td>\n",
       "      <td>2006</td>\n",
       "      <td>eng</td>\n",
       "      <td>J.K. Rowling</td>\n",
       "      <td>4.57</td>\n",
       "      <td>2:25317</td>\n",
       "      <td>5:1546466</td>\n",
       "      <td>NaN</td>\n",
       "      <td>3:159960</td>\n",
       "      <td>NaN</td>\n",
       "      <td>NaN</td>\n",
       "    </tr>\n",
       "    <tr>\n",
       "      <th>1</th>\n",
       "      <td>2</td>\n",
       "      <td>Harry Potter and the Order of the Phoenix (Har...</td>\n",
       "      <td>1:12455</td>\n",
       "      <td>870</td>\n",
       "      <td>4:604283</td>\n",
       "      <td>total:2358637</td>\n",
       "      <td>1</td>\n",
       "      <td>9</td>\n",
       "      <td>Scholastic Inc.</td>\n",
       "      <td>29770</td>\n",
       "      <td>2004</td>\n",
       "      <td>eng</td>\n",
       "      <td>J.K. Rowling</td>\n",
       "      <td>4.50</td>\n",
       "      <td>2:37005</td>\n",
       "      <td>5:1493113</td>\n",
       "      <td>0439358078</td>\n",
       "      <td>3:211781</td>\n",
       "      <td>NaN</td>\n",
       "      <td>NaN</td>\n",
       "    </tr>\n",
       "    <tr>\n",
       "      <th>2</th>\n",
       "      <td>3</td>\n",
       "      <td>Harry Potter and the Sorcerer's Stone (Harry P...</td>\n",
       "      <td>1:108202</td>\n",
       "      <td>309</td>\n",
       "      <td>4:1513191</td>\n",
       "      <td>total:6587388</td>\n",
       "      <td>1</td>\n",
       "      <td>11</td>\n",
       "      <td>Scholastic Inc</td>\n",
       "      <td>75911</td>\n",
       "      <td>2003</td>\n",
       "      <td>eng</td>\n",
       "      <td>J.K. Rowling</td>\n",
       "      <td>4.47</td>\n",
       "      <td>2:130310</td>\n",
       "      <td>5:4268227</td>\n",
       "      <td>NaN</td>\n",
       "      <td>3:567458</td>\n",
       "      <td>NaN</td>\n",
       "      <td>NaN</td>\n",
       "    </tr>\n",
       "    <tr>\n",
       "      <th>3</th>\n",
       "      <td>4</td>\n",
       "      <td>Harry Potter and the Chamber of Secrets (Harry...</td>\n",
       "      <td>1:11896</td>\n",
       "      <td>352</td>\n",
       "      <td>4:706082</td>\n",
       "      <td>total:2560657</td>\n",
       "      <td>1</td>\n",
       "      <td>11</td>\n",
       "      <td>Scholastic</td>\n",
       "      <td>244</td>\n",
       "      <td>2003</td>\n",
       "      <td>eng</td>\n",
       "      <td>J.K. Rowling</td>\n",
       "      <td>4.42</td>\n",
       "      <td>2:49353</td>\n",
       "      <td>5:1504505</td>\n",
       "      <td>0439554896</td>\n",
       "      <td>3:288821</td>\n",
       "      <td>NaN</td>\n",
       "      <td>NaN</td>\n",
       "    </tr>\n",
       "    <tr>\n",
       "      <th>4</th>\n",
       "      <td>5</td>\n",
       "      <td>Harry Potter and the Prisoner of Azkaban (Harr...</td>\n",
       "      <td>1:10128</td>\n",
       "      <td>435</td>\n",
       "      <td>4:630534</td>\n",
       "      <td>total:2610317</td>\n",
       "      <td>1</td>\n",
       "      <td>5</td>\n",
       "      <td>Scholastic Inc.</td>\n",
       "      <td>37093</td>\n",
       "      <td>2004</td>\n",
       "      <td>eng</td>\n",
       "      <td>J.K. Rowling</td>\n",
       "      <td>4.57</td>\n",
       "      <td>2:24849</td>\n",
       "      <td>5:1749958</td>\n",
       "      <td>043965548X</td>\n",
       "      <td>3:194848</td>\n",
       "      <td>NaN</td>\n",
       "      <td>NaN</td>\n",
       "    </tr>\n",
       "  </tbody>\n",
       "</table>\n",
       "</div>"
      ],
      "text/plain": [
       "   book_id                                               name ratingdist1  \\\n",
       "0        1  Harry Potter and the Half-Blood Prince (Harry ...      1:9896   \n",
       "1        2  Harry Potter and the Order of the Phoenix (Har...     1:12455   \n",
       "2        3  Harry Potter and the Sorcerer's Stone (Harry P...    1:108202   \n",
       "3        4  Harry Potter and the Chamber of Secrets (Harry...     1:11896   \n",
       "4        5  Harry Potter and the Prisoner of Azkaban (Harr...     1:10128   \n",
       "\n",
       "   pagesNumber ratingdist4 ratingdisttotal  publishmonth  publishday  \\\n",
       "0          652    4:556485   total:2298124            16           9   \n",
       "1          870    4:604283   total:2358637             1           9   \n",
       "2          309   4:1513191   total:6587388             1          11   \n",
       "3          352    4:706082   total:2560657             1          11   \n",
       "4          435    4:630534   total:2610317             1           5   \n",
       "\n",
       "         publisher  countsofreview  publishyear language       authors  \\\n",
       "0  Scholastic Inc.           28062         2006      eng  J.K. Rowling   \n",
       "1  Scholastic Inc.           29770         2004      eng  J.K. Rowling   \n",
       "2   Scholastic Inc           75911         2003      eng  J.K. Rowling   \n",
       "3       Scholastic             244         2003      eng  J.K. Rowling   \n",
       "4  Scholastic Inc.           37093         2004      eng  J.K. Rowling   \n",
       "\n",
       "   rating ratingdist2 ratingdist5        isbn ratingdist3 description  \\\n",
       "0    4.57     2:25317   5:1546466         NaN    3:159960         NaN   \n",
       "1    4.50     2:37005   5:1493113  0439358078    3:211781         NaN   \n",
       "2    4.47    2:130310   5:4268227         NaN    3:567458         NaN   \n",
       "3    4.42     2:49353   5:1504505  0439554896    3:288821         NaN   \n",
       "4    4.57     2:24849   5:1749958  043965548X    3:194848         NaN   \n",
       "\n",
       "   count of text reviews  \n",
       "0                    NaN  \n",
       "1                    NaN  \n",
       "2                    NaN  \n",
       "3                    NaN  \n",
       "4                    NaN  "
      ]
     },
     "execution_count": 19,
     "metadata": {},
     "output_type": "execute_result"
    }
   ],
   "source": [
    "df_books_copy.head()"
   ]
  },
  {
   "cell_type": "code",
   "execution_count": 27,
   "id": "d6d10d60-557d-4c65-8a68-f1422562c953",
   "metadata": {
    "tags": []
   },
   "outputs": [],
   "source": [
    "def clean_text(text):\n",
    "    text = text.lower().strip()\n",
    "    text = re.sub(r'[^\\w\\s]', '', text)  # Remove punctuation\n",
    "    return text\n",
    "\n",
    "df_users_copy['clean_name'] = df_users_copy['name'].apply(clean_text)\n",
    "df_books_copy['clean_name'] = df_books_copy['name'].apply(clean_text)"
   ]
  },
  {
   "cell_type": "code",
   "execution_count": 28,
   "id": "79a6d9a7-5337-4e04-b42a-cba0a31046b3",
   "metadata": {
    "tags": []
   },
   "outputs": [],
   "source": [
    "name_to_book_id_map = df_books_copy.set_index('clean_name')['book_id'].to_dict()\n",
    "df_users_copy['book_id'] = df_users_copy['clean_name'].map(name_to_book_id_map)"
   ]
  },
  {
   "cell_type": "code",
   "execution_count": 29,
   "id": "e39e039a-bff3-4253-ac1a-49d44d5001ad",
   "metadata": {
    "tags": []
   },
   "outputs": [
    {
     "name": "stdout",
     "output_type": "stream",
     "text": [
      "Directly matched count: 234734\n"
     ]
    }
   ],
   "source": [
    "matched_count = df_users_copy['book_id'].notna().sum()\n",
    "print(f\"Directly matched count: {matched_count}\")"
   ]
  },
  {
   "cell_type": "code",
   "execution_count": 30,
   "id": "5dbb2c18-711d-4230-b1d7-4311f775f9f0",
   "metadata": {
    "tags": []
   },
   "outputs": [
    {
     "name": "stdout",
     "output_type": "stream",
     "text": [
      "Directly not matched count: 127862\n"
     ]
    }
   ],
   "source": [
    "unmatched_count = df_users_copy['book_id'].isna().sum()\n",
    "print(f\"Directly not matched count: {unmatched_count}\")"
   ]
  },
  {
   "cell_type": "code",
   "execution_count": 31,
   "id": "81734922-8058-4743-8ee4-96c83c8101f0",
   "metadata": {
    "tags": []
   },
   "outputs": [
    {
     "name": "stdout",
     "output_type": "stream",
     "text": [
      "Directly matched count: 234734\n"
     ]
    }
   ],
   "source": [
    "# First, map directly where names match exactly (FAST)\n",
    "df_users_copy['book_id'] = df_users_copy['clean_name'].map(name_to_book_id_map)\n",
    "\n",
    "# Count directly matched entries\n",
    "matched_count = df_users_copy['book_id'].notna().sum()\n",
    "print(f\"Directly matched count: {matched_count}\")\n"
   ]
  },
  {
   "cell_type": "code",
   "execution_count": 32,
   "id": "2866c161-19c7-4785-9e84-d22b3c9e1acb",
   "metadata": {
    "tags": []
   },
   "outputs": [
    {
     "data": {
      "text/html": [
       "<div>\n",
       "<style scoped>\n",
       "    .dataframe tbody tr th:only-of-type {\n",
       "        vertical-align: middle;\n",
       "    }\n",
       "\n",
       "    .dataframe tbody tr th {\n",
       "        vertical-align: top;\n",
       "    }\n",
       "\n",
       "    .dataframe thead th {\n",
       "        text-align: right;\n",
       "    }\n",
       "</style>\n",
       "<table border=\"1\" class=\"dataframe\">\n",
       "  <thead>\n",
       "    <tr style=\"text-align: right;\">\n",
       "      <th></th>\n",
       "      <th>user_id</th>\n",
       "      <th>name</th>\n",
       "      <th>rating</th>\n",
       "      <th>rating in numbers</th>\n",
       "      <th>clean_name</th>\n",
       "      <th>book_id</th>\n",
       "    </tr>\n",
       "  </thead>\n",
       "  <tbody>\n",
       "    <tr>\n",
       "      <th>0</th>\n",
       "      <td>1</td>\n",
       "      <td>Agile Web Development with Rails: A Pragmatic ...</td>\n",
       "      <td>it was amazing</td>\n",
       "      <td>5.0</td>\n",
       "      <td>agile web development with rails a pragmatic g...</td>\n",
       "      <td>45.0</td>\n",
       "    </tr>\n",
       "    <tr>\n",
       "      <th>1</th>\n",
       "      <td>1</td>\n",
       "      <td>The Restaurant at the End of the Universe (Hit...</td>\n",
       "      <td>it was amazing</td>\n",
       "      <td>5.0</td>\n",
       "      <td>the restaurant at the end of the universe hitc...</td>\n",
       "      <td>862825.0</td>\n",
       "    </tr>\n",
       "    <tr>\n",
       "      <th>2</th>\n",
       "      <td>1</td>\n",
       "      <td>Siddhartha</td>\n",
       "      <td>it was amazing</td>\n",
       "      <td>5.0</td>\n",
       "      <td>siddhartha</td>\n",
       "      <td>828548.0</td>\n",
       "    </tr>\n",
       "    <tr>\n",
       "      <th>3</th>\n",
       "      <td>1</td>\n",
       "      <td>The Clock of the Long Now: Time and Responsibi...</td>\n",
       "      <td>really liked it</td>\n",
       "      <td>4.0</td>\n",
       "      <td>the clock of the long now time and responsibility</td>\n",
       "      <td>1788479.0</td>\n",
       "    </tr>\n",
       "    <tr>\n",
       "      <th>4</th>\n",
       "      <td>1</td>\n",
       "      <td>Ready Player One (Ready Player One, #1)</td>\n",
       "      <td>really liked it</td>\n",
       "      <td>4.0</td>\n",
       "      <td>ready player one ready player one 1</td>\n",
       "      <td>NaN</td>\n",
       "    </tr>\n",
       "    <tr>\n",
       "      <th>5</th>\n",
       "      <td>1</td>\n",
       "      <td>The Hunger Games (The Hunger Games, #1)</td>\n",
       "      <td>it was amazing</td>\n",
       "      <td>5.0</td>\n",
       "      <td>the hunger games the hunger games 1</td>\n",
       "      <td>3544003.0</td>\n",
       "    </tr>\n",
       "    <tr>\n",
       "      <th>6</th>\n",
       "      <td>1</td>\n",
       "      <td>The Clue in the Embers (Hardy Boys, #35)</td>\n",
       "      <td>it was amazing</td>\n",
       "      <td>5.0</td>\n",
       "      <td>the clue in the embers hardy boys 35</td>\n",
       "      <td>239732.0</td>\n",
       "    </tr>\n",
       "    <tr>\n",
       "      <th>7</th>\n",
       "      <td>1</td>\n",
       "      <td>The Authoritative Calvin and Hobbes: A Calvin ...</td>\n",
       "      <td>it was amazing</td>\n",
       "      <td>5.0</td>\n",
       "      <td>the authoritative calvin and hobbes a calvin a...</td>\n",
       "      <td>502937.0</td>\n",
       "    </tr>\n",
       "    <tr>\n",
       "      <th>8</th>\n",
       "      <td>1</td>\n",
       "      <td>The Clue of the Broken Blade (Hardy Boys, #21)</td>\n",
       "      <td>it was amazing</td>\n",
       "      <td>5.0</td>\n",
       "      <td>the clue of the broken blade hardy boys 21</td>\n",
       "      <td>76933.0</td>\n",
       "    </tr>\n",
       "    <tr>\n",
       "      <th>9</th>\n",
       "      <td>1</td>\n",
       "      <td>The Clue of the Hissing Serpent (Hardy Boys, #53)</td>\n",
       "      <td>it was amazing</td>\n",
       "      <td>5.0</td>\n",
       "      <td>the clue of the hissing serpent hardy boys 53</td>\n",
       "      <td>NaN</td>\n",
       "    </tr>\n",
       "    <tr>\n",
       "      <th>10</th>\n",
       "      <td>1</td>\n",
       "      <td>The Clue of the Screeching Owl (Hardy Boys, #41)</td>\n",
       "      <td>it was amazing</td>\n",
       "      <td>5.0</td>\n",
       "      <td>the clue of the screeching owl hardy boys 41</td>\n",
       "      <td>76934.0</td>\n",
       "    </tr>\n",
       "    <tr>\n",
       "      <th>11</th>\n",
       "      <td>1</td>\n",
       "      <td>The Return of the Indian (The Indian in the Cu...</td>\n",
       "      <td>it was amazing</td>\n",
       "      <td>5.0</td>\n",
       "      <td>the return of the indian the indian in the cup...</td>\n",
       "      <td>2166798.0</td>\n",
       "    </tr>\n",
       "    <tr>\n",
       "      <th>12</th>\n",
       "      <td>1</td>\n",
       "      <td>The Name of the Rose</td>\n",
       "      <td>liked it</td>\n",
       "      <td>3.0</td>\n",
       "      <td>the name of the rose</td>\n",
       "      <td>984061.0</td>\n",
       "    </tr>\n",
       "    <tr>\n",
       "      <th>13</th>\n",
       "      <td>1</td>\n",
       "      <td>Blue Mars (Mars Trilogy, #3)</td>\n",
       "      <td>liked it</td>\n",
       "      <td>3.0</td>\n",
       "      <td>blue mars mars trilogy 3</td>\n",
       "      <td>41131.0</td>\n",
       "    </tr>\n",
       "    <tr>\n",
       "      <th>14</th>\n",
       "      <td>1</td>\n",
       "      <td>Give and Take: A Revolutionary Approach to Suc...</td>\n",
       "      <td>it was amazing</td>\n",
       "      <td>5.0</td>\n",
       "      <td>give and take a revolutionary approach to success</td>\n",
       "      <td>NaN</td>\n",
       "    </tr>\n",
       "    <tr>\n",
       "      <th>15</th>\n",
       "      <td>1</td>\n",
       "      <td>Mindset: The New Psychology Of Success</td>\n",
       "      <td>really liked it</td>\n",
       "      <td>4.0</td>\n",
       "      <td>mindset the new psychology of success</td>\n",
       "      <td>1307582.0</td>\n",
       "    </tr>\n",
       "    <tr>\n",
       "      <th>16</th>\n",
       "      <td>1</td>\n",
       "      <td>Bad Blood: Secrets and Lies in a Silicon Valle...</td>\n",
       "      <td>really liked it</td>\n",
       "      <td>4.0</td>\n",
       "      <td>bad blood secrets and lies in a silicon valley...</td>\n",
       "      <td>NaN</td>\n",
       "    </tr>\n",
       "    <tr>\n",
       "      <th>17</th>\n",
       "      <td>1</td>\n",
       "      <td>Dark Apprentice (Star Wars: The Jedi Academy T...</td>\n",
       "      <td>liked it</td>\n",
       "      <td>3.0</td>\n",
       "      <td>dark apprentice star wars the jedi academy tri...</td>\n",
       "      <td>2671637.0</td>\n",
       "    </tr>\n",
       "    <tr>\n",
       "      <th>18</th>\n",
       "      <td>1</td>\n",
       "      <td>A Short History of Nearly Everything</td>\n",
       "      <td>it was amazing</td>\n",
       "      <td>5.0</td>\n",
       "      <td>a short history of nearly everything</td>\n",
       "      <td>955990.0</td>\n",
       "    </tr>\n",
       "    <tr>\n",
       "      <th>19</th>\n",
       "      <td>1</td>\n",
       "      <td>The Mystery of the Spiral Bridge (Hardy Boys, ...</td>\n",
       "      <td>it was amazing</td>\n",
       "      <td>5.0</td>\n",
       "      <td>the mystery of the spiral bridge hardy boys 45</td>\n",
       "      <td>191962.0</td>\n",
       "    </tr>\n",
       "  </tbody>\n",
       "</table>\n",
       "</div>"
      ],
      "text/plain": [
       "    user_id                                               name  \\\n",
       "0         1  Agile Web Development with Rails: A Pragmatic ...   \n",
       "1         1  The Restaurant at the End of the Universe (Hit...   \n",
       "2         1                                         Siddhartha   \n",
       "3         1  The Clock of the Long Now: Time and Responsibi...   \n",
       "4         1            Ready Player One (Ready Player One, #1)   \n",
       "5         1            The Hunger Games (The Hunger Games, #1)   \n",
       "6         1           The Clue in the Embers (Hardy Boys, #35)   \n",
       "7         1  The Authoritative Calvin and Hobbes: A Calvin ...   \n",
       "8         1     The Clue of the Broken Blade (Hardy Boys, #21)   \n",
       "9         1  The Clue of the Hissing Serpent (Hardy Boys, #53)   \n",
       "10        1   The Clue of the Screeching Owl (Hardy Boys, #41)   \n",
       "11        1  The Return of the Indian (The Indian in the Cu...   \n",
       "12        1                               The Name of the Rose   \n",
       "13        1                       Blue Mars (Mars Trilogy, #3)   \n",
       "14        1  Give and Take: A Revolutionary Approach to Suc...   \n",
       "15        1             Mindset: The New Psychology Of Success   \n",
       "16        1  Bad Blood: Secrets and Lies in a Silicon Valle...   \n",
       "17        1  Dark Apprentice (Star Wars: The Jedi Academy T...   \n",
       "18        1               A Short History of Nearly Everything   \n",
       "19        1  The Mystery of the Spiral Bridge (Hardy Boys, ...   \n",
       "\n",
       "             rating  rating in numbers  \\\n",
       "0    it was amazing                5.0   \n",
       "1    it was amazing                5.0   \n",
       "2    it was amazing                5.0   \n",
       "3   really liked it                4.0   \n",
       "4   really liked it                4.0   \n",
       "5    it was amazing                5.0   \n",
       "6    it was amazing                5.0   \n",
       "7    it was amazing                5.0   \n",
       "8    it was amazing                5.0   \n",
       "9    it was amazing                5.0   \n",
       "10   it was amazing                5.0   \n",
       "11   it was amazing                5.0   \n",
       "12         liked it                3.0   \n",
       "13         liked it                3.0   \n",
       "14   it was amazing                5.0   \n",
       "15  really liked it                4.0   \n",
       "16  really liked it                4.0   \n",
       "17         liked it                3.0   \n",
       "18   it was amazing                5.0   \n",
       "19   it was amazing                5.0   \n",
       "\n",
       "                                           clean_name    book_id  \n",
       "0   agile web development with rails a pragmatic g...       45.0  \n",
       "1   the restaurant at the end of the universe hitc...   862825.0  \n",
       "2                                          siddhartha   828548.0  \n",
       "3   the clock of the long now time and responsibility  1788479.0  \n",
       "4                 ready player one ready player one 1        NaN  \n",
       "5                 the hunger games the hunger games 1  3544003.0  \n",
       "6                the clue in the embers hardy boys 35   239732.0  \n",
       "7   the authoritative calvin and hobbes a calvin a...   502937.0  \n",
       "8          the clue of the broken blade hardy boys 21    76933.0  \n",
       "9       the clue of the hissing serpent hardy boys 53        NaN  \n",
       "10       the clue of the screeching owl hardy boys 41    76934.0  \n",
       "11  the return of the indian the indian in the cup...  2166798.0  \n",
       "12                               the name of the rose   984061.0  \n",
       "13                           blue mars mars trilogy 3    41131.0  \n",
       "14  give and take a revolutionary approach to success        NaN  \n",
       "15              mindset the new psychology of success  1307582.0  \n",
       "16  bad blood secrets and lies in a silicon valley...        NaN  \n",
       "17  dark apprentice star wars the jedi academy tri...  2671637.0  \n",
       "18               a short history of nearly everything   955990.0  \n",
       "19     the mystery of the spiral bridge hardy boys 45   191962.0  "
      ]
     },
     "execution_count": 32,
     "metadata": {},
     "output_type": "execute_result"
    }
   ],
   "source": [
    "df_users_copy.head(20)"
   ]
  },
  {
   "cell_type": "code",
   "execution_count": 33,
   "id": "510dfeda-70be-4139-a616-ef479986f91c",
   "metadata": {
    "tags": []
   },
   "outputs": [],
   "source": [
    "unmatched_rows = df_users_copy[df_users_copy['book_id'].isna()]\n",
    "unmatched_rows.to_csv(\"unmatched_books.csv\", index=False)"
   ]
  },
  {
   "cell_type": "code",
   "execution_count": 34,
   "id": "f1b794f2-3af0-4131-9c12-618ab1b2fd16",
   "metadata": {
    "tags": []
   },
   "outputs": [],
   "source": [
    "matched_rows = df_users_copy[df_users_copy['book_id'].notna()]\n",
    "matched_rows.to_csv(\"matched_books.csv\", index=False)"
   ]
  },
  {
   "cell_type": "code",
   "execution_count": 35,
   "id": "c9dc7d1d-4ef6-453d-b94f-504c38e601e5",
   "metadata": {
    "tags": []
   },
   "outputs": [
    {
     "name": "stdout",
     "output_type": "stream",
     "text": [
      "Total unique book IDs: 51336\n"
     ]
    }
   ],
   "source": [
    "unique_book_ids = df_users_copy['book_id'].nunique()\n",
    "print(f\"Total unique book IDs: {unique_book_ids}\")"
   ]
  },
  {
   "cell_type": "code",
   "execution_count": null,
   "id": "e8253978-7c15-449e-971f-6857375abbb8",
   "metadata": {},
   "outputs": [],
   "source": []
  }
 ],
 "metadata": {
  "kernelspec": {
   "display_name": "Python 3 (ipykernel)",
   "language": "python",
   "name": "python3"
  },
  "language_info": {
   "codemirror_mode": {
    "name": "ipython",
    "version": 3
   },
   "file_extension": ".py",
   "mimetype": "text/x-python",
   "name": "python",
   "nbconvert_exporter": "python",
   "pygments_lexer": "ipython3",
   "version": "3.11.5"
  }
 },
 "nbformat": 4,
 "nbformat_minor": 5
}
