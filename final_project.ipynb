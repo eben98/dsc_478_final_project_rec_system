{
 "cells": [
  {
   "cell_type": "markdown",
   "id": "469af7f5-6a8e-4e7f-890b-3778532042e7",
   "metadata": {},
   "source": [
    "# 📘 Final Project - Recommender Systems\n",
    "\n",
    "### 📌 Submitted by:\n",
    "#### 👤 1. Ebenezer Daniel  \n",
    "#### 👤 2. Raja Prabhakaran  \n",
    "#### 👤 3. Nitheesh Samiappan  "
   ]
  },
  {
   "cell_type": "markdown",
   "id": "222b4bdb-62a0-475c-a49c-51549bf41fa4",
   "metadata": {
    "tags": []
   },
   "source": [
    "## 📚 **Dataset Details: Goodreads Book Datasets (10M)**\n",
    "### 📌 Source:\n",
    "🔗 **[Goodreads Book Datasets (10M) on Kaggle](https://www.kaggle.com/datasets/bahramjannesarr/goodreads-book-datasets-10m/data)**\n",
    "\n",
    "### 📊 **Overview**\n",
    "This dataset contains **book information and user ratings** from **Goodreads**, a popular online book review platform. It includes metadata on **millions of books**, user-generated reviews, and rating distributions.\n",
    "\n",
    "### 📂 **Files Included**\n",
    "- **Books Data**: Contains metadata such as title, author, publisher, publication year, and ratings.\n",
    "- **User Ratings Data**: Includes detailed breakdowns of how users rated books (1-star to 5-star distributions).\n",
    "\n",
    "### 🔍 **Dataset Attributes**\n",
    "| Column Name         | Description |\n",
    "|---------------------|------------|\n",
    "| **Id**             | Unique book identifier |\n",
    "| **Name**           | Title of the book |\n",
    "| **Authors**        | Author(s) of the book |\n",
    "| **ISBN**           | International Standard Book Number (if available) |\n",
    "| **Publisher**      | Name of the publishing house |\n",
    "| **PagesNumber**    | Number of pages in the book |\n",
    "| **PublishYear**    | Year of publication |\n",
    "| **PublishMonth**   | Month of publication |\n",
    "| **PublishDay**     | Day of publication |\n",
    "| **Language**       | Language of the book |\n",
    "| **CountsOfReview** | Total number of user reviews |\n",
    "| **Rating**         | Average user rating (1-5) |\n",
    "| **RatingDist1**    | Number of 1-star ratings |\n",
    "| **RatingDist2**    | Number of 2-star ratings |\n",
    "| **RatingDist3**    | Number of 3-star ratings |\n",
    "| **RatingDist4**    | Number of 4-star ratings |\n",
    "| **RatingDist5**    | Number of 5-star ratings |\n",
    "| **RatingDistTotal** | Total number of ratings |\n",
    "\n",
    "### 📈 **Size of the Dataset**\n",
    "- **Number of books:** ~10 million  \n",
    "- **Number of user ratings:** ~25 million  \n",
    "\n",
    "### 🛠 **Preprocessing Done**\n",
    "- **Handling Missing Values:** Some books are missing ISBNs, publishers, or languages.\n",
    "- **Standardizing Column Names:** Ensured consistency across multiple files.\n",
    "- **Data Cleaning:** Removed duplicates, merged similar columns (e.g., `PagesNumber` and `pagesNumber`).\n",
    "\n",
    "---\n",
    "\n",
    "### 📌 **Why This Dataset?**\n",
    "- Large-scale book rating data enables **recommendation system development**.\n",
    "- Rich metadata for **book analysis, trend discovery, and user preferences**.\n",
    "- Real-world **collaborative filtering & machine learning applications**.\n",
    "\n",
    "---\n",
    "\n",
    "📢 *This dataset serves as the foundation for our book recommender system and data analysis!* 🚀\n"
   ]
  },
  {
   "cell_type": "markdown",
   "id": "3beb3b52-eb68-41cd-aa15-f22fa97e6c2b",
   "metadata": {},
   "source": [
    "#### Importing and Loading all the nesscary libraries used in the project"
   ]
  },
  {
   "cell_type": "code",
   "execution_count": 4,
   "id": "1bedcf3b-43d6-4b47-b1bc-43e714e23788",
   "metadata": {},
   "outputs": [
    {
     "name": "stdout",
     "output_type": "stream",
     "text": [
      "Installing scikit-learn...\n",
      "Installing scikit-surprise...\n",
      "All required libraries are installed.\n"
     ]
    }
   ],
   "source": [
    "import importlib\n",
    "import subprocess\n",
    "import sys\n",
    "\n",
    "# List of required libraries\n",
    "required_libraries = [\n",
    "    \"pandas\", \"numpy\", \"matplotlib\", \"seaborn\", \"scipy\", \n",
    "    \"nltk\", \"scikit-learn\", \"scikit-surprise\"  # Use scikit-surprise instead of surprise\n",
    "]\n",
    "\n",
    "# Function to check and install missing libraries\n",
    "def check_and_install(libraries):\n",
    "    for lib in libraries:\n",
    "        try:\n",
    "            importlib.import_module(lib)\n",
    "        except ImportError:\n",
    "            print(f\"Installing {lib}...\")\n",
    "            try:\n",
    "                subprocess.check_call([sys.executable, \"-m\", \"pip\", \"install\", lib])\n",
    "            except subprocess.CalledProcessError:\n",
    "                print(f\"Failed to install {lib}. Trying Conda (if applicable)...\")\n",
    "                try:\n",
    "                    subprocess.check_call([\"conda\", \"install\", \"-c\", \"conda-forge\", lib, \"-y\"])\n",
    "                except subprocess.CalledProcessError:\n",
    "                    print(f\"Could not install {lib}. Please install it manually.\")\n",
    "\n",
    "# Check and install missing libraries\n",
    "check_and_install(required_libraries)\n",
    "\n",
    "print(\"All required libraries are installed.\")\n"
   ]
  },
  {
   "cell_type": "code",
   "execution_count": 5,
   "id": "29c8775c-81ca-468c-8ad6-afe820801df4",
   "metadata": {
    "tags": []
   },
   "outputs": [
    {
     "name": "stdout",
     "output_type": "stream",
     "text": [
      "All required libraries are successfully imported.\n"
     ]
    }
   ],
   "source": [
    "# Jupyter magic command for inline plots\n",
    "%matplotlib inline\n",
    "\n",
    "# Import libraries\n",
    "import pandas as pd\n",
    "import glob\n",
    "import os\n",
    "import re\n",
    "import numpy as np\n",
    "import matplotlib.pyplot as plt\n",
    "import seaborn as sns\n",
    "from tabulate import tabulate\n",
    "from scipy import stats\n",
    "from ast import literal_eval\n",
    "from sklearn.feature_extraction.text import TfidfVectorizer, CountVectorizer\n",
    "from sklearn.metrics.pairwise import linear_kernel, cosine_similarity\n",
    "from sklearn.preprocessing import MinMaxScaler, LabelEncoder\n",
    "from sklearn.neighbors import NearestNeighbors\n",
    "from difflib import get_close_matches\n",
    "from sklearn.decomposition import TruncatedSVD\n",
    "from rich.console import Console\n",
    "from rich.table import Table\n",
    "from summa import summarizer\n",
    "from joblib import Parallel, delayed\n",
    "from gensim.models import Word2Vec\n",
    "from nltk.stem.snowball import SnowballStemmer\n",
    "from nltk.stem.wordnet import WordNetLemmatizer\n",
    "from nltk.corpus import wordnet\n",
    "from surprise import Reader, Dataset, SVD\n",
    "from surprise.model_selection import cross_validate\n",
    "\n",
    "import warnings\n",
    "warnings.simplefilter('ignore')\n",
    "\n",
    "print(\"All required libraries are successfully imported.\")"
   ]
  },
  {
   "cell_type": "markdown",
   "id": "d191c41a-9c5d-446b-b26f-3de8934f3c0d",
   "metadata": {},
   "source": [
    "#### Load the Datasets and prepare the datasets (combining the data for further processing) and store the final data in CSV files"
   ]
  },
  {
   "cell_type": "code",
   "execution_count": 7,
   "id": "d6b4d4eb-b724-4d32-81ee-2b89c12be468",
   "metadata": {
    "tags": []
   },
   "outputs": [
    {
     "name": "stdout",
     "output_type": "stream",
     "text": [
      "Combined 'book' DataFrame shape: (1850310, 20)\n",
      "Combined 'user' DataFrame shape: (362596, 3)\n"
     ]
    }
   ],
   "source": [
    "# Define the folder where your CSV files are stored\n",
    "csv_folder = \"Datasets/\" \n",
    "\n",
    "# Use glob to get only CSV files that start with 'book'\n",
    "csv_book_files = glob.glob(os.path.join(csv_folder, \"book*.csv\"))\n",
    "csv_user_files = glob.glob(os.path.join(csv_folder, \"user*.csv\"))\n",
    "\n",
    "# Load and concatenate all \"book\" CSV files into a single DataFrame\n",
    "# Function to read CSV files and standardize column names before combining\n",
    "def load_and_standardize_csv(file_list):\n",
    "    df_list = []\n",
    "    for file in file_list:\n",
    "        df = pd.read_csv(file)\n",
    "        df.columns = df.columns.str.lower()\n",
    "        df_list.append(df)\n",
    "    return pd.concat(df_list, ignore_index=True)\n",
    "\n",
    "# Load and combine \"book\" and \"user\" CSV files\n",
    "df_books = load_and_standardize_csv(csv_book_files)\n",
    "df_users = load_and_standardize_csv(csv_user_files)\n",
    "\n",
    "# Rename specific mismatched columns for consistency\n",
    "df_books.rename(columns={'pagesnumber': 'pagesNumber'}, inplace=True)\n",
    "\n",
    "print(f\"Combined 'book' DataFrame shape: {df_books.shape}\")\n",
    "print(f\"Combined 'user' DataFrame shape: {df_users.shape}\")"
   ]
  },
  {
   "cell_type": "markdown",
   "id": "e26c720b-ead5-4fd2-b0aa-461491d0b268",
   "metadata": {},
   "source": [
    "##### The above goes in to datasets folder and takes all the books and combines them and puts them in one book dataframe, similarly we do it for the user data too, we take all the users data and put them in a users dataframe.\n",
    "\n",
    "##### Findings:\n",
    "- Also since there is a pagenumber and pagesNumber mismacth between the files we are correcting it here itself.\n",
    "- We found this mismatch when we were checking the missing data, then corrected them here"
   ]
  },
  {
   "cell_type": "code",
   "execution_count": 9,
   "id": "8bec11ab-fad2-46c2-9ef7-fcdc155ebc96",
   "metadata": {
    "tags": []
   },
   "outputs": [],
   "source": [
    "#store the merged data into a csv files for both books and user\n",
    "df_books.to_csv('combined_books_data.csv', index=False) # Causes memory error\n",
    "df_users.to_csv('combined_users_data.csv', index=False)"
   ]
  },
  {
   "cell_type": "markdown",
   "id": "03c63b07-fb8c-406c-9221-5758ff0ee514",
   "metadata": {},
   "source": [
    "##### We then export both the dataframe to CSV files"
   ]
  },
  {
   "cell_type": "code",
   "execution_count": 11,
   "id": "cae1f0c7-d8b0-4c64-95a1-5b9d55ba56de",
   "metadata": {},
   "outputs": [
    {
     "name": "stdout",
     "output_type": "stream",
     "text": [
      "Original data copied for future use. DONE!!!\n"
     ]
    }
   ],
   "source": [
    "#copy the data frame and keep the original data for further use\n",
    "df_books_original = df_books.copy()\n",
    "df_users_original = df_users.copy()\n",
    "print('Original data copied for future use. DONE!!!')"
   ]
  },
  {
   "cell_type": "markdown",
   "id": "107368f0-102b-4874-aa7e-f010be938531",
   "metadata": {},
   "source": [
    "##### Coping data for future use"
   ]
  },
  {
   "cell_type": "markdown",
   "id": "31bd8a34-549b-479b-90b5-43dab8be8fb6",
   "metadata": {},
   "source": [
    "### Preprocessing & Data Cleaning"
   ]
  },
  {
   "cell_type": "code",
   "execution_count": 14,
   "id": "77503839-0012-4ddc-82c5-9576a5fa61e5",
   "metadata": {
    "tags": []
   },
   "outputs": [
    {
     "name": "stdout",
     "output_type": "stream",
     "text": [
      "Unique IDs: 1850115\n",
      "Unique ISBNs: 1844192\n"
     ]
    }
   ],
   "source": [
    "# find the unique ID and ISBN\n",
    "unique_ids = df_books['id'].nunique()\n",
    "unique_isbns = df_books['isbn'].nunique()\n",
    "print(f\"Unique IDs: {unique_ids}\")\n",
    "print(f\"Unique ISBNs: {unique_isbns}\")"
   ]
  },
  {
   "cell_type": "code",
   "execution_count": 15,
   "id": "75042280-09a0-45ca-b6d9-b976cc17dfce",
   "metadata": {
    "tags": []
   },
   "outputs": [
    {
     "name": "stdout",
     "output_type": "stream",
     "text": [
      "Duplicate Rows: 112\n"
     ]
    }
   ],
   "source": [
    "# find duplicates across all rows\n",
    "duplicate_rows = df_books.duplicated().sum()\n",
    "print(f\"Duplicate Rows: {duplicate_rows}\")"
   ]
  },
  {
   "cell_type": "markdown",
   "id": "4f7fcb54-1459-46b3-b300-05b4be665d1a",
   "metadata": {},
   "source": [
    "##### In the above code -> We are dropping the full duplicate rows -- all the data in the columns were same."
   ]
  },
  {
   "cell_type": "code",
   "execution_count": 17,
   "id": "40c10dde-58ad-481b-ae12-fc405c9dcd11",
   "metadata": {
    "tags": []
   },
   "outputs": [
    {
     "name": "stdout",
     "output_type": "stream",
     "text": [
      "Missing ISBNs: 5923\n",
      "Missing Id: 0\n"
     ]
    }
   ],
   "source": [
    "# find missing ISBNs & ID\n",
    "missing_isbns = df_books['isbn'].isna().sum()\n",
    "print(f\"Missing ISBNs: {missing_isbns}\")\n",
    "\n",
    "missing_id = df_books['id'].isna().sum()\n",
    "print(f\"Missing Id: {missing_id}\")"
   ]
  },
  {
   "cell_type": "code",
   "execution_count": 18,
   "id": "d71d3841-325e-4802-8305-331607be2591",
   "metadata": {
    "tags": []
   },
   "outputs": [
    {
     "name": "stdout",
     "output_type": "stream",
     "text": [
      "After removing fully duplicated rows: 1850198 records remaining.\n",
      "After ensuring unique IDs: 1850115 records remaining.\n"
     ]
    }
   ],
   "source": [
    "# Drop duplicate rows\n",
    "df_books_cleaned = df_books.drop_duplicates()\n",
    "print(f\"After removing fully duplicated rows: {df_books_cleaned.shape[0]} records remaining.\")\n",
    "\n",
    "# Keep only the first occurrence of each ID\n",
    "df_books_cleaned = df_books_cleaned.drop_duplicates(subset=['id'], keep='first')\n",
    "print(f\"After ensuring unique IDs: {df_books_cleaned.shape[0]} records remaining.\")"
   ]
  },
  {
   "cell_type": "code",
   "execution_count": 19,
   "id": "65e23b19-edbc-4ad7-a1bb-615f81cdf6d9",
   "metadata": {
    "tags": []
   },
   "outputs": [
    {
     "data": {
      "text/plain": [
       "id                             0\n",
       "name                           0\n",
       "ratingdist1                    0\n",
       "pagesNumber                    0\n",
       "ratingdist4                    0\n",
       "ratingdisttotal                0\n",
       "publishmonth                   0\n",
       "publishday                     0\n",
       "publisher                  17821\n",
       "countsofreview                 0\n",
       "publishyear                    0\n",
       "language                 1598369\n",
       "authors                        0\n",
       "rating                         0\n",
       "ratingdist2                    0\n",
       "ratingdist5                    0\n",
       "isbn                        5922\n",
       "ratingdist3                    0\n",
       "description               678927\n",
       "count of text reviews    1440418\n",
       "dtype: int64"
      ]
     },
     "execution_count": 19,
     "metadata": {},
     "output_type": "execute_result"
    }
   ],
   "source": [
    "# Check for missing (NaN) values across all columns\n",
    "missing_values = df_books_cleaned.isna().sum()\n",
    "missing_values"
   ]
  },
  {
   "cell_type": "markdown",
   "id": "ecb04356-5de6-475a-8fa4-686c86f0eb8b",
   "metadata": {},
   "source": [
    "##### In the below code, we are removing count of text reviews column since we have countsofreview column and also isbn since we have a id column."
   ]
  },
  {
   "cell_type": "code",
   "execution_count": 21,
   "id": "458d36f3-505c-4360-840c-6b0619b47d2e",
   "metadata": {},
   "outputs": [
    {
     "data": {
      "text/html": [
       "<div>\n",
       "<style scoped>\n",
       "    .dataframe tbody tr th:only-of-type {\n",
       "        vertical-align: middle;\n",
       "    }\n",
       "\n",
       "    .dataframe tbody tr th {\n",
       "        vertical-align: top;\n",
       "    }\n",
       "\n",
       "    .dataframe thead th {\n",
       "        text-align: right;\n",
       "    }\n",
       "</style>\n",
       "<table border=\"1\" class=\"dataframe\">\n",
       "  <thead>\n",
       "    <tr style=\"text-align: right;\">\n",
       "      <th></th>\n",
       "      <th>id</th>\n",
       "      <th>name</th>\n",
       "      <th>ratingdist1</th>\n",
       "      <th>pagesNumber</th>\n",
       "      <th>ratingdist4</th>\n",
       "      <th>ratingdisttotal</th>\n",
       "      <th>publishmonth</th>\n",
       "      <th>publishday</th>\n",
       "      <th>publisher</th>\n",
       "      <th>countsofreview</th>\n",
       "      <th>publishyear</th>\n",
       "      <th>language</th>\n",
       "      <th>authors</th>\n",
       "      <th>rating</th>\n",
       "      <th>ratingdist2</th>\n",
       "      <th>ratingdist5</th>\n",
       "      <th>ratingdist3</th>\n",
       "      <th>description</th>\n",
       "    </tr>\n",
       "  </thead>\n",
       "  <tbody>\n",
       "    <tr>\n",
       "      <th>0</th>\n",
       "      <td>1</td>\n",
       "      <td>Harry Potter and the Half-Blood Prince (Harry ...</td>\n",
       "      <td>1:9896</td>\n",
       "      <td>652</td>\n",
       "      <td>4:556485</td>\n",
       "      <td>total:2298124</td>\n",
       "      <td>16</td>\n",
       "      <td>9</td>\n",
       "      <td>Scholastic Inc.</td>\n",
       "      <td>28062</td>\n",
       "      <td>2006</td>\n",
       "      <td>eng</td>\n",
       "      <td>J.K. Rowling</td>\n",
       "      <td>4.57</td>\n",
       "      <td>2:25317</td>\n",
       "      <td>5:1546466</td>\n",
       "      <td>3:159960</td>\n",
       "      <td>NaN</td>\n",
       "    </tr>\n",
       "    <tr>\n",
       "      <th>1</th>\n",
       "      <td>2</td>\n",
       "      <td>Harry Potter and the Order of the Phoenix (Har...</td>\n",
       "      <td>1:12455</td>\n",
       "      <td>870</td>\n",
       "      <td>4:604283</td>\n",
       "      <td>total:2358637</td>\n",
       "      <td>1</td>\n",
       "      <td>9</td>\n",
       "      <td>Scholastic Inc.</td>\n",
       "      <td>29770</td>\n",
       "      <td>2004</td>\n",
       "      <td>eng</td>\n",
       "      <td>J.K. Rowling</td>\n",
       "      <td>4.50</td>\n",
       "      <td>2:37005</td>\n",
       "      <td>5:1493113</td>\n",
       "      <td>3:211781</td>\n",
       "      <td>NaN</td>\n",
       "    </tr>\n",
       "    <tr>\n",
       "      <th>2</th>\n",
       "      <td>3</td>\n",
       "      <td>Harry Potter and the Sorcerer's Stone (Harry P...</td>\n",
       "      <td>1:108202</td>\n",
       "      <td>309</td>\n",
       "      <td>4:1513191</td>\n",
       "      <td>total:6587388</td>\n",
       "      <td>1</td>\n",
       "      <td>11</td>\n",
       "      <td>Scholastic Inc</td>\n",
       "      <td>75911</td>\n",
       "      <td>2003</td>\n",
       "      <td>eng</td>\n",
       "      <td>J.K. Rowling</td>\n",
       "      <td>4.47</td>\n",
       "      <td>2:130310</td>\n",
       "      <td>5:4268227</td>\n",
       "      <td>3:567458</td>\n",
       "      <td>NaN</td>\n",
       "    </tr>\n",
       "    <tr>\n",
       "      <th>3</th>\n",
       "      <td>4</td>\n",
       "      <td>Harry Potter and the Chamber of Secrets (Harry...</td>\n",
       "      <td>1:11896</td>\n",
       "      <td>352</td>\n",
       "      <td>4:706082</td>\n",
       "      <td>total:2560657</td>\n",
       "      <td>1</td>\n",
       "      <td>11</td>\n",
       "      <td>Scholastic</td>\n",
       "      <td>244</td>\n",
       "      <td>2003</td>\n",
       "      <td>eng</td>\n",
       "      <td>J.K. Rowling</td>\n",
       "      <td>4.42</td>\n",
       "      <td>2:49353</td>\n",
       "      <td>5:1504505</td>\n",
       "      <td>3:288821</td>\n",
       "      <td>NaN</td>\n",
       "    </tr>\n",
       "    <tr>\n",
       "      <th>4</th>\n",
       "      <td>5</td>\n",
       "      <td>Harry Potter and the Prisoner of Azkaban (Harr...</td>\n",
       "      <td>1:10128</td>\n",
       "      <td>435</td>\n",
       "      <td>4:630534</td>\n",
       "      <td>total:2610317</td>\n",
       "      <td>1</td>\n",
       "      <td>5</td>\n",
       "      <td>Scholastic Inc.</td>\n",
       "      <td>37093</td>\n",
       "      <td>2004</td>\n",
       "      <td>eng</td>\n",
       "      <td>J.K. Rowling</td>\n",
       "      <td>4.57</td>\n",
       "      <td>2:24849</td>\n",
       "      <td>5:1749958</td>\n",
       "      <td>3:194848</td>\n",
       "      <td>NaN</td>\n",
       "    </tr>\n",
       "  </tbody>\n",
       "</table>\n",
       "</div>"
      ],
      "text/plain": [
       "   id                                               name ratingdist1  \\\n",
       "0   1  Harry Potter and the Half-Blood Prince (Harry ...      1:9896   \n",
       "1   2  Harry Potter and the Order of the Phoenix (Har...     1:12455   \n",
       "2   3  Harry Potter and the Sorcerer's Stone (Harry P...    1:108202   \n",
       "3   4  Harry Potter and the Chamber of Secrets (Harry...     1:11896   \n",
       "4   5  Harry Potter and the Prisoner of Azkaban (Harr...     1:10128   \n",
       "\n",
       "   pagesNumber ratingdist4 ratingdisttotal  publishmonth  publishday  \\\n",
       "0          652    4:556485   total:2298124            16           9   \n",
       "1          870    4:604283   total:2358637             1           9   \n",
       "2          309   4:1513191   total:6587388             1          11   \n",
       "3          352    4:706082   total:2560657             1          11   \n",
       "4          435    4:630534   total:2610317             1           5   \n",
       "\n",
       "         publisher  countsofreview  publishyear language       authors  \\\n",
       "0  Scholastic Inc.           28062         2006      eng  J.K. Rowling   \n",
       "1  Scholastic Inc.           29770         2004      eng  J.K. Rowling   \n",
       "2   Scholastic Inc           75911         2003      eng  J.K. Rowling   \n",
       "3       Scholastic             244         2003      eng  J.K. Rowling   \n",
       "4  Scholastic Inc.           37093         2004      eng  J.K. Rowling   \n",
       "\n",
       "   rating ratingdist2 ratingdist5 ratingdist3 description  \n",
       "0    4.57     2:25317   5:1546466    3:159960         NaN  \n",
       "1    4.50     2:37005   5:1493113    3:211781         NaN  \n",
       "2    4.47    2:130310   5:4268227    3:567458         NaN  \n",
       "3    4.42     2:49353   5:1504505    3:288821         NaN  \n",
       "4    4.57     2:24849   5:1749958    3:194848         NaN  "
      ]
     },
     "execution_count": 21,
     "metadata": {},
     "output_type": "execute_result"
    }
   ],
   "source": [
    "# Dropping all the unnesscary columns\n",
    "df_books_cleaned.drop(columns=['count of text reviews', 'isbn'], inplace=True)\n",
    "df_books_cleaned.head(5)"
   ]
  },
  {
   "cell_type": "code",
   "execution_count": 22,
   "id": "50cfb532-ffe4-4f58-aee8-388ddbfc8c59",
   "metadata": {},
   "outputs": [],
   "source": [
    "df_books_cleaned['publisher'].fillna(\"Unknown\", inplace=True)\n",
    "df_books_cleaned['language'].fillna(df_books_cleaned['language'].mode()[0], inplace=True)"
   ]
  },
  {
   "cell_type": "code",
   "execution_count": 23,
   "id": "f4061bc5-b35e-499a-b0dd-7afc3bf18981",
   "metadata": {},
   "outputs": [
    {
     "data": {
      "text/html": [
       "<div>\n",
       "<style scoped>\n",
       "    .dataframe tbody tr th:only-of-type {\n",
       "        vertical-align: middle;\n",
       "    }\n",
       "\n",
       "    .dataframe tbody tr th {\n",
       "        vertical-align: top;\n",
       "    }\n",
       "\n",
       "    .dataframe thead th {\n",
       "        text-align: right;\n",
       "    }\n",
       "</style>\n",
       "<table border=\"1\" class=\"dataframe\">\n",
       "  <thead>\n",
       "    <tr style=\"text-align: right;\">\n",
       "      <th></th>\n",
       "      <th>id</th>\n",
       "      <th>name</th>\n",
       "      <th>ratingdist1</th>\n",
       "      <th>pagesNumber</th>\n",
       "      <th>ratingdist4</th>\n",
       "      <th>ratingdisttotal</th>\n",
       "      <th>publishmonth</th>\n",
       "      <th>publishday</th>\n",
       "      <th>publisher</th>\n",
       "      <th>countsofreview</th>\n",
       "      <th>publishyear</th>\n",
       "      <th>language</th>\n",
       "      <th>authors</th>\n",
       "      <th>rating</th>\n",
       "      <th>ratingdist2</th>\n",
       "      <th>ratingdist5</th>\n",
       "      <th>ratingdist3</th>\n",
       "      <th>description</th>\n",
       "    </tr>\n",
       "  </thead>\n",
       "  <tbody>\n",
       "    <tr>\n",
       "      <th>0</th>\n",
       "      <td>1</td>\n",
       "      <td>Harry Potter and the Half-Blood Prince (Harry ...</td>\n",
       "      <td>1:9896</td>\n",
       "      <td>652</td>\n",
       "      <td>4:556485</td>\n",
       "      <td>total:2298124</td>\n",
       "      <td>16</td>\n",
       "      <td>9</td>\n",
       "      <td>Scholastic Inc.</td>\n",
       "      <td>28062</td>\n",
       "      <td>2006</td>\n",
       "      <td>eng</td>\n",
       "      <td>J.K. Rowling</td>\n",
       "      <td>4.57</td>\n",
       "      <td>2:25317</td>\n",
       "      <td>5:1546466</td>\n",
       "      <td>3:159960</td>\n",
       "      <td>NaN</td>\n",
       "    </tr>\n",
       "    <tr>\n",
       "      <th>1</th>\n",
       "      <td>2</td>\n",
       "      <td>Harry Potter and the Order of the Phoenix (Har...</td>\n",
       "      <td>1:12455</td>\n",
       "      <td>870</td>\n",
       "      <td>4:604283</td>\n",
       "      <td>total:2358637</td>\n",
       "      <td>1</td>\n",
       "      <td>9</td>\n",
       "      <td>Scholastic Inc.</td>\n",
       "      <td>29770</td>\n",
       "      <td>2004</td>\n",
       "      <td>eng</td>\n",
       "      <td>J.K. Rowling</td>\n",
       "      <td>4.50</td>\n",
       "      <td>2:37005</td>\n",
       "      <td>5:1493113</td>\n",
       "      <td>3:211781</td>\n",
       "      <td>NaN</td>\n",
       "    </tr>\n",
       "  </tbody>\n",
       "</table>\n",
       "</div>"
      ],
      "text/plain": [
       "   id                                               name ratingdist1  \\\n",
       "0   1  Harry Potter and the Half-Blood Prince (Harry ...      1:9896   \n",
       "1   2  Harry Potter and the Order of the Phoenix (Har...     1:12455   \n",
       "\n",
       "   pagesNumber ratingdist4 ratingdisttotal  publishmonth  publishday  \\\n",
       "0          652    4:556485   total:2298124            16           9   \n",
       "1          870    4:604283   total:2358637             1           9   \n",
       "\n",
       "         publisher  countsofreview  publishyear language       authors  \\\n",
       "0  Scholastic Inc.           28062         2006      eng  J.K. Rowling   \n",
       "1  Scholastic Inc.           29770         2004      eng  J.K. Rowling   \n",
       "\n",
       "   rating ratingdist2 ratingdist5 ratingdist3 description  \n",
       "0    4.57     2:25317   5:1546466    3:159960         NaN  \n",
       "1    4.50     2:37005   5:1493113    3:211781         NaN  "
      ]
     },
     "execution_count": 23,
     "metadata": {},
     "output_type": "execute_result"
    }
   ],
   "source": [
    "df_books_cleaned.head(2)"
   ]
  },
  {
   "cell_type": "code",
   "execution_count": 25,
   "id": "50ad4ffe-7a12-465c-868b-5a29af6f35ee",
   "metadata": {},
   "outputs": [],
   "source": [
    "# Identify books with missing descriptions\n",
    "missing_books = df_books_cleaned[df_books_cleaned['description'].isna()]\n",
    "\n",
    "# Aggregate descriptions per author **only for missing books**\n",
    "authors_with_missing = missing_books['authors'].unique()  # Get only authors with missing values\n",
    "\n",
    "author_descriptions = (\n",
    "    df_books_cleaned[df_books_cleaned['authors'].isin(authors_with_missing)]  # Filter only relevant authors\n",
    "    .groupby('authors')['description']\n",
    "    .agg(lambda x: \" \".join(x.dropna().values[:5]))  # Select up to 5 descriptions\n",
    "    .dropna()\n",
    ")\n",
    "\n",
    "# Batch Processing with TF-IDF (Much Faster)\n",
    "vectorizer = TfidfVectorizer(stop_words='english', max_features=10)\n",
    "tfidf_matrix = vectorizer.fit_transform(author_descriptions.values)  # Compute all at once\n",
    "feature_names = np.array(vectorizer.get_feature_names_out())\n",
    "\n",
    "# Extract Keywords from TF-IDF Matrix\n",
    "def extract_keywords(row_idx):\n",
    "    \"\"\"Extract top TF-IDF keywords for an author\"\"\"\n",
    "    scores = tfidf_matrix[row_idx].toarray().flatten()\n",
    "    top_indices = scores.argsort()[-10:][::-1]  # Get top 10 words\n",
    "    return \" \".join(feature_names[top_indices])  # Return as a summary\n",
    "\n",
    "# Compute summaries **only for missing descriptions**\n",
    "author_summaries = pd.Series(range(len(author_descriptions)), index=author_descriptions.index).map(extract_keywords)\n",
    "\n",
    "# Step 5: Fill Missing Descriptions Using Vectorized Mapping\n",
    "df_books_cleaned.loc[df_books_cleaned['description'].isna(), 'description'] = df_books_cleaned['authors'].map(author_summaries)\n"
   ]
  },
  {
   "cell_type": "markdown",
   "id": "f50b5337-5ad0-4a9f-8f1e-ae0281298287",
   "metadata": {},
   "source": [
    "#### **Filling Missing Descriptions Using TF-IDF Keyword Extraction**  \n",
    "\n",
    "This code generates summaries for **missing book descriptions** by extracting **key terms** from **existing descriptions** of books written by the **same author**. It first **groups books by authors**, compiles up to **5 descriptions per author**, and then applies **TF-IDF-based keyword extraction** to identify the **most relevant words**. These extracted keywords are then used to fill in missing descriptions **efficiently in bulk** without affecting existing ones. 🚀"
   ]
  },
  {
   "cell_type": "code",
   "execution_count": 28,
   "id": "49a3025a-217a-421b-957e-a81c447fcaf2",
   "metadata": {
    "tags": []
   },
   "outputs": [
    {
     "name": "stdout",
     "output_type": "stream",
     "text": [
      "['it was amazing' 'really liked it' 'liked it' 'did not like it'\n",
      " 'it was ok' \"This user doesn't have any rating\"]\n"
     ]
    }
   ],
   "source": [
    "# find different types of rating in the rating colum\n",
    "ratings = df_users['rating'].unique()\n",
    "print(ratings)"
   ]
  },
  {
   "cell_type": "markdown",
   "id": "5bea49e3-2183-48f1-bf19-2841832d749c",
   "metadata": {},
   "source": [
    "##### In the below code we are assigning numbers for different rating and creating a column called rating in numbers."
   ]
  },
  {
   "cell_type": "code",
   "execution_count": 30,
   "id": "a79f874c-0700-42e0-b568-ffebe33a8b5e",
   "metadata": {
    "tags": []
   },
   "outputs": [
    {
     "data": {
      "text/html": [
       "<div>\n",
       "<style scoped>\n",
       "    .dataframe tbody tr th:only-of-type {\n",
       "        vertical-align: middle;\n",
       "    }\n",
       "\n",
       "    .dataframe tbody tr th {\n",
       "        vertical-align: top;\n",
       "    }\n",
       "\n",
       "    .dataframe thead th {\n",
       "        text-align: right;\n",
       "    }\n",
       "</style>\n",
       "<table border=\"1\" class=\"dataframe\">\n",
       "  <thead>\n",
       "    <tr style=\"text-align: right;\">\n",
       "      <th></th>\n",
       "      <th>id</th>\n",
       "      <th>name</th>\n",
       "      <th>rating</th>\n",
       "      <th>rating in numbers</th>\n",
       "    </tr>\n",
       "  </thead>\n",
       "  <tbody>\n",
       "    <tr>\n",
       "      <th>0</th>\n",
       "      <td>1</td>\n",
       "      <td>Agile Web Development with Rails: A Pragmatic ...</td>\n",
       "      <td>it was amazing</td>\n",
       "      <td>5</td>\n",
       "    </tr>\n",
       "    <tr>\n",
       "      <th>1</th>\n",
       "      <td>1</td>\n",
       "      <td>The Restaurant at the End of the Universe (Hit...</td>\n",
       "      <td>it was amazing</td>\n",
       "      <td>5</td>\n",
       "    </tr>\n",
       "    <tr>\n",
       "      <th>2</th>\n",
       "      <td>1</td>\n",
       "      <td>Siddhartha</td>\n",
       "      <td>it was amazing</td>\n",
       "      <td>5</td>\n",
       "    </tr>\n",
       "    <tr>\n",
       "      <th>3</th>\n",
       "      <td>1</td>\n",
       "      <td>The Clock of the Long Now: Time and Responsibi...</td>\n",
       "      <td>really liked it</td>\n",
       "      <td>4</td>\n",
       "    </tr>\n",
       "    <tr>\n",
       "      <th>4</th>\n",
       "      <td>1</td>\n",
       "      <td>Ready Player One (Ready Player One, #1)</td>\n",
       "      <td>really liked it</td>\n",
       "      <td>4</td>\n",
       "    </tr>\n",
       "  </tbody>\n",
       "</table>\n",
       "</div>"
      ],
      "text/plain": [
       "   id                                               name           rating  \\\n",
       "0   1  Agile Web Development with Rails: A Pragmatic ...   it was amazing   \n",
       "1   1  The Restaurant at the End of the Universe (Hit...   it was amazing   \n",
       "2   1                                         Siddhartha   it was amazing   \n",
       "3   1  The Clock of the Long Now: Time and Responsibi...  really liked it   \n",
       "4   1            Ready Player One (Ready Player One, #1)  really liked it   \n",
       "\n",
       "   rating in numbers  \n",
       "0                  5  \n",
       "1                  5  \n",
       "2                  5  \n",
       "3                  4  \n",
       "4                  4  "
      ]
     },
     "execution_count": 30,
     "metadata": {},
     "output_type": "execute_result"
    }
   ],
   "source": [
    "rating_mapping = {\n",
    "    \"it was amazing\": 5,\n",
    "    \"really liked it\": 4,\n",
    "    \"liked it\": 3,\n",
    "    \"it was ok\": 2,\n",
    "    \"did not like it\": 1,\n",
    "    \"This user doesn't have any rating\": 0  # Convert to NaN or remove\n",
    "}\n",
    "\n",
    "# create a numeric rating colum\n",
    "df_users['rating in numbers'] = df_users['rating'].map(rating_mapping)\n",
    "df_users.head(5)"
   ]
  },
  {
   "cell_type": "code",
   "execution_count": 31,
   "id": "18accfdb-efef-4035-b131-bb87ce13f203",
   "metadata": {
    "tags": []
   },
   "outputs": [],
   "source": [
    "# copying the data frame\n",
    "df_users_copy = df_users.copy()\n",
    "df_books_copy = df_books_cleaned.copy() "
   ]
  },
  {
   "cell_type": "code",
   "execution_count": 32,
   "id": "55e3d826-5211-4d94-a8ea-2762662fb9d5",
   "metadata": {
    "tags": []
   },
   "outputs": [],
   "source": [
    "# renaming the columns in both the data frame\n",
    "df_books_copy.rename(columns={'id': 'book_id'}, inplace=True)\n",
    "df_users_copy.rename(columns={'id': 'user_id'}, inplace=True)"
   ]
  },
  {
   "cell_type": "code",
   "execution_count": 33,
   "id": "3c4bb111-fad3-47fa-9f0a-a0bcfa65044c",
   "metadata": {
    "tags": []
   },
   "outputs": [
    {
     "data": {
      "text/html": [
       "<div>\n",
       "<style scoped>\n",
       "    .dataframe tbody tr th:only-of-type {\n",
       "        vertical-align: middle;\n",
       "    }\n",
       "\n",
       "    .dataframe tbody tr th {\n",
       "        vertical-align: top;\n",
       "    }\n",
       "\n",
       "    .dataframe thead th {\n",
       "        text-align: right;\n",
       "    }\n",
       "</style>\n",
       "<table border=\"1\" class=\"dataframe\">\n",
       "  <thead>\n",
       "    <tr style=\"text-align: right;\">\n",
       "      <th></th>\n",
       "      <th>user_id</th>\n",
       "      <th>name</th>\n",
       "      <th>rating</th>\n",
       "      <th>rating in numbers</th>\n",
       "    </tr>\n",
       "  </thead>\n",
       "  <tbody>\n",
       "    <tr>\n",
       "      <th>0</th>\n",
       "      <td>1</td>\n",
       "      <td>Agile Web Development with Rails: A Pragmatic ...</td>\n",
       "      <td>it was amazing</td>\n",
       "      <td>5</td>\n",
       "    </tr>\n",
       "    <tr>\n",
       "      <th>1</th>\n",
       "      <td>1</td>\n",
       "      <td>The Restaurant at the End of the Universe (Hit...</td>\n",
       "      <td>it was amazing</td>\n",
       "      <td>5</td>\n",
       "    </tr>\n",
       "    <tr>\n",
       "      <th>2</th>\n",
       "      <td>1</td>\n",
       "      <td>Siddhartha</td>\n",
       "      <td>it was amazing</td>\n",
       "      <td>5</td>\n",
       "    </tr>\n",
       "    <tr>\n",
       "      <th>3</th>\n",
       "      <td>1</td>\n",
       "      <td>The Clock of the Long Now: Time and Responsibi...</td>\n",
       "      <td>really liked it</td>\n",
       "      <td>4</td>\n",
       "    </tr>\n",
       "    <tr>\n",
       "      <th>4</th>\n",
       "      <td>1</td>\n",
       "      <td>Ready Player One (Ready Player One, #1)</td>\n",
       "      <td>really liked it</td>\n",
       "      <td>4</td>\n",
       "    </tr>\n",
       "  </tbody>\n",
       "</table>\n",
       "</div>"
      ],
      "text/plain": [
       "   user_id                                               name  \\\n",
       "0        1  Agile Web Development with Rails: A Pragmatic ...   \n",
       "1        1  The Restaurant at the End of the Universe (Hit...   \n",
       "2        1                                         Siddhartha   \n",
       "3        1  The Clock of the Long Now: Time and Responsibi...   \n",
       "4        1            Ready Player One (Ready Player One, #1)   \n",
       "\n",
       "            rating  rating in numbers  \n",
       "0   it was amazing                  5  \n",
       "1   it was amazing                  5  \n",
       "2   it was amazing                  5  \n",
       "3  really liked it                  4  \n",
       "4  really liked it                  4  "
      ]
     },
     "execution_count": 33,
     "metadata": {},
     "output_type": "execute_result"
    }
   ],
   "source": [
    "df_users_copy.head()"
   ]
  },
  {
   "cell_type": "code",
   "execution_count": 34,
   "id": "d58ce7da-eabd-43b2-a101-79c57bcf4746",
   "metadata": {
    "tags": []
   },
   "outputs": [
    {
     "data": {
      "text/html": [
       "<div>\n",
       "<style scoped>\n",
       "    .dataframe tbody tr th:only-of-type {\n",
       "        vertical-align: middle;\n",
       "    }\n",
       "\n",
       "    .dataframe tbody tr th {\n",
       "        vertical-align: top;\n",
       "    }\n",
       "\n",
       "    .dataframe thead th {\n",
       "        text-align: right;\n",
       "    }\n",
       "</style>\n",
       "<table border=\"1\" class=\"dataframe\">\n",
       "  <thead>\n",
       "    <tr style=\"text-align: right;\">\n",
       "      <th></th>\n",
       "      <th>book_id</th>\n",
       "      <th>name</th>\n",
       "      <th>ratingdist1</th>\n",
       "      <th>pagesNumber</th>\n",
       "      <th>ratingdist4</th>\n",
       "      <th>ratingdisttotal</th>\n",
       "      <th>publishmonth</th>\n",
       "      <th>publishday</th>\n",
       "      <th>publisher</th>\n",
       "      <th>countsofreview</th>\n",
       "      <th>publishyear</th>\n",
       "      <th>language</th>\n",
       "      <th>authors</th>\n",
       "      <th>rating</th>\n",
       "      <th>ratingdist2</th>\n",
       "      <th>ratingdist5</th>\n",
       "      <th>ratingdist3</th>\n",
       "      <th>description</th>\n",
       "    </tr>\n",
       "  </thead>\n",
       "  <tbody>\n",
       "    <tr>\n",
       "      <th>0</th>\n",
       "      <td>1</td>\n",
       "      <td>Harry Potter and the Half-Blood Prince (Harry ...</td>\n",
       "      <td>1:9896</td>\n",
       "      <td>652</td>\n",
       "      <td>4:556485</td>\n",
       "      <td>total:2298124</td>\n",
       "      <td>16</td>\n",
       "      <td>9</td>\n",
       "      <td>Scholastic Inc.</td>\n",
       "      <td>28062</td>\n",
       "      <td>2006</td>\n",
       "      <td>eng</td>\n",
       "      <td>J.K. Rowling</td>\n",
       "      <td>4.57</td>\n",
       "      <td>2:25317</td>\n",
       "      <td>5:1546466</td>\n",
       "      <td>3:159960</td>\n",
       "      <td>br years world work time new life history book...</td>\n",
       "    </tr>\n",
       "    <tr>\n",
       "      <th>1</th>\n",
       "      <td>2</td>\n",
       "      <td>Harry Potter and the Order of the Phoenix (Har...</td>\n",
       "      <td>1:12455</td>\n",
       "      <td>870</td>\n",
       "      <td>4:604283</td>\n",
       "      <td>total:2358637</td>\n",
       "      <td>1</td>\n",
       "      <td>9</td>\n",
       "      <td>Scholastic Inc.</td>\n",
       "      <td>29770</td>\n",
       "      <td>2004</td>\n",
       "      <td>eng</td>\n",
       "      <td>J.K. Rowling</td>\n",
       "      <td>4.50</td>\n",
       "      <td>2:37005</td>\n",
       "      <td>5:1493113</td>\n",
       "      <td>3:211781</td>\n",
       "      <td>br years world work time new life history book...</td>\n",
       "    </tr>\n",
       "    <tr>\n",
       "      <th>2</th>\n",
       "      <td>3</td>\n",
       "      <td>Harry Potter and the Sorcerer's Stone (Harry P...</td>\n",
       "      <td>1:108202</td>\n",
       "      <td>309</td>\n",
       "      <td>4:1513191</td>\n",
       "      <td>total:6587388</td>\n",
       "      <td>1</td>\n",
       "      <td>11</td>\n",
       "      <td>Scholastic Inc</td>\n",
       "      <td>75911</td>\n",
       "      <td>2003</td>\n",
       "      <td>eng</td>\n",
       "      <td>J.K. Rowling</td>\n",
       "      <td>4.47</td>\n",
       "      <td>2:130310</td>\n",
       "      <td>5:4268227</td>\n",
       "      <td>3:567458</td>\n",
       "      <td>br years world work time new life history book...</td>\n",
       "    </tr>\n",
       "    <tr>\n",
       "      <th>3</th>\n",
       "      <td>4</td>\n",
       "      <td>Harry Potter and the Chamber of Secrets (Harry...</td>\n",
       "      <td>1:11896</td>\n",
       "      <td>352</td>\n",
       "      <td>4:706082</td>\n",
       "      <td>total:2560657</td>\n",
       "      <td>1</td>\n",
       "      <td>11</td>\n",
       "      <td>Scholastic</td>\n",
       "      <td>244</td>\n",
       "      <td>2003</td>\n",
       "      <td>eng</td>\n",
       "      <td>J.K. Rowling</td>\n",
       "      <td>4.42</td>\n",
       "      <td>2:49353</td>\n",
       "      <td>5:1504505</td>\n",
       "      <td>3:288821</td>\n",
       "      <td>br years world work time new life history book...</td>\n",
       "    </tr>\n",
       "    <tr>\n",
       "      <th>4</th>\n",
       "      <td>5</td>\n",
       "      <td>Harry Potter and the Prisoner of Azkaban (Harr...</td>\n",
       "      <td>1:10128</td>\n",
       "      <td>435</td>\n",
       "      <td>4:630534</td>\n",
       "      <td>total:2610317</td>\n",
       "      <td>1</td>\n",
       "      <td>5</td>\n",
       "      <td>Scholastic Inc.</td>\n",
       "      <td>37093</td>\n",
       "      <td>2004</td>\n",
       "      <td>eng</td>\n",
       "      <td>J.K. Rowling</td>\n",
       "      <td>4.57</td>\n",
       "      <td>2:24849</td>\n",
       "      <td>5:1749958</td>\n",
       "      <td>3:194848</td>\n",
       "      <td>br years world work time new life history book...</td>\n",
       "    </tr>\n",
       "  </tbody>\n",
       "</table>\n",
       "</div>"
      ],
      "text/plain": [
       "   book_id                                               name ratingdist1  \\\n",
       "0        1  Harry Potter and the Half-Blood Prince (Harry ...      1:9896   \n",
       "1        2  Harry Potter and the Order of the Phoenix (Har...     1:12455   \n",
       "2        3  Harry Potter and the Sorcerer's Stone (Harry P...    1:108202   \n",
       "3        4  Harry Potter and the Chamber of Secrets (Harry...     1:11896   \n",
       "4        5  Harry Potter and the Prisoner of Azkaban (Harr...     1:10128   \n",
       "\n",
       "   pagesNumber ratingdist4 ratingdisttotal  publishmonth  publishday  \\\n",
       "0          652    4:556485   total:2298124            16           9   \n",
       "1          870    4:604283   total:2358637             1           9   \n",
       "2          309   4:1513191   total:6587388             1          11   \n",
       "3          352    4:706082   total:2560657             1          11   \n",
       "4          435    4:630534   total:2610317             1           5   \n",
       "\n",
       "         publisher  countsofreview  publishyear language       authors  \\\n",
       "0  Scholastic Inc.           28062         2006      eng  J.K. Rowling   \n",
       "1  Scholastic Inc.           29770         2004      eng  J.K. Rowling   \n",
       "2   Scholastic Inc           75911         2003      eng  J.K. Rowling   \n",
       "3       Scholastic             244         2003      eng  J.K. Rowling   \n",
       "4  Scholastic Inc.           37093         2004      eng  J.K. Rowling   \n",
       "\n",
       "   rating ratingdist2 ratingdist5 ratingdist3  \\\n",
       "0    4.57     2:25317   5:1546466    3:159960   \n",
       "1    4.50     2:37005   5:1493113    3:211781   \n",
       "2    4.47    2:130310   5:4268227    3:567458   \n",
       "3    4.42     2:49353   5:1504505    3:288821   \n",
       "4    4.57     2:24849   5:1749958    3:194848   \n",
       "\n",
       "                                         description  \n",
       "0  br years world work time new life history book...  \n",
       "1  br years world work time new life history book...  \n",
       "2  br years world work time new life history book...  \n",
       "3  br years world work time new life history book...  \n",
       "4  br years world work time new life history book...  "
      ]
     },
     "execution_count": 34,
     "metadata": {},
     "output_type": "execute_result"
    }
   ],
   "source": [
    "df_books_copy.head()"
   ]
  },
  {
   "cell_type": "code",
   "execution_count": 35,
   "id": "d6d10d60-557d-4c65-8a68-f1422562c953",
   "metadata": {
    "tags": []
   },
   "outputs": [],
   "source": [
    "def clean_text(text):\n",
    "    text = text.lower().strip()\n",
    "    text = re.sub(r'[^\\w\\s]', '', text)  # Remove punctuation\n",
    "    return text\n",
    "\n",
    "df_users_copy['clean_name'] = df_users_copy['name'].apply(clean_text)\n",
    "df_books_copy['clean_name'] = df_books_copy['name'].apply(clean_text)"
   ]
  },
  {
   "cell_type": "code",
   "execution_count": 36,
   "id": "79a6d9a7-5337-4e04-b42a-cba0a31046b3",
   "metadata": {
    "tags": []
   },
   "outputs": [],
   "source": [
    "# mapping name and bookid\n",
    "name_to_book_id_map = df_books_copy.set_index('clean_name')['book_id'].to_dict()\n",
    "df_users_copy['book_id'] = df_users_copy['clean_name'].map(name_to_book_id_map)"
   ]
  },
  {
   "cell_type": "code",
   "execution_count": 37,
   "id": "e39e039a-bff3-4253-ac1a-49d44d5001ad",
   "metadata": {
    "tags": []
   },
   "outputs": [
    {
     "name": "stdout",
     "output_type": "stream",
     "text": [
      "Directly matched count: 234734\n"
     ]
    }
   ],
   "source": [
    "# finding the matched count in both the books and users dataframe\n",
    "matched_count = df_users_copy['book_id'].notna().sum()\n",
    "print(f\"Directly matched count: {matched_count}\")"
   ]
  },
  {
   "cell_type": "code",
   "execution_count": 38,
   "id": "5dbb2c18-711d-4230-b1d7-4311f775f9f0",
   "metadata": {
    "tags": []
   },
   "outputs": [
    {
     "name": "stdout",
     "output_type": "stream",
     "text": [
      "Directly not matched count: 127862\n"
     ]
    }
   ],
   "source": [
    "# finding the unmatched count in both the books and users dataframe\n",
    "unmatched_count = df_users_copy['book_id'].isna().sum()\n",
    "print(f\"Directly not matched count: {unmatched_count}\")"
   ]
  },
  {
   "cell_type": "code",
   "execution_count": 39,
   "id": "81734922-8058-4743-8ee4-96c83c8101f0",
   "metadata": {
    "tags": []
   },
   "outputs": [
    {
     "name": "stdout",
     "output_type": "stream",
     "text": [
      "Directly matched count: 234734\n"
     ]
    }
   ],
   "source": [
    "# First, map directly where names match exactly (FAST)\n",
    "df_users_copy['book_id'] = df_users_copy['clean_name'].map(name_to_book_id_map)\n",
    "\n",
    "# Count directly matched entries\n",
    "matched_count = df_users_copy['book_id'].notna().sum()\n",
    "print(f\"Directly matched count: {matched_count}\")\n"
   ]
  },
  {
   "cell_type": "code",
   "execution_count": 40,
   "id": "2866c161-19c7-4785-9e84-d22b3c9e1acb",
   "metadata": {
    "tags": []
   },
   "outputs": [
    {
     "data": {
      "text/html": [
       "<div>\n",
       "<style scoped>\n",
       "    .dataframe tbody tr th:only-of-type {\n",
       "        vertical-align: middle;\n",
       "    }\n",
       "\n",
       "    .dataframe tbody tr th {\n",
       "        vertical-align: top;\n",
       "    }\n",
       "\n",
       "    .dataframe thead th {\n",
       "        text-align: right;\n",
       "    }\n",
       "</style>\n",
       "<table border=\"1\" class=\"dataframe\">\n",
       "  <thead>\n",
       "    <tr style=\"text-align: right;\">\n",
       "      <th></th>\n",
       "      <th>user_id</th>\n",
       "      <th>name</th>\n",
       "      <th>rating</th>\n",
       "      <th>rating in numbers</th>\n",
       "      <th>clean_name</th>\n",
       "      <th>book_id</th>\n",
       "    </tr>\n",
       "  </thead>\n",
       "  <tbody>\n",
       "    <tr>\n",
       "      <th>0</th>\n",
       "      <td>1</td>\n",
       "      <td>Agile Web Development with Rails: A Pragmatic ...</td>\n",
       "      <td>it was amazing</td>\n",
       "      <td>5</td>\n",
       "      <td>agile web development with rails a pragmatic g...</td>\n",
       "      <td>45.0</td>\n",
       "    </tr>\n",
       "    <tr>\n",
       "      <th>1</th>\n",
       "      <td>1</td>\n",
       "      <td>The Restaurant at the End of the Universe (Hit...</td>\n",
       "      <td>it was amazing</td>\n",
       "      <td>5</td>\n",
       "      <td>the restaurant at the end of the universe hitc...</td>\n",
       "      <td>862825.0</td>\n",
       "    </tr>\n",
       "    <tr>\n",
       "      <th>2</th>\n",
       "      <td>1</td>\n",
       "      <td>Siddhartha</td>\n",
       "      <td>it was amazing</td>\n",
       "      <td>5</td>\n",
       "      <td>siddhartha</td>\n",
       "      <td>828548.0</td>\n",
       "    </tr>\n",
       "    <tr>\n",
       "      <th>3</th>\n",
       "      <td>1</td>\n",
       "      <td>The Clock of the Long Now: Time and Responsibi...</td>\n",
       "      <td>really liked it</td>\n",
       "      <td>4</td>\n",
       "      <td>the clock of the long now time and responsibility</td>\n",
       "      <td>1788479.0</td>\n",
       "    </tr>\n",
       "    <tr>\n",
       "      <th>4</th>\n",
       "      <td>1</td>\n",
       "      <td>Ready Player One (Ready Player One, #1)</td>\n",
       "      <td>really liked it</td>\n",
       "      <td>4</td>\n",
       "      <td>ready player one ready player one 1</td>\n",
       "      <td>NaN</td>\n",
       "    </tr>\n",
       "  </tbody>\n",
       "</table>\n",
       "</div>"
      ],
      "text/plain": [
       "   user_id                                               name  \\\n",
       "0        1  Agile Web Development with Rails: A Pragmatic ...   \n",
       "1        1  The Restaurant at the End of the Universe (Hit...   \n",
       "2        1                                         Siddhartha   \n",
       "3        1  The Clock of the Long Now: Time and Responsibi...   \n",
       "4        1            Ready Player One (Ready Player One, #1)   \n",
       "\n",
       "            rating  rating in numbers  \\\n",
       "0   it was amazing                  5   \n",
       "1   it was amazing                  5   \n",
       "2   it was amazing                  5   \n",
       "3  really liked it                  4   \n",
       "4  really liked it                  4   \n",
       "\n",
       "                                          clean_name    book_id  \n",
       "0  agile web development with rails a pragmatic g...       45.0  \n",
       "1  the restaurant at the end of the universe hitc...   862825.0  \n",
       "2                                         siddhartha   828548.0  \n",
       "3  the clock of the long now time and responsibility  1788479.0  \n",
       "4                ready player one ready player one 1        NaN  "
      ]
     },
     "execution_count": 40,
     "metadata": {},
     "output_type": "execute_result"
    }
   ],
   "source": [
    "df_users_copy.head(5)"
   ]
  },
  {
   "cell_type": "code",
   "execution_count": 41,
   "id": "510dfeda-70be-4139-a616-ef479986f91c",
   "metadata": {
    "tags": []
   },
   "outputs": [],
   "source": [
    "# storing it in a csv file\n",
    "unmatched_rows = df_users_copy[df_users_copy['book_id'].isna()]\n",
    "unmatched_rows.to_csv(\"unmatched_books.csv\", index=False)"
   ]
  },
  {
   "cell_type": "code",
   "execution_count": 42,
   "id": "f1b794f2-3af0-4131-9c12-618ab1b2fd16",
   "metadata": {
    "tags": []
   },
   "outputs": [],
   "source": [
    "# storing it in a csv file\n",
    "matched_rows = df_users_copy[df_users_copy['book_id'].notna()]\n",
    "matched_rows.to_csv(\"matched_books.csv\", index=False)"
   ]
  },
  {
   "cell_type": "code",
   "execution_count": 43,
   "id": "c9dc7d1d-4ef6-453d-b94f-504c38e601e5",
   "metadata": {
    "tags": []
   },
   "outputs": [
    {
     "name": "stdout",
     "output_type": "stream",
     "text": [
      "Total unique book IDs: 51336\n"
     ]
    }
   ],
   "source": [
    "unique_book_ids = df_users_copy['book_id'].nunique()\n",
    "print(f\"Total unique book IDs: {unique_book_ids}\")"
   ]
  },
  {
   "cell_type": "code",
   "execution_count": 44,
   "id": "e8253978-7c15-449e-971f-6857375abbb8",
   "metadata": {},
   "outputs": [
    {
     "data": {
      "text/plain": [
       "user_id              0\n",
       "name                 0\n",
       "rating               0\n",
       "rating in numbers    0\n",
       "clean_name           0\n",
       "book_id              0\n",
       "dtype: int64"
      ]
     },
     "execution_count": 44,
     "metadata": {},
     "output_type": "execute_result"
    }
   ],
   "source": [
    "missing_values = matched_rows.isna().sum()\n",
    "missing_values"
   ]
  },
  {
   "cell_type": "code",
   "execution_count": 45,
   "id": "bfaa5805-e40d-4cce-8fad-81bf5f3fc11b",
   "metadata": {},
   "outputs": [
    {
     "data": {
      "text/plain": [
       "book_id            0\n",
       "name               0\n",
       "ratingdist1        0\n",
       "pagesNumber        0\n",
       "ratingdist4        0\n",
       "ratingdisttotal    0\n",
       "publishmonth       0\n",
       "publishday         0\n",
       "publisher          0\n",
       "countsofreview     0\n",
       "publishyear        0\n",
       "language           0\n",
       "authors            0\n",
       "rating             0\n",
       "ratingdist2        0\n",
       "ratingdist5        0\n",
       "ratingdist3        0\n",
       "description        0\n",
       "clean_name         0\n",
       "dtype: int64"
      ]
     },
     "execution_count": 45,
     "metadata": {},
     "output_type": "execute_result"
    }
   ],
   "source": [
    "# Check for missing (NaN) values across all columns\n",
    "missing_values = df_books_copy.isna().sum()\n",
    "missing_values"
   ]
  },
  {
   "cell_type": "markdown",
   "id": "d8b31507-d824-4d2e-a936-636dc635cd2f",
   "metadata": {},
   "source": [
    "#### For unique book ids - which has 51k rows"
   ]
  },
  {
   "cell_type": "markdown",
   "id": "972c95cd-11ad-4581-8c0a-79ea0a81518d",
   "metadata": {},
   "source": [
    "##### In the code below we are filtering the books which has user ratings only. We are leaving out the books which doesn't have the user ratings. This also helps us to work with a smaller subset."
   ]
  },
  {
   "cell_type": "code",
   "execution_count": 48,
   "id": "c028e885-d239-477f-98ae-fa900115b00d",
   "metadata": {},
   "outputs": [],
   "source": [
    "# Extract unique book IDs from users_df\n",
    "unique_book_ids = matched_rows['book_id'].unique()\n",
    "\n",
    "# Filter book_df to keep only books that exist in users_df\n",
    "filtered_books_df = df_books_copy[df_books_copy['book_id'].isin(unique_book_ids)].copy()\n",
    "\n",
    "# Ensure only unique book entries remain\n",
    "filtered_books_df = filtered_books_df.drop_duplicates(subset=['book_id'])"
   ]
  },
  {
   "cell_type": "markdown",
   "id": "ea4c7a53-1fc9-4ceb-894d-a84c6e0ffb93",
   "metadata": {},
   "source": [
    "#### **Simple Recommender System**\n",
    "\n",
    "A **Simple Recommender System** suggests items based on their overall popularity and ratings rather than individual user preferences. This method is commonly used when **personalized user data is unavailable** and provides recommendations that are **the same for all users**. It ranks items using a **weighted rating formula**, ensuring that items with a high number of ratings are favored over those with fewer ratings.\n",
    "\n",
    "#### **Understanding the Weighted Rating Formula**\n",
    "\n",
    "To fairly rank items, the **Weighted Rating (WR)** is computed using the formula:\n",
    "\n",
    "\n",
    "Weighted Rating (WR) = ((v/v+m) * R) + ((m/v+m) * C)\n",
    "\n",
    "\n",
    "Where:\n",
    "- **\\( R \\)** = Average rating of the item.\n",
    "- **\\( v \\)** = Number of votes (ratings) received by the item.\n",
    "- **\\( m \\)** = Minimum votes required for an item to be considered (threshold).\n",
    "- **\\( C \\)** = Mean rating across all items.\n",
    "\n",
    "#### **Explanation of the Formula**\n",
    "- **If an item has many ratings**, its weighted rating is closer to its own average rating (\\( R \\)).\n",
    "- **If an item has few ratings**, it is weighted more toward the overall average rating (\\( C \\)), preventing unreliable rankings due to limited data.\n",
    "- **This ensures that an item with only a few high ratings doesn’t unfairly outrank items with a large number of good ratings**.\n",
    "\n",
    "#### **Why Use Weighted Rating?**\n",
    "- Prevents **bias** toward items with very few ratings.\n",
    "- Ensures recommendations are **more reliable** by giving more importance to well-rated items with substantial feedback.\n",
    "- Commonly used in platforms like **IMDb**, **Goodreads**, and other rating-based recommendation systems."
   ]
  },
  {
   "cell_type": "code",
   "execution_count": 50,
   "id": "2eeaac9c-8e08-498b-9ac8-e1d15fc3dd0e",
   "metadata": {},
   "outputs": [],
   "source": [
    "def compute_weighted_recommendations(books_df, quantile_threshold=0.90):\n",
    "    # Compute the mean rating across all books\n",
    "    mean_rating = books_df['rating'].mean()\n",
    "\n",
    "    # Determine the minimum number of reviews required for a book to be considered\n",
    "    min_no_of_reviews = books_df['countsofreview'].quantile(quantile_threshold)\n",
    "\n",
    "    # Filter books with at least `min_no_of_reviews` reviews\n",
    "    popular_books = books_df[books_df['countsofreview'] >= min_no_of_reviews].copy()\n",
    "\n",
    "    # Define the IMDB Weighted Rating function\n",
    "    def weighted_rating(x, m=min_no_of_reviews, C=mean_rating):\n",
    "        v = x['countsofreview']  # Number of reviews\n",
    "        R = x['rating']          # Average rating\n",
    "        return (v / (v + m) * R) + (m / (v + m) * C)\n",
    "\n",
    "    # Apply the weighted rating formula\n",
    "    popular_books['score'] = popular_books.apply(weighted_rating, axis=1)\n",
    "\n",
    "    # Sort books based on score\n",
    "    recommended_books = popular_books.sort_values('score', ascending=False)\n",
    "\n",
    "    return recommended_books"
   ]
  },
  {
   "cell_type": "code",
   "execution_count": 51,
   "id": "1539731a-7986-4066-878b-19e542189d5c",
   "metadata": {},
   "outputs": [],
   "source": [
    "def display_recommended_books(recommended_books, top_n=10, use_rich=True):\n",
    "    # Select relevant columns & handle missing values\n",
    "    top_books = recommended_books[['name', 'authors', 'rating', 'countsofreview', 'score']].copy()\n",
    "    top_books = top_books.fillna(\"N/A\")  # Replace NaN values\n",
    "\n",
    "    # Sort by score (highest first)\n",
    "    top_books = top_books.sort_values(by=\"score\", ascending=False).head(top_n)\n",
    "\n",
    "    # Convert numeric columns to formatted strings (2 decimal places)\n",
    "    top_books[\"rating\"] = top_books[\"rating\"].apply(lambda x: f\"{x:.2f}\" if isinstance(x, (int, float)) else x)\n",
    "    top_books[\"score\"] = top_books[\"score\"].apply(lambda x: f\"{x:.5f}\" if isinstance(x, (int, float)) else x)\n",
    "\n",
    "    # Convert DataFrame to list of lists\n",
    "    book_list = top_books.values.tolist()\n",
    "\n",
    "    # Define headers\n",
    "    headers = [\"📚 Book Title\", \"✍️ Author(s)\", \"⭐ Rating\", \"🗳️ Review Count\", \"🏆 Score\"]\n",
    "\n",
    "    # Use Rich for Beautiful Console Output\n",
    "    if use_rich:\n",
    "        console = Console()\n",
    "        table = Table(title=\"🎉📚 **Top Recommended Books** 📚🎉\", show_lines=True)\n",
    "\n",
    "        # Add headers with styling\n",
    "        table.add_column(\"📚 Book Title\", justify=\"left\", style=\"black\")\n",
    "        table.add_column(\"✍️ Author(s)\", justify=\"left\", style=\"black\")\n",
    "        table.add_column(\"⭐ Rating\", justify=\"center\", style=\"black\")\n",
    "        table.add_column(\"🗳️ Review Count\", justify=\"right\", style=\"black\")\n",
    "        table.add_column(\"🏆 Score\", justify=\"right\", style=\"black\")\n",
    "\n",
    "        # Add rows dynamically\n",
    "        for book in book_list:\n",
    "            table.add_row(book[0], book[1], book[2], str(book[3]), book[4])\n",
    "\n",
    "        console.print(table)\n",
    "\n",
    "    # Use Tabulate for Grid-Style Tables (No Color)\n",
    "    else:\n",
    "        table_str = tabulate(\n",
    "            book_list,\n",
    "            headers=headers,\n",
    "            tablefmt=\"fancy_grid\",\n",
    "            showindex=False\n",
    "        )\n",
    "        print(\"\\n🎉📚 **Top Recommended Books** 📚🎉\\n\")\n",
    "        print(table_str)"
   ]
  },
  {
   "cell_type": "code",
   "execution_count": 52,
   "id": "3168c468-122c-47a7-965b-e299703001d0",
   "metadata": {},
   "outputs": [],
   "source": [
    "recommended_books_wr = compute_weighted_recommendations(filtered_books_df)"
   ]
  },
  {
   "cell_type": "code",
   "execution_count": 53,
   "id": "26cc3598-2299-49c7-8074-d47e2f5b48c4",
   "metadata": {},
   "outputs": [
    {
     "data": {
      "text/html": [
       "<pre style=\"white-space:pre;overflow-x:auto;line-height:normal;font-family:Menlo,'DejaVu Sans Mono',consolas,'Courier New',monospace\"><span style=\"font-style: italic\">                                        🎉📚 **Top Recommended Books** 📚🎉                                        </span>\n",
       "┏━━━━━━━━━━━━━━━━━━━━━━━━━━━━━━━━━━━━━━━━━━━━━━━━━━━━┳━━━━━━━━━━━━━━━━━━━━┳━━━━━━━━━━━┳━━━━━━━━━━━━━━━━┳━━━━━━━━━━┓\n",
       "┃<span style=\"font-weight: bold\"> 📚 Book Title                                      </span>┃<span style=\"font-weight: bold\"> ✍️ Author(s)        </span>┃<span style=\"font-weight: bold\"> ⭐ Rating </span>┃<span style=\"font-weight: bold\"> 🗳️ Review Count </span>┃<span style=\"font-weight: bold\"> 🏆 Score </span>┃\n",
       "┡━━━━━━━━━━━━━━━━━━━━━━━━━━━━━━━━━━━━━━━━━━━━━━━━━━━━╇━━━━━━━━━━━━━━━━━━━━╇━━━━━━━━━━━╇━━━━━━━━━━━━━━━━╇━━━━━━━━━━┩\n",
       "│<span style=\"color: #000000; text-decoration-color: #000000\"> Harry Potter Series Box Set (Harry Potter, #1-7)   </span>│<span style=\"color: #000000; text-decoration-color: #000000\"> J.K. Rowling       </span>│<span style=\"color: #000000; text-decoration-color: #000000\">   4.74    </span>│<span style=\"color: #000000; text-decoration-color: #000000\">           6522 </span>│<span style=\"color: #000000; text-decoration-color: #000000\">  4.71786 </span>│\n",
       "├────────────────────────────────────────────────────┼────────────────────┼───────────┼────────────────┼──────────┤\n",
       "│<span style=\"color: #000000; text-decoration-color: #000000\"> The Complete Calvin and Hobbes                     </span>│<span style=\"color: #000000; text-decoration-color: #000000\"> Bill Watterson     </span>│<span style=\"color: #000000; text-decoration-color: #000000\">   4.82    </span>│<span style=\"color: #000000; text-decoration-color: #000000\">            940 </span>│<span style=\"color: #000000; text-decoration-color: #000000\">  4.67414 </span>│\n",
       "├────────────────────────────────────────────────────┼────────────────────┼───────────┼────────────────┼──────────┤\n",
       "│<span style=\"color: #000000; text-decoration-color: #000000\"> Mark of the Lion Trilogy                           </span>│<span style=\"color: #000000; text-decoration-color: #000000\"> Francine Rivers    </span>│<span style=\"color: #000000; text-decoration-color: #000000\">   4.77    </span>│<span style=\"color: #000000; text-decoration-color: #000000\">            757 </span>│<span style=\"color: #000000; text-decoration-color: #000000\">  4.60425 </span>│\n",
       "├────────────────────────────────────────────────────┼────────────────────┼───────────┼────────────────┼──────────┤\n",
       "│<span style=\"color: #000000; text-decoration-color: #000000\"> Harry Potter Collection (Harry Potter, #1-6)       </span>│<span style=\"color: #000000; text-decoration-color: #000000\"> J.K. Rowling       </span>│<span style=\"color: #000000; text-decoration-color: #000000\">   4.73    </span>│<span style=\"color: #000000; text-decoration-color: #000000\">            809 </span>│<span style=\"color: #000000; text-decoration-color: #000000\">  4.57991 </span>│\n",
       "├────────────────────────────────────────────────────┼────────────────────┼───────────┼────────────────┼──────────┤\n",
       "│<span style=\"color: #000000; text-decoration-color: #000000\"> The Jesus Storybook Bible: Every Story Whispers    </span>│<span style=\"color: #000000; text-decoration-color: #000000\"> Sally Lloyd-Jones  </span>│<span style=\"color: #000000; text-decoration-color: #000000\">   4.75    </span>│<span style=\"color: #000000; text-decoration-color: #000000\">            620 </span>│<span style=\"color: #000000; text-decoration-color: #000000\">  4.55961 </span>│\n",
       "│<span style=\"color: #000000; text-decoration-color: #000000\"> His Name                                           </span>│<span style=\"color: #000000; text-decoration-color: #000000\">                    </span>│<span style=\"color: #000000; text-decoration-color: #000000\">           </span>│<span style=\"color: #000000; text-decoration-color: #000000\">                </span>│<span style=\"color: #000000; text-decoration-color: #000000\">          </span>│\n",
       "├────────────────────────────────────────────────────┼────────────────────┼───────────┼────────────────┼──────────┤\n",
       "│<span style=\"color: #000000; text-decoration-color: #000000\"> Acheron (Dark-Hunter #14)                          </span>│<span style=\"color: #000000; text-decoration-color: #000000\"> Sherrilyn Kenyon   </span>│<span style=\"color: #000000; text-decoration-color: #000000\">   4.58    </span>│<span style=\"color: #000000; text-decoration-color: #000000\">           3196 </span>│<span style=\"color: #000000; text-decoration-color: #000000\">  4.54389 </span>│\n",
       "├────────────────────────────────────────────────────┼────────────────────┼───────────┼────────────────┼──────────┤\n",
       "│<span style=\"color: #000000; text-decoration-color: #000000\"> The Complete Maus                                  </span>│<span style=\"color: #000000; text-decoration-color: #000000\"> Art Spiegelman     </span>│<span style=\"color: #000000; text-decoration-color: #000000\">   4.55    </span>│<span style=\"color: #000000; text-decoration-color: #000000\">           6147 </span>│<span style=\"color: #000000; text-decoration-color: #000000\">  4.53156 </span>│\n",
       "├────────────────────────────────────────────────────┼────────────────────┼───────────┼────────────────┼──────────┤\n",
       "│<span style=\"color: #000000; text-decoration-color: #000000\"> J.R.R. Tolkien 4-Book Boxed Set: The Hobbit and    </span>│<span style=\"color: #000000; text-decoration-color: #000000\"> J.R.R. Tolkien     </span>│<span style=\"color: #000000; text-decoration-color: #000000\">   4.60    </span>│<span style=\"color: #000000; text-decoration-color: #000000\">           1548 </span>│<span style=\"color: #000000; text-decoration-color: #000000\">  4.52723 </span>│\n",
       "│<span style=\"color: #000000; text-decoration-color: #000000\"> The Lord of the Rings                              </span>│<span style=\"color: #000000; text-decoration-color: #000000\">                    </span>│<span style=\"color: #000000; text-decoration-color: #000000\">           </span>│<span style=\"color: #000000; text-decoration-color: #000000\">                </span>│<span style=\"color: #000000; text-decoration-color: #000000\">          </span>│\n",
       "├────────────────────────────────────────────────────┼────────────────────┼───────────┼────────────────┼──────────┤\n",
       "│<span style=\"color: #000000; text-decoration-color: #000000\"> The Last Olympian (Percy Jackson and the           </span>│<span style=\"color: #000000; text-decoration-color: #000000\"> Rick Riordan       </span>│<span style=\"color: #000000; text-decoration-color: #000000\">   4.50    </span>│<span style=\"color: #000000; text-decoration-color: #000000\">          12170 </span>│<span style=\"color: #000000; text-decoration-color: #000000\">  4.49124 </span>│\n",
       "│<span style=\"color: #000000; text-decoration-color: #000000\"> Olympians, #5)                                     </span>│<span style=\"color: #000000; text-decoration-color: #000000\">                    </span>│<span style=\"color: #000000; text-decoration-color: #000000\">           </span>│<span style=\"color: #000000; text-decoration-color: #000000\">                </span>│<span style=\"color: #000000; text-decoration-color: #000000\">          </span>│\n",
       "├────────────────────────────────────────────────────┼────────────────────┼───────────┼────────────────┼──────────┤\n",
       "│<span style=\"color: #000000; text-decoration-color: #000000\"> A Storm of Swords: Blood and Gold (A Song of Ice   </span>│<span style=\"color: #000000; text-decoration-color: #000000\"> George R.R. Martin </span>│<span style=\"color: #000000; text-decoration-color: #000000\">   4.55    </span>│<span style=\"color: #000000; text-decoration-color: #000000\">           1561 </span>│<span style=\"color: #000000; text-decoration-color: #000000\">  4.48260 </span>│\n",
       "│<span style=\"color: #000000; text-decoration-color: #000000\"> and Fire, #3: Part 2 of 2)                         </span>│<span style=\"color: #000000; text-decoration-color: #000000\">                    </span>│<span style=\"color: #000000; text-decoration-color: #000000\">           </span>│<span style=\"color: #000000; text-decoration-color: #000000\">                </span>│<span style=\"color: #000000; text-decoration-color: #000000\">          </span>│\n",
       "└────────────────────────────────────────────────────┴────────────────────┴───────────┴────────────────┴──────────┘\n",
       "</pre>\n"
      ],
      "text/plain": [
       "\u001b[3m                                        🎉📚 **Top Recommended Books** 📚🎉                                        \u001b[0m\n",
       "┏━━━━━━━━━━━━━━━━━━━━━━━━━━━━━━━━━━━━━━━━━━━━━━━━━━━━┳━━━━━━━━━━━━━━━━━━━━┳━━━━━━━━━━━┳━━━━━━━━━━━━━━━━┳━━━━━━━━━━┓\n",
       "┃\u001b[1m \u001b[0m\u001b[1m📚 Book Title                                     \u001b[0m\u001b[1m \u001b[0m┃\u001b[1m \u001b[0m\u001b[1m✍️ Author(s)       \u001b[0m\u001b[1m \u001b[0m┃\u001b[1m \u001b[0m\u001b[1m⭐ Rating\u001b[0m\u001b[1m \u001b[0m┃\u001b[1m \u001b[0m\u001b[1m🗳️ Review Count\u001b[0m\u001b[1m \u001b[0m┃\u001b[1m \u001b[0m\u001b[1m🏆 Score\u001b[0m\u001b[1m \u001b[0m┃\n",
       "┡━━━━━━━━━━━━━━━━━━━━━━━━━━━━━━━━━━━━━━━━━━━━━━━━━━━━╇━━━━━━━━━━━━━━━━━━━━╇━━━━━━━━━━━╇━━━━━━━━━━━━━━━━╇━━━━━━━━━━┩\n",
       "│\u001b[30m \u001b[0m\u001b[30mHarry Potter Series Box Set (Harry Potter, #1-7)  \u001b[0m\u001b[30m \u001b[0m│\u001b[30m \u001b[0m\u001b[30mJ.K. Rowling      \u001b[0m\u001b[30m \u001b[0m│\u001b[30m \u001b[0m\u001b[30m  4.74   \u001b[0m\u001b[30m \u001b[0m│\u001b[30m \u001b[0m\u001b[30m          6522\u001b[0m\u001b[30m \u001b[0m│\u001b[30m \u001b[0m\u001b[30m 4.71786\u001b[0m\u001b[30m \u001b[0m│\n",
       "├────────────────────────────────────────────────────┼────────────────────┼───────────┼────────────────┼──────────┤\n",
       "│\u001b[30m \u001b[0m\u001b[30mThe Complete Calvin and Hobbes                    \u001b[0m\u001b[30m \u001b[0m│\u001b[30m \u001b[0m\u001b[30mBill Watterson    \u001b[0m\u001b[30m \u001b[0m│\u001b[30m \u001b[0m\u001b[30m  4.82   \u001b[0m\u001b[30m \u001b[0m│\u001b[30m \u001b[0m\u001b[30m           940\u001b[0m\u001b[30m \u001b[0m│\u001b[30m \u001b[0m\u001b[30m 4.67414\u001b[0m\u001b[30m \u001b[0m│\n",
       "├────────────────────────────────────────────────────┼────────────────────┼───────────┼────────────────┼──────────┤\n",
       "│\u001b[30m \u001b[0m\u001b[30mMark of the Lion Trilogy                          \u001b[0m\u001b[30m \u001b[0m│\u001b[30m \u001b[0m\u001b[30mFrancine Rivers   \u001b[0m\u001b[30m \u001b[0m│\u001b[30m \u001b[0m\u001b[30m  4.77   \u001b[0m\u001b[30m \u001b[0m│\u001b[30m \u001b[0m\u001b[30m           757\u001b[0m\u001b[30m \u001b[0m│\u001b[30m \u001b[0m\u001b[30m 4.60425\u001b[0m\u001b[30m \u001b[0m│\n",
       "├────────────────────────────────────────────────────┼────────────────────┼───────────┼────────────────┼──────────┤\n",
       "│\u001b[30m \u001b[0m\u001b[30mHarry Potter Collection (Harry Potter, #1-6)      \u001b[0m\u001b[30m \u001b[0m│\u001b[30m \u001b[0m\u001b[30mJ.K. Rowling      \u001b[0m\u001b[30m \u001b[0m│\u001b[30m \u001b[0m\u001b[30m  4.73   \u001b[0m\u001b[30m \u001b[0m│\u001b[30m \u001b[0m\u001b[30m           809\u001b[0m\u001b[30m \u001b[0m│\u001b[30m \u001b[0m\u001b[30m 4.57991\u001b[0m\u001b[30m \u001b[0m│\n",
       "├────────────────────────────────────────────────────┼────────────────────┼───────────┼────────────────┼──────────┤\n",
       "│\u001b[30m \u001b[0m\u001b[30mThe Jesus Storybook Bible: Every Story Whispers   \u001b[0m\u001b[30m \u001b[0m│\u001b[30m \u001b[0m\u001b[30mSally Lloyd-Jones \u001b[0m\u001b[30m \u001b[0m│\u001b[30m \u001b[0m\u001b[30m  4.75   \u001b[0m\u001b[30m \u001b[0m│\u001b[30m \u001b[0m\u001b[30m           620\u001b[0m\u001b[30m \u001b[0m│\u001b[30m \u001b[0m\u001b[30m 4.55961\u001b[0m\u001b[30m \u001b[0m│\n",
       "│\u001b[30m \u001b[0m\u001b[30mHis Name                                          \u001b[0m\u001b[30m \u001b[0m│\u001b[30m                    \u001b[0m│\u001b[30m           \u001b[0m│\u001b[30m                \u001b[0m│\u001b[30m          \u001b[0m│\n",
       "├────────────────────────────────────────────────────┼────────────────────┼───────────┼────────────────┼──────────┤\n",
       "│\u001b[30m \u001b[0m\u001b[30mAcheron (Dark-Hunter #14)                         \u001b[0m\u001b[30m \u001b[0m│\u001b[30m \u001b[0m\u001b[30mSherrilyn Kenyon  \u001b[0m\u001b[30m \u001b[0m│\u001b[30m \u001b[0m\u001b[30m  4.58   \u001b[0m\u001b[30m \u001b[0m│\u001b[30m \u001b[0m\u001b[30m          3196\u001b[0m\u001b[30m \u001b[0m│\u001b[30m \u001b[0m\u001b[30m 4.54389\u001b[0m\u001b[30m \u001b[0m│\n",
       "├────────────────────────────────────────────────────┼────────────────────┼───────────┼────────────────┼──────────┤\n",
       "│\u001b[30m \u001b[0m\u001b[30mThe Complete Maus                                 \u001b[0m\u001b[30m \u001b[0m│\u001b[30m \u001b[0m\u001b[30mArt Spiegelman    \u001b[0m\u001b[30m \u001b[0m│\u001b[30m \u001b[0m\u001b[30m  4.55   \u001b[0m\u001b[30m \u001b[0m│\u001b[30m \u001b[0m\u001b[30m          6147\u001b[0m\u001b[30m \u001b[0m│\u001b[30m \u001b[0m\u001b[30m 4.53156\u001b[0m\u001b[30m \u001b[0m│\n",
       "├────────────────────────────────────────────────────┼────────────────────┼───────────┼────────────────┼──────────┤\n",
       "│\u001b[30m \u001b[0m\u001b[30mJ.R.R. Tolkien 4-Book Boxed Set: The Hobbit and   \u001b[0m\u001b[30m \u001b[0m│\u001b[30m \u001b[0m\u001b[30mJ.R.R. Tolkien    \u001b[0m\u001b[30m \u001b[0m│\u001b[30m \u001b[0m\u001b[30m  4.60   \u001b[0m\u001b[30m \u001b[0m│\u001b[30m \u001b[0m\u001b[30m          1548\u001b[0m\u001b[30m \u001b[0m│\u001b[30m \u001b[0m\u001b[30m 4.52723\u001b[0m\u001b[30m \u001b[0m│\n",
       "│\u001b[30m \u001b[0m\u001b[30mThe Lord of the Rings                             \u001b[0m\u001b[30m \u001b[0m│\u001b[30m                    \u001b[0m│\u001b[30m           \u001b[0m│\u001b[30m                \u001b[0m│\u001b[30m          \u001b[0m│\n",
       "├────────────────────────────────────────────────────┼────────────────────┼───────────┼────────────────┼──────────┤\n",
       "│\u001b[30m \u001b[0m\u001b[30mThe Last Olympian (Percy Jackson and the          \u001b[0m\u001b[30m \u001b[0m│\u001b[30m \u001b[0m\u001b[30mRick Riordan      \u001b[0m\u001b[30m \u001b[0m│\u001b[30m \u001b[0m\u001b[30m  4.50   \u001b[0m\u001b[30m \u001b[0m│\u001b[30m \u001b[0m\u001b[30m         12170\u001b[0m\u001b[30m \u001b[0m│\u001b[30m \u001b[0m\u001b[30m 4.49124\u001b[0m\u001b[30m \u001b[0m│\n",
       "│\u001b[30m \u001b[0m\u001b[30mOlympians, #5)                                    \u001b[0m\u001b[30m \u001b[0m│\u001b[30m                    \u001b[0m│\u001b[30m           \u001b[0m│\u001b[30m                \u001b[0m│\u001b[30m          \u001b[0m│\n",
       "├────────────────────────────────────────────────────┼────────────────────┼───────────┼────────────────┼──────────┤\n",
       "│\u001b[30m \u001b[0m\u001b[30mA Storm of Swords: Blood and Gold (A Song of Ice  \u001b[0m\u001b[30m \u001b[0m│\u001b[30m \u001b[0m\u001b[30mGeorge R.R. Martin\u001b[0m\u001b[30m \u001b[0m│\u001b[30m \u001b[0m\u001b[30m  4.55   \u001b[0m\u001b[30m \u001b[0m│\u001b[30m \u001b[0m\u001b[30m          1561\u001b[0m\u001b[30m \u001b[0m│\u001b[30m \u001b[0m\u001b[30m 4.48260\u001b[0m\u001b[30m \u001b[0m│\n",
       "│\u001b[30m \u001b[0m\u001b[30mand Fire, #3: Part 2 of 2)                        \u001b[0m\u001b[30m \u001b[0m│\u001b[30m                    \u001b[0m│\u001b[30m           \u001b[0m│\u001b[30m                \u001b[0m│\u001b[30m          \u001b[0m│\n",
       "└────────────────────────────────────────────────────┴────────────────────┴───────────┴────────────────┴──────────┘\n"
      ]
     },
     "metadata": {},
     "output_type": "display_data"
    }
   ],
   "source": [
    "display_recommended_books(recommended_books_wr, use_rich=True, top_n=10)  # Show Top 10 Books"
   ]
  },
  {
   "cell_type": "markdown",
   "id": "ba82c3dc-06be-4902-9a1c-3c2ad13ff210",
   "metadata": {},
   "source": [
    "#### For the entire books data frame - which has more than 1 million rows"
   ]
  },
  {
   "cell_type": "code",
   "execution_count": 55,
   "id": "f65cb56a-e748-4f9c-9041-3f5abe94db03",
   "metadata": {},
   "outputs": [],
   "source": [
    "recommended_books_whole_wr = compute_weighted_recommendations(df_books_copy)"
   ]
  },
  {
   "cell_type": "code",
   "execution_count": 56,
   "id": "4b6a2055-a5a8-438f-9bfd-6ca8efb54ba3",
   "metadata": {},
   "outputs": [
    {
     "data": {
      "text/html": [
       "<pre style=\"white-space:pre;overflow-x:auto;line-height:normal;font-family:Menlo,'DejaVu Sans Mono',consolas,'Courier New',monospace\"><span style=\"font-style: italic\">                                        🎉📚 **Top Recommended Books** 📚🎉                                        </span>\n",
       "┏━━━━━━━━━━━━━━━━━━━━━━━━━━━━━━━━━━━━━━━━━━━━━━━━━━━━━┳━━━━━━━━━━━━━━━━━━━┳━━━━━━━━━━━┳━━━━━━━━━━━━━━━━┳━━━━━━━━━━┓\n",
       "┃<span style=\"font-weight: bold\"> 📚 Book Title                                       </span>┃<span style=\"font-weight: bold\"> ✍️ Author(s)       </span>┃<span style=\"font-weight: bold\"> ⭐ Rating </span>┃<span style=\"font-weight: bold\"> 🗳️ Review Count </span>┃<span style=\"font-weight: bold\"> 🏆 Score </span>┃\n",
       "┡━━━━━━━━━━━━━━━━━━━━━━━━━━━━━━━━━━━━━━━━━━━━━━━━━━━━━╇━━━━━━━━━━━━━━━━━━━╇━━━━━━━━━━━╇━━━━━━━━━━━━━━━━╇━━━━━━━━━━┩\n",
       "│<span style=\"color: #000000; text-decoration-color: #000000\"> The Complete Calvin and Hobbes                      </span>│<span style=\"color: #000000; text-decoration-color: #000000\"> Bill Watterson    </span>│<span style=\"color: #000000; text-decoration-color: #000000\">   4.82    </span>│<span style=\"color: #000000; text-decoration-color: #000000\">            940 </span>│<span style=\"color: #000000; text-decoration-color: #000000\">  4.80375 </span>│\n",
       "├─────────────────────────────────────────────────────┼───────────────────┼───────────┼────────────────┼──────────┤\n",
       "│<span style=\"color: #000000; text-decoration-color: #000000\"> Mark of the Lion Trilogy                            </span>│<span style=\"color: #000000; text-decoration-color: #000000\"> Francine Rivers   </span>│<span style=\"color: #000000; text-decoration-color: #000000\">   4.77    </span>│<span style=\"color: #000000; text-decoration-color: #000000\">            757 </span>│<span style=\"color: #000000; text-decoration-color: #000000\">  4.75038 </span>│\n",
       "├─────────────────────────────────────────────────────┼───────────────────┼───────────┼────────────────┼──────────┤\n",
       "│<span style=\"color: #000000; text-decoration-color: #000000\"> Harry Potter Series Box Set (Harry Potter, #1-7)    </span>│<span style=\"color: #000000; text-decoration-color: #000000\"> J.K. Rowling      </span>│<span style=\"color: #000000; text-decoration-color: #000000\">   4.74    </span>│<span style=\"color: #000000; text-decoration-color: #000000\">           6522 </span>│<span style=\"color: #000000; text-decoration-color: #000000\">  4.73774 </span>│\n",
       "├─────────────────────────────────────────────────────┼───────────────────┼───────────┼────────────────┼──────────┤\n",
       "│<span style=\"color: #000000; text-decoration-color: #000000\"> The Jesus Storybook Bible: Every Story Whispers His </span>│<span style=\"color: #000000; text-decoration-color: #000000\"> Sally Lloyd-Jones </span>│<span style=\"color: #000000; text-decoration-color: #000000\">   4.75    </span>│<span style=\"color: #000000; text-decoration-color: #000000\">            620 </span>│<span style=\"color: #000000; text-decoration-color: #000000\">  4.72636 </span>│\n",
       "│<span style=\"color: #000000; text-decoration-color: #000000\"> Name                                                </span>│<span style=\"color: #000000; text-decoration-color: #000000\">                   </span>│<span style=\"color: #000000; text-decoration-color: #000000\">           </span>│<span style=\"color: #000000; text-decoration-color: #000000\">                </span>│<span style=\"color: #000000; text-decoration-color: #000000\">          </span>│\n",
       "├─────────────────────────────────────────────────────┼───────────────────┼───────────┼────────────────┼──────────┤\n",
       "│<span style=\"color: #000000; text-decoration-color: #000000\"> It's a Magical World (Calvin and Hobbes, #11)       </span>│<span style=\"color: #000000; text-decoration-color: #000000\"> Bill Watterson    </span>│<span style=\"color: #000000; text-decoration-color: #000000\">   4.76    </span>│<span style=\"color: #000000; text-decoration-color: #000000\">            304 </span>│<span style=\"color: #000000; text-decoration-color: #000000\">  4.71216 </span>│\n",
       "├─────────────────────────────────────────────────────┼───────────────────┼───────────┼────────────────┼──────────┤\n",
       "│<span style=\"color: #000000; text-decoration-color: #000000\"> Harry Potter Collection (Harry Potter, #1-6)        </span>│<span style=\"color: #000000; text-decoration-color: #000000\"> J.K. Rowling      </span>│<span style=\"color: #000000; text-decoration-color: #000000\">   4.73    </span>│<span style=\"color: #000000; text-decoration-color: #000000\">            809 </span>│<span style=\"color: #000000; text-decoration-color: #000000\">  4.71202 </span>│\n",
       "├─────────────────────────────────────────────────────┼───────────────────┼───────────┼────────────────┼──────────┤\n",
       "│<span style=\"color: #000000; text-decoration-color: #000000\"> The Authoritative Calvin and Hobbes: A Calvin and   </span>│<span style=\"color: #000000; text-decoration-color: #000000\"> Bill Watterson    </span>│<span style=\"color: #000000; text-decoration-color: #000000\">   4.74    </span>│<span style=\"color: #000000; text-decoration-color: #000000\">            413 </span>│<span style=\"color: #000000; text-decoration-color: #000000\">  4.70492 </span>│\n",
       "│<span style=\"color: #000000; text-decoration-color: #000000\"> Hobbes Treasury                                     </span>│<span style=\"color: #000000; text-decoration-color: #000000\">                   </span>│<span style=\"color: #000000; text-decoration-color: #000000\">           </span>│<span style=\"color: #000000; text-decoration-color: #000000\">                </span>│<span style=\"color: #000000; text-decoration-color: #000000\">          </span>│\n",
       "├─────────────────────────────────────────────────────┼───────────────────┼───────────┼────────────────┼──────────┤\n",
       "│<span style=\"color: #000000; text-decoration-color: #000000\"> Harry Potter Boxed Set, Books 1-5 (Harry Potter,    </span>│<span style=\"color: #000000; text-decoration-color: #000000\"> J.K. Rowling      </span>│<span style=\"color: #000000; text-decoration-color: #000000\">   4.78    </span>│<span style=\"color: #000000; text-decoration-color: #000000\">            166 </span>│<span style=\"color: #000000; text-decoration-color: #000000\">  4.69329 </span>│\n",
       "│<span style=\"color: #000000; text-decoration-color: #000000\"> #1-5)                                               </span>│<span style=\"color: #000000; text-decoration-color: #000000\">                   </span>│<span style=\"color: #000000; text-decoration-color: #000000\">           </span>│<span style=\"color: #000000; text-decoration-color: #000000\">                </span>│<span style=\"color: #000000; text-decoration-color: #000000\">          </span>│\n",
       "├─────────────────────────────────────────────────────┼───────────────────┼───────────┼────────────────┼──────────┤\n",
       "│<span style=\"color: #000000; text-decoration-color: #000000\"> Toda Mafalda                                        </span>│<span style=\"color: #000000; text-decoration-color: #000000\"> Quino             </span>│<span style=\"color: #000000; text-decoration-color: #000000\">   4.76    </span>│<span style=\"color: #000000; text-decoration-color: #000000\">            195 </span>│<span style=\"color: #000000; text-decoration-color: #000000\">  4.68647 </span>│\n",
       "├─────────────────────────────────────────────────────┼───────────────────┼───────────┼────────────────┼──────────┤\n",
       "│<span style=\"color: #000000; text-decoration-color: #000000\"> Homicidal Psycho Jungle Cat (Calvin and Hobbes #9)  </span>│<span style=\"color: #000000; text-decoration-color: #000000\"> Bill Watterson    </span>│<span style=\"color: #000000; text-decoration-color: #000000\">   4.72    </span>│<span style=\"color: #000000; text-decoration-color: #000000\">            292 </span>│<span style=\"color: #000000; text-decoration-color: #000000\">  4.67131 </span>│\n",
       "└─────────────────────────────────────────────────────┴───────────────────┴───────────┴────────────────┴──────────┘\n",
       "</pre>\n"
      ],
      "text/plain": [
       "\u001b[3m                                        🎉📚 **Top Recommended Books** 📚🎉                                        \u001b[0m\n",
       "┏━━━━━━━━━━━━━━━━━━━━━━━━━━━━━━━━━━━━━━━━━━━━━━━━━━━━━┳━━━━━━━━━━━━━━━━━━━┳━━━━━━━━━━━┳━━━━━━━━━━━━━━━━┳━━━━━━━━━━┓\n",
       "┃\u001b[1m \u001b[0m\u001b[1m📚 Book Title                                      \u001b[0m\u001b[1m \u001b[0m┃\u001b[1m \u001b[0m\u001b[1m✍️ Author(s)      \u001b[0m\u001b[1m \u001b[0m┃\u001b[1m \u001b[0m\u001b[1m⭐ Rating\u001b[0m\u001b[1m \u001b[0m┃\u001b[1m \u001b[0m\u001b[1m🗳️ Review Count\u001b[0m\u001b[1m \u001b[0m┃\u001b[1m \u001b[0m\u001b[1m🏆 Score\u001b[0m\u001b[1m \u001b[0m┃\n",
       "┡━━━━━━━━━━━━━━━━━━━━━━━━━━━━━━━━━━━━━━━━━━━━━━━━━━━━━╇━━━━━━━━━━━━━━━━━━━╇━━━━━━━━━━━╇━━━━━━━━━━━━━━━━╇━━━━━━━━━━┩\n",
       "│\u001b[30m \u001b[0m\u001b[30mThe Complete Calvin and Hobbes                     \u001b[0m\u001b[30m \u001b[0m│\u001b[30m \u001b[0m\u001b[30mBill Watterson   \u001b[0m\u001b[30m \u001b[0m│\u001b[30m \u001b[0m\u001b[30m  4.82   \u001b[0m\u001b[30m \u001b[0m│\u001b[30m \u001b[0m\u001b[30m           940\u001b[0m\u001b[30m \u001b[0m│\u001b[30m \u001b[0m\u001b[30m 4.80375\u001b[0m\u001b[30m \u001b[0m│\n",
       "├─────────────────────────────────────────────────────┼───────────────────┼───────────┼────────────────┼──────────┤\n",
       "│\u001b[30m \u001b[0m\u001b[30mMark of the Lion Trilogy                           \u001b[0m\u001b[30m \u001b[0m│\u001b[30m \u001b[0m\u001b[30mFrancine Rivers  \u001b[0m\u001b[30m \u001b[0m│\u001b[30m \u001b[0m\u001b[30m  4.77   \u001b[0m\u001b[30m \u001b[0m│\u001b[30m \u001b[0m\u001b[30m           757\u001b[0m\u001b[30m \u001b[0m│\u001b[30m \u001b[0m\u001b[30m 4.75038\u001b[0m\u001b[30m \u001b[0m│\n",
       "├─────────────────────────────────────────────────────┼───────────────────┼───────────┼────────────────┼──────────┤\n",
       "│\u001b[30m \u001b[0m\u001b[30mHarry Potter Series Box Set (Harry Potter, #1-7)   \u001b[0m\u001b[30m \u001b[0m│\u001b[30m \u001b[0m\u001b[30mJ.K. Rowling     \u001b[0m\u001b[30m \u001b[0m│\u001b[30m \u001b[0m\u001b[30m  4.74   \u001b[0m\u001b[30m \u001b[0m│\u001b[30m \u001b[0m\u001b[30m          6522\u001b[0m\u001b[30m \u001b[0m│\u001b[30m \u001b[0m\u001b[30m 4.73774\u001b[0m\u001b[30m \u001b[0m│\n",
       "├─────────────────────────────────────────────────────┼───────────────────┼───────────┼────────────────┼──────────┤\n",
       "│\u001b[30m \u001b[0m\u001b[30mThe Jesus Storybook Bible: Every Story Whispers His\u001b[0m\u001b[30m \u001b[0m│\u001b[30m \u001b[0m\u001b[30mSally Lloyd-Jones\u001b[0m\u001b[30m \u001b[0m│\u001b[30m \u001b[0m\u001b[30m  4.75   \u001b[0m\u001b[30m \u001b[0m│\u001b[30m \u001b[0m\u001b[30m           620\u001b[0m\u001b[30m \u001b[0m│\u001b[30m \u001b[0m\u001b[30m 4.72636\u001b[0m\u001b[30m \u001b[0m│\n",
       "│\u001b[30m \u001b[0m\u001b[30mName                                               \u001b[0m\u001b[30m \u001b[0m│\u001b[30m                   \u001b[0m│\u001b[30m           \u001b[0m│\u001b[30m                \u001b[0m│\u001b[30m          \u001b[0m│\n",
       "├─────────────────────────────────────────────────────┼───────────────────┼───────────┼────────────────┼──────────┤\n",
       "│\u001b[30m \u001b[0m\u001b[30mIt's a Magical World (Calvin and Hobbes, #11)      \u001b[0m\u001b[30m \u001b[0m│\u001b[30m \u001b[0m\u001b[30mBill Watterson   \u001b[0m\u001b[30m \u001b[0m│\u001b[30m \u001b[0m\u001b[30m  4.76   \u001b[0m\u001b[30m \u001b[0m│\u001b[30m \u001b[0m\u001b[30m           304\u001b[0m\u001b[30m \u001b[0m│\u001b[30m \u001b[0m\u001b[30m 4.71216\u001b[0m\u001b[30m \u001b[0m│\n",
       "├─────────────────────────────────────────────────────┼───────────────────┼───────────┼────────────────┼──────────┤\n",
       "│\u001b[30m \u001b[0m\u001b[30mHarry Potter Collection (Harry Potter, #1-6)       \u001b[0m\u001b[30m \u001b[0m│\u001b[30m \u001b[0m\u001b[30mJ.K. Rowling     \u001b[0m\u001b[30m \u001b[0m│\u001b[30m \u001b[0m\u001b[30m  4.73   \u001b[0m\u001b[30m \u001b[0m│\u001b[30m \u001b[0m\u001b[30m           809\u001b[0m\u001b[30m \u001b[0m│\u001b[30m \u001b[0m\u001b[30m 4.71202\u001b[0m\u001b[30m \u001b[0m│\n",
       "├─────────────────────────────────────────────────────┼───────────────────┼───────────┼────────────────┼──────────┤\n",
       "│\u001b[30m \u001b[0m\u001b[30mThe Authoritative Calvin and Hobbes: A Calvin and  \u001b[0m\u001b[30m \u001b[0m│\u001b[30m \u001b[0m\u001b[30mBill Watterson   \u001b[0m\u001b[30m \u001b[0m│\u001b[30m \u001b[0m\u001b[30m  4.74   \u001b[0m\u001b[30m \u001b[0m│\u001b[30m \u001b[0m\u001b[30m           413\u001b[0m\u001b[30m \u001b[0m│\u001b[30m \u001b[0m\u001b[30m 4.70492\u001b[0m\u001b[30m \u001b[0m│\n",
       "│\u001b[30m \u001b[0m\u001b[30mHobbes Treasury                                    \u001b[0m\u001b[30m \u001b[0m│\u001b[30m                   \u001b[0m│\u001b[30m           \u001b[0m│\u001b[30m                \u001b[0m│\u001b[30m          \u001b[0m│\n",
       "├─────────────────────────────────────────────────────┼───────────────────┼───────────┼────────────────┼──────────┤\n",
       "│\u001b[30m \u001b[0m\u001b[30mHarry Potter Boxed Set, Books 1-5 (Harry Potter,   \u001b[0m\u001b[30m \u001b[0m│\u001b[30m \u001b[0m\u001b[30mJ.K. Rowling     \u001b[0m\u001b[30m \u001b[0m│\u001b[30m \u001b[0m\u001b[30m  4.78   \u001b[0m\u001b[30m \u001b[0m│\u001b[30m \u001b[0m\u001b[30m           166\u001b[0m\u001b[30m \u001b[0m│\u001b[30m \u001b[0m\u001b[30m 4.69329\u001b[0m\u001b[30m \u001b[0m│\n",
       "│\u001b[30m \u001b[0m\u001b[30m#1-5)                                              \u001b[0m\u001b[30m \u001b[0m│\u001b[30m                   \u001b[0m│\u001b[30m           \u001b[0m│\u001b[30m                \u001b[0m│\u001b[30m          \u001b[0m│\n",
       "├─────────────────────────────────────────────────────┼───────────────────┼───────────┼────────────────┼──────────┤\n",
       "│\u001b[30m \u001b[0m\u001b[30mToda Mafalda                                       \u001b[0m\u001b[30m \u001b[0m│\u001b[30m \u001b[0m\u001b[30mQuino            \u001b[0m\u001b[30m \u001b[0m│\u001b[30m \u001b[0m\u001b[30m  4.76   \u001b[0m\u001b[30m \u001b[0m│\u001b[30m \u001b[0m\u001b[30m           195\u001b[0m\u001b[30m \u001b[0m│\u001b[30m \u001b[0m\u001b[30m 4.68647\u001b[0m\u001b[30m \u001b[0m│\n",
       "├─────────────────────────────────────────────────────┼───────────────────┼───────────┼────────────────┼──────────┤\n",
       "│\u001b[30m \u001b[0m\u001b[30mHomicidal Psycho Jungle Cat (Calvin and Hobbes #9) \u001b[0m\u001b[30m \u001b[0m│\u001b[30m \u001b[0m\u001b[30mBill Watterson   \u001b[0m\u001b[30m \u001b[0m│\u001b[30m \u001b[0m\u001b[30m  4.72   \u001b[0m\u001b[30m \u001b[0m│\u001b[30m \u001b[0m\u001b[30m           292\u001b[0m\u001b[30m \u001b[0m│\u001b[30m \u001b[0m\u001b[30m 4.67131\u001b[0m\u001b[30m \u001b[0m│\n",
       "└─────────────────────────────────────────────────────┴───────────────────┴───────────┴────────────────┴──────────┘\n"
      ]
     },
     "metadata": {},
     "output_type": "display_data"
    }
   ],
   "source": [
    "display_recommended_books(recommended_books_whole_wr, use_rich=True, top_n=10)  # Show Top 10 Books"
   ]
  },
  {
   "cell_type": "markdown",
   "id": "cd4a75e7-c5eb-4b96-b717-cf6f8b4f1c5f",
   "metadata": {},
   "source": [
    "#### Content Based Recommender"
   ]
  },
  {
   "cell_type": "code",
   "execution_count": 58,
   "id": "09751b49-f4a7-4633-8986-305f57a21e76",
   "metadata": {},
   "outputs": [],
   "source": [
    "def content_recommender(df_book, n_neighbors=10):\n",
    "    \n",
    "    # Convert descriptions into TF-IDF Vectors\n",
    "    tfidf = TfidfVectorizer(stop_words='english', max_features=5000)  # Limiting to 5000 features for efficiency\n",
    "    tfidf_matrix = tfidf.fit_transform(df_book['description'])\n",
    "\n",
    "    # Nearest Neighbors Model (Efficient for Large Datasets)\n",
    "    nn_model = NearestNeighbors(metric='cosine', algorithm='brute', n_neighbors=n_neighbors + 1, n_jobs=-1)\n",
    "    nn_model.fit(tfidf_matrix)\n",
    "\n",
    "    # Create a Reverse Mapping (Book Title to Index)\n",
    "    df_book = df_book.reset_index(drop=True)  # Ensure indices match the dataset\n",
    "    indices = pd.Series(df_book.index, index=df_book['name']).drop_duplicates()\n",
    "\n",
    "    #  Recommendation Function\n",
    "    def get_recommendations(title, df=df_book, model=nn_model, tfidf_matrix=tfidf_matrix, n=n_neighbors):\n",
    "        \n",
    "        # Check if the title exists, else find the closest match\n",
    "        if title not in indices:\n",
    "            book_titles = df['name'].tolist()\n",
    "            matched_title = get_close_matches(title, book_titles, n=1, cutoff=0.6)\n",
    "            if matched_title:\n",
    "                title = matched_title[0]\n",
    "            else:\n",
    "                print(\"No close matches found. Please check the title and try again.\")\n",
    "                return None\n",
    "\n",
    "        #  Get the index of the book that matches the title\n",
    "        idx = indices[title]\n",
    "\n",
    "        # Find the most similar books\n",
    "        distances, indices_nn = model.kneighbors(tfidf_matrix[idx], n_neighbors=n + 1)\n",
    "\n",
    "        # Extract book indices (excluding the first one, which is the input book itself)\n",
    "        book_indices = indices_nn[0][1:]\n",
    "\n",
    "        # Return the top recommended books\n",
    "        return df[['book_id', 'name', 'authors', 'publisher']].iloc[book_indices]\n",
    "\n",
    "    return get_recommendations"
   ]
  },
  {
   "cell_type": "code",
   "execution_count": 59,
   "id": "c9acbbbe-66bd-43ef-89aa-721fab0cb57d",
   "metadata": {},
   "outputs": [],
   "source": [
    "def display_recommendations_in_table(recommended_books, use_rich=True):\n",
    "\n",
    "    headers = [\"📖 Book ID\", \"📚 Book Title\", \"✍️ Author(s)\", \"🏢 Publisher\"]\n",
    "\n",
    "    # Convert DataFrame to list of lists\n",
    "    book_list = recommended_books.values.tolist()\n",
    "\n",
    "    # Use Rich for Beautiful Console Output\n",
    "    if use_rich:\n",
    "        console = Console()\n",
    "        table = Table(title=\"🎉📚 **Top Recommended Books** 📚🎉\", show_lines=True)\n",
    "\n",
    "        # Add headers\n",
    "        table.add_column(\"📖 Book ID\", justify=\"center\", style=\"black\", no_wrap=True)\n",
    "        table.add_column(\"📚 Book Title\", justify=\"left\", style=\"black\")\n",
    "        table.add_column(\"✍️ Author(s)\", justify=\"left\", style=\"black\")\n",
    "        table.add_column(\"🏢 Publisher\", justify=\"left\", style=\"black\")\n",
    "\n",
    "        # Add rows\n",
    "        for book in book_list:\n",
    "            table.add_row(str(book[0]), book[1], book[2], book[3])\n",
    "\n",
    "        console.print(table)\n",
    "\n",
    "    # Use Tabulate for Grid-Style Tables (No Color)\n",
    "    else:\n",
    "        table_str = tabulate(\n",
    "            book_list,\n",
    "            headers=headers,\n",
    "            tablefmt=\"fancy_grid\",\n",
    "            showindex=False\n",
    "        )\n",
    "        print(\"\\n🎉📚 **Top Recommended Books** 📚🎉\\n\")\n",
    "        print(table_str)"
   ]
  },
  {
   "cell_type": "code",
   "execution_count": 60,
   "id": "ba75b97e-69a9-4ef6-a408-f38f5ebcc949",
   "metadata": {},
   "outputs": [
    {
     "data": {
      "text/html": [
       "<pre style=\"white-space:pre;overflow-x:auto;line-height:normal;font-family:Menlo,'DejaVu Sans Mono',consolas,'Courier New',monospace\"><span style=\"font-style: italic\">                                        🎉📚 **Top Recommended Books** 📚🎉                                        </span>\n",
       "┏━━━━━━━━━━━━┳━━━━━━━━━━━━━━━━━━━━━━━━━━━━━━━━━━━━━━━━━━━━━━━━━━━━━━┳━━━━━━━━━━━━━━━━━━━━┳━━━━━━━━━━━━━━━━━━━━━━━━┓\n",
       "┃<span style=\"font-weight: bold\"> 📖 Book ID </span>┃<span style=\"font-weight: bold\"> 📚 Book Title                                        </span>┃<span style=\"font-weight: bold\"> ✍️ Author(s)        </span>┃<span style=\"font-weight: bold\"> 🏢 Publisher           </span>┃\n",
       "┡━━━━━━━━━━━━╇━━━━━━━━━━━━━━━━━━━━━━━━━━━━━━━━━━━━━━━━━━━━━━━━━━━━━━╇━━━━━━━━━━━━━━━━━━━━╇━━━━━━━━━━━━━━━━━━━━━━━━┩\n",
       "│<span style=\"color: #000000; text-decoration-color: #000000\">  3130430   </span>│<span style=\"color: #000000; text-decoration-color: #000000\"> Harry, a History: The True Story of a Boy Wizard,    </span>│<span style=\"color: #000000; text-decoration-color: #000000\"> Melissa Anelli     </span>│<span style=\"color: #000000; text-decoration-color: #000000\"> Gallery Books          </span>│\n",
       "│<span style=\"color: #000000; text-decoration-color: #000000\">            </span>│<span style=\"color: #000000; text-decoration-color: #000000\"> His Fans, and Life Inside the Harry Potter           </span>│<span style=\"color: #000000; text-decoration-color: #000000\">                    </span>│<span style=\"color: #000000; text-decoration-color: #000000\">                        </span>│\n",
       "│<span style=\"color: #000000; text-decoration-color: #000000\">            </span>│<span style=\"color: #000000; text-decoration-color: #000000\"> Phenomenon                                           </span>│<span style=\"color: #000000; text-decoration-color: #000000\">                    </span>│<span style=\"color: #000000; text-decoration-color: #000000\">                        </span>│\n",
       "├────────────┼──────────────────────────────────────────────────────┼────────────────────┼────────────────────────┤\n",
       "│<span style=\"color: #000000; text-decoration-color: #000000\">   848654   </span>│<span style=\"color: #000000; text-decoration-color: #000000\"> Harry Potter and the Philosopher's Stone (Harry      </span>│<span style=\"color: #000000; text-decoration-color: #000000\"> J.K. Rowling       </span>│<span style=\"color: #000000; text-decoration-color: #000000\"> Bloomsbury Publishing  </span>│\n",
       "│<span style=\"color: #000000; text-decoration-color: #000000\">            </span>│<span style=\"color: #000000; text-decoration-color: #000000\"> Potter, #1)                                          </span>│<span style=\"color: #000000; text-decoration-color: #000000\">                    </span>│<span style=\"color: #000000; text-decoration-color: #000000\">                        </span>│\n",
       "├────────────┼──────────────────────────────────────────────────────┼────────────────────┼────────────────────────┤\n",
       "│<span style=\"color: #000000; text-decoration-color: #000000\">  3584379   </span>│<span style=\"color: #000000; text-decoration-color: #000000\"> Harry Potter und der Orden des Phönix (Harry Potter, </span>│<span style=\"color: #000000; text-decoration-color: #000000\"> J.K. Rowling       </span>│<span style=\"color: #000000; text-decoration-color: #000000\"> Carlsen Verlag GmbH    </span>│\n",
       "│<span style=\"color: #000000; text-decoration-color: #000000\">            </span>│<span style=\"color: #000000; text-decoration-color: #000000\"> #5)                                                  </span>│<span style=\"color: #000000; text-decoration-color: #000000\">                    </span>│<span style=\"color: #000000; text-decoration-color: #000000\">                        </span>│\n",
       "├────────────┼──────────────────────────────────────────────────────┼────────────────────┼────────────────────────┤\n",
       "│<span style=\"color: #000000; text-decoration-color: #000000\">   943346   </span>│<span style=\"color: #000000; text-decoration-color: #000000\"> Harry Potter and the Chamber of Secrets (Harry       </span>│<span style=\"color: #000000; text-decoration-color: #000000\"> J.K. Rowling       </span>│<span style=\"color: #000000; text-decoration-color: #000000\"> National Braille Press </span>│\n",
       "│<span style=\"color: #000000; text-decoration-color: #000000\">            </span>│<span style=\"color: #000000; text-decoration-color: #000000\"> Potter, #2)                                          </span>│<span style=\"color: #000000; text-decoration-color: #000000\">                    </span>│<span style=\"color: #000000; text-decoration-color: #000000\">                        </span>│\n",
       "├────────────┼──────────────────────────────────────────────────────┼────────────────────┼────────────────────────┤\n",
       "│<span style=\"color: #000000; text-decoration-color: #000000\">   885497   </span>│<span style=\"color: #000000; text-decoration-color: #000000\"> The Tale of Squirrel Nutkin                          </span>│<span style=\"color: #000000; text-decoration-color: #000000\"> Beatrix Potter     </span>│<span style=\"color: #000000; text-decoration-color: #000000\"> Warne                  </span>│\n",
       "├────────────┼──────────────────────────────────────────────────────┼────────────────────┼────────────────────────┤\n",
       "│<span style=\"color: #000000; text-decoration-color: #000000\">  2814194   </span>│<span style=\"color: #000000; text-decoration-color: #000000\"> The Sorcerer's Companion: A Guide to the Magical     </span>│<span style=\"color: #000000; text-decoration-color: #000000\"> Allan Zola Kronzek </span>│<span style=\"color: #000000; text-decoration-color: #000000\"> Turtleback Books       </span>│\n",
       "│<span style=\"color: #000000; text-decoration-color: #000000\">            </span>│<span style=\"color: #000000; text-decoration-color: #000000\"> World of Harry Potter                                </span>│<span style=\"color: #000000; text-decoration-color: #000000\">                    </span>│<span style=\"color: #000000; text-decoration-color: #000000\">                        </span>│\n",
       "├────────────┼──────────────────────────────────────────────────────┼────────────────────┼────────────────────────┤\n",
       "│<span style=\"color: #000000; text-decoration-color: #000000\">   861388   </span>│<span style=\"color: #000000; text-decoration-color: #000000\"> Harry Potter and the Order of the Phoenix            </span>│<span style=\"color: #000000; text-decoration-color: #000000\"> J.K. Rowling       </span>│<span style=\"color: #000000; text-decoration-color: #000000\"> Bloomsbury             </span>│\n",
       "├────────────┼──────────────────────────────────────────────────────┼────────────────────┼────────────────────────┤\n",
       "│<span style=\"color: #000000; text-decoration-color: #000000\">   818067   </span>│<span style=\"color: #000000; text-decoration-color: #000000\"> Harry Potter and the Order of the Phoenix (Harry     </span>│<span style=\"color: #000000; text-decoration-color: #000000\"> J.K. Rowling       </span>│<span style=\"color: #000000; text-decoration-color: #000000\"> Raincoast Books        </span>│\n",
       "│<span style=\"color: #000000; text-decoration-color: #000000\">            </span>│<span style=\"color: #000000; text-decoration-color: #000000\"> Potter, #5)                                          </span>│<span style=\"color: #000000; text-decoration-color: #000000\">                    </span>│<span style=\"color: #000000; text-decoration-color: #000000\">                        </span>│\n",
       "├────────────┼──────────────────────────────────────────────────────┼────────────────────┼────────────────────────┤\n",
       "│<span style=\"color: #000000; text-decoration-color: #000000\">  1054666   </span>│<span style=\"color: #000000; text-decoration-color: #000000\"> The 27-Ingredient Chili Con Carne Murders (Eugenia   </span>│<span style=\"color: #000000; text-decoration-color: #000000\"> Nancy Pickard      </span>│<span style=\"color: #000000; text-decoration-color: #000000\"> Dell                   </span>│\n",
       "│<span style=\"color: #000000; text-decoration-color: #000000\">            </span>│<span style=\"color: #000000; text-decoration-color: #000000\"> Potter, #4)                                          </span>│<span style=\"color: #000000; text-decoration-color: #000000\">                    </span>│<span style=\"color: #000000; text-decoration-color: #000000\">                        </span>│\n",
       "├────────────┼──────────────────────────────────────────────────────┼────────────────────┼────────────────────────┤\n",
       "│<span style=\"color: #000000; text-decoration-color: #000000\">   912224   </span>│<span style=\"color: #000000; text-decoration-color: #000000\"> Harry Potter and the Deathly Hallows (Harry Potter,  </span>│<span style=\"color: #000000; text-decoration-color: #000000\"> J.K. Rowling       </span>│<span style=\"color: #000000; text-decoration-color: #000000\"> Arthur A. Levine Books </span>│\n",
       "│<span style=\"color: #000000; text-decoration-color: #000000\">            </span>│<span style=\"color: #000000; text-decoration-color: #000000\"> #7)                                                  </span>│<span style=\"color: #000000; text-decoration-color: #000000\">                    </span>│<span style=\"color: #000000; text-decoration-color: #000000\">                        </span>│\n",
       "└────────────┴──────────────────────────────────────────────────────┴────────────────────┴────────────────────────┘\n",
       "</pre>\n"
      ],
      "text/plain": [
       "\u001b[3m                                        🎉📚 **Top Recommended Books** 📚🎉                                        \u001b[0m\n",
       "┏━━━━━━━━━━━━┳━━━━━━━━━━━━━━━━━━━━━━━━━━━━━━━━━━━━━━━━━━━━━━━━━━━━━━┳━━━━━━━━━━━━━━━━━━━━┳━━━━━━━━━━━━━━━━━━━━━━━━┓\n",
       "┃\u001b[1m \u001b[0m\u001b[1m📖 Book ID\u001b[0m\u001b[1m \u001b[0m┃\u001b[1m \u001b[0m\u001b[1m📚 Book Title                                       \u001b[0m\u001b[1m \u001b[0m┃\u001b[1m \u001b[0m\u001b[1m✍️ Author(s)       \u001b[0m\u001b[1m \u001b[0m┃\u001b[1m \u001b[0m\u001b[1m🏢 Publisher          \u001b[0m\u001b[1m \u001b[0m┃\n",
       "┡━━━━━━━━━━━━╇━━━━━━━━━━━━━━━━━━━━━━━━━━━━━━━━━━━━━━━━━━━━━━━━━━━━━━╇━━━━━━━━━━━━━━━━━━━━╇━━━━━━━━━━━━━━━━━━━━━━━━┩\n",
       "│\u001b[30m \u001b[0m\u001b[30m 3130430  \u001b[0m\u001b[30m \u001b[0m│\u001b[30m \u001b[0m\u001b[30mHarry, a History: The True Story of a Boy Wizard,   \u001b[0m\u001b[30m \u001b[0m│\u001b[30m \u001b[0m\u001b[30mMelissa Anelli    \u001b[0m\u001b[30m \u001b[0m│\u001b[30m \u001b[0m\u001b[30mGallery Books         \u001b[0m\u001b[30m \u001b[0m│\n",
       "│\u001b[30m            \u001b[0m│\u001b[30m \u001b[0m\u001b[30mHis Fans, and Life Inside the Harry Potter          \u001b[0m\u001b[30m \u001b[0m│\u001b[30m                    \u001b[0m│\u001b[30m                        \u001b[0m│\n",
       "│\u001b[30m            \u001b[0m│\u001b[30m \u001b[0m\u001b[30mPhenomenon                                          \u001b[0m\u001b[30m \u001b[0m│\u001b[30m                    \u001b[0m│\u001b[30m                        \u001b[0m│\n",
       "├────────────┼──────────────────────────────────────────────────────┼────────────────────┼────────────────────────┤\n",
       "│\u001b[30m \u001b[0m\u001b[30m  848654  \u001b[0m\u001b[30m \u001b[0m│\u001b[30m \u001b[0m\u001b[30mHarry Potter and the Philosopher's Stone (Harry     \u001b[0m\u001b[30m \u001b[0m│\u001b[30m \u001b[0m\u001b[30mJ.K. Rowling      \u001b[0m\u001b[30m \u001b[0m│\u001b[30m \u001b[0m\u001b[30mBloomsbury Publishing \u001b[0m\u001b[30m \u001b[0m│\n",
       "│\u001b[30m            \u001b[0m│\u001b[30m \u001b[0m\u001b[30mPotter, #1)                                         \u001b[0m\u001b[30m \u001b[0m│\u001b[30m                    \u001b[0m│\u001b[30m                        \u001b[0m│\n",
       "├────────────┼──────────────────────────────────────────────────────┼────────────────────┼────────────────────────┤\n",
       "│\u001b[30m \u001b[0m\u001b[30m 3584379  \u001b[0m\u001b[30m \u001b[0m│\u001b[30m \u001b[0m\u001b[30mHarry Potter und der Orden des Phönix (Harry Potter,\u001b[0m\u001b[30m \u001b[0m│\u001b[30m \u001b[0m\u001b[30mJ.K. Rowling      \u001b[0m\u001b[30m \u001b[0m│\u001b[30m \u001b[0m\u001b[30mCarlsen Verlag GmbH   \u001b[0m\u001b[30m \u001b[0m│\n",
       "│\u001b[30m            \u001b[0m│\u001b[30m \u001b[0m\u001b[30m#5)                                                 \u001b[0m\u001b[30m \u001b[0m│\u001b[30m                    \u001b[0m│\u001b[30m                        \u001b[0m│\n",
       "├────────────┼──────────────────────────────────────────────────────┼────────────────────┼────────────────────────┤\n",
       "│\u001b[30m \u001b[0m\u001b[30m  943346  \u001b[0m\u001b[30m \u001b[0m│\u001b[30m \u001b[0m\u001b[30mHarry Potter and the Chamber of Secrets (Harry      \u001b[0m\u001b[30m \u001b[0m│\u001b[30m \u001b[0m\u001b[30mJ.K. Rowling      \u001b[0m\u001b[30m \u001b[0m│\u001b[30m \u001b[0m\u001b[30mNational Braille Press\u001b[0m\u001b[30m \u001b[0m│\n",
       "│\u001b[30m            \u001b[0m│\u001b[30m \u001b[0m\u001b[30mPotter, #2)                                         \u001b[0m\u001b[30m \u001b[0m│\u001b[30m                    \u001b[0m│\u001b[30m                        \u001b[0m│\n",
       "├────────────┼──────────────────────────────────────────────────────┼────────────────────┼────────────────────────┤\n",
       "│\u001b[30m \u001b[0m\u001b[30m  885497  \u001b[0m\u001b[30m \u001b[0m│\u001b[30m \u001b[0m\u001b[30mThe Tale of Squirrel Nutkin                         \u001b[0m\u001b[30m \u001b[0m│\u001b[30m \u001b[0m\u001b[30mBeatrix Potter    \u001b[0m\u001b[30m \u001b[0m│\u001b[30m \u001b[0m\u001b[30mWarne                 \u001b[0m\u001b[30m \u001b[0m│\n",
       "├────────────┼──────────────────────────────────────────────────────┼────────────────────┼────────────────────────┤\n",
       "│\u001b[30m \u001b[0m\u001b[30m 2814194  \u001b[0m\u001b[30m \u001b[0m│\u001b[30m \u001b[0m\u001b[30mThe Sorcerer's Companion: A Guide to the Magical    \u001b[0m\u001b[30m \u001b[0m│\u001b[30m \u001b[0m\u001b[30mAllan Zola Kronzek\u001b[0m\u001b[30m \u001b[0m│\u001b[30m \u001b[0m\u001b[30mTurtleback Books      \u001b[0m\u001b[30m \u001b[0m│\n",
       "│\u001b[30m            \u001b[0m│\u001b[30m \u001b[0m\u001b[30mWorld of Harry Potter                               \u001b[0m\u001b[30m \u001b[0m│\u001b[30m                    \u001b[0m│\u001b[30m                        \u001b[0m│\n",
       "├────────────┼──────────────────────────────────────────────────────┼────────────────────┼────────────────────────┤\n",
       "│\u001b[30m \u001b[0m\u001b[30m  861388  \u001b[0m\u001b[30m \u001b[0m│\u001b[30m \u001b[0m\u001b[30mHarry Potter and the Order of the Phoenix           \u001b[0m\u001b[30m \u001b[0m│\u001b[30m \u001b[0m\u001b[30mJ.K. Rowling      \u001b[0m\u001b[30m \u001b[0m│\u001b[30m \u001b[0m\u001b[30mBloomsbury            \u001b[0m\u001b[30m \u001b[0m│\n",
       "├────────────┼──────────────────────────────────────────────────────┼────────────────────┼────────────────────────┤\n",
       "│\u001b[30m \u001b[0m\u001b[30m  818067  \u001b[0m\u001b[30m \u001b[0m│\u001b[30m \u001b[0m\u001b[30mHarry Potter and the Order of the Phoenix (Harry    \u001b[0m\u001b[30m \u001b[0m│\u001b[30m \u001b[0m\u001b[30mJ.K. Rowling      \u001b[0m\u001b[30m \u001b[0m│\u001b[30m \u001b[0m\u001b[30mRaincoast Books       \u001b[0m\u001b[30m \u001b[0m│\n",
       "│\u001b[30m            \u001b[0m│\u001b[30m \u001b[0m\u001b[30mPotter, #5)                                         \u001b[0m\u001b[30m \u001b[0m│\u001b[30m                    \u001b[0m│\u001b[30m                        \u001b[0m│\n",
       "├────────────┼──────────────────────────────────────────────────────┼────────────────────┼────────────────────────┤\n",
       "│\u001b[30m \u001b[0m\u001b[30m 1054666  \u001b[0m\u001b[30m \u001b[0m│\u001b[30m \u001b[0m\u001b[30mThe 27-Ingredient Chili Con Carne Murders (Eugenia  \u001b[0m\u001b[30m \u001b[0m│\u001b[30m \u001b[0m\u001b[30mNancy Pickard     \u001b[0m\u001b[30m \u001b[0m│\u001b[30m \u001b[0m\u001b[30mDell                  \u001b[0m\u001b[30m \u001b[0m│\n",
       "│\u001b[30m            \u001b[0m│\u001b[30m \u001b[0m\u001b[30mPotter, #4)                                         \u001b[0m\u001b[30m \u001b[0m│\u001b[30m                    \u001b[0m│\u001b[30m                        \u001b[0m│\n",
       "├────────────┼──────────────────────────────────────────────────────┼────────────────────┼────────────────────────┤\n",
       "│\u001b[30m \u001b[0m\u001b[30m  912224  \u001b[0m\u001b[30m \u001b[0m│\u001b[30m \u001b[0m\u001b[30mHarry Potter and the Deathly Hallows (Harry Potter, \u001b[0m\u001b[30m \u001b[0m│\u001b[30m \u001b[0m\u001b[30mJ.K. Rowling      \u001b[0m\u001b[30m \u001b[0m│\u001b[30m \u001b[0m\u001b[30mArthur A. Levine Books\u001b[0m\u001b[30m \u001b[0m│\n",
       "│\u001b[30m            \u001b[0m│\u001b[30m \u001b[0m\u001b[30m#7)                                                 \u001b[0m\u001b[30m \u001b[0m│\u001b[30m                    \u001b[0m│\u001b[30m                        \u001b[0m│\n",
       "└────────────┴──────────────────────────────────────────────────────┴────────────────────┴────────────────────────┘\n"
      ]
     },
     "metadata": {},
     "output_type": "display_data"
    }
   ],
   "source": [
    "content_recommender = content_recommender(filtered_books_df)\n",
    "recommended_books_cr = content_recommender('Harry Potter Series Box Set (Harry Potter, #1-7)')\n",
    "display_recommendations_in_table(recommended_books_cr, use_rich=True)"
   ]
  },
  {
   "cell_type": "code",
   "execution_count": 61,
   "id": "19a59164-ca39-40d1-a11a-64afc598e8fe",
   "metadata": {},
   "outputs": [],
   "source": [
    "def metadata_recommender(df_book, feature_columns, n_neighbors=10):\n",
    "    # Combine all metadata features into a single column\n",
    "    df_book['metadata'] = df_book[feature_columns].astype(str).apply(lambda x: ' '.join(x), axis=1)\n",
    "\n",
    "    #Convert metadata into TF-IDF vectors\n",
    "    tfidf = TfidfVectorizer(stop_words='english', max_features=5000)  # Limits memory usage\n",
    "    tfidf_matrix = tfidf.fit_transform(df_book['metadata'])\n",
    "\n",
    "    # Use Nearest Neighbors for Efficient Similarity Search\n",
    "    nn_model = NearestNeighbors(metric='cosine', algorithm='brute', n_neighbors=n_neighbors + 1, n_jobs=-1)\n",
    "    nn_model.fit(tfidf_matrix)\n",
    "\n",
    "    # Create a Reverse Mapping (Book Title to Index)\n",
    "    df_book = df_book.reset_index(drop=True)  # Ensure indices are aligned\n",
    "    indices = pd.Series(df_book.index, index=df_book['name']).drop_duplicates()\n",
    "\n",
    "    # Metadata-Based Recommendation Function\n",
    "    def get_recommendations(title, df=df_book, model=nn_model, tfidf_matrix=tfidf_matrix, n=n_neighbors):\n",
    "        # Ensure title exists, else find closest match\n",
    "        if title not in indices:\n",
    "            matched_title = get_close_matches(title, df['name'].tolist(), n=1, cutoff=0.6)\n",
    "            if matched_title:\n",
    "                title = matched_title[0]\n",
    "            else:\n",
    "                print(\"No close matches found. Please check the title and try again.\")\n",
    "                return None\n",
    "\n",
    "        # Get index of the book\n",
    "        idx = indices[title]\n",
    "\n",
    "        # Find similar books using Nearest Neighbors\n",
    "        distances, indices_nn = model.kneighbors(tfidf_matrix[idx], n_neighbors=n + 1)\n",
    "\n",
    "        # Extract book indices (excluding the input book itself)\n",
    "        book_indices = indices_nn[0][1:]\n",
    "\n",
    "        # Return the top recommended books\n",
    "        return df[['book_id', 'name', 'authors', 'publisher']].iloc[book_indices]\n",
    "\n",
    "    return get_recommendations"
   ]
  },
  {
   "cell_type": "code",
   "execution_count": 62,
   "id": "cb3a4175-0e54-4e7d-981c-a7ed419b50ea",
   "metadata": {},
   "outputs": [
    {
     "data": {
      "text/html": [
       "<pre style=\"white-space:pre;overflow-x:auto;line-height:normal;font-family:Menlo,'DejaVu Sans Mono',consolas,'Courier New',monospace\"><span style=\"font-style: italic\">                                        🎉📚 **Top Recommended Books** 📚🎉                                        </span>\n",
       "┏━━━━━━━━━━━━┳━━━━━━━━━━━━━━━━━━━━━━━━━━━━━━━━━━━━━━━━━━━━━━━━━━━━━━┳━━━━━━━━━━━━━━┳━━━━━━━━━━━━━━━━━━━━━━━━━━━━━━┓\n",
       "┃<span style=\"font-weight: bold\"> 📖 Book ID </span>┃<span style=\"font-weight: bold\"> 📚 Book Title                                        </span>┃<span style=\"font-weight: bold\"> ✍️ Author(s)  </span>┃<span style=\"font-weight: bold\"> 🏢 Publisher                 </span>┃\n",
       "┡━━━━━━━━━━━━╇━━━━━━━━━━━━━━━━━━━━━━━━━━━━━━━━━━━━━━━━━━━━━━━━━━━━━━╇━━━━━━━━━━━━━━╇━━━━━━━━━━━━━━━━━━━━━━━━━━━━━━┩\n",
       "│<span style=\"color: #000000; text-decoration-color: #000000\">   912224   </span>│<span style=\"color: #000000; text-decoration-color: #000000\"> Harry Potter and the Deathly Hallows (Harry Potter,  </span>│<span style=\"color: #000000; text-decoration-color: #000000\"> J.K. Rowling </span>│<span style=\"color: #000000; text-decoration-color: #000000\"> Arthur A. Levine Books       </span>│\n",
       "│<span style=\"color: #000000; text-decoration-color: #000000\">            </span>│<span style=\"color: #000000; text-decoration-color: #000000\"> #7)                                                  </span>│<span style=\"color: #000000; text-decoration-color: #000000\">              </span>│<span style=\"color: #000000; text-decoration-color: #000000\">                              </span>│\n",
       "├────────────┼──────────────────────────────────────────────────────┼──────────────┼──────────────────────────────┤\n",
       "│<span style=\"color: #000000; text-decoration-color: #000000\">   862710   </span>│<span style=\"color: #000000; text-decoration-color: #000000\"> Harry Potter and the Goblet of Fire (Harry Potter,   </span>│<span style=\"color: #000000; text-decoration-color: #000000\"> J.K. Rowling </span>│<span style=\"color: #000000; text-decoration-color: #000000\"> Raincoast Books              </span>│\n",
       "│<span style=\"color: #000000; text-decoration-color: #000000\">            </span>│<span style=\"color: #000000; text-decoration-color: #000000\"> #4)                                                  </span>│<span style=\"color: #000000; text-decoration-color: #000000\">              </span>│<span style=\"color: #000000; text-decoration-color: #000000\">                              </span>│\n",
       "├────────────┼──────────────────────────────────────────────────────┼──────────────┼──────────────────────────────┤\n",
       "│<span style=\"color: #000000; text-decoration-color: #000000\">    2002    </span>│<span style=\"color: #000000; text-decoration-color: #000000\"> Harry Potter Schoolbooks Box Set: Two Classic Books  </span>│<span style=\"color: #000000; text-decoration-color: #000000\"> J.K. Rowling </span>│<span style=\"color: #000000; text-decoration-color: #000000\"> Arthur A. Levine             </span>│\n",
       "│<span style=\"color: #000000; text-decoration-color: #000000\">            </span>│<span style=\"color: #000000; text-decoration-color: #000000\"> from the Library of Hogwarts School of Witchcraft    </span>│<span style=\"color: #000000; text-decoration-color: #000000\">              </span>│<span style=\"color: #000000; text-decoration-color: #000000\">                              </span>│\n",
       "│<span style=\"color: #000000; text-decoration-color: #000000\">            </span>│<span style=\"color: #000000; text-decoration-color: #000000\"> and Wizardry                                         </span>│<span style=\"color: #000000; text-decoration-color: #000000\">              </span>│<span style=\"color: #000000; text-decoration-color: #000000\">                              </span>│\n",
       "├────────────┼──────────────────────────────────────────────────────┼──────────────┼──────────────────────────────┤\n",
       "│<span style=\"color: #000000; text-decoration-color: #000000\">  3484606   </span>│<span style=\"color: #000000; text-decoration-color: #000000\"> Harry Potter e a Pedra Filosofal (Harry Potter, #1)  </span>│<span style=\"color: #000000; text-decoration-color: #000000\"> J.K. Rowling </span>│<span style=\"color: #000000; text-decoration-color: #000000\"> Editorial Presença           </span>│\n",
       "├────────────┼──────────────────────────────────────────────────────┼──────────────┼──────────────────────────────┤\n",
       "│<span style=\"color: #000000; text-decoration-color: #000000\">   142294   </span>│<span style=\"color: #000000; text-decoration-color: #000000\"> Harry Potter Y El Prisionero De Azkaban (Harry       </span>│<span style=\"color: #000000; text-decoration-color: #000000\"> J.K. Rowling </span>│<span style=\"color: #000000; text-decoration-color: #000000\"> Turtleback Books             </span>│\n",
       "│<span style=\"color: #000000; text-decoration-color: #000000\">            </span>│<span style=\"color: #000000; text-decoration-color: #000000\"> Potter, #3)                                          </span>│<span style=\"color: #000000; text-decoration-color: #000000\">              </span>│<span style=\"color: #000000; text-decoration-color: #000000\">                              </span>│\n",
       "├────────────┼──────────────────────────────────────────────────────┼──────────────┼──────────────────────────────┤\n",
       "│<span style=\"color: #000000; text-decoration-color: #000000\">   49871    </span>│<span style=\"color: #000000; text-decoration-color: #000000\"> Harry Potter aur Azkaban ka Qaidi (Harry Potter, #3) </span>│<span style=\"color: #000000; text-decoration-color: #000000\"> J.K. Rowling </span>│<span style=\"color: #000000; text-decoration-color: #000000\"> Oxford University Press, USA </span>│\n",
       "├────────────┼──────────────────────────────────────────────────────┼──────────────┼──────────────────────────────┤\n",
       "│<span style=\"color: #000000; text-decoration-color: #000000\">   299222   </span>│<span style=\"color: #000000; text-decoration-color: #000000\"> Harry Potter y la Orden del Fénix (Harry Potter, #5) </span>│<span style=\"color: #000000; text-decoration-color: #000000\"> J.K. Rowling </span>│<span style=\"color: #000000; text-decoration-color: #000000\"> Lectorum Publications        </span>│\n",
       "├────────────┼──────────────────────────────────────────────────────┼──────────────┼──────────────────────────────┤\n",
       "│<span style=\"color: #000000; text-decoration-color: #000000\">   818067   </span>│<span style=\"color: #000000; text-decoration-color: #000000\"> Harry Potter and the Order of the Phoenix (Harry     </span>│<span style=\"color: #000000; text-decoration-color: #000000\"> J.K. Rowling </span>│<span style=\"color: #000000; text-decoration-color: #000000\"> Raincoast Books              </span>│\n",
       "│<span style=\"color: #000000; text-decoration-color: #000000\">            </span>│<span style=\"color: #000000; text-decoration-color: #000000\"> Potter, #5)                                          </span>│<span style=\"color: #000000; text-decoration-color: #000000\">              </span>│<span style=\"color: #000000; text-decoration-color: #000000\">                              </span>│\n",
       "├────────────┼──────────────────────────────────────────────────────┼──────────────┼──────────────────────────────┤\n",
       "│<span style=\"color: #000000; text-decoration-color: #000000\">   840699   </span>│<span style=\"color: #000000; text-decoration-color: #000000\"> Harry Potter and the Half-Blood Prince (Harry        </span>│<span style=\"color: #000000; text-decoration-color: #000000\"> J.K. Rowling </span>│<span style=\"color: #000000; text-decoration-color: #000000\"> Bloomsbury Publishing        </span>│\n",
       "│<span style=\"color: #000000; text-decoration-color: #000000\">            </span>│<span style=\"color: #000000; text-decoration-color: #000000\"> Potter, #6)                                          </span>│<span style=\"color: #000000; text-decoration-color: #000000\">              </span>│<span style=\"color: #000000; text-decoration-color: #000000\">                              </span>│\n",
       "├────────────┼──────────────────────────────────────────────────────┼──────────────┼──────────────────────────────┤\n",
       "│<span style=\"color: #000000; text-decoration-color: #000000\">   943346   </span>│<span style=\"color: #000000; text-decoration-color: #000000\"> Harry Potter and the Chamber of Secrets (Harry       </span>│<span style=\"color: #000000; text-decoration-color: #000000\"> J.K. Rowling </span>│<span style=\"color: #000000; text-decoration-color: #000000\"> National Braille Press       </span>│\n",
       "│<span style=\"color: #000000; text-decoration-color: #000000\">            </span>│<span style=\"color: #000000; text-decoration-color: #000000\"> Potter, #2)                                          </span>│<span style=\"color: #000000; text-decoration-color: #000000\">              </span>│<span style=\"color: #000000; text-decoration-color: #000000\">                              </span>│\n",
       "└────────────┴──────────────────────────────────────────────────────┴──────────────┴──────────────────────────────┘\n",
       "</pre>\n"
      ],
      "text/plain": [
       "\u001b[3m                                        🎉📚 **Top Recommended Books** 📚🎉                                        \u001b[0m\n",
       "┏━━━━━━━━━━━━┳━━━━━━━━━━━━━━━━━━━━━━━━━━━━━━━━━━━━━━━━━━━━━━━━━━━━━━┳━━━━━━━━━━━━━━┳━━━━━━━━━━━━━━━━━━━━━━━━━━━━━━┓\n",
       "┃\u001b[1m \u001b[0m\u001b[1m📖 Book ID\u001b[0m\u001b[1m \u001b[0m┃\u001b[1m \u001b[0m\u001b[1m📚 Book Title                                       \u001b[0m\u001b[1m \u001b[0m┃\u001b[1m \u001b[0m\u001b[1m✍️ Author(s) \u001b[0m\u001b[1m \u001b[0m┃\u001b[1m \u001b[0m\u001b[1m🏢 Publisher                \u001b[0m\u001b[1m \u001b[0m┃\n",
       "┡━━━━━━━━━━━━╇━━━━━━━━━━━━━━━━━━━━━━━━━━━━━━━━━━━━━━━━━━━━━━━━━━━━━━╇━━━━━━━━━━━━━━╇━━━━━━━━━━━━━━━━━━━━━━━━━━━━━━┩\n",
       "│\u001b[30m \u001b[0m\u001b[30m  912224  \u001b[0m\u001b[30m \u001b[0m│\u001b[30m \u001b[0m\u001b[30mHarry Potter and the Deathly Hallows (Harry Potter, \u001b[0m\u001b[30m \u001b[0m│\u001b[30m \u001b[0m\u001b[30mJ.K. Rowling\u001b[0m\u001b[30m \u001b[0m│\u001b[30m \u001b[0m\u001b[30mArthur A. Levine Books      \u001b[0m\u001b[30m \u001b[0m│\n",
       "│\u001b[30m            \u001b[0m│\u001b[30m \u001b[0m\u001b[30m#7)                                                 \u001b[0m\u001b[30m \u001b[0m│\u001b[30m              \u001b[0m│\u001b[30m                              \u001b[0m│\n",
       "├────────────┼──────────────────────────────────────────────────────┼──────────────┼──────────────────────────────┤\n",
       "│\u001b[30m \u001b[0m\u001b[30m  862710  \u001b[0m\u001b[30m \u001b[0m│\u001b[30m \u001b[0m\u001b[30mHarry Potter and the Goblet of Fire (Harry Potter,  \u001b[0m\u001b[30m \u001b[0m│\u001b[30m \u001b[0m\u001b[30mJ.K. Rowling\u001b[0m\u001b[30m \u001b[0m│\u001b[30m \u001b[0m\u001b[30mRaincoast Books             \u001b[0m\u001b[30m \u001b[0m│\n",
       "│\u001b[30m            \u001b[0m│\u001b[30m \u001b[0m\u001b[30m#4)                                                 \u001b[0m\u001b[30m \u001b[0m│\u001b[30m              \u001b[0m│\u001b[30m                              \u001b[0m│\n",
       "├────────────┼──────────────────────────────────────────────────────┼──────────────┼──────────────────────────────┤\n",
       "│\u001b[30m \u001b[0m\u001b[30m   2002   \u001b[0m\u001b[30m \u001b[0m│\u001b[30m \u001b[0m\u001b[30mHarry Potter Schoolbooks Box Set: Two Classic Books \u001b[0m\u001b[30m \u001b[0m│\u001b[30m \u001b[0m\u001b[30mJ.K. Rowling\u001b[0m\u001b[30m \u001b[0m│\u001b[30m \u001b[0m\u001b[30mArthur A. Levine            \u001b[0m\u001b[30m \u001b[0m│\n",
       "│\u001b[30m            \u001b[0m│\u001b[30m \u001b[0m\u001b[30mfrom the Library of Hogwarts School of Witchcraft   \u001b[0m\u001b[30m \u001b[0m│\u001b[30m              \u001b[0m│\u001b[30m                              \u001b[0m│\n",
       "│\u001b[30m            \u001b[0m│\u001b[30m \u001b[0m\u001b[30mand Wizardry                                        \u001b[0m\u001b[30m \u001b[0m│\u001b[30m              \u001b[0m│\u001b[30m                              \u001b[0m│\n",
       "├────────────┼──────────────────────────────────────────────────────┼──────────────┼──────────────────────────────┤\n",
       "│\u001b[30m \u001b[0m\u001b[30m 3484606  \u001b[0m\u001b[30m \u001b[0m│\u001b[30m \u001b[0m\u001b[30mHarry Potter e a Pedra Filosofal (Harry Potter, #1) \u001b[0m\u001b[30m \u001b[0m│\u001b[30m \u001b[0m\u001b[30mJ.K. Rowling\u001b[0m\u001b[30m \u001b[0m│\u001b[30m \u001b[0m\u001b[30mEditorial Presença          \u001b[0m\u001b[30m \u001b[0m│\n",
       "├────────────┼──────────────────────────────────────────────────────┼──────────────┼──────────────────────────────┤\n",
       "│\u001b[30m \u001b[0m\u001b[30m  142294  \u001b[0m\u001b[30m \u001b[0m│\u001b[30m \u001b[0m\u001b[30mHarry Potter Y El Prisionero De Azkaban (Harry      \u001b[0m\u001b[30m \u001b[0m│\u001b[30m \u001b[0m\u001b[30mJ.K. Rowling\u001b[0m\u001b[30m \u001b[0m│\u001b[30m \u001b[0m\u001b[30mTurtleback Books            \u001b[0m\u001b[30m \u001b[0m│\n",
       "│\u001b[30m            \u001b[0m│\u001b[30m \u001b[0m\u001b[30mPotter, #3)                                         \u001b[0m\u001b[30m \u001b[0m│\u001b[30m              \u001b[0m│\u001b[30m                              \u001b[0m│\n",
       "├────────────┼──────────────────────────────────────────────────────┼──────────────┼──────────────────────────────┤\n",
       "│\u001b[30m \u001b[0m\u001b[30m  49871   \u001b[0m\u001b[30m \u001b[0m│\u001b[30m \u001b[0m\u001b[30mHarry Potter aur Azkaban ka Qaidi (Harry Potter, #3)\u001b[0m\u001b[30m \u001b[0m│\u001b[30m \u001b[0m\u001b[30mJ.K. Rowling\u001b[0m\u001b[30m \u001b[0m│\u001b[30m \u001b[0m\u001b[30mOxford University Press, USA\u001b[0m\u001b[30m \u001b[0m│\n",
       "├────────────┼──────────────────────────────────────────────────────┼──────────────┼──────────────────────────────┤\n",
       "│\u001b[30m \u001b[0m\u001b[30m  299222  \u001b[0m\u001b[30m \u001b[0m│\u001b[30m \u001b[0m\u001b[30mHarry Potter y la Orden del Fénix (Harry Potter, #5)\u001b[0m\u001b[30m \u001b[0m│\u001b[30m \u001b[0m\u001b[30mJ.K. Rowling\u001b[0m\u001b[30m \u001b[0m│\u001b[30m \u001b[0m\u001b[30mLectorum Publications       \u001b[0m\u001b[30m \u001b[0m│\n",
       "├────────────┼──────────────────────────────────────────────────────┼──────────────┼──────────────────────────────┤\n",
       "│\u001b[30m \u001b[0m\u001b[30m  818067  \u001b[0m\u001b[30m \u001b[0m│\u001b[30m \u001b[0m\u001b[30mHarry Potter and the Order of the Phoenix (Harry    \u001b[0m\u001b[30m \u001b[0m│\u001b[30m \u001b[0m\u001b[30mJ.K. Rowling\u001b[0m\u001b[30m \u001b[0m│\u001b[30m \u001b[0m\u001b[30mRaincoast Books             \u001b[0m\u001b[30m \u001b[0m│\n",
       "│\u001b[30m            \u001b[0m│\u001b[30m \u001b[0m\u001b[30mPotter, #5)                                         \u001b[0m\u001b[30m \u001b[0m│\u001b[30m              \u001b[0m│\u001b[30m                              \u001b[0m│\n",
       "├────────────┼──────────────────────────────────────────────────────┼──────────────┼──────────────────────────────┤\n",
       "│\u001b[30m \u001b[0m\u001b[30m  840699  \u001b[0m\u001b[30m \u001b[0m│\u001b[30m \u001b[0m\u001b[30mHarry Potter and the Half-Blood Prince (Harry       \u001b[0m\u001b[30m \u001b[0m│\u001b[30m \u001b[0m\u001b[30mJ.K. Rowling\u001b[0m\u001b[30m \u001b[0m│\u001b[30m \u001b[0m\u001b[30mBloomsbury Publishing       \u001b[0m\u001b[30m \u001b[0m│\n",
       "│\u001b[30m            \u001b[0m│\u001b[30m \u001b[0m\u001b[30mPotter, #6)                                         \u001b[0m\u001b[30m \u001b[0m│\u001b[30m              \u001b[0m│\u001b[30m                              \u001b[0m│\n",
       "├────────────┼──────────────────────────────────────────────────────┼──────────────┼──────────────────────────────┤\n",
       "│\u001b[30m \u001b[0m\u001b[30m  943346  \u001b[0m\u001b[30m \u001b[0m│\u001b[30m \u001b[0m\u001b[30mHarry Potter and the Chamber of Secrets (Harry      \u001b[0m\u001b[30m \u001b[0m│\u001b[30m \u001b[0m\u001b[30mJ.K. Rowling\u001b[0m\u001b[30m \u001b[0m│\u001b[30m \u001b[0m\u001b[30mNational Braille Press      \u001b[0m\u001b[30m \u001b[0m│\n",
       "│\u001b[30m            \u001b[0m│\u001b[30m \u001b[0m\u001b[30mPotter, #2)                                         \u001b[0m\u001b[30m \u001b[0m│\u001b[30m              \u001b[0m│\u001b[30m                              \u001b[0m│\n",
       "└────────────┴──────────────────────────────────────────────────────┴──────────────┴──────────────────────────────┘\n"
      ]
     },
     "metadata": {},
     "output_type": "display_data"
    }
   ],
   "source": [
    "feature_columns = ['authors', 'clean_name', 'publisher']\n",
    "metadata_recommender = metadata_recommender(filtered_books_df, feature_columns, n_neighbors = 10)\n",
    "recommended_books_md_r = metadata_recommender('Harry Potter Series Box Set (Harry Potter, #1-7)')\n",
    "display_recommendations_in_table(recommended_books_md_r)"
   ]
  },
  {
   "cell_type": "code",
   "execution_count": 63,
   "id": "f014b3e5-7395-4b5f-964f-4a5cfb5214e8",
   "metadata": {},
   "outputs": [],
   "source": [
    "def hybrid_metadata_recommender(df_book, feature_columns, vector_size=100, n_neighbors=10):\n",
    "    df_book = df_book.reset_index(drop=True)\n",
    "    df_book[feature_columns] = df_book[feature_columns].fillna('')\n",
    "    \n",
    "    # Combine all metadata features into a single column\n",
    "    df_book['metadata'] = df_book[feature_columns].astype(str).apply(lambda x: ' '.join(x), axis=1)\n",
    "\n",
    "    # Applying TF-IDF Vectorization\n",
    "    tfidf = TfidfVectorizer(stop_words='english', max_features=5000)\n",
    "    tfidf_matrix = tfidf.fit_transform(df_book['metadata'])\n",
    "\n",
    "    # Applying LSA (Truncated SVD)\n",
    "    svd = TruncatedSVD(n_components=200)  # Reduce dimensions to 200 topics\n",
    "    lsa_matrix = svd.fit_transform(tfidf_matrix)\n",
    "\n",
    "    # Train Word2Vec on metadata\n",
    "    sentences = [row.split() for row in df_book['metadata']]\n",
    "    w2v_model = Word2Vec(sentences, vector_size=vector_size, window=5, min_count=1, workers=-1)\n",
    "\n",
    "    # Compute Word2Vec embeddings for each book\n",
    "    def get_embedding(text):\n",
    "        words = text.split()\n",
    "        word_vectors = [w2v_model.wv[word] for word in words if word in w2v_model.wv]\n",
    "        return np.mean(word_vectors, axis=0) if word_vectors else np.zeros(vector_size)\n",
    "\n",
    "    df_book['w2v_embedding'] = df_book['metadata'].apply(get_embedding)\n",
    "    word2vec_matrix = np.vstack(df_book['w2v_embedding'].values)\n",
    "\n",
    "    # Combing LSA and Word2Vec embeddings\n",
    "    combined_matrix = np.hstack((lsa_matrix, word2vec_matrix))\n",
    "\n",
    "    # Using Nearest Neighbors for efficient similarity search\n",
    "    nn_model = NearestNeighbors(metric='cosine', algorithm='brute', n_neighbors=n_neighbors + 1, n_jobs=-1)\n",
    "    nn_model.fit(combined_matrix)\n",
    "\n",
    "    # Create a Reverse Mapping (Book Title to Index)\n",
    "    indices = pd.Series(df_book.index, index=df_book['name']).drop_duplicates()\n",
    "\n",
    "    # Hybrid Recommendation Function\n",
    "    def get_recommendations(title, df=df_book, model=nn_model, combined_matrix=combined_matrix, n=n_neighbors):\n",
    "        # Ensure title exists, else find closest match\n",
    "        if title not in indices:\n",
    "            matched_title = get_close_matches(title, df['name'].tolist(), n=1, cutoff=0.6)\n",
    "            if matched_title:\n",
    "                title = matched_title[0]\n",
    "            else:\n",
    "                print(\" No close matches found. Please check the title and try again.\")\n",
    "                return None\n",
    "\n",
    "        # Get index of the book\n",
    "        idx = indices[title]\n",
    "\n",
    "        # Find similar books using Nearest Neighbors\n",
    "        distances, indices_nn = model.kneighbors(combined_matrix[idx].reshape(1, -1), n_neighbors=n + 1)\n",
    "\n",
    "        # Extract book indices (excluding the input book itself)\n",
    "        book_indices = indices_nn[0][1:]\n",
    "\n",
    "        # Return the top recommended books\n",
    "        return df[['book_id', 'name', 'authors', 'publisher']].iloc[book_indices]\n",
    "\n",
    "    return get_recommendations"
   ]
  },
  {
   "cell_type": "code",
   "execution_count": 64,
   "id": "e306b438-ae86-4564-a675-0da113935161",
   "metadata": {},
   "outputs": [
    {
     "data": {
      "text/html": [
       "<pre style=\"white-space:pre;overflow-x:auto;line-height:normal;font-family:Menlo,'DejaVu Sans Mono',consolas,'Courier New',monospace\"><span style=\"font-style: italic\">                                        🎉📚 **Top Recommended Books** 📚🎉                                        </span>\n",
       "┏━━━━━━━━━━━━┳━━━━━━━━━━━━━━━━━━━━━━━━━━━━━━━━━━━━━━━━━━━━━━━━━━━━━━━━━━━━┳━━━━━━━━━━━━━━┳━━━━━━━━━━━━━━━━━━━━━━━━┓\n",
       "┃<span style=\"font-weight: bold\"> 📖 Book ID </span>┃<span style=\"font-weight: bold\"> 📚 Book Title                                              </span>┃<span style=\"font-weight: bold\"> ✍️ Author(s)  </span>┃<span style=\"font-weight: bold\"> 🏢 Publisher           </span>┃\n",
       "┡━━━━━━━━━━━━╇━━━━━━━━━━━━━━━━━━━━━━━━━━━━━━━━━━━━━━━━━━━━━━━━━━━━━━━━━━━━╇━━━━━━━━━━━━━━╇━━━━━━━━━━━━━━━━━━━━━━━━┩\n",
       "│<span style=\"color: #000000; text-decoration-color: #000000\">   912224   </span>│<span style=\"color: #000000; text-decoration-color: #000000\"> Harry Potter and the Deathly Hallows (Harry Potter, #7)    </span>│<span style=\"color: #000000; text-decoration-color: #000000\"> J.K. Rowling </span>│<span style=\"color: #000000; text-decoration-color: #000000\"> Arthur A. Levine Books </span>│\n",
       "├────────────┼────────────────────────────────────────────────────────────┼──────────────┼────────────────────────┤\n",
       "│<span style=\"color: #000000; text-decoration-color: #000000\">   862710   </span>│<span style=\"color: #000000; text-decoration-color: #000000\"> Harry Potter and the Goblet of Fire (Harry Potter, #4)     </span>│<span style=\"color: #000000; text-decoration-color: #000000\"> J.K. Rowling </span>│<span style=\"color: #000000; text-decoration-color: #000000\"> Raincoast Books        </span>│\n",
       "├────────────┼────────────────────────────────────────────────────────────┼──────────────┼────────────────────────┤\n",
       "│<span style=\"color: #000000; text-decoration-color: #000000\">   818067   </span>│<span style=\"color: #000000; text-decoration-color: #000000\"> Harry Potter and the Order of the Phoenix (Harry Potter,   </span>│<span style=\"color: #000000; text-decoration-color: #000000\"> J.K. Rowling </span>│<span style=\"color: #000000; text-decoration-color: #000000\"> Raincoast Books        </span>│\n",
       "│<span style=\"color: #000000; text-decoration-color: #000000\">            </span>│<span style=\"color: #000000; text-decoration-color: #000000\"> #5)                                                        </span>│<span style=\"color: #000000; text-decoration-color: #000000\">              </span>│<span style=\"color: #000000; text-decoration-color: #000000\">                        </span>│\n",
       "├────────────┼────────────────────────────────────────────────────────────┼──────────────┼────────────────────────┤\n",
       "│<span style=\"color: #000000; text-decoration-color: #000000\">  3484606   </span>│<span style=\"color: #000000; text-decoration-color: #000000\"> Harry Potter e a Pedra Filosofal (Harry Potter, #1)        </span>│<span style=\"color: #000000; text-decoration-color: #000000\"> J.K. Rowling </span>│<span style=\"color: #000000; text-decoration-color: #000000\"> Editorial Presença     </span>│\n",
       "├────────────┼────────────────────────────────────────────────────────────┼──────────────┼────────────────────────┤\n",
       "│<span style=\"color: #000000; text-decoration-color: #000000\">   257320   </span>│<span style=\"color: #000000; text-decoration-color: #000000\"> J. K. Rowling: The Wizard Behind Harry Potter: The Wizard  </span>│<span style=\"color: #000000; text-decoration-color: #000000\"> Marc Shapiro </span>│<span style=\"color: #000000; text-decoration-color: #000000\"> Griffin                </span>│\n",
       "│<span style=\"color: #000000; text-decoration-color: #000000\">            </span>│<span style=\"color: #000000; text-decoration-color: #000000\"> Behind Harry Potter                                        </span>│<span style=\"color: #000000; text-decoration-color: #000000\">              </span>│<span style=\"color: #000000; text-decoration-color: #000000\">                        </span>│\n",
       "├────────────┼────────────────────────────────────────────────────────────┼──────────────┼────────────────────────┤\n",
       "│<span style=\"color: #000000; text-decoration-color: #000000\">   943346   </span>│<span style=\"color: #000000; text-decoration-color: #000000\"> Harry Potter and the Chamber of Secrets (Harry Potter, #2) </span>│<span style=\"color: #000000; text-decoration-color: #000000\"> J.K. Rowling </span>│<span style=\"color: #000000; text-decoration-color: #000000\"> National Braille Press </span>│\n",
       "├────────────┼────────────────────────────────────────────────────────────┼──────────────┼────────────────────────┤\n",
       "│<span style=\"color: #000000; text-decoration-color: #000000\">     8      </span>│<span style=\"color: #000000; text-decoration-color: #000000\"> Harry Potter Boxed Set, Books 1-5 (Harry Potter, #1-5)     </span>│<span style=\"color: #000000; text-decoration-color: #000000\"> J.K. Rowling </span>│<span style=\"color: #000000; text-decoration-color: #000000\"> Scholastic             </span>│\n",
       "├────────────┼────────────────────────────────────────────────────────────┼──────────────┼────────────────────────┤\n",
       "│<span style=\"color: #000000; text-decoration-color: #000000\">  1213834   </span>│<span style=\"color: #000000; text-decoration-color: #000000\"> Harry Potter und der Feuerkelch (Harry Potter, #4)         </span>│<span style=\"color: #000000; text-decoration-color: #000000\"> J.K. Rowling </span>│<span style=\"color: #000000; text-decoration-color: #000000\"> Carlsen Verlag         </span>│\n",
       "├────────────┼────────────────────────────────────────────────────────────┼──────────────┼────────────────────────┤\n",
       "│<span style=\"color: #000000; text-decoration-color: #000000\">    2002    </span>│<span style=\"color: #000000; text-decoration-color: #000000\"> Harry Potter Schoolbooks Box Set: Two Classic Books from   </span>│<span style=\"color: #000000; text-decoration-color: #000000\"> J.K. Rowling </span>│<span style=\"color: #000000; text-decoration-color: #000000\"> Arthur A. Levine       </span>│\n",
       "│<span style=\"color: #000000; text-decoration-color: #000000\">            </span>│<span style=\"color: #000000; text-decoration-color: #000000\"> the Library of Hogwarts School of Witchcraft and Wizardry  </span>│<span style=\"color: #000000; text-decoration-color: #000000\">              </span>│<span style=\"color: #000000; text-decoration-color: #000000\">                        </span>│\n",
       "├────────────┼────────────────────────────────────────────────────────────┼──────────────┼────────────────────────┤\n",
       "│<span style=\"color: #000000; text-decoration-color: #000000\">   819073   </span>│<span style=\"color: #000000; text-decoration-color: #000000\"> Harry Potter and the Prisoner of Azkaban (Harry Potter,    </span>│<span style=\"color: #000000; text-decoration-color: #000000\"> J.K. Rowling </span>│<span style=\"color: #000000; text-decoration-color: #000000\"> Bloomsbury             </span>│\n",
       "│<span style=\"color: #000000; text-decoration-color: #000000\">            </span>│<span style=\"color: #000000; text-decoration-color: #000000\"> #3)                                                        </span>│<span style=\"color: #000000; text-decoration-color: #000000\">              </span>│<span style=\"color: #000000; text-decoration-color: #000000\">                        </span>│\n",
       "└────────────┴────────────────────────────────────────────────────────────┴──────────────┴────────────────────────┘\n",
       "</pre>\n"
      ],
      "text/plain": [
       "\u001b[3m                                        🎉📚 **Top Recommended Books** 📚🎉                                        \u001b[0m\n",
       "┏━━━━━━━━━━━━┳━━━━━━━━━━━━━━━━━━━━━━━━━━━━━━━━━━━━━━━━━━━━━━━━━━━━━━━━━━━━┳━━━━━━━━━━━━━━┳━━━━━━━━━━━━━━━━━━━━━━━━┓\n",
       "┃\u001b[1m \u001b[0m\u001b[1m📖 Book ID\u001b[0m\u001b[1m \u001b[0m┃\u001b[1m \u001b[0m\u001b[1m📚 Book Title                                             \u001b[0m\u001b[1m \u001b[0m┃\u001b[1m \u001b[0m\u001b[1m✍️ Author(s) \u001b[0m\u001b[1m \u001b[0m┃\u001b[1m \u001b[0m\u001b[1m🏢 Publisher          \u001b[0m\u001b[1m \u001b[0m┃\n",
       "┡━━━━━━━━━━━━╇━━━━━━━━━━━━━━━━━━━━━━━━━━━━━━━━━━━━━━━━━━━━━━━━━━━━━━━━━━━━╇━━━━━━━━━━━━━━╇━━━━━━━━━━━━━━━━━━━━━━━━┩\n",
       "│\u001b[30m \u001b[0m\u001b[30m  912224  \u001b[0m\u001b[30m \u001b[0m│\u001b[30m \u001b[0m\u001b[30mHarry Potter and the Deathly Hallows (Harry Potter, #7)   \u001b[0m\u001b[30m \u001b[0m│\u001b[30m \u001b[0m\u001b[30mJ.K. Rowling\u001b[0m\u001b[30m \u001b[0m│\u001b[30m \u001b[0m\u001b[30mArthur A. Levine Books\u001b[0m\u001b[30m \u001b[0m│\n",
       "├────────────┼────────────────────────────────────────────────────────────┼──────────────┼────────────────────────┤\n",
       "│\u001b[30m \u001b[0m\u001b[30m  862710  \u001b[0m\u001b[30m \u001b[0m│\u001b[30m \u001b[0m\u001b[30mHarry Potter and the Goblet of Fire (Harry Potter, #4)    \u001b[0m\u001b[30m \u001b[0m│\u001b[30m \u001b[0m\u001b[30mJ.K. Rowling\u001b[0m\u001b[30m \u001b[0m│\u001b[30m \u001b[0m\u001b[30mRaincoast Books       \u001b[0m\u001b[30m \u001b[0m│\n",
       "├────────────┼────────────────────────────────────────────────────────────┼──────────────┼────────────────────────┤\n",
       "│\u001b[30m \u001b[0m\u001b[30m  818067  \u001b[0m\u001b[30m \u001b[0m│\u001b[30m \u001b[0m\u001b[30mHarry Potter and the Order of the Phoenix (Harry Potter,  \u001b[0m\u001b[30m \u001b[0m│\u001b[30m \u001b[0m\u001b[30mJ.K. Rowling\u001b[0m\u001b[30m \u001b[0m│\u001b[30m \u001b[0m\u001b[30mRaincoast Books       \u001b[0m\u001b[30m \u001b[0m│\n",
       "│\u001b[30m            \u001b[0m│\u001b[30m \u001b[0m\u001b[30m#5)                                                       \u001b[0m\u001b[30m \u001b[0m│\u001b[30m              \u001b[0m│\u001b[30m                        \u001b[0m│\n",
       "├────────────┼────────────────────────────────────────────────────────────┼──────────────┼────────────────────────┤\n",
       "│\u001b[30m \u001b[0m\u001b[30m 3484606  \u001b[0m\u001b[30m \u001b[0m│\u001b[30m \u001b[0m\u001b[30mHarry Potter e a Pedra Filosofal (Harry Potter, #1)       \u001b[0m\u001b[30m \u001b[0m│\u001b[30m \u001b[0m\u001b[30mJ.K. Rowling\u001b[0m\u001b[30m \u001b[0m│\u001b[30m \u001b[0m\u001b[30mEditorial Presença    \u001b[0m\u001b[30m \u001b[0m│\n",
       "├────────────┼────────────────────────────────────────────────────────────┼──────────────┼────────────────────────┤\n",
       "│\u001b[30m \u001b[0m\u001b[30m  257320  \u001b[0m\u001b[30m \u001b[0m│\u001b[30m \u001b[0m\u001b[30mJ. K. Rowling: The Wizard Behind Harry Potter: The Wizard \u001b[0m\u001b[30m \u001b[0m│\u001b[30m \u001b[0m\u001b[30mMarc Shapiro\u001b[0m\u001b[30m \u001b[0m│\u001b[30m \u001b[0m\u001b[30mGriffin               \u001b[0m\u001b[30m \u001b[0m│\n",
       "│\u001b[30m            \u001b[0m│\u001b[30m \u001b[0m\u001b[30mBehind Harry Potter                                       \u001b[0m\u001b[30m \u001b[0m│\u001b[30m              \u001b[0m│\u001b[30m                        \u001b[0m│\n",
       "├────────────┼────────────────────────────────────────────────────────────┼──────────────┼────────────────────────┤\n",
       "│\u001b[30m \u001b[0m\u001b[30m  943346  \u001b[0m\u001b[30m \u001b[0m│\u001b[30m \u001b[0m\u001b[30mHarry Potter and the Chamber of Secrets (Harry Potter, #2)\u001b[0m\u001b[30m \u001b[0m│\u001b[30m \u001b[0m\u001b[30mJ.K. Rowling\u001b[0m\u001b[30m \u001b[0m│\u001b[30m \u001b[0m\u001b[30mNational Braille Press\u001b[0m\u001b[30m \u001b[0m│\n",
       "├────────────┼────────────────────────────────────────────────────────────┼──────────────┼────────────────────────┤\n",
       "│\u001b[30m \u001b[0m\u001b[30m    8     \u001b[0m\u001b[30m \u001b[0m│\u001b[30m \u001b[0m\u001b[30mHarry Potter Boxed Set, Books 1-5 (Harry Potter, #1-5)    \u001b[0m\u001b[30m \u001b[0m│\u001b[30m \u001b[0m\u001b[30mJ.K. Rowling\u001b[0m\u001b[30m \u001b[0m│\u001b[30m \u001b[0m\u001b[30mScholastic            \u001b[0m\u001b[30m \u001b[0m│\n",
       "├────────────┼────────────────────────────────────────────────────────────┼──────────────┼────────────────────────┤\n",
       "│\u001b[30m \u001b[0m\u001b[30m 1213834  \u001b[0m\u001b[30m \u001b[0m│\u001b[30m \u001b[0m\u001b[30mHarry Potter und der Feuerkelch (Harry Potter, #4)        \u001b[0m\u001b[30m \u001b[0m│\u001b[30m \u001b[0m\u001b[30mJ.K. Rowling\u001b[0m\u001b[30m \u001b[0m│\u001b[30m \u001b[0m\u001b[30mCarlsen Verlag        \u001b[0m\u001b[30m \u001b[0m│\n",
       "├────────────┼────────────────────────────────────────────────────────────┼──────────────┼────────────────────────┤\n",
       "│\u001b[30m \u001b[0m\u001b[30m   2002   \u001b[0m\u001b[30m \u001b[0m│\u001b[30m \u001b[0m\u001b[30mHarry Potter Schoolbooks Box Set: Two Classic Books from  \u001b[0m\u001b[30m \u001b[0m│\u001b[30m \u001b[0m\u001b[30mJ.K. Rowling\u001b[0m\u001b[30m \u001b[0m│\u001b[30m \u001b[0m\u001b[30mArthur A. Levine      \u001b[0m\u001b[30m \u001b[0m│\n",
       "│\u001b[30m            \u001b[0m│\u001b[30m \u001b[0m\u001b[30mthe Library of Hogwarts School of Witchcraft and Wizardry \u001b[0m\u001b[30m \u001b[0m│\u001b[30m              \u001b[0m│\u001b[30m                        \u001b[0m│\n",
       "├────────────┼────────────────────────────────────────────────────────────┼──────────────┼────────────────────────┤\n",
       "│\u001b[30m \u001b[0m\u001b[30m  819073  \u001b[0m\u001b[30m \u001b[0m│\u001b[30m \u001b[0m\u001b[30mHarry Potter and the Prisoner of Azkaban (Harry Potter,   \u001b[0m\u001b[30m \u001b[0m│\u001b[30m \u001b[0m\u001b[30mJ.K. Rowling\u001b[0m\u001b[30m \u001b[0m│\u001b[30m \u001b[0m\u001b[30mBloomsbury            \u001b[0m\u001b[30m \u001b[0m│\n",
       "│\u001b[30m            \u001b[0m│\u001b[30m \u001b[0m\u001b[30m#3)                                                       \u001b[0m\u001b[30m \u001b[0m│\u001b[30m              \u001b[0m│\u001b[30m                        \u001b[0m│\n",
       "└────────────┴────────────────────────────────────────────────────────────┴──────────────┴────────────────────────┘\n"
      ]
     },
     "metadata": {},
     "output_type": "display_data"
    }
   ],
   "source": [
    "feature_columns = ['authors', 'publisher', 'clean_name']\n",
    "hybrid_recommender = hybrid_metadata_recommender(filtered_books_df, feature_columns)\n",
    "recommended_books_hy_r = hybrid_recommender('Harry Potter Series Box Set (Harry Potter, #1-7)')\n",
    "display_recommendations_in_table(recommended_books_hy_r)"
   ]
  },
  {
   "cell_type": "code",
   "execution_count": 65,
   "id": "ad523923-3ce6-468f-87ba-9ff70c9e41b6",
   "metadata": {},
   "outputs": [],
   "source": [
    "def feature_based_recommender(df_book, feature_columns, n_neighbors=10):\n",
    "    # Create a copy of the DataFrame to prevent modifying the original\n",
    "    df_copy = df_book.copy()\n",
    "\n",
    "    # Preserve the original publisher column before encoding\n",
    "    df_copy['publisher_original'] = df_copy['publisher']\n",
    "\n",
    "    # Encode categorical features (on the copied DataFrame)\n",
    "    label_encoders = {}  # Store encoders in case they are needed later\n",
    "    for col in feature_columns:\n",
    "        if df_copy[col].dtype == \"object\":\n",
    "            le = LabelEncoder()\n",
    "            df_copy[col] = le.fit_transform(df_copy[col])\n",
    "            label_encoders[col] = le  # encoder for debugging if needed\n",
    "\n",
    "    # Scale features\n",
    "    scaled_features = MinMaxScaler().fit_transform(df_copy[feature_columns])\n",
    "\n",
    "    # Train Nearest Neighbors model\n",
    "    nn_model = NearestNeighbors(metric='cosine', n_neighbors=n_neighbors + 1, n_jobs=-1)\n",
    "    nn_model.fit(scaled_features)\n",
    "\n",
    "    # Create reverse mapping for book titles\n",
    "    df_copy = df_copy.reset_index(drop=True)\n",
    "    indices = pd.Series(df_copy.index, index=df_copy['name']).drop_duplicates()\n",
    "\n",
    "    # Returns top similar books based on features\n",
    "    def get_recommendations(title, n_neighbors=n_neighbors):\n",
    "        if title not in indices:\n",
    "            match = get_close_matches(title, indices.index, n=1, cutoff=0.6)\n",
    "            if match:\n",
    "                title = match[0]\n",
    "            else:\n",
    "                print(\"No close matches found.\")\n",
    "                return None\n",
    "\n",
    "        idx = indices[title]\n",
    "        distances, neighbors = nn_model.kneighbors([scaled_features[idx]], n_neighbors=n_neighbors + 1)\n",
    "\n",
    "        # Return recommended books (excluding the input book itself)\n",
    "        return df_copy[['book_id', 'name', 'authors', 'publisher_original']].iloc[neighbors[0][1:]].rename(columns={'publisher_original': 'publisher'})\n",
    "\n",
    "    return get_recommendations"
   ]
  },
  {
   "cell_type": "code",
   "execution_count": 66,
   "id": "7cb34fba-f28a-4829-a65c-ee25a5a81a13",
   "metadata": {},
   "outputs": [
    {
     "data": {
      "text/html": [
       "<pre style=\"white-space:pre;overflow-x:auto;line-height:normal;font-family:Menlo,'DejaVu Sans Mono',consolas,'Courier New',monospace\"><span style=\"font-style: italic\">                                        🎉📚 **Top Recommended Books** 📚🎉                                        </span>\n",
       "┏━━━━━━━━━━━━┳━━━━━━━━━━━━━━━━━━━━━━━━━━━━━━━━━━━━━┳━━━━━━━━━━━━━━━━━━━━━━━━┳━━━━━━━━━━━━━━━━━━━━━━━━━━━━━━━━━━━━━┓\n",
       "┃<span style=\"font-weight: bold\"> 📖 Book ID </span>┃<span style=\"font-weight: bold\"> 📚 Book Title                       </span>┃<span style=\"font-weight: bold\"> ✍️ Author(s)            </span>┃<span style=\"font-weight: bold\"> 🏢 Publisher                        </span>┃\n",
       "┡━━━━━━━━━━━━╇━━━━━━━━━━━━━━━━━━━━━━━━━━━━━━━━━━━━━╇━━━━━━━━━━━━━━━━━━━━━━━━╇━━━━━━━━━━━━━━━━━━━━━━━━━━━━━━━━━━━━━┩\n",
       "│<span style=\"color: #000000; text-decoration-color: #000000\">  2071706   </span>│<span style=\"color: #000000; text-decoration-color: #000000\"> The Definitive Journals of Lewis    </span>│<span style=\"color: #000000; text-decoration-color: #000000\"> Meriwether Lewis       </span>│<span style=\"color: #000000; text-decoration-color: #000000\"> Bison Books                         </span>│\n",
       "│<span style=\"color: #000000; text-decoration-color: #000000\">            </span>│<span style=\"color: #000000; text-decoration-color: #000000\"> and Clark, 7 Vols                   </span>│<span style=\"color: #000000; text-decoration-color: #000000\">                        </span>│<span style=\"color: #000000; text-decoration-color: #000000\">                                     </span>│\n",
       "├────────────┼─────────────────────────────────────┼────────────────────────┼─────────────────────────────────────┤\n",
       "│<span style=\"color: #000000; text-decoration-color: #000000\">   753098   </span>│<span style=\"color: #000000; text-decoration-color: #000000\"> The Holy Quran                      </span>│<span style=\"color: #000000; text-decoration-color: #000000\"> Anonymous              </span>│<span style=\"color: #000000; text-decoration-color: #000000\"> American Trust Publications         </span>│\n",
       "├────────────┼─────────────────────────────────────┼────────────────────────┼─────────────────────────────────────┤\n",
       "│<span style=\"color: #000000; text-decoration-color: #000000\">  2009998   </span>│<span style=\"color: #000000; text-decoration-color: #000000\"> Millenium: La trilogie              </span>│<span style=\"color: #000000; text-decoration-color: #000000\"> Stieg Larsson          </span>│<span style=\"color: #000000; text-decoration-color: #000000\"> Actes Sud                           </span>│\n",
       "├────────────┼─────────────────────────────────────┼────────────────────────┼─────────────────────────────────────┤\n",
       "│<span style=\"color: #000000; text-decoration-color: #000000\">     30     </span>│<span style=\"color: #000000; text-decoration-color: #000000\"> J.R.R. Tolkien 4-Book Boxed Set:    </span>│<span style=\"color: #000000; text-decoration-color: #000000\"> J.R.R. Tolkien         </span>│<span style=\"color: #000000; text-decoration-color: #000000\"> Ballantine Books                    </span>│\n",
       "│<span style=\"color: #000000; text-decoration-color: #000000\">            </span>│<span style=\"color: #000000; text-decoration-color: #000000\"> The Hobbit and The Lord of the      </span>│<span style=\"color: #000000; text-decoration-color: #000000\">                        </span>│<span style=\"color: #000000; text-decoration-color: #000000\">                                     </span>│\n",
       "│<span style=\"color: #000000; text-decoration-color: #000000\">            </span>│<span style=\"color: #000000; text-decoration-color: #000000\"> Rings                               </span>│<span style=\"color: #000000; text-decoration-color: #000000\">                        </span>│<span style=\"color: #000000; text-decoration-color: #000000\">                                     </span>│\n",
       "├────────────┼─────────────────────────────────────┼────────────────────────┼─────────────────────────────────────┤\n",
       "│<span style=\"color: #000000; text-decoration-color: #000000\">   850794   </span>│<span style=\"color: #000000; text-decoration-color: #000000\"> The Man Without Qualities           </span>│<span style=\"color: #000000; text-decoration-color: #000000\"> Robert Musil           </span>│<span style=\"color: #000000; text-decoration-color: #000000\"> Alfred a Knopf                      </span>│\n",
       "├────────────┼─────────────────────────────────────┼────────────────────────┼─────────────────────────────────────┤\n",
       "│<span style=\"color: #000000; text-decoration-color: #000000\">   301199   </span>│<span style=\"color: #000000; text-decoration-color: #000000\"> Longman Advanced American           </span>│<span style=\"color: #000000; text-decoration-color: #000000\"> Addison Wesley Longman </span>│<span style=\"color: #000000; text-decoration-color: #000000\"> Addison Wesley Publishing Company   </span>│\n",
       "│<span style=\"color: #000000; text-decoration-color: #000000\">            </span>│<span style=\"color: #000000; text-decoration-color: #000000\"> Dictionary                          </span>│<span style=\"color: #000000; text-decoration-color: #000000\">                        </span>│<span style=\"color: #000000; text-decoration-color: #000000\">                                     </span>│\n",
       "├────────────┼─────────────────────────────────────┼────────────────────────┼─────────────────────────────────────┤\n",
       "│<span style=\"color: #000000; text-decoration-color: #000000\">  3215105   </span>│<span style=\"color: #000000; text-decoration-color: #000000\"> The Story and Its Writer: An        </span>│<span style=\"color: #000000; text-decoration-color: #000000\"> Ann Charters           </span>│<span style=\"color: #000000; text-decoration-color: #000000\"> Bedford Books                       </span>│\n",
       "│<span style=\"color: #000000; text-decoration-color: #000000\">            </span>│<span style=\"color: #000000; text-decoration-color: #000000\"> Introduction to Short Fiction       </span>│<span style=\"color: #000000; text-decoration-color: #000000\">                        </span>│<span style=\"color: #000000; text-decoration-color: #000000\">                                     </span>│\n",
       "├────────────┼─────────────────────────────────────┼────────────────────────┼─────────────────────────────────────┤\n",
       "│<span style=\"color: #000000; text-decoration-color: #000000\">   19082    </span>│<span style=\"color: #000000; text-decoration-color: #000000\"> The Complete Works: The Revised     </span>│<span style=\"color: #000000; text-decoration-color: #000000\"> Aristotle              </span>│<span style=\"color: #000000; text-decoration-color: #000000\"> Bollingen/Princeton University      </span>│\n",
       "│<span style=\"color: #000000; text-decoration-color: #000000\">            </span>│<span style=\"color: #000000; text-decoration-color: #000000\"> Oxford Translation, Vol. 1          </span>│<span style=\"color: #000000; text-decoration-color: #000000\">                        </span>│<span style=\"color: #000000; text-decoration-color: #000000\"> Press (NJ)                          </span>│\n",
       "├────────────┼─────────────────────────────────────┼────────────────────────┼─────────────────────────────────────┤\n",
       "│<span style=\"color: #000000; text-decoration-color: #000000\">   182785   </span>│<span style=\"color: #000000; text-decoration-color: #000000\"> How Arbitration Works: Elkouri &amp;    </span>│<span style=\"color: #000000; text-decoration-color: #000000\"> Frank Elkouri          </span>│<span style=\"color: #000000; text-decoration-color: #000000\"> Bureau of National Affairs          </span>│\n",
       "│<span style=\"color: #000000; text-decoration-color: #000000\">            </span>│<span style=\"color: #000000; text-decoration-color: #000000\"> Elkouri                             </span>│<span style=\"color: #000000; text-decoration-color: #000000\">                        </span>│<span style=\"color: #000000; text-decoration-color: #000000\">                                     </span>│\n",
       "├────────────┼─────────────────────────────────────┼────────────────────────┼─────────────────────────────────────┤\n",
       "│<span style=\"color: #000000; text-decoration-color: #000000\">   169025   </span>│<span style=\"color: #000000; text-decoration-color: #000000\"> Mac OS X Internals: A Systems       </span>│<span style=\"color: #000000; text-decoration-color: #000000\"> Amit Singh             </span>│<span style=\"color: #000000; text-decoration-color: #000000\"> Addison-Wesley Professional         </span>│\n",
       "│<span style=\"color: #000000; text-decoration-color: #000000\">            </span>│<span style=\"color: #000000; text-decoration-color: #000000\"> Approach                            </span>│<span style=\"color: #000000; text-decoration-color: #000000\">                        </span>│<span style=\"color: #000000; text-decoration-color: #000000\">                                     </span>│\n",
       "└────────────┴─────────────────────────────────────┴────────────────────────┴─────────────────────────────────────┘\n",
       "</pre>\n"
      ],
      "text/plain": [
       "\u001b[3m                                        🎉📚 **Top Recommended Books** 📚🎉                                        \u001b[0m\n",
       "┏━━━━━━━━━━━━┳━━━━━━━━━━━━━━━━━━━━━━━━━━━━━━━━━━━━━┳━━━━━━━━━━━━━━━━━━━━━━━━┳━━━━━━━━━━━━━━━━━━━━━━━━━━━━━━━━━━━━━┓\n",
       "┃\u001b[1m \u001b[0m\u001b[1m📖 Book ID\u001b[0m\u001b[1m \u001b[0m┃\u001b[1m \u001b[0m\u001b[1m📚 Book Title                      \u001b[0m\u001b[1m \u001b[0m┃\u001b[1m \u001b[0m\u001b[1m✍️ Author(s)           \u001b[0m\u001b[1m \u001b[0m┃\u001b[1m \u001b[0m\u001b[1m🏢 Publisher                       \u001b[0m\u001b[1m \u001b[0m┃\n",
       "┡━━━━━━━━━━━━╇━━━━━━━━━━━━━━━━━━━━━━━━━━━━━━━━━━━━━╇━━━━━━━━━━━━━━━━━━━━━━━━╇━━━━━━━━━━━━━━━━━━━━━━━━━━━━━━━━━━━━━┩\n",
       "│\u001b[30m \u001b[0m\u001b[30m 2071706  \u001b[0m\u001b[30m \u001b[0m│\u001b[30m \u001b[0m\u001b[30mThe Definitive Journals of Lewis   \u001b[0m\u001b[30m \u001b[0m│\u001b[30m \u001b[0m\u001b[30mMeriwether Lewis      \u001b[0m\u001b[30m \u001b[0m│\u001b[30m \u001b[0m\u001b[30mBison Books                        \u001b[0m\u001b[30m \u001b[0m│\n",
       "│\u001b[30m            \u001b[0m│\u001b[30m \u001b[0m\u001b[30mand Clark, 7 Vols                  \u001b[0m\u001b[30m \u001b[0m│\u001b[30m                        \u001b[0m│\u001b[30m                                     \u001b[0m│\n",
       "├────────────┼─────────────────────────────────────┼────────────────────────┼─────────────────────────────────────┤\n",
       "│\u001b[30m \u001b[0m\u001b[30m  753098  \u001b[0m\u001b[30m \u001b[0m│\u001b[30m \u001b[0m\u001b[30mThe Holy Quran                     \u001b[0m\u001b[30m \u001b[0m│\u001b[30m \u001b[0m\u001b[30mAnonymous             \u001b[0m\u001b[30m \u001b[0m│\u001b[30m \u001b[0m\u001b[30mAmerican Trust Publications        \u001b[0m\u001b[30m \u001b[0m│\n",
       "├────────────┼─────────────────────────────────────┼────────────────────────┼─────────────────────────────────────┤\n",
       "│\u001b[30m \u001b[0m\u001b[30m 2009998  \u001b[0m\u001b[30m \u001b[0m│\u001b[30m \u001b[0m\u001b[30mMillenium: La trilogie             \u001b[0m\u001b[30m \u001b[0m│\u001b[30m \u001b[0m\u001b[30mStieg Larsson         \u001b[0m\u001b[30m \u001b[0m│\u001b[30m \u001b[0m\u001b[30mActes Sud                          \u001b[0m\u001b[30m \u001b[0m│\n",
       "├────────────┼─────────────────────────────────────┼────────────────────────┼─────────────────────────────────────┤\n",
       "│\u001b[30m \u001b[0m\u001b[30m    30    \u001b[0m\u001b[30m \u001b[0m│\u001b[30m \u001b[0m\u001b[30mJ.R.R. Tolkien 4-Book Boxed Set:   \u001b[0m\u001b[30m \u001b[0m│\u001b[30m \u001b[0m\u001b[30mJ.R.R. Tolkien        \u001b[0m\u001b[30m \u001b[0m│\u001b[30m \u001b[0m\u001b[30mBallantine Books                   \u001b[0m\u001b[30m \u001b[0m│\n",
       "│\u001b[30m            \u001b[0m│\u001b[30m \u001b[0m\u001b[30mThe Hobbit and The Lord of the     \u001b[0m\u001b[30m \u001b[0m│\u001b[30m                        \u001b[0m│\u001b[30m                                     \u001b[0m│\n",
       "│\u001b[30m            \u001b[0m│\u001b[30m \u001b[0m\u001b[30mRings                              \u001b[0m\u001b[30m \u001b[0m│\u001b[30m                        \u001b[0m│\u001b[30m                                     \u001b[0m│\n",
       "├────────────┼─────────────────────────────────────┼────────────────────────┼─────────────────────────────────────┤\n",
       "│\u001b[30m \u001b[0m\u001b[30m  850794  \u001b[0m\u001b[30m \u001b[0m│\u001b[30m \u001b[0m\u001b[30mThe Man Without Qualities          \u001b[0m\u001b[30m \u001b[0m│\u001b[30m \u001b[0m\u001b[30mRobert Musil          \u001b[0m\u001b[30m \u001b[0m│\u001b[30m \u001b[0m\u001b[30mAlfred a Knopf                     \u001b[0m\u001b[30m \u001b[0m│\n",
       "├────────────┼─────────────────────────────────────┼────────────────────────┼─────────────────────────────────────┤\n",
       "│\u001b[30m \u001b[0m\u001b[30m  301199  \u001b[0m\u001b[30m \u001b[0m│\u001b[30m \u001b[0m\u001b[30mLongman Advanced American          \u001b[0m\u001b[30m \u001b[0m│\u001b[30m \u001b[0m\u001b[30mAddison Wesley Longman\u001b[0m\u001b[30m \u001b[0m│\u001b[30m \u001b[0m\u001b[30mAddison Wesley Publishing Company  \u001b[0m\u001b[30m \u001b[0m│\n",
       "│\u001b[30m            \u001b[0m│\u001b[30m \u001b[0m\u001b[30mDictionary                         \u001b[0m\u001b[30m \u001b[0m│\u001b[30m                        \u001b[0m│\u001b[30m                                     \u001b[0m│\n",
       "├────────────┼─────────────────────────────────────┼────────────────────────┼─────────────────────────────────────┤\n",
       "│\u001b[30m \u001b[0m\u001b[30m 3215105  \u001b[0m\u001b[30m \u001b[0m│\u001b[30m \u001b[0m\u001b[30mThe Story and Its Writer: An       \u001b[0m\u001b[30m \u001b[0m│\u001b[30m \u001b[0m\u001b[30mAnn Charters          \u001b[0m\u001b[30m \u001b[0m│\u001b[30m \u001b[0m\u001b[30mBedford Books                      \u001b[0m\u001b[30m \u001b[0m│\n",
       "│\u001b[30m            \u001b[0m│\u001b[30m \u001b[0m\u001b[30mIntroduction to Short Fiction      \u001b[0m\u001b[30m \u001b[0m│\u001b[30m                        \u001b[0m│\u001b[30m                                     \u001b[0m│\n",
       "├────────────┼─────────────────────────────────────┼────────────────────────┼─────────────────────────────────────┤\n",
       "│\u001b[30m \u001b[0m\u001b[30m  19082   \u001b[0m\u001b[30m \u001b[0m│\u001b[30m \u001b[0m\u001b[30mThe Complete Works: The Revised    \u001b[0m\u001b[30m \u001b[0m│\u001b[30m \u001b[0m\u001b[30mAristotle             \u001b[0m\u001b[30m \u001b[0m│\u001b[30m \u001b[0m\u001b[30mBollingen/Princeton University     \u001b[0m\u001b[30m \u001b[0m│\n",
       "│\u001b[30m            \u001b[0m│\u001b[30m \u001b[0m\u001b[30mOxford Translation, Vol. 1         \u001b[0m\u001b[30m \u001b[0m│\u001b[30m                        \u001b[0m│\u001b[30m \u001b[0m\u001b[30mPress (NJ)                         \u001b[0m\u001b[30m \u001b[0m│\n",
       "├────────────┼─────────────────────────────────────┼────────────────────────┼─────────────────────────────────────┤\n",
       "│\u001b[30m \u001b[0m\u001b[30m  182785  \u001b[0m\u001b[30m \u001b[0m│\u001b[30m \u001b[0m\u001b[30mHow Arbitration Works: Elkouri &   \u001b[0m\u001b[30m \u001b[0m│\u001b[30m \u001b[0m\u001b[30mFrank Elkouri         \u001b[0m\u001b[30m \u001b[0m│\u001b[30m \u001b[0m\u001b[30mBureau of National Affairs         \u001b[0m\u001b[30m \u001b[0m│\n",
       "│\u001b[30m            \u001b[0m│\u001b[30m \u001b[0m\u001b[30mElkouri                            \u001b[0m\u001b[30m \u001b[0m│\u001b[30m                        \u001b[0m│\u001b[30m                                     \u001b[0m│\n",
       "├────────────┼─────────────────────────────────────┼────────────────────────┼─────────────────────────────────────┤\n",
       "│\u001b[30m \u001b[0m\u001b[30m  169025  \u001b[0m\u001b[30m \u001b[0m│\u001b[30m \u001b[0m\u001b[30mMac OS X Internals: A Systems      \u001b[0m\u001b[30m \u001b[0m│\u001b[30m \u001b[0m\u001b[30mAmit Singh            \u001b[0m\u001b[30m \u001b[0m│\u001b[30m \u001b[0m\u001b[30mAddison-Wesley Professional        \u001b[0m\u001b[30m \u001b[0m│\n",
       "│\u001b[30m            \u001b[0m│\u001b[30m \u001b[0m\u001b[30mApproach                           \u001b[0m\u001b[30m \u001b[0m│\u001b[30m                        \u001b[0m│\u001b[30m                                     \u001b[0m│\n",
       "└────────────┴─────────────────────────────────────┴────────────────────────┴─────────────────────────────────────┘\n"
      ]
     },
     "metadata": {},
     "output_type": "display_data"
    }
   ],
   "source": [
    "feature_columns = ['pagesNumber', 'publisher', 'rating', 'countsofreview', 'publishyear']\n",
    "feature_recommender_system = feature_based_recommender(filtered_books_df, feature_columns)\n",
    "recommended_books_fr_r = feature_recommender_system(\"Harry Potter Series Box Set (Harry Potter, #1-7)\", n_neighbors=10)\n",
    "display_recommendations_in_table(recommended_books_fr_r)"
   ]
  },
  {
   "cell_type": "code",
   "execution_count": 67,
   "id": "7cc2f5bf-9927-4b04-a3ca-af5b51dd41fb",
   "metadata": {},
   "outputs": [],
   "source": [
    "# filtered_books_df.loc[filtered_books_df['name'] == \"J.R.R. Tolkien 4-Book Boxed Set: The Hobbit and The Lord of the Rings\"]"
   ]
  },
  {
   "cell_type": "markdown",
   "id": "c6a66009-446d-4f41-88c7-f7e0f1128c2a",
   "metadata": {},
   "source": [
    "#### Read the description of the books to confirm if the recommended books makes sense"
   ]
  },
  {
   "cell_type": "code",
   "execution_count": 69,
   "id": "6b06ec69-301c-483d-9dfa-b757a7600161",
   "metadata": {},
   "outputs": [
    {
     "name": "stdout",
     "output_type": "stream",
     "text": [
      "Over 4000 pages of Harry Potter and his world, including all 7 books.<br /><br />All seven eBooks in the multi-award winning, internationally bestselling Harry Potter series, available as one download with stunning cover art by Olly Moss. Enjoy the stories that have captured the imagination of millions worldwide.\n"
     ]
    }
   ],
   "source": [
    "# Identify the correct column name for book titles\n",
    "actual_col_name = [col for col in filtered_books_df.columns if \"name\" in col.lower()]\n",
    "book_title_column = actual_col_name[0] if actual_col_name else \"name\"  # Default to 'name'\n",
    "\n",
    "# Get the description for the specific book\n",
    "book_title = \"Harry Potter Series Box Set (Harry Potter, #1-7)\"\n",
    "book_description = filtered_books_df.loc[filtered_books_df[book_title_column] == book_title, 'description']\n",
    "\n",
    "# Display the result\n",
    "print(book_description.iloc[0] if not book_description.empty else \"Book not found in dataset.\")"
   ]
  },
  {
   "cell_type": "markdown",
   "id": "9a52a9ea-8f32-432c-8f79-5074d1912553",
   "metadata": {},
   "source": [
    "#### Collaborative Filtering"
   ]
  },
  {
   "cell_type": "markdown",
   "id": "d8a2a771-8b9f-45b6-9e4e-0ebcc0472965",
   "metadata": {},
   "source": [
    "Our matched rows dataset serves as the user dataset for collaborative filtering."
   ]
  },
  {
   "cell_type": "code",
   "execution_count": 72,
   "id": "11ac84ac-eb8f-42e7-96c1-10faebbb0a38",
   "metadata": {},
   "outputs": [
    {
     "data": {
      "text/html": [
       "<div>\n",
       "<style scoped>\n",
       "    .dataframe tbody tr th:only-of-type {\n",
       "        vertical-align: middle;\n",
       "    }\n",
       "\n",
       "    .dataframe tbody tr th {\n",
       "        vertical-align: top;\n",
       "    }\n",
       "\n",
       "    .dataframe thead th {\n",
       "        text-align: right;\n",
       "    }\n",
       "</style>\n",
       "<table border=\"1\" class=\"dataframe\">\n",
       "  <thead>\n",
       "    <tr style=\"text-align: right;\">\n",
       "      <th></th>\n",
       "      <th>user_id</th>\n",
       "      <th>name</th>\n",
       "      <th>rating</th>\n",
       "      <th>rating in numbers</th>\n",
       "      <th>clean_name</th>\n",
       "      <th>book_id</th>\n",
       "    </tr>\n",
       "  </thead>\n",
       "  <tbody>\n",
       "    <tr>\n",
       "      <th>0</th>\n",
       "      <td>1</td>\n",
       "      <td>Agile Web Development with Rails: A Pragmatic ...</td>\n",
       "      <td>it was amazing</td>\n",
       "      <td>5</td>\n",
       "      <td>agile web development with rails a pragmatic g...</td>\n",
       "      <td>45.0</td>\n",
       "    </tr>\n",
       "    <tr>\n",
       "      <th>1</th>\n",
       "      <td>1</td>\n",
       "      <td>The Restaurant at the End of the Universe (Hit...</td>\n",
       "      <td>it was amazing</td>\n",
       "      <td>5</td>\n",
       "      <td>the restaurant at the end of the universe hitc...</td>\n",
       "      <td>862825.0</td>\n",
       "    </tr>\n",
       "    <tr>\n",
       "      <th>2</th>\n",
       "      <td>1</td>\n",
       "      <td>Siddhartha</td>\n",
       "      <td>it was amazing</td>\n",
       "      <td>5</td>\n",
       "      <td>siddhartha</td>\n",
       "      <td>828548.0</td>\n",
       "    </tr>\n",
       "    <tr>\n",
       "      <th>3</th>\n",
       "      <td>1</td>\n",
       "      <td>The Clock of the Long Now: Time and Responsibi...</td>\n",
       "      <td>really liked it</td>\n",
       "      <td>4</td>\n",
       "      <td>the clock of the long now time and responsibility</td>\n",
       "      <td>1788479.0</td>\n",
       "    </tr>\n",
       "    <tr>\n",
       "      <th>5</th>\n",
       "      <td>1</td>\n",
       "      <td>The Hunger Games (The Hunger Games, #1)</td>\n",
       "      <td>it was amazing</td>\n",
       "      <td>5</td>\n",
       "      <td>the hunger games the hunger games 1</td>\n",
       "      <td>3544003.0</td>\n",
       "    </tr>\n",
       "  </tbody>\n",
       "</table>\n",
       "</div>"
      ],
      "text/plain": [
       "   user_id                                               name  \\\n",
       "0        1  Agile Web Development with Rails: A Pragmatic ...   \n",
       "1        1  The Restaurant at the End of the Universe (Hit...   \n",
       "2        1                                         Siddhartha   \n",
       "3        1  The Clock of the Long Now: Time and Responsibi...   \n",
       "5        1            The Hunger Games (The Hunger Games, #1)   \n",
       "\n",
       "            rating  rating in numbers  \\\n",
       "0   it was amazing                  5   \n",
       "1   it was amazing                  5   \n",
       "2   it was amazing                  5   \n",
       "3  really liked it                  4   \n",
       "5   it was amazing                  5   \n",
       "\n",
       "                                          clean_name    book_id  \n",
       "0  agile web development with rails a pragmatic g...       45.0  \n",
       "1  the restaurant at the end of the universe hitc...   862825.0  \n",
       "2                                         siddhartha   828548.0  \n",
       "3  the clock of the long now time and responsibility  1788479.0  \n",
       "5                the hunger games the hunger games 1  3544003.0  "
      ]
     },
     "execution_count": 72,
     "metadata": {},
     "output_type": "execute_result"
    }
   ],
   "source": [
    "matched_rows.head()"
   ]
  },
  {
   "cell_type": "markdown",
   "id": "eee2ff34-5da0-40be-a3c6-60eafc9ca340",
   "metadata": {},
   "source": [
    "We extract only the necessary columns, ensuring book_id is in integer format."
   ]
  },
  {
   "cell_type": "code",
   "execution_count": 74,
   "id": "b9ce5e6f-513f-40c4-9133-bd03761dbb89",
   "metadata": {},
   "outputs": [
    {
     "name": "stdout",
     "output_type": "stream",
     "text": [
      "   user_id  book_id  rating in numbers\n",
      "0        1       45                  5\n",
      "1        1   862825                  5\n",
      "2        1   828548                  5\n",
      "3        1  1788479                  4\n",
      "5        1  3544003                  5\n"
     ]
    }
   ],
   "source": [
    "# Use only required columns\n",
    "df_cf = matched_rows[['user_id', 'book_id', 'rating in numbers']]\n",
    "\n",
    "# Convert book_id to integer \n",
    "df_cf['book_id'] = df_cf['book_id'].astype(int)\n",
    "\n",
    "print(df_cf.head())"
   ]
  },
  {
   "cell_type": "markdown",
   "id": "8ed50a88-8d46-4dc3-ae0b-95bf5fbcb116",
   "metadata": {},
   "source": [
    "We aggregate ratings by averaging them for each user-book pair to ensure uniqueness."
   ]
  },
  {
   "cell_type": "code",
   "execution_count": 76,
   "id": "e954b9cb-2ef4-434e-8dcb-fa6a2d922552",
   "metadata": {},
   "outputs": [],
   "source": [
    "# Aggregate ratings by averaging them for each user-book pair\n",
    "df_cf = df_cf.groupby(['user_id', 'book_id'], as_index=False)['rating in numbers'].mean()"
   ]
  },
  {
   "cell_type": "markdown",
   "id": "f2b49a2c-3c6f-407b-a415-0fbb36494b2f",
   "metadata": {},
   "source": [
    "We construct a User-Item matrix where rows represent users, columns represent books, and values are ratings."
   ]
  },
  {
   "cell_type": "code",
   "execution_count": 78,
   "id": "0040c97d-474a-46aa-b5bd-791a158b2a29",
   "metadata": {},
   "outputs": [
    {
     "name": "stdout",
     "output_type": "stream",
     "text": [
      "User-Item Matrix Shape: (4003, 51336)\n"
     ]
    }
   ],
   "source": [
    "# Create User-Item matrix \n",
    "user_item_matrix = df_cf.pivot(index='user_id', columns='book_id', values='rating in numbers')\n",
    "\n",
    "# Fill NaN values with 0 \n",
    "user_item_matrix = user_item_matrix.fillna(0)\n",
    "\n",
    "# Convert to sparse matrix \n",
    "from scipy.sparse import csr_matrix\n",
    "sparse_matrix = csr_matrix(user_item_matrix)\n",
    "\n",
    "print(f\"User-Item Matrix Shape: {user_item_matrix.shape}\")"
   ]
  },
  {
   "cell_type": "markdown",
   "id": "0865de59-54e5-4e45-93af-6921aa053cd4",
   "metadata": {},
   "source": [
    "The matrix has 4,003 users and 51,336 unique books, ready for collaborative filtering."
   ]
  },
  {
   "cell_type": "markdown",
   "id": "844d819e-002c-4c68-abab-570b9791c6fa",
   "metadata": {},
   "source": [
    "We use Singular Value Decomposition (SVD) to break down user-book interactions into key patterns.\n",
    "- User Matrix stores user preferences in a 50-dimensional space.\n",
    "- Item Matrix represents books in the same space, making it easier to find similar books."
   ]
  },
  {
   "cell_type": "markdown",
   "id": "7572ae86-a7c3-47a8-b5f9-ff1960bf6835",
   "metadata": {},
   "source": [
    "#### SVD"
   ]
  },
  {
   "cell_type": "code",
   "execution_count": 82,
   "id": "6e5a1b3c-3a0e-4bc1-bf2a-c2e2114d07ed",
   "metadata": {},
   "outputs": [
    {
     "name": "stdout",
     "output_type": "stream",
     "text": [
      "User Matrix Shape: (4003, 50)\n",
      "Item Matrix Shape: (50, 51336)\n"
     ]
    }
   ],
   "source": [
    "from sklearn.decomposition import TruncatedSVD\n",
    "import numpy as np\n",
    "\n",
    "# Define number of latent factors\n",
    "n_components = 50  \n",
    "\n",
    "# Train SVD model\n",
    "svd = TruncatedSVD(n_components=n_components, random_state=42)\n",
    "svd.fit(sparse_matrix)\n",
    "\n",
    "# Transform user and item matrices\n",
    "user_matrix = svd.transform(sparse_matrix)\n",
    "item_matrix = svd.components_\n",
    "\n",
    "print(f\"User Matrix Shape: {user_matrix.shape}\")\n",
    "print(f\"Item Matrix Shape: {item_matrix.shape}\")"
   ]
  },
  {
   "cell_type": "markdown",
   "id": "300bd071-4838-4a55-97f5-974fa98bbc36",
   "metadata": {},
   "source": [
    "- User Matrix (4003, 50): Each user is represented by 50 factors capturing their preferences.\n",
    "- Item Matrix (50, 51336): Each book is mapped to the same 50-factor space, making similarity comparisons easier."
   ]
  },
  {
   "cell_type": "markdown",
   "id": "3ea47a02-cffa-44a4-9db0-a35810241125",
   "metadata": {},
   "source": [
    "Now that we have transformed the data, we use matrix multiplication to predict ratings for books that users haven't rated yet."
   ]
  },
  {
   "cell_type": "code",
   "execution_count": 85,
   "id": "e5dba45e-6de5-4231-a3c3-17fb35f884b0",
   "metadata": {},
   "outputs": [],
   "source": [
    "# Compute predicted ratings\n",
    "predicted_ratings = np.dot(user_matrix, item_matrix)\n",
    "\n",
    "# Convert predictions to DataFrame\n",
    "predicted_ratings_df = pd.DataFrame(predicted_ratings, index=user_item_matrix.index, columns=user_item_matrix.columns)\n"
   ]
  },
  {
   "cell_type": "markdown",
   "id": "0d622833-67d5-4ad1-b63e-5b85a0b3a378",
   "metadata": {},
   "source": [
    "- The User Matrix and Item Matrix are multiplied to reconstruct the User-Item matrix with predicted ratings.\n",
    "- This helps us estimate which books a user might like based on patterns in the data."
   ]
  },
  {
   "cell_type": "markdown",
   "id": "77aee28b-eeb8-4eb3-a079-2a0894fc83c9",
   "metadata": {},
   "source": [
    "#### User-Based KNN"
   ]
  },
  {
   "cell_type": "markdown",
   "id": "54a3591f-97d5-491f-9af5-0d185bd3986e",
   "metadata": {},
   "source": [
    "We use K-Nearest Neighbors (KNN) to find users with similar reading patterns."
   ]
  },
  {
   "cell_type": "code",
   "execution_count": 89,
   "id": "de6a941e-7d88-4cac-9176-78452809b62d",
   "metadata": {},
   "outputs": [],
   "source": [
    "from sklearn.neighbors import NearestNeighbors\n",
    "\n",
    "# Train User-Based KNN model\n",
    "knn_user = NearestNeighbors(metric='cosine', algorithm='brute', n_neighbors=10)\n",
    "knn_user.fit(sparse_matrix)\n",
    "\n",
    "# Find nearest neighbors\n",
    "distances, indices = knn_user.kneighbors(sparse_matrix)\n",
    "\n",
    "# Predict ratings based on nearest neighbors\n",
    "knn_user_predicted = np.zeros(user_item_matrix.shape)\n",
    "for i in range(user_item_matrix.shape[0]):\n",
    "    knn_user_predicted[i, :] = user_item_matrix.iloc[indices[i]].mean(axis=0)\n",
    "\n",
    "# Convert to DataFrame\n",
    "knn_user_predicted_df = pd.DataFrame(knn_user_predicted, index=user_item_matrix.index, columns=user_item_matrix.columns)"
   ]
  },
  {
   "cell_type": "markdown",
   "id": "3c88a365-e035-4767-8bb9-dd0748013357",
   "metadata": {},
   "source": [
    "- The model finds 10 nearest users for each user based on cosine similarity.\n",
    "- Predicted ratings are generated by averaging the ratings of a user's nearest neighbors.\n",
    "- This helps recommend books that similar users have liked."
   ]
  },
  {
   "cell_type": "markdown",
   "id": "2f400a30-ddbd-4845-a410-7251a628dab7",
   "metadata": {},
   "source": [
    "#### Item-Based KNN"
   ]
  },
  {
   "cell_type": "markdown",
   "id": "ef0d92e7-e81d-4f14-9cbc-3ced64d28380",
   "metadata": {},
   "source": [
    "Instead of finding similar users, this method finds similar books based on user ratings."
   ]
  },
  {
   "cell_type": "code",
   "execution_count": 93,
   "id": "ed621c8c-f592-4f3e-8e89-6efd88f5d01f",
   "metadata": {},
   "outputs": [],
   "source": [
    "# Train Item-Based KNN model\n",
    "knn_item = NearestNeighbors(metric='cosine', algorithm='brute', n_neighbors=10)\n",
    "knn_item.fit(sparse_matrix.T)  # Transpose for item-based filtering\n",
    "\n",
    "# Find nearest neighbors for items (books)\n",
    "distances, indices = knn_item.kneighbors(sparse_matrix.T)\n",
    "\n",
    "# Predict ratings based on similar items\n",
    "knn_item_predicted = np.zeros(user_item_matrix.shape)\n",
    "for i in range(user_item_matrix.shape[1]):  \n",
    "    knn_item_predicted[:, i] = user_item_matrix.iloc[:, indices[i]].mean(axis=1)\n",
    "\n",
    "# Convert to DataFrame\n",
    "knn_item_predicted_df = pd.DataFrame(knn_item_predicted, index=user_item_matrix.index, columns=user_item_matrix.columns)"
   ]
  },
  {
   "cell_type": "markdown",
   "id": "6b7c41d2-173e-4179-974b-eb1988fb60c9",
   "metadata": {},
   "source": [
    "- The KNN model identifies 10 most similar books using cosine similarity.\n",
    "- If a user has rated a book, we recommend other books that similar users rated in a similar way.\n",
    "- This helps suggest books that are often read together."
   ]
  },
  {
   "cell_type": "markdown",
   "id": "f3c33ccd-2f46-4526-b5ea-a36a52951cda",
   "metadata": {},
   "source": [
    "#### Non-Negative Matrix Factorization (NMF)"
   ]
  },
  {
   "cell_type": "markdown",
   "id": "c3d4ed28-27b6-4d22-83ad-fc85d5b839a5",
   "metadata": {},
   "source": [
    "We apply NMF, another matrix factorization technique, to uncover hidden patterns in user-book interactions."
   ]
  },
  {
   "cell_type": "code",
   "execution_count": 97,
   "id": "57b43372-3260-49cc-8264-a38854b88dc2",
   "metadata": {},
   "outputs": [],
   "source": [
    "from sklearn.decomposition import NMF\n",
    "\n",
    "# Train NMF model\n",
    "nmf = NMF(n_components=50, random_state=42)\n",
    "W = nmf.fit_transform(sparse_matrix)\n",
    "H = nmf.components_\n",
    "\n",
    "# Predict ratings\n",
    "nmf_predicted_ratings = np.dot(W, H)\n",
    "\n",
    "# Convert to DataFrame\n",
    "nmf_predicted_df = pd.DataFrame(nmf_predicted_ratings, index=user_item_matrix.index, columns=user_item_matrix.columns)"
   ]
  },
  {
   "cell_type": "markdown",
   "id": "5d0419e9-8f2d-4c3f-ac38-314b484488c9",
   "metadata": {},
   "source": [
    "- Unlike SVD, NMF ensures all values remain positive, making it better suited for interpreting feature relationships.\n",
    "- The model decomposes the User-Item Matrix into two smaller matrices (W and H), which are then multiplied to predict missing ratings.\n",
    "- This helps recommend books based on user preferences in a more interpretable way."
   ]
  },
  {
   "cell_type": "markdown",
   "id": "558a009f-9854-438e-8be6-e7f0a434badc",
   "metadata": {},
   "source": [
    "#### Evaluating Model Performance (RMSE)\n",
    "We compare the Root Mean Squared Error (RMSE) of different collaborative filtering models."
   ]
  },
  {
   "cell_type": "code",
   "execution_count": 100,
   "id": "ae26f585-1112-455e-94dd-8dcc2156d18f",
   "metadata": {},
   "outputs": [
    {
     "name": "stdout",
     "output_type": "stream",
     "text": [
      "RMSE Comparison:\n",
      "SVD: 3.1028\n",
      "KNN (User-Based): 3.0872\n",
      "KNN (Item-Based): 2.4066\n",
      "NMF: 3.1980\n"
     ]
    }
   ],
   "source": [
    "from sklearn.metrics import mean_squared_error\n",
    "\n",
    "def calculate_rmse(actual, predicted):\n",
    "    mask = actual > 0  \n",
    "    return np.sqrt(mean_squared_error(actual[mask], predicted[mask]))\n",
    "\n",
    "# Compute RMSE for each model\n",
    "rmse_svd = calculate_rmse(user_item_matrix.values, predicted_ratings_df.values)\n",
    "rmse_knn_user = calculate_rmse(user_item_matrix.values, knn_user_predicted_df.values)\n",
    "rmse_knn_item = calculate_rmse(user_item_matrix.values, knn_item_predicted_df.values)\n",
    "rmse_nmf = calculate_rmse(user_item_matrix.values, nmf_predicted_df.values)\n",
    "\n",
    "# Print RMSE results\n",
    "print(f\"RMSE Comparison:\")\n",
    "print(f\"SVD: {rmse_svd:.4f}\")\n",
    "print(f\"KNN (User-Based): {rmse_knn_user:.4f}\")\n",
    "print(f\"KNN (Item-Based): {rmse_knn_item:.4f}\")\n",
    "print(f\"NMF: {rmse_nmf:.4f}\")\n"
   ]
  },
  {
   "cell_type": "markdown",
   "id": "5fd1153d-3f39-48db-8cf4-1b6dcebe4f23",
   "metadata": {},
   "source": [
    "- Lower RMSE means better prediction accuracy.\n",
    "- KNN (Item-Based) has the lowest RMSE (2.4066), making it the most accurate model.\n",
    "- SVD, KNN (User-Based), and NMF perform similarly but with slightly higher error."
   ]
  },
  {
   "cell_type": "markdown",
   "id": "6a24e57a-f99b-478e-9230-0359097f6c89",
   "metadata": {},
   "source": [
    "#### Generating Book Recommendations for Selected Users\n",
    "We manually select 5 users and generate book recommendations for them using different models."
   ]
  },
  {
   "cell_type": "code",
   "execution_count": 103,
   "id": "c75e1942-0a6f-44bc-9612-b5e6a2f582f6",
   "metadata": {},
   "outputs": [],
   "source": [
    "# selected users for recommendations\n",
    "selected_users = [1370, 5031, 7629, 2842, 8655]\n",
    "\n",
    "# Function to get top recommendations\n",
    "def get_top_n_recommendations(predicted_df, user_id, n=5):\n",
    "    # Get predicted ratings for the user\n",
    "    user_ratings = predicted_df.loc[user_id]\n",
    "\n",
    "    # Exclude books already rated by the user\n",
    "    user_read_books = df_cf[df_cf['user_id'] == user_id]['book_id'].tolist()\n",
    "    user_ratings = user_ratings.drop(index=user_read_books, errors='ignore')\n",
    "\n",
    "    # Get top N recommendations\n",
    "    top_books = user_ratings.sort_values(ascending=False).head(n)\n",
    "    \n",
    "    return top_books.index.tolist()\n",
    "\n",
    "# Get recommendations for selected users\n",
    "models = {\n",
    "    \"SVD\": predicted_ratings_df,\n",
    "    \"KNN (User-Based)\": knn_user_predicted_df,\n",
    "    \"KNN (Item-Based)\": knn_item_predicted_df,\n",
    "    \"NMF\": nmf_predicted_df\n",
    "}\n",
    "\n",
    "# Store recommendations for selected users\n",
    "manual_user_recommendations = {user: {model: get_top_n_recommendations(df, user, n=5) \n",
    "                                      for model, df in models.items()} for user in selected_users}"
   ]
  },
  {
   "cell_type": "markdown",
   "id": "e2491cff-cd37-42aa-abb5-909749674105",
   "metadata": {},
   "source": [
    "- Predicted ratings are filtered to exclude books the user has already rated.\n",
    "- Each model (SVD, KNN (User-Based), KNN (Item-Based), and NMF) provides Top-5 book recommendations for each user.\n",
    "- This ensures personalized recommendations for each user based on their unique preferences."
   ]
  },
  {
   "cell_type": "markdown",
   "id": "372705bf-097b-4248-a0b3-6debcece94b8",
   "metadata": {},
   "source": [
    "#### Book Recommendations for Users using Collaborative filtering"
   ]
  },
  {
   "cell_type": "markdown",
   "id": "fcdaf0b8-de72-41a8-bf36-8f1d6edbb6c9",
   "metadata": {},
   "source": [
    "We generate personalized book recommendations for five manually selected users using four different collaborative filtering models.\n",
    "\n",
    "- SVD: Uses matrix factorization to predict preferences.\n",
    "- KNN (User-Based): Suggests books based on similar users.\n",
    "- KNN (Item-Based): Recommends books similar to ones the user has liked.\n",
    "- NMF: Another matrix factorization method that ensures non-negative features.\n",
    "\n",
    "Each model provides Top-5 book recommendations for every user."
   ]
  },
  {
   "cell_type": "code",
   "execution_count": 107,
   "id": "38aae2ac-f3c9-4ab5-b328-0c199f389dca",
   "metadata": {},
   "outputs": [
    {
     "name": "stdout",
     "output_type": "stream",
     "text": [
      "==================================================\n",
      "Top-5 Recommended Books for User 1370:\n",
      "==================================================\n",
      "\n",
      " SVD Recommendations:\n",
      "   1. The Help\n",
      "   2. A Thousand Splendid Suns\n",
      "   3. The Book Thief\n",
      "   4. The Curious Incident of the Dog in the Night-time\n",
      "   5. New Moon (Twilight, #2)\n",
      "\n",
      " KNN (User-Based) Recommendations:\n",
      "   1. The Help\n",
      "   2. The Book Thief\n",
      "   3. Middlesex\n",
      "   4. The Thirteenth Tale\n",
      "   5. Brave New World\n",
      "\n",
      " KNN (Item-Based) Recommendations:\n",
      "   1. A Thousand Splendid Suns\n",
      "   2. Eat Pray Love\n",
      "   3. The Help\n",
      "   4. The Devil in the White City\n",
      "   5. The Likeness (Dublin Murder Squad #2)\n",
      "\n",
      " NMF Recommendations:\n",
      "   1. The Help\n",
      "   2. The Book Thief\n",
      "   3. A Thousand Splendid Suns\n",
      "   4. Eat Pray Love\n",
      "   5. The Guernsey Literary and Potato Peel Pie Society\n",
      "\n",
      "--------------------------------------------------\n",
      "==================================================\n",
      "Top-5 Recommended Books for User 5031:\n",
      "==================================================\n",
      "\n",
      " SVD Recommendations:\n",
      "   1. Harry Potter and the Goblet of Fire (Harry Potter, #4)\n",
      "   2. Harry Potter and the Chamber of Secrets (Harry Potter, #2)\n",
      "   3. The Great Gatsby\n",
      "   4. Harry Potter and the Deathly Hallows (Harry Potter, #7)\n",
      "   5. The Adventures of Huckleberry Finn\n",
      "\n",
      " KNN (User-Based) Recommendations:\n",
      "   1. Harry Potter and the Goblet of Fire (Harry Potter, #4)\n",
      "   2. The Catcher in the Rye\n",
      "   3. The Great Gatsby\n",
      "   4. Harry Potter and the Chamber of Secrets (Harry Potter, #2)\n",
      "   5. Of Mice and Men\n",
      "\n",
      " KNN (Item-Based) Recommendations:\n",
      "   1. Harry Potter and the Goblet of Fire (Harry Potter, #4)\n",
      "   2. Harry Potter and the Chamber of Secrets (Harry Potter, #2)\n",
      "   3. The Grass Dancer\n",
      "   4. Ruling Your World: Ancient Strategies For Modern Life\n",
      "   5. Harry Potter and the Deathly Hallows (Harry Potter, #7)\n",
      "\n",
      " NMF Recommendations:\n",
      "   1. Harry Potter and the Goblet of Fire (Harry Potter, #4)\n",
      "   2. Harry Potter and the Chamber of Secrets (Harry Potter, #2)\n",
      "   3. Harry Potter and the Deathly Hallows (Harry Potter, #7)\n",
      "   4. The Catcher in the Rye\n",
      "   5. The Great Gatsby\n",
      "\n",
      "--------------------------------------------------\n",
      "==================================================\n",
      "Top-5 Recommended Books for User 7629:\n",
      "==================================================\n",
      "\n",
      " SVD Recommendations:\n",
      "   1. Water for Elephants\n",
      "   2. A Thousand Splendid Suns\n",
      "   3. The Kite Runner\n",
      "   4. The Girl with the Dragon Tattoo (Millennium #1)\n",
      "   5. The Time Traveler's Wife\n",
      "\n",
      " KNN (User-Based) Recommendations:\n",
      "   1. The Kite Runner\n",
      "   2. A Thousand Splendid Suns\n",
      "   3. The Time Traveler's Wife\n",
      "   4. The Secret Life Of Bees\n",
      "   5. Water for Elephants\n",
      "\n",
      " KNN (Item-Based) Recommendations:\n",
      "   1. His Lovely Wife\n",
      "   2. Snow Flower and the Secret Fan\n",
      "   3. The Nightingale\n",
      "   4. The Secret Life Of Bees\n",
      "   5. Girl With a Pearl Earring\n",
      "\n",
      " NMF Recommendations:\n",
      "   1. The Girl with the Dragon Tattoo (Millennium #1)\n",
      "   2. The Hunger Games (The Hunger Games, #1)\n",
      "   3. Water for Elephants\n",
      "   4. The Kite Runner\n",
      "   5. The Girl Who Played With Fire (Millennium #2)\n",
      "\n",
      "--------------------------------------------------\n",
      "==================================================\n",
      "Top-5 Recommended Books for User 2842:\n",
      "==================================================\n",
      "\n",
      " SVD Recommendations:\n",
      "   1. One Hundred Years of Solitude\n",
      "   2. Love In The Time Of Cholera\n",
      "   3. The Little Prince\n",
      "   4. The House of the Spirits\n",
      "   5. The Poisonwood Bible\n",
      "\n",
      " KNN (User-Based) Recommendations:\n",
      "   1. The House of the Spirits\n",
      "   2. The Alchemist\n",
      "   3. To Kill a Mockingbird\n",
      "   4. The Time Traveler's Wife\n",
      "   5. The Da Vinci Code (Robert Langdon, #2)\n",
      "\n",
      " KNN (Item-Based) Recommendations:\n",
      "   1. The House of the Spirits\n",
      "   2. The Riddle of the Sands\n",
      "   3. Following the Wrong God Home\n",
      "   4. Eva Luna\n",
      "   5. Zorro\n",
      "\n",
      " NMF Recommendations:\n",
      "   1. One Hundred Years of Solitude\n",
      "   2. The Kite Runner\n",
      "   3. Pride and Prejudice\n",
      "   4. Jane Eyre\n",
      "   5. Memoirs Of A Geisha\n",
      "\n",
      "--------------------------------------------------\n",
      "==================================================\n",
      "Top-5 Recommended Books for User 8655:\n",
      "==================================================\n",
      "\n",
      " SVD Recommendations:\n",
      "   1. Love In The Time Of Cholera\n",
      "   2. The Giving Tree\n",
      "   3. Charlie and the Chocolate Factory (Charlie Bucket, #1)\n",
      "   4. The Unbearable Lightness of Being\n",
      "   5. Where The Sidewalk Ends\n",
      "\n",
      " KNN (User-Based) Recommendations:\n",
      "   1. The Amazing Adventures of Kavalier & Clay\n",
      "   2. The Great Gatsby\n",
      "   3. Boy: Tales of Childhood (Roald Dahl's Autobiography, #1)\n",
      "   4. The Enormous Crocodile\n",
      "   5. The Wonderful Story of Henry Sugar: And Six More\n",
      "\n",
      " KNN (Item-Based) Recommendations:\n",
      "   1. The Twits\n",
      "   2. Charlie and the Chocolate Factory (Charlie Bucket, #1)\n",
      "   3. Boy: Tales of Childhood (Roald Dahl's Autobiography, #1)\n",
      "   4. Danny The Champion of the World\n",
      "   5. From the Mixed-Up Files of Mrs. Basil E. Frankweiler\n",
      "\n",
      " NMF Recommendations:\n",
      "   1. Love In The Time Of Cholera\n",
      "   2. The Unbearable Lightness of Being\n",
      "   3. Where The Sidewalk Ends\n",
      "   4. The Giving Tree\n",
      "   5. Where The Wild Things Are\n",
      "\n",
      "--------------------------------------------------\n"
     ]
    }
   ],
   "source": [
    "# Create book_id → book_name mapping\n",
    "book_id_to_name = matched_rows.set_index('book_id')['name'].to_dict()\n",
    "\n",
    "# Convert book IDs to book names\n",
    "def convert_to_titles(book_ids):\n",
    "    return [book_id_to_name.get(book_id, \"Unknown Book\") for book_id in book_ids]\n",
    "\n",
    "# Print recommendations for manually selected users with improved formatting\n",
    "for user in selected_users:\n",
    "    print(\"=\" * 50)\n",
    "    print(f\"Top-5 Recommended Books for User {user}:\")\n",
    "    print(\"=\" * 50)\n",
    "\n",
    "    for model, book_ids in manual_user_recommendations[user].items():\n",
    "        book_titles = convert_to_titles(book_ids)\n",
    "        print(f\"\\n {model} Recommendations:\")\n",
    "        for idx, title in enumerate(book_titles, 1):\n",
    "            print(f\"   {idx}. {title}\")\n",
    "\n",
    "    print(\"\\n\" + \"-\" * 50)\n"
   ]
  },
  {
   "cell_type": "markdown",
   "id": "b7572452-35a2-44f1-8902-c4568a3a8a39",
   "metadata": {},
   "source": [
    "#### Compare Recommendations"
   ]
  },
  {
   "cell_type": "markdown",
   "id": "d9a20c49-4d4d-4738-880b-496819304958",
   "metadata": {},
   "source": [
    "#### Jaccard Similarity\n",
    "We compare the similarity between recommendation models using Jaccard Similarity, which calculates the percentage of books that overlap between two models."
   ]
  },
  {
   "cell_type": "code",
   "execution_count": 110,
   "id": "4ac50741-7f6b-4ac6-b009-ec24cccc8277",
   "metadata": {},
   "outputs": [
    {
     "name": "stdout",
     "output_type": "stream",
     "text": [
      "\n",
      "Jaccard Similarity for User 1370:\n",
      "SVD vs KNN (User-Based): 0.25\n",
      "SVD vs KNN (Item-Based): 0.25\n",
      "SVD vs NMF: 0.43\n",
      "KNN (User-Based) vs KNN (Item-Based): 0.11\n",
      "KNN (User-Based) vs NMF: 0.25\n",
      "KNN (Item-Based) vs NMF: 0.43\n",
      "\n",
      "Jaccard Similarity for User 5031:\n",
      "SVD vs KNN (User-Based): 0.43\n",
      "SVD vs KNN (Item-Based): 0.43\n",
      "SVD vs NMF: 0.67\n",
      "KNN (User-Based) vs KNN (Item-Based): 0.25\n",
      "KNN (User-Based) vs NMF: 0.67\n",
      "KNN (Item-Based) vs NMF: 0.43\n",
      "\n",
      "Jaccard Similarity for User 7629:\n",
      "SVD vs KNN (User-Based): 0.67\n",
      "SVD vs KNN (Item-Based): 0.00\n",
      "SVD vs NMF: 0.43\n",
      "KNN (User-Based) vs KNN (Item-Based): 0.11\n",
      "KNN (User-Based) vs NMF: 0.25\n",
      "KNN (Item-Based) vs NMF: 0.00\n",
      "\n",
      "Jaccard Similarity for User 2842:\n",
      "SVD vs KNN (User-Based): 0.11\n",
      "SVD vs KNN (Item-Based): 0.11\n",
      "SVD vs NMF: 0.11\n",
      "KNN (User-Based) vs KNN (Item-Based): 0.11\n",
      "KNN (User-Based) vs NMF: 0.00\n",
      "KNN (Item-Based) vs NMF: 0.00\n",
      "\n",
      "Jaccard Similarity for User 8655:\n",
      "SVD vs KNN (User-Based): 0.00\n",
      "SVD vs KNN (Item-Based): 0.11\n",
      "SVD vs NMF: 0.67\n",
      "KNN (User-Based) vs KNN (Item-Based): 0.11\n",
      "KNN (User-Based) vs NMF: 0.00\n",
      "KNN (Item-Based) vs NMF: 0.00\n"
     ]
    }
   ],
   "source": [
    "from sklearn.metrics import jaccard_score\n",
    "\n",
    "def calculate_jaccard(set1, set2):\n",
    "    intersection = len(set1 & set2)\n",
    "    union = len(set1 | set2)\n",
    "    return intersection / union if union != 0 else 0\n",
    "\n",
    "# Compute Jaccard Similarities for each user\n",
    "for user in selected_users:\n",
    "    print(f\"\\nJaccard Similarity for User {user}:\")\n",
    "\n",
    "    svd_set = set(manual_user_recommendations[user][\"SVD\"])\n",
    "    knn_user_set = set(manual_user_recommendations[user][\"KNN (User-Based)\"])\n",
    "    knn_item_set = set(manual_user_recommendations[user][\"KNN (Item-Based)\"])\n",
    "    nmf_set = set(manual_user_recommendations[user][\"NMF\"])\n",
    "\n",
    "    print(f\"SVD vs KNN (User-Based): {calculate_jaccard(svd_set, knn_user_set):.2f}\")\n",
    "    print(f\"SVD vs KNN (Item-Based): {calculate_jaccard(svd_set, knn_item_set):.2f}\")\n",
    "    print(f\"SVD vs NMF: {calculate_jaccard(svd_set, nmf_set):.2f}\")\n",
    "    print(f\"KNN (User-Based) vs KNN (Item-Based): {calculate_jaccard(knn_user_set, knn_item_set):.2f}\")\n",
    "    print(f\"KNN (User-Based) vs NMF: {calculate_jaccard(knn_user_set, nmf_set):.2f}\")\n",
    "    print(f\"KNN (Item-Based) vs NMF: {calculate_jaccard(knn_item_set, nmf_set):.2f}\")"
   ]
  },
  {
   "cell_type": "markdown",
   "id": "90480466-3333-4ca4-a1bc-e10fa6a2a842",
   "metadata": {},
   "source": [
    "#### Cosine Similarity "
   ]
  },
  {
   "cell_type": "markdown",
   "id": "a43cc9a3-641b-4f4a-867f-392aa5f325a6",
   "metadata": {},
   "source": [
    "We also check how similar the rankings of books are across different models using Cosine Similarity."
   ]
  },
  {
   "cell_type": "code",
   "execution_count": 113,
   "id": "60f59c54-748c-49b9-b638-acf595e36a7e",
   "metadata": {},
   "outputs": [
    {
     "name": "stdout",
     "output_type": "stream",
     "text": [
      "\n",
      "Cosine Similarity for User 1370:\n",
      "SVD vs KNN (User-Based): 0.40\n",
      "SVD vs KNN (Item-Based): 0.40\n",
      "SVD vs NMF: 0.60\n",
      "KNN (User-Based) vs KNN (Item-Based): 0.20\n",
      "KNN (User-Based) vs NMF: 0.40\n",
      "KNN (Item-Based) vs NMF: 0.60\n",
      "\n",
      "Cosine Similarity for User 5031:\n",
      "SVD vs KNN (User-Based): 0.60\n",
      "SVD vs KNN (Item-Based): 0.60\n",
      "SVD vs NMF: 0.80\n",
      "KNN (User-Based) vs KNN (Item-Based): 0.40\n",
      "KNN (User-Based) vs NMF: 0.80\n",
      "KNN (Item-Based) vs NMF: 0.60\n",
      "\n",
      "Cosine Similarity for User 7629:\n",
      "SVD vs KNN (User-Based): 0.80\n",
      "SVD vs KNN (Item-Based): 0.00\n",
      "SVD vs NMF: 0.60\n",
      "KNN (User-Based) vs KNN (Item-Based): 0.20\n",
      "KNN (User-Based) vs NMF: 0.40\n",
      "KNN (Item-Based) vs NMF: 0.00\n",
      "\n",
      "Cosine Similarity for User 2842:\n",
      "SVD vs KNN (User-Based): 0.20\n",
      "SVD vs KNN (Item-Based): 0.20\n",
      "SVD vs NMF: 0.20\n",
      "KNN (User-Based) vs KNN (Item-Based): 0.20\n",
      "KNN (User-Based) vs NMF: 0.00\n",
      "KNN (Item-Based) vs NMF: 0.00\n",
      "\n",
      "Cosine Similarity for User 8655:\n",
      "SVD vs KNN (User-Based): 0.00\n",
      "SVD vs KNN (Item-Based): 0.20\n",
      "SVD vs NMF: 0.80\n",
      "KNN (User-Based) vs KNN (Item-Based): 0.20\n",
      "KNN (User-Based) vs NMF: 0.00\n",
      "KNN (Item-Based) vs NMF: 0.00\n"
     ]
    }
   ],
   "source": [
    "from sklearn.metrics.pairwise import cosine_similarity\n",
    "import numpy as np\n",
    "\n",
    "def calculate_cosine_similarity(list1, list2):\n",
    "    vec1 = np.array([1 if book in list1 else 0 for book in book_id_to_name.keys()])\n",
    "    vec2 = np.array([1 if book in list2 else 0 for book in book_id_to_name.keys()])\n",
    "    \n",
    "    return cosine_similarity(vec1.reshape(1, -1), vec2.reshape(1, -1))[0][0]\n",
    "\n",
    "# Compute Cosine Similarities for each user\n",
    "for user in selected_users:\n",
    "    print(f\"\\nCosine Similarity for User {user}:\")\n",
    "\n",
    "    svd_list = manual_user_recommendations[user][\"SVD\"]\n",
    "    knn_user_list = manual_user_recommendations[user][\"KNN (User-Based)\"]\n",
    "    knn_item_list = manual_user_recommendations[user][\"KNN (Item-Based)\"]\n",
    "    nmf_list = manual_user_recommendations[user][\"NMF\"]\n",
    "\n",
    "    print(f\"SVD vs KNN (User-Based): {calculate_cosine_similarity(svd_list, knn_user_list):.2f}\")\n",
    "    print(f\"SVD vs KNN (Item-Based): {calculate_cosine_similarity(svd_list, knn_item_list):.2f}\")\n",
    "    print(f\"SVD vs NMF: {calculate_cosine_similarity(svd_list, nmf_list):.2f}\")\n",
    "    print(f\"KNN (User-Based) vs KNN (Item-Based): {calculate_cosine_similarity(knn_user_list, knn_item_list):.2f}\")\n",
    "    print(f\"KNN (User-Based) vs NMF: {calculate_cosine_similarity(knn_user_list, nmf_list):.2f}\")\n",
    "    print(f\"KNN (Item-Based) vs NMF: {calculate_cosine_similarity(knn_item_list, nmf_list):.2f}\")"
   ]
  },
  {
   "cell_type": "markdown",
   "id": "ace45e29-d642-4a47-9c8f-8f3e6d5b0f35",
   "metadata": {},
   "source": [
    "By evaluating these similarities, we see that only a few model comparisons are close to 0, while most have a similarity score greater than 0. This indicates that our models are evaluating correctly and capturing meaningful relationships between books and users."
   ]
  },
  {
   "cell_type": "markdown",
   "id": "71522ae3-2f5f-4da4-95b2-b34d38925d6d",
   "metadata": {},
   "source": [
    "#### Best Model"
   ]
  },
  {
   "cell_type": "code",
   "execution_count": 116,
   "id": "5f61b095-1a97-456f-9ecb-12db77220ae5",
   "metadata": {},
   "outputs": [
    {
     "data": {
      "image/png": "[encoded data removed]",
      "text/plain": [
       "<Figure size 800x500 with 1 Axes>"
      ]
     },
     "metadata": {},
     "output_type": "display_data"
    }
   ],
   "source": [
    "import matplotlib.pyplot as plt\n",
    "\n",
    "# RMSE values\n",
    "models = [\"SVD\", \"KNN (User-Based)\", \"KNN (Item-Based)\", \"NMF\"]\n",
    "rmse_values = [rmse_svd, rmse_knn_user, rmse_knn_item, rmse_nmf]\n",
    "\n",
    "# Plotting the bar chart\n",
    "plt.figure(figsize=(8,5))\n",
    "plt.bar(models, rmse_values, color=[\"blue\", \"orange\", \"green\", \"red\"])\n",
    "plt.xlabel(\"Collaborative Filtering Models\")\n",
    "plt.ylabel(\"RMSE (Lower is Better)\")\n",
    "plt.title(\"RMSE Comparison Across Models\")\n",
    "plt.ylim(min(rmse_values) - 0.2, max(rmse_values) + 0.2)\n",
    "\n",
    "for i, v in enumerate(rmse_values):\n",
    "    plt.text(i, v + 0.05, f\"{v:.4f}\", ha='center', fontsize=12)\n",
    "\n",
    "plt.show()"
   ]
  },
  {
   "cell_type": "markdown",
   "id": "9a80f97d-5798-4f24-ba84-ca159d99d30e",
   "metadata": {},
   "source": [
    "- KNN (Item-Based) has the lowest RMSE, confirming its accuracy advantage over other models.\n",
    "- SVD, KNN (User-Based), and NMF have similar RMSE scores, showing they perform similarly."
   ]
  },
  {
   "cell_type": "markdown",
   "id": "0c209967-61d6-4fc3-a32a-9a7dbd9307ab",
   "metadata": {},
   "source": [
    "#### Best Collaborative Filtering Model: KNN (Item-Based)"
   ]
  },
  {
   "cell_type": "code",
   "execution_count": null,
   "id": "3c27fd19-16be-4294-951d-ae1ce4c26e46",
   "metadata": {},
   "outputs": [],
   "source": []
  },
  {
   "cell_type": "code",
   "execution_count": null,
   "id": "5859dbc1-16c9-40c8-a0ea-f9f7a207af52",
   "metadata": {},
   "outputs": [],
   "source": []
  },
  {
   "cell_type": "code",
   "execution_count": null,
   "id": "e370a482-0826-4680-90c9-5811e0d98104",
   "metadata": {},
   "outputs": [],
   "source": []
  }
 ],
 "metadata": {
  "kernelspec": {
   "display_name": "Python [conda env:base] *",
   "language": "python",
   "name": "conda-base-py"
  },
  "language_info": {
   "codemirror_mode": {
    "name": "ipython",
    "version": 3
   },
   "file_extension": ".py",
   "mimetype": "text/x-python",
   "name": "python",
   "nbconvert_exporter": "python",
   "pygments_lexer": "ipython3",
   "version": "3.11.5"
  }
 },
 "nbformat": 4,
 "nbformat_minor": 5
}
