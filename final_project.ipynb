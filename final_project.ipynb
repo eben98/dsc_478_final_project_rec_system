{
 "cells": [
  {
   "cell_type": "markdown",
   "id": "00c99b98-c0a7-426c-b35d-0ae3a3202f0a",
   "metadata": {},
   "source": [
    "# 📘 Final Project - Recommender Systems\n",
    "\n",
    "### 📌 Submitted by:\n",
    "#### 👤 1. Ebenezer Daniel  \n",
    "#### 👤 2. Raja Prabhakaran  \n",
    "#### 👤 3. Nitheesh Samiappan  "
   ]
  },
  {
   "cell_type": "markdown",
   "id": "222b4bdb-62a0-475c-a49c-51549bf41fa4",
   "metadata": {
    "tags": []
   },
   "source": [
    "## 📚 **Dataset Details: Goodreads Book Datasets (10M)**\n",
    "### 📌 Source:\n",
    "🔗 **[Goodreads Book Datasets (10M) on Kaggle](https://www.kaggle.com/datasets/bahramjannesarr/goodreads-book-datasets-10m/data)**\n",
    "\n",
    "### 📊 **Overview**\n",
    "This dataset contains **book information and user ratings** from **Goodreads**, a popular online book review platform. It includes metadata on **millions of books**, user-generated reviews, and rating distributions.\n",
    "\n",
    "### 📂 **Files Included**\n",
    "- **Books Data**: Contains metadata such as title, author, publisher, publication year, and ratings.\n",
    "- **User Ratings Data**: Includes detailed breakdowns of how users rated books (1-star to 5-star distributions).\n",
    "\n",
    "### 🔍 **Dataset Attributes**\n",
    "| Column Name         | Description |\n",
    "|---------------------|------------|\n",
    "| **Id**             | Unique book identifier |\n",
    "| **Name**           | Title of the book |\n",
    "| **Authors**        | Author(s) of the book |\n",
    "| **ISBN**           | International Standard Book Number (if available) |\n",
    "| **Publisher**      | Name of the publishing house |\n",
    "| **PagesNumber**    | Number of pages in the book |\n",
    "| **PublishYear**    | Year of publication |\n",
    "| **PublishMonth**   | Month of publication |\n",
    "| **PublishDay**     | Day of publication |\n",
    "| **Language**       | Language of the book |\n",
    "| **CountsOfReview** | Total number of user reviews |\n",
    "| **Rating**         | Average user rating (1-5) |\n",
    "| **RatingDist1**    | Number of 1-star ratings |\n",
    "| **RatingDist2**    | Number of 2-star ratings |\n",
    "| **RatingDist3**    | Number of 3-star ratings |\n",
    "| **RatingDist4**    | Number of 4-star ratings |\n",
    "| **RatingDist5**    | Number of 5-star ratings |\n",
    "| **RatingDistTotal** | Total number of ratings |\n",
    "\n",
    "### 📈 **Size of the Dataset**\n",
    "- **Number of books:** ~10 million  \n",
    "- **Number of user ratings:** ~25 million  \n",
    "\n",
    "### 🛠 **Preprocessing Done**\n",
    "- **Handling Missing Values:** Some books are missing ISBNs, publishers, or languages.\n",
    "- **Standardizing Column Names:** Ensured consistency across multiple files.\n",
    "- **Data Cleaning:** Removed duplicates, merged similar columns (e.g., `PagesNumber` and `pagesNumber`).\n",
    "\n",
    "---\n",
    "\n",
    "### 📌 **Why This Dataset?**\n",
    "- Large-scale book rating data enables **recommendation system development**.\n",
    "- Rich metadata for **book analysis, trend discovery, and user preferences**.\n",
    "- Real-world **collaborative filtering & machine learning applications**.\n",
    "\n",
    "---\n",
    "\n",
    "📢 *This dataset serves as the foundation for our book recommender system and data analysis!* 🚀\n"
   ]
  },
  {
   "cell_type": "markdown",
   "id": "3beb3b52-eb68-41cd-aa15-f22fa97e6c2b",
   "metadata": {},
   "source": [
    "#### Importing and Loading all the nesscary libraries used in the project"
   ]
  },
  {
   "cell_type": "code",
   "execution_count": 473,
   "id": "1bedcf3b-43d6-4b47-b1bc-43e714e23788",
   "metadata": {},
   "outputs": [
    {
     "name": "stdout",
     "output_type": "stream",
     "text": [
      "Installing scikit-learn...\n",
      "Installing scikit-surprise...\n",
      "All required libraries are installed.\n"
     ]
    }
   ],
   "source": [
    "import importlib\n",
    "import subprocess\n",
    "import sys\n",
    "\n",
    "# List of required libraries\n",
    "required_libraries = [\n",
    "    \"pandas\", \"numpy\", \"matplotlib\", \"seaborn\", \"scipy\", \n",
    "    \"nltk\", \"scikit-learn\", \"scikit-surprise\"  # Use scikit-surprise instead of surprise\n",
    "]\n",
    "\n",
    "# Function to check and install missing libraries\n",
    "def check_and_install(libraries):\n",
    "    for lib in libraries:\n",
    "        try:\n",
    "            importlib.import_module(lib)\n",
    "        except ImportError:\n",
    "            print(f\"Installing {lib}...\")\n",
    "            try:\n",
    "                subprocess.check_call([sys.executable, \"-m\", \"pip\", \"install\", lib])\n",
    "            except subprocess.CalledProcessError:\n",
    "                print(f\"Failed to install {lib}. Trying Conda (if applicable)...\")\n",
    "                try:\n",
    "                    subprocess.check_call([\"conda\", \"install\", \"-c\", \"conda-forge\", lib, \"-y\"])\n",
    "                except subprocess.CalledProcessError:\n",
    "                    print(f\"Could not install {lib}. Please install it manually.\")\n",
    "\n",
    "# Check and install missing libraries\n",
    "check_and_install(required_libraries)\n",
    "\n",
    "print(\"All required libraries are installed.\")\n"
   ]
  },
  {
   "cell_type": "code",
   "execution_count": 474,
   "id": "29c8775c-81ca-468c-8ad6-afe820801df4",
   "metadata": {
    "tags": []
   },
   "outputs": [
    {
     "name": "stdout",
     "output_type": "stream",
     "text": [
      "All required libraries are successfully imported.\n"
     ]
    }
   ],
   "source": [
    "# Jupyter magic command for inline plots\n",
    "%matplotlib inline\n",
    "\n",
    "# Import libraries\n",
    "import pandas as pd\n",
    "import glob\n",
    "import os\n",
    "import re\n",
    "import numpy as np\n",
    "import matplotlib.pyplot as plt\n",
    "import seaborn as sns\n",
    "from tabulate import tabulate\n",
    "from scipy import stats\n",
    "from ast import literal_eval\n",
    "from sklearn.feature_extraction.text import TfidfVectorizer, CountVectorizer\n",
    "from sklearn.metrics.pairwise import linear_kernel, cosine_similarity\n",
    "from sklearn.preprocessing import MinMaxScaler, LabelEncoder\n",
    "from sklearn.neighbors import NearestNeighbors\n",
    "from difflib import get_close_matches\n",
    "from sklearn.decomposition import TruncatedSVD\n",
    "from rich.console import Console\n",
    "from rich.table import Table\n",
    "from gensim.models import Word2Vec\n",
    "from nltk.stem.snowball import SnowballStemmer\n",
    "from nltk.stem.wordnet import WordNetLemmatizer\n",
    "from nltk.corpus import wordnet\n",
    "from surprise import Reader, Dataset, SVD\n",
    "from surprise.model_selection import cross_validate\n",
    "\n",
    "import warnings\n",
    "warnings.simplefilter('ignore')\n",
    "\n",
    "print(\"All required libraries are successfully imported.\")"
   ]
  },
  {
   "cell_type": "markdown",
   "id": "d191c41a-9c5d-446b-b26f-3de8934f3c0d",
   "metadata": {},
   "source": [
    "#### Load the Datasets and prepare the datasets (combining the data for further processing) and store the final data in CSV files"
   ]
  },
  {
   "cell_type": "code",
   "execution_count": 12,
   "id": "d6b4d4eb-b724-4d32-81ee-2b89c12be468",
   "metadata": {
    "tags": []
   },
   "outputs": [
    {
     "name": "stdout",
     "output_type": "stream",
     "text": [
      "Combined 'book' DataFrame shape: (1850310, 20)\n",
      "Combined 'user' DataFrame shape: (362596, 3)\n"
     ]
    }
   ],
   "source": [
    "# Define the folder where your CSV files are stored\n",
    "csv_folder = \"Datasets/\" \n",
    "\n",
    "# Use glob to get only CSV files that start with 'book'\n",
    "csv_book_files = glob.glob(os.path.join(csv_folder, \"book*.csv\"))\n",
    "csv_user_files = glob.glob(os.path.join(csv_folder, \"user*.csv\"))\n",
    "\n",
    "# Load and concatenate all \"book\" CSV files into a single DataFrame\n",
    "# Function to read CSV files and standardize column names before combining\n",
    "def load_and_standardize_csv(file_list):\n",
    "    df_list = []\n",
    "    for file in file_list:\n",
    "        df = pd.read_csv(file)\n",
    "        df.columns = df.columns.str.lower()\n",
    "        df_list.append(df)\n",
    "    return pd.concat(df_list, ignore_index=True)\n",
    "\n",
    "# Load and combine \"book\" and \"user\" CSV files\n",
    "df_books = load_and_standardize_csv(csv_book_files)\n",
    "df_users = load_and_standardize_csv(csv_user_files)\n",
    "\n",
    "# Rename specific mismatched columns for consistency\n",
    "df_books.rename(columns={'pagesnumber': 'pagesNumber'}, inplace=True)\n",
    "\n",
    "print(f\"Combined 'book' DataFrame shape: {df_books.shape}\")\n",
    "print(f\"Combined 'user' DataFrame shape: {df_users.shape}\")"
   ]
  },
  {
   "cell_type": "markdown",
   "id": "e26c720b-ead5-4fd2-b0aa-461491d0b268",
   "metadata": {},
   "source": [
    "##### The above goes in to datasets folder and takes all the books and combines them and puts them in one book dataframe, similarly we do it for the user data too, we take all the users data and put them in a users dataframe.\n",
    "\n",
    "##### Findings:\n",
    "- Also since there is a pagenumber and pagesNumber mismacth between the files we are correcting it here itself.\n",
    "- We found this mismatch when we were checking the missing data, then corrected them here"
   ]
  },
  {
   "cell_type": "code",
   "execution_count": 13,
   "id": "8bec11ab-fad2-46c2-9ef7-fcdc155ebc96",
   "metadata": {
    "tags": []
   },
   "outputs": [],
   "source": [
    "#store the merged data into a csv files for both books and user\n",
    "df_books.to_csv('combined_books_data.csv', index=False) # Causes memory error\n",
    "df_users.to_csv('combined_users_data.csv', index=False)"
   ]
  },
  {
   "cell_type": "markdown",
   "id": "03c63b07-fb8c-406c-9221-5758ff0ee514",
   "metadata": {},
   "source": [
    "##### We then export both the dataframe to CSV files"
   ]
  },
  {
   "cell_type": "code",
   "execution_count": 14,
   "id": "cae1f0c7-d8b0-4c64-95a1-5b9d55ba56de",
   "metadata": {},
   "outputs": [
    {
     "name": "stdout",
     "output_type": "stream",
     "text": [
      "Original data copied for future use. DONE!!!\n"
     ]
    }
   ],
   "source": [
    "#copy the data frame and keep the original data for further use\n",
    "df_books_original = df_books.copy()\n",
    "df_users_original = df_users.copy()\n",
    "print('Original data copied for future use. DONE!!!')"
   ]
  },
  {
   "cell_type": "markdown",
   "id": "107368f0-102b-4874-aa7e-f010be938531",
   "metadata": {},
   "source": [
    "##### Coping data for future use"
   ]
  },
  {
   "cell_type": "markdown",
   "id": "31bd8a34-549b-479b-90b5-43dab8be8fb6",
   "metadata": {},
   "source": [
    "### Preprocessing & Data Cleaning"
   ]
  },
  {
   "cell_type": "code",
   "execution_count": 16,
   "id": "77503839-0012-4ddc-82c5-9576a5fa61e5",
   "metadata": {
    "tags": []
   },
   "outputs": [
    {
     "name": "stdout",
     "output_type": "stream",
     "text": [
      "Unique IDs: 1850115\n",
      "Unique ISBNs: 1844192\n"
     ]
    }
   ],
   "source": [
    "# find the unique ID and ISBN\n",
    "unique_ids = df_books['id'].nunique()\n",
    "unique_isbns = df_books['isbn'].nunique()\n",
    "print(f\"Unique IDs: {unique_ids}\")\n",
    "print(f\"Unique ISBNs: {unique_isbns}\")"
   ]
  },
  {
   "cell_type": "code",
   "execution_count": 17,
   "id": "75042280-09a0-45ca-b6d9-b976cc17dfce",
   "metadata": {
    "tags": []
   },
   "outputs": [
    {
     "name": "stdout",
     "output_type": "stream",
     "text": [
      "Duplicate Rows: 112\n"
     ]
    }
   ],
   "source": [
    "# find duplicates across all rows\n",
    "duplicate_rows = df_books.duplicated().sum()\n",
    "print(f\"Duplicate Rows: {duplicate_rows}\")"
   ]
  },
  {
   "cell_type": "markdown",
   "id": "4f7fcb54-1459-46b3-b300-05b4be665d1a",
   "metadata": {},
   "source": [
    "##### In the above code -> We are dropping the full duplicate rows -- all the data in the columns were same."
   ]
  },
  {
   "cell_type": "code",
   "execution_count": 18,
   "id": "40c10dde-58ad-481b-ae12-fc405c9dcd11",
   "metadata": {
    "tags": []
   },
   "outputs": [
    {
     "name": "stdout",
     "output_type": "stream",
     "text": [
      "Missing ISBNs: 5923\n",
      "Missing Id: 0\n"
     ]
    }
   ],
   "source": [
    "# find missing ISBNs & ID\n",
    "missing_isbns = df_books['isbn'].isna().sum()\n",
    "print(f\"Missing ISBNs: {missing_isbns}\")\n",
    "\n",
    "missing_id = df_books['id'].isna().sum()\n",
    "print(f\"Missing Id: {missing_id}\")"
   ]
  },
  {
   "cell_type": "code",
   "execution_count": 19,
   "id": "d71d3841-325e-4802-8305-331607be2591",
   "metadata": {
    "tags": []
   },
   "outputs": [
    {
     "name": "stdout",
     "output_type": "stream",
     "text": [
      "After removing fully duplicated rows: 1850198 records remaining.\n",
      "After ensuring unique IDs: 1850115 records remaining.\n"
     ]
    }
   ],
   "source": [
    "# Drop duplicate rows\n",
    "df_books_cleaned = df_books.drop_duplicates()\n",
    "print(f\"After removing fully duplicated rows: {df_books_cleaned.shape[0]} records remaining.\")\n",
    "\n",
    "# Keep only the first occurrence of each ID\n",
    "df_books_cleaned = df_books_cleaned.drop_duplicates(subset=['id'], keep='first')\n",
    "print(f\"After ensuring unique IDs: {df_books_cleaned.shape[0]} records remaining.\")"
   ]
  },
  {
   "cell_type": "code",
   "execution_count": 20,
   "id": "65e23b19-edbc-4ad7-a1bb-615f81cdf6d9",
   "metadata": {
    "tags": []
   },
   "outputs": [
    {
     "data": {
      "text/plain": [
       "id                             0\n",
       "name                           0\n",
       "ratingdist1                    0\n",
       "pagesNumber                    0\n",
       "ratingdist4                    0\n",
       "ratingdisttotal                0\n",
       "publishmonth                   0\n",
       "publishday                     0\n",
       "publisher                  17821\n",
       "countsofreview                 0\n",
       "publishyear                    0\n",
       "language                 1598369\n",
       "authors                        0\n",
       "rating                         0\n",
       "ratingdist2                    0\n",
       "ratingdist5                    0\n",
       "isbn                        5922\n",
       "ratingdist3                    0\n",
       "description               678927\n",
       "count of text reviews    1440418\n",
       "dtype: int64"
      ]
     },
     "execution_count": 20,
     "metadata": {},
     "output_type": "execute_result"
    }
   ],
   "source": [
    "# Check for missing (NaN) values across all columns\n",
    "missing_values = df_books_cleaned.isna().sum()\n",
    "missing_values"
   ]
  },
  {
   "cell_type": "markdown",
   "id": "ecb04356-5de6-475a-8fa4-686c86f0eb8b",
   "metadata": {},
   "source": [
    "##### In the below code, we are removing count of text reviews column since we have countsofreview column and also isbn since we have a id column."
   ]
  },
  {
   "cell_type": "code",
   "execution_count": 21,
   "id": "458d36f3-505c-4360-840c-6b0619b47d2e",
   "metadata": {},
   "outputs": [
    {
     "data": {
      "text/html": [
       "<div>\n",
       "<style scoped>\n",
       "    .dataframe tbody tr th:only-of-type {\n",
       "        vertical-align: middle;\n",
       "    }\n",
       "\n",
       "    .dataframe tbody tr th {\n",
       "        vertical-align: top;\n",
       "    }\n",
       "\n",
       "    .dataframe thead th {\n",
       "        text-align: right;\n",
       "    }\n",
       "</style>\n",
       "<table border=\"1\" class=\"dataframe\">\n",
       "  <thead>\n",
       "    <tr style=\"text-align: right;\">\n",
       "      <th></th>\n",
       "      <th>id</th>\n",
       "      <th>name</th>\n",
       "      <th>ratingdist1</th>\n",
       "      <th>pagesNumber</th>\n",
       "      <th>ratingdist4</th>\n",
       "      <th>ratingdisttotal</th>\n",
       "      <th>publishmonth</th>\n",
       "      <th>publishday</th>\n",
       "      <th>publisher</th>\n",
       "      <th>countsofreview</th>\n",
       "      <th>publishyear</th>\n",
       "      <th>language</th>\n",
       "      <th>authors</th>\n",
       "      <th>rating</th>\n",
       "      <th>ratingdist2</th>\n",
       "      <th>ratingdist5</th>\n",
       "      <th>ratingdist3</th>\n",
       "      <th>description</th>\n",
       "    </tr>\n",
       "  </thead>\n",
       "  <tbody>\n",
       "    <tr>\n",
       "      <th>0</th>\n",
       "      <td>1</td>\n",
       "      <td>Harry Potter and the Half-Blood Prince (Harry ...</td>\n",
       "      <td>1:9896</td>\n",
       "      <td>652</td>\n",
       "      <td>4:556485</td>\n",
       "      <td>total:2298124</td>\n",
       "      <td>16</td>\n",
       "      <td>9</td>\n",
       "      <td>Scholastic Inc.</td>\n",
       "      <td>28062</td>\n",
       "      <td>2006</td>\n",
       "      <td>eng</td>\n",
       "      <td>J.K. Rowling</td>\n",
       "      <td>4.57</td>\n",
       "      <td>2:25317</td>\n",
       "      <td>5:1546466</td>\n",
       "      <td>3:159960</td>\n",
       "      <td>NaN</td>\n",
       "    </tr>\n",
       "    <tr>\n",
       "      <th>1</th>\n",
       "      <td>2</td>\n",
       "      <td>Harry Potter and the Order of the Phoenix (Har...</td>\n",
       "      <td>1:12455</td>\n",
       "      <td>870</td>\n",
       "      <td>4:604283</td>\n",
       "      <td>total:2358637</td>\n",
       "      <td>1</td>\n",
       "      <td>9</td>\n",
       "      <td>Scholastic Inc.</td>\n",
       "      <td>29770</td>\n",
       "      <td>2004</td>\n",
       "      <td>eng</td>\n",
       "      <td>J.K. Rowling</td>\n",
       "      <td>4.50</td>\n",
       "      <td>2:37005</td>\n",
       "      <td>5:1493113</td>\n",
       "      <td>3:211781</td>\n",
       "      <td>NaN</td>\n",
       "    </tr>\n",
       "    <tr>\n",
       "      <th>2</th>\n",
       "      <td>3</td>\n",
       "      <td>Harry Potter and the Sorcerer's Stone (Harry P...</td>\n",
       "      <td>1:108202</td>\n",
       "      <td>309</td>\n",
       "      <td>4:1513191</td>\n",
       "      <td>total:6587388</td>\n",
       "      <td>1</td>\n",
       "      <td>11</td>\n",
       "      <td>Scholastic Inc</td>\n",
       "      <td>75911</td>\n",
       "      <td>2003</td>\n",
       "      <td>eng</td>\n",
       "      <td>J.K. Rowling</td>\n",
       "      <td>4.47</td>\n",
       "      <td>2:130310</td>\n",
       "      <td>5:4268227</td>\n",
       "      <td>3:567458</td>\n",
       "      <td>NaN</td>\n",
       "    </tr>\n",
       "    <tr>\n",
       "      <th>3</th>\n",
       "      <td>4</td>\n",
       "      <td>Harry Potter and the Chamber of Secrets (Harry...</td>\n",
       "      <td>1:11896</td>\n",
       "      <td>352</td>\n",
       "      <td>4:706082</td>\n",
       "      <td>total:2560657</td>\n",
       "      <td>1</td>\n",
       "      <td>11</td>\n",
       "      <td>Scholastic</td>\n",
       "      <td>244</td>\n",
       "      <td>2003</td>\n",
       "      <td>eng</td>\n",
       "      <td>J.K. Rowling</td>\n",
       "      <td>4.42</td>\n",
       "      <td>2:49353</td>\n",
       "      <td>5:1504505</td>\n",
       "      <td>3:288821</td>\n",
       "      <td>NaN</td>\n",
       "    </tr>\n",
       "    <tr>\n",
       "      <th>4</th>\n",
       "      <td>5</td>\n",
       "      <td>Harry Potter and the Prisoner of Azkaban (Harr...</td>\n",
       "      <td>1:10128</td>\n",
       "      <td>435</td>\n",
       "      <td>4:630534</td>\n",
       "      <td>total:2610317</td>\n",
       "      <td>1</td>\n",
       "      <td>5</td>\n",
       "      <td>Scholastic Inc.</td>\n",
       "      <td>37093</td>\n",
       "      <td>2004</td>\n",
       "      <td>eng</td>\n",
       "      <td>J.K. Rowling</td>\n",
       "      <td>4.57</td>\n",
       "      <td>2:24849</td>\n",
       "      <td>5:1749958</td>\n",
       "      <td>3:194848</td>\n",
       "      <td>NaN</td>\n",
       "    </tr>\n",
       "  </tbody>\n",
       "</table>\n",
       "</div>"
      ],
      "text/plain": [
       "   id                                               name ratingdist1  \\\n",
       "0   1  Harry Potter and the Half-Blood Prince (Harry ...      1:9896   \n",
       "1   2  Harry Potter and the Order of the Phoenix (Har...     1:12455   \n",
       "2   3  Harry Potter and the Sorcerer's Stone (Harry P...    1:108202   \n",
       "3   4  Harry Potter and the Chamber of Secrets (Harry...     1:11896   \n",
       "4   5  Harry Potter and the Prisoner of Azkaban (Harr...     1:10128   \n",
       "\n",
       "   pagesNumber ratingdist4 ratingdisttotal  publishmonth  publishday  \\\n",
       "0          652    4:556485   total:2298124            16           9   \n",
       "1          870    4:604283   total:2358637             1           9   \n",
       "2          309   4:1513191   total:6587388             1          11   \n",
       "3          352    4:706082   total:2560657             1          11   \n",
       "4          435    4:630534   total:2610317             1           5   \n",
       "\n",
       "         publisher  countsofreview  publishyear language       authors  \\\n",
       "0  Scholastic Inc.           28062         2006      eng  J.K. Rowling   \n",
       "1  Scholastic Inc.           29770         2004      eng  J.K. Rowling   \n",
       "2   Scholastic Inc           75911         2003      eng  J.K. Rowling   \n",
       "3       Scholastic             244         2003      eng  J.K. Rowling   \n",
       "4  Scholastic Inc.           37093         2004      eng  J.K. Rowling   \n",
       "\n",
       "   rating ratingdist2 ratingdist5 ratingdist3 description  \n",
       "0    4.57     2:25317   5:1546466    3:159960         NaN  \n",
       "1    4.50     2:37005   5:1493113    3:211781         NaN  \n",
       "2    4.47    2:130310   5:4268227    3:567458         NaN  \n",
       "3    4.42     2:49353   5:1504505    3:288821         NaN  \n",
       "4    4.57     2:24849   5:1749958    3:194848         NaN  "
      ]
     },
     "execution_count": 21,
     "metadata": {},
     "output_type": "execute_result"
    }
   ],
   "source": [
    "# Dropping all the unnesscary columns\n",
    "df_books_cleaned.drop(columns=['count of text reviews', 'isbn'], inplace=True)\n",
    "df_books_cleaned.head(5)"
   ]
  },
  {
   "cell_type": "code",
   "execution_count": 22,
   "id": "50cfb532-ffe4-4f58-aee8-388ddbfc8c59",
   "metadata": {},
   "outputs": [],
   "source": [
    "df_books_cleaned['publisher'].fillna(\"Unknown\", inplace=True)\n",
    "df_books_cleaned['language'].fillna(df_books_cleaned['language'].mode()[0], inplace=True)"
   ]
  },
  {
   "cell_type": "code",
   "execution_count": 23,
   "id": "f4061bc5-b35e-499a-b0dd-7afc3bf18981",
   "metadata": {},
   "outputs": [
    {
     "data": {
      "text/html": [
       "<div>\n",
       "<style scoped>\n",
       "    .dataframe tbody tr th:only-of-type {\n",
       "        vertical-align: middle;\n",
       "    }\n",
       "\n",
       "    .dataframe tbody tr th {\n",
       "        vertical-align: top;\n",
       "    }\n",
       "\n",
       "    .dataframe thead th {\n",
       "        text-align: right;\n",
       "    }\n",
       "</style>\n",
       "<table border=\"1\" class=\"dataframe\">\n",
       "  <thead>\n",
       "    <tr style=\"text-align: right;\">\n",
       "      <th></th>\n",
       "      <th>id</th>\n",
       "      <th>name</th>\n",
       "      <th>ratingdist1</th>\n",
       "      <th>pagesNumber</th>\n",
       "      <th>ratingdist4</th>\n",
       "      <th>ratingdisttotal</th>\n",
       "      <th>publishmonth</th>\n",
       "      <th>publishday</th>\n",
       "      <th>publisher</th>\n",
       "      <th>countsofreview</th>\n",
       "      <th>publishyear</th>\n",
       "      <th>language</th>\n",
       "      <th>authors</th>\n",
       "      <th>rating</th>\n",
       "      <th>ratingdist2</th>\n",
       "      <th>ratingdist5</th>\n",
       "      <th>ratingdist3</th>\n",
       "      <th>description</th>\n",
       "    </tr>\n",
       "  </thead>\n",
       "  <tbody>\n",
       "    <tr>\n",
       "      <th>0</th>\n",
       "      <td>1</td>\n",
       "      <td>Harry Potter and the Half-Blood Prince (Harry ...</td>\n",
       "      <td>1:9896</td>\n",
       "      <td>652</td>\n",
       "      <td>4:556485</td>\n",
       "      <td>total:2298124</td>\n",
       "      <td>16</td>\n",
       "      <td>9</td>\n",
       "      <td>Scholastic Inc.</td>\n",
       "      <td>28062</td>\n",
       "      <td>2006</td>\n",
       "      <td>eng</td>\n",
       "      <td>J.K. Rowling</td>\n",
       "      <td>4.57</td>\n",
       "      <td>2:25317</td>\n",
       "      <td>5:1546466</td>\n",
       "      <td>3:159960</td>\n",
       "      <td>NaN</td>\n",
       "    </tr>\n",
       "    <tr>\n",
       "      <th>1</th>\n",
       "      <td>2</td>\n",
       "      <td>Harry Potter and the Order of the Phoenix (Har...</td>\n",
       "      <td>1:12455</td>\n",
       "      <td>870</td>\n",
       "      <td>4:604283</td>\n",
       "      <td>total:2358637</td>\n",
       "      <td>1</td>\n",
       "      <td>9</td>\n",
       "      <td>Scholastic Inc.</td>\n",
       "      <td>29770</td>\n",
       "      <td>2004</td>\n",
       "      <td>eng</td>\n",
       "      <td>J.K. Rowling</td>\n",
       "      <td>4.50</td>\n",
       "      <td>2:37005</td>\n",
       "      <td>5:1493113</td>\n",
       "      <td>3:211781</td>\n",
       "      <td>NaN</td>\n",
       "    </tr>\n",
       "  </tbody>\n",
       "</table>\n",
       "</div>"
      ],
      "text/plain": [
       "   id                                               name ratingdist1  \\\n",
       "0   1  Harry Potter and the Half-Blood Prince (Harry ...      1:9896   \n",
       "1   2  Harry Potter and the Order of the Phoenix (Har...     1:12455   \n",
       "\n",
       "   pagesNumber ratingdist4 ratingdisttotal  publishmonth  publishday  \\\n",
       "0          652    4:556485   total:2298124            16           9   \n",
       "1          870    4:604283   total:2358637             1           9   \n",
       "\n",
       "         publisher  countsofreview  publishyear language       authors  \\\n",
       "0  Scholastic Inc.           28062         2006      eng  J.K. Rowling   \n",
       "1  Scholastic Inc.           29770         2004      eng  J.K. Rowling   \n",
       "\n",
       "   rating ratingdist2 ratingdist5 ratingdist3 description  \n",
       "0    4.57     2:25317   5:1546466    3:159960         NaN  \n",
       "1    4.50     2:37005   5:1493113    3:211781         NaN  "
      ]
     },
     "execution_count": 23,
     "metadata": {},
     "output_type": "execute_result"
    }
   ],
   "source": [
    "df_books_cleaned.head(2)"
   ]
  },
  {
   "cell_type": "code",
   "execution_count": 25,
   "id": "c2e7a79f-8739-4900-bc89-3900567833fd",
   "metadata": {},
   "outputs": [],
   "source": [
    "# takes 10 to 30 mins to Run !!!!\n",
    "from summa import summarizer\n",
    "\n",
    "# Step 1: Create a mapping of authors to non-null descriptions\n",
    "author_descriptions = df_books_cleaned.groupby('authors')['description'].apply(lambda x: \" \".join(x.dropna().values[:5]))\n",
    "\n",
    "# Step 2: Fill missing descriptions in bulk\n",
    "def generate_summary(author, desc):\n",
    "    if pd.isna(desc) and author in author_descriptions:\n",
    "        return summarizer.summarize(author_descriptions[author], words=50)\n",
    "    return desc\n",
    "\n",
    "# Apply faster in bulk (vectorized)\n",
    "df_books_cleaned['description'] = df_books_cleaned.apply(lambda row: generate_summary(row['authors'], row['description']), axis=1)"
   ]
  },
  {
   "cell_type": "markdown",
   "id": "f50b5337-5ad0-4a9f-8f1e-ae0281298287",
   "metadata": {},
   "source": [
    "##### Filling Missing Descriptions Using Author-Based Summarization  \n",
    "\n",
    "This code generates summaries for missing book descriptions by extracting and summarizing **existing descriptions** of books written by the **same author**. It first **groups books by authors**, compiles up to **5 descriptions per author**, and then applies **text summarization** (using `summa.summarizer.summarize`) to fill in missing descriptions efficiently in bulk.\n"
   ]
  },
  {
   "cell_type": "code",
   "execution_count": 27,
   "id": "49a3025a-217a-421b-957e-a81c447fcaf2",
   "metadata": {
    "tags": []
   },
   "outputs": [
    {
     "name": "stdout",
     "output_type": "stream",
     "text": [
      "['it was amazing' 'really liked it' 'liked it' 'did not like it'\n",
      " 'it was ok' \"This user doesn't have any rating\"]\n"
     ]
    }
   ],
   "source": [
    "# find different types of rating in the rating colum\n",
    "ratings = df_users['rating'].unique()\n",
    "print(ratings)"
   ]
  },
  {
   "cell_type": "markdown",
   "id": "5bea49e3-2183-48f1-bf19-2841832d749c",
   "metadata": {},
   "source": [
    "##### In the below code we are assigning numbers for different rating and creating a column called rating in numbers."
   ]
  },
  {
   "cell_type": "code",
   "execution_count": 28,
   "id": "a79f874c-0700-42e0-b568-ffebe33a8b5e",
   "metadata": {
    "tags": []
   },
   "outputs": [
    {
     "data": {
      "text/html": [
       "<div>\n",
       "<style scoped>\n",
       "    .dataframe tbody tr th:only-of-type {\n",
       "        vertical-align: middle;\n",
       "    }\n",
       "\n",
       "    .dataframe tbody tr th {\n",
       "        vertical-align: top;\n",
       "    }\n",
       "\n",
       "    .dataframe thead th {\n",
       "        text-align: right;\n",
       "    }\n",
       "</style>\n",
       "<table border=\"1\" class=\"dataframe\">\n",
       "  <thead>\n",
       "    <tr style=\"text-align: right;\">\n",
       "      <th></th>\n",
       "      <th>id</th>\n",
       "      <th>name</th>\n",
       "      <th>rating</th>\n",
       "      <th>rating in numbers</th>\n",
       "    </tr>\n",
       "  </thead>\n",
       "  <tbody>\n",
       "    <tr>\n",
       "      <th>0</th>\n",
       "      <td>1</td>\n",
       "      <td>Agile Web Development with Rails: A Pragmatic ...</td>\n",
       "      <td>it was amazing</td>\n",
       "      <td>5</td>\n",
       "    </tr>\n",
       "    <tr>\n",
       "      <th>1</th>\n",
       "      <td>1</td>\n",
       "      <td>The Restaurant at the End of the Universe (Hit...</td>\n",
       "      <td>it was amazing</td>\n",
       "      <td>5</td>\n",
       "    </tr>\n",
       "    <tr>\n",
       "      <th>2</th>\n",
       "      <td>1</td>\n",
       "      <td>Siddhartha</td>\n",
       "      <td>it was amazing</td>\n",
       "      <td>5</td>\n",
       "    </tr>\n",
       "    <tr>\n",
       "      <th>3</th>\n",
       "      <td>1</td>\n",
       "      <td>The Clock of the Long Now: Time and Responsibi...</td>\n",
       "      <td>really liked it</td>\n",
       "      <td>4</td>\n",
       "    </tr>\n",
       "    <tr>\n",
       "      <th>4</th>\n",
       "      <td>1</td>\n",
       "      <td>Ready Player One (Ready Player One, #1)</td>\n",
       "      <td>really liked it</td>\n",
       "      <td>4</td>\n",
       "    </tr>\n",
       "  </tbody>\n",
       "</table>\n",
       "</div>"
      ],
      "text/plain": [
       "   id                                               name           rating  \\\n",
       "0   1  Agile Web Development with Rails: A Pragmatic ...   it was amazing   \n",
       "1   1  The Restaurant at the End of the Universe (Hit...   it was amazing   \n",
       "2   1                                         Siddhartha   it was amazing   \n",
       "3   1  The Clock of the Long Now: Time and Responsibi...  really liked it   \n",
       "4   1            Ready Player One (Ready Player One, #1)  really liked it   \n",
       "\n",
       "   rating in numbers  \n",
       "0                  5  \n",
       "1                  5  \n",
       "2                  5  \n",
       "3                  4  \n",
       "4                  4  "
      ]
     },
     "execution_count": 28,
     "metadata": {},
     "output_type": "execute_result"
    }
   ],
   "source": [
    "rating_mapping = {\n",
    "    \"it was amazing\": 5,\n",
    "    \"really liked it\": 4,\n",
    "    \"liked it\": 3,\n",
    "    \"it was ok\": 2,\n",
    "    \"did not like it\": 1,\n",
    "    \"This user doesn't have any rating\": 0  # Convert to NaN or remove\n",
    "}\n",
    "\n",
    "# create a numeric rating colum\n",
    "df_users['rating in numbers'] = df_users['rating'].map(rating_mapping)\n",
    "df_users.head(5)"
   ]
  },
  {
   "cell_type": "code",
   "execution_count": 29,
   "id": "18accfdb-efef-4035-b131-bb87ce13f203",
   "metadata": {
    "tags": []
   },
   "outputs": [],
   "source": [
    "# copying the data frame\n",
    "df_users_copy = df_users.copy()\n",
    "df_books_copy = df_books_cleaned.copy() "
   ]
  },
  {
   "cell_type": "code",
   "execution_count": 30,
   "id": "55e3d826-5211-4d94-a8ea-2762662fb9d5",
   "metadata": {
    "tags": []
   },
   "outputs": [],
   "source": [
    "# renaming the columns in both the data frame\n",
    "df_books_copy.rename(columns={'id': 'book_id'}, inplace=True)\n",
    "df_users_copy.rename(columns={'id': 'user_id'}, inplace=True)"
   ]
  },
  {
   "cell_type": "code",
   "execution_count": 31,
   "id": "3c4bb111-fad3-47fa-9f0a-a0bcfa65044c",
   "metadata": {
    "tags": []
   },
   "outputs": [
    {
     "data": {
      "text/html": [
       "<div>\n",
       "<style scoped>\n",
       "    .dataframe tbody tr th:only-of-type {\n",
       "        vertical-align: middle;\n",
       "    }\n",
       "\n",
       "    .dataframe tbody tr th {\n",
       "        vertical-align: top;\n",
       "    }\n",
       "\n",
       "    .dataframe thead th {\n",
       "        text-align: right;\n",
       "    }\n",
       "</style>\n",
       "<table border=\"1\" class=\"dataframe\">\n",
       "  <thead>\n",
       "    <tr style=\"text-align: right;\">\n",
       "      <th></th>\n",
       "      <th>user_id</th>\n",
       "      <th>name</th>\n",
       "      <th>rating</th>\n",
       "      <th>rating in numbers</th>\n",
       "    </tr>\n",
       "  </thead>\n",
       "  <tbody>\n",
       "    <tr>\n",
       "      <th>0</th>\n",
       "      <td>1</td>\n",
       "      <td>Agile Web Development with Rails: A Pragmatic ...</td>\n",
       "      <td>it was amazing</td>\n",
       "      <td>5</td>\n",
       "    </tr>\n",
       "    <tr>\n",
       "      <th>1</th>\n",
       "      <td>1</td>\n",
       "      <td>The Restaurant at the End of the Universe (Hit...</td>\n",
       "      <td>it was amazing</td>\n",
       "      <td>5</td>\n",
       "    </tr>\n",
       "    <tr>\n",
       "      <th>2</th>\n",
       "      <td>1</td>\n",
       "      <td>Siddhartha</td>\n",
       "      <td>it was amazing</td>\n",
       "      <td>5</td>\n",
       "    </tr>\n",
       "    <tr>\n",
       "      <th>3</th>\n",
       "      <td>1</td>\n",
       "      <td>The Clock of the Long Now: Time and Responsibi...</td>\n",
       "      <td>really liked it</td>\n",
       "      <td>4</td>\n",
       "    </tr>\n",
       "    <tr>\n",
       "      <th>4</th>\n",
       "      <td>1</td>\n",
       "      <td>Ready Player One (Ready Player One, #1)</td>\n",
       "      <td>really liked it</td>\n",
       "      <td>4</td>\n",
       "    </tr>\n",
       "  </tbody>\n",
       "</table>\n",
       "</div>"
      ],
      "text/plain": [
       "   user_id                                               name  \\\n",
       "0        1  Agile Web Development with Rails: A Pragmatic ...   \n",
       "1        1  The Restaurant at the End of the Universe (Hit...   \n",
       "2        1                                         Siddhartha   \n",
       "3        1  The Clock of the Long Now: Time and Responsibi...   \n",
       "4        1            Ready Player One (Ready Player One, #1)   \n",
       "\n",
       "            rating  rating in numbers  \n",
       "0   it was amazing                  5  \n",
       "1   it was amazing                  5  \n",
       "2   it was amazing                  5  \n",
       "3  really liked it                  4  \n",
       "4  really liked it                  4  "
      ]
     },
     "execution_count": 31,
     "metadata": {},
     "output_type": "execute_result"
    }
   ],
   "source": [
    "df_users_copy.head()"
   ]
  },
  {
   "cell_type": "code",
   "execution_count": 500,
   "id": "d58ce7da-eabd-43b2-a101-79c57bcf4746",
   "metadata": {
    "tags": []
   },
   "outputs": [
    {
     "data": {
      "text/html": [
       "<div>\n",
       "<style scoped>\n",
       "    .dataframe tbody tr th:only-of-type {\n",
       "        vertical-align: middle;\n",
       "    }\n",
       "\n",
       "    .dataframe tbody tr th {\n",
       "        vertical-align: top;\n",
       "    }\n",
       "\n",
       "    .dataframe thead th {\n",
       "        text-align: right;\n",
       "    }\n",
       "</style>\n",
       "<table border=\"1\" class=\"dataframe\">\n",
       "  <thead>\n",
       "    <tr style=\"text-align: right;\">\n",
       "      <th></th>\n",
       "      <th>book_id</th>\n",
       "      <th>name</th>\n",
       "      <th>ratingdist1</th>\n",
       "      <th>pagesNumber</th>\n",
       "      <th>ratingdist4</th>\n",
       "      <th>ratingdisttotal</th>\n",
       "      <th>publishmonth</th>\n",
       "      <th>publishday</th>\n",
       "      <th>publisher</th>\n",
       "      <th>countsofreview</th>\n",
       "      <th>publishyear</th>\n",
       "      <th>language</th>\n",
       "      <th>authors</th>\n",
       "      <th>rating</th>\n",
       "      <th>ratingdist2</th>\n",
       "      <th>ratingdist5</th>\n",
       "      <th>ratingdist3</th>\n",
       "      <th>description</th>\n",
       "      <th>clean_name</th>\n",
       "    </tr>\n",
       "  </thead>\n",
       "  <tbody>\n",
       "    <tr>\n",
       "      <th>0</th>\n",
       "      <td>1</td>\n",
       "      <td>Harry Potter and the Half-Blood Prince (Harry ...</td>\n",
       "      <td>1:9896</td>\n",
       "      <td>652</td>\n",
       "      <td>4:556485</td>\n",
       "      <td>total:2298124</td>\n",
       "      <td>16</td>\n",
       "      <td>9</td>\n",
       "      <td>Scholastic Inc.</td>\n",
       "      <td>28062</td>\n",
       "      <td>2006</td>\n",
       "      <td>eng</td>\n",
       "      <td>J.K. Rowling</td>\n",
       "      <td>4.57</td>\n",
       "      <td>2:25317</td>\n",
       "      <td>5:1546466</td>\n",
       "      <td>3:159960</td>\n",
       "      <td>Harry kan dan ook niet wachten tot hij terug m...</td>\n",
       "      <td>harry potter and the halfblood prince harry po...</td>\n",
       "    </tr>\n",
       "    <tr>\n",
       "      <th>1</th>\n",
       "      <td>2</td>\n",
       "      <td>Harry Potter and the Order of the Phoenix (Har...</td>\n",
       "      <td>1:12455</td>\n",
       "      <td>870</td>\n",
       "      <td>4:604283</td>\n",
       "      <td>total:2358637</td>\n",
       "      <td>1</td>\n",
       "      <td>9</td>\n",
       "      <td>Scholastic Inc.</td>\n",
       "      <td>29770</td>\n",
       "      <td>2004</td>\n",
       "      <td>eng</td>\n",
       "      <td>J.K. Rowling</td>\n",
       "      <td>4.50</td>\n",
       "      <td>2:37005</td>\n",
       "      <td>5:1493113</td>\n",
       "      <td>3:211781</td>\n",
       "      <td>Harry kan dan ook niet wachten tot hij terug m...</td>\n",
       "      <td>harry potter and the order of the phoenix harr...</td>\n",
       "    </tr>\n",
       "    <tr>\n",
       "      <th>2</th>\n",
       "      <td>3</td>\n",
       "      <td>Harry Potter and the Sorcerer's Stone (Harry P...</td>\n",
       "      <td>1:108202</td>\n",
       "      <td>309</td>\n",
       "      <td>4:1513191</td>\n",
       "      <td>total:6587388</td>\n",
       "      <td>1</td>\n",
       "      <td>11</td>\n",
       "      <td>Scholastic Inc</td>\n",
       "      <td>75911</td>\n",
       "      <td>2003</td>\n",
       "      <td>eng</td>\n",
       "      <td>J.K. Rowling</td>\n",
       "      <td>4.47</td>\n",
       "      <td>2:130310</td>\n",
       "      <td>5:4268227</td>\n",
       "      <td>3:567458</td>\n",
       "      <td>Harry kan dan ook niet wachten tot hij terug m...</td>\n",
       "      <td>harry potter and the sorcerers stone harry pot...</td>\n",
       "    </tr>\n",
       "    <tr>\n",
       "      <th>3</th>\n",
       "      <td>4</td>\n",
       "      <td>Harry Potter and the Chamber of Secrets (Harry...</td>\n",
       "      <td>1:11896</td>\n",
       "      <td>352</td>\n",
       "      <td>4:706082</td>\n",
       "      <td>total:2560657</td>\n",
       "      <td>1</td>\n",
       "      <td>11</td>\n",
       "      <td>Scholastic</td>\n",
       "      <td>244</td>\n",
       "      <td>2003</td>\n",
       "      <td>eng</td>\n",
       "      <td>J.K. Rowling</td>\n",
       "      <td>4.42</td>\n",
       "      <td>2:49353</td>\n",
       "      <td>5:1504505</td>\n",
       "      <td>3:288821</td>\n",
       "      <td>Harry kan dan ook niet wachten tot hij terug m...</td>\n",
       "      <td>harry potter and the chamber of secrets harry ...</td>\n",
       "    </tr>\n",
       "    <tr>\n",
       "      <th>4</th>\n",
       "      <td>5</td>\n",
       "      <td>Harry Potter and the Prisoner of Azkaban (Harr...</td>\n",
       "      <td>1:10128</td>\n",
       "      <td>435</td>\n",
       "      <td>4:630534</td>\n",
       "      <td>total:2610317</td>\n",
       "      <td>1</td>\n",
       "      <td>5</td>\n",
       "      <td>Scholastic Inc.</td>\n",
       "      <td>37093</td>\n",
       "      <td>2004</td>\n",
       "      <td>eng</td>\n",
       "      <td>J.K. Rowling</td>\n",
       "      <td>4.57</td>\n",
       "      <td>2:24849</td>\n",
       "      <td>5:1749958</td>\n",
       "      <td>3:194848</td>\n",
       "      <td>Harry kan dan ook niet wachten tot hij terug m...</td>\n",
       "      <td>harry potter and the prisoner of azkaban harry...</td>\n",
       "    </tr>\n",
       "  </tbody>\n",
       "</table>\n",
       "</div>"
      ],
      "text/plain": [
       "   book_id                                               name ratingdist1  \\\n",
       "0        1  Harry Potter and the Half-Blood Prince (Harry ...      1:9896   \n",
       "1        2  Harry Potter and the Order of the Phoenix (Har...     1:12455   \n",
       "2        3  Harry Potter and the Sorcerer's Stone (Harry P...    1:108202   \n",
       "3        4  Harry Potter and the Chamber of Secrets (Harry...     1:11896   \n",
       "4        5  Harry Potter and the Prisoner of Azkaban (Harr...     1:10128   \n",
       "\n",
       "   pagesNumber ratingdist4 ratingdisttotal  publishmonth  publishday  \\\n",
       "0          652    4:556485   total:2298124            16           9   \n",
       "1          870    4:604283   total:2358637             1           9   \n",
       "2          309   4:1513191   total:6587388             1          11   \n",
       "3          352    4:706082   total:2560657             1          11   \n",
       "4          435    4:630534   total:2610317             1           5   \n",
       "\n",
       "         publisher  countsofreview  publishyear language       authors  \\\n",
       "0  Scholastic Inc.           28062         2006      eng  J.K. Rowling   \n",
       "1  Scholastic Inc.           29770         2004      eng  J.K. Rowling   \n",
       "2   Scholastic Inc           75911         2003      eng  J.K. Rowling   \n",
       "3       Scholastic             244         2003      eng  J.K. Rowling   \n",
       "4  Scholastic Inc.           37093         2004      eng  J.K. Rowling   \n",
       "\n",
       "   rating ratingdist2 ratingdist5 ratingdist3  \\\n",
       "0    4.57     2:25317   5:1546466    3:159960   \n",
       "1    4.50     2:37005   5:1493113    3:211781   \n",
       "2    4.47    2:130310   5:4268227    3:567458   \n",
       "3    4.42     2:49353   5:1504505    3:288821   \n",
       "4    4.57     2:24849   5:1749958    3:194848   \n",
       "\n",
       "                                         description  \\\n",
       "0  Harry kan dan ook niet wachten tot hij terug m...   \n",
       "1  Harry kan dan ook niet wachten tot hij terug m...   \n",
       "2  Harry kan dan ook niet wachten tot hij terug m...   \n",
       "3  Harry kan dan ook niet wachten tot hij terug m...   \n",
       "4  Harry kan dan ook niet wachten tot hij terug m...   \n",
       "\n",
       "                                          clean_name  \n",
       "0  harry potter and the halfblood prince harry po...  \n",
       "1  harry potter and the order of the phoenix harr...  \n",
       "2  harry potter and the sorcerers stone harry pot...  \n",
       "3  harry potter and the chamber of secrets harry ...  \n",
       "4  harry potter and the prisoner of azkaban harry...  "
      ]
     },
     "execution_count": 500,
     "metadata": {},
     "output_type": "execute_result"
    }
   ],
   "source": [
    "df_books_copy.head()"
   ]
  },
  {
   "cell_type": "code",
   "execution_count": 33,
   "id": "d6d10d60-557d-4c65-8a68-f1422562c953",
   "metadata": {
    "tags": []
   },
   "outputs": [],
   "source": [
    "def clean_text(text):\n",
    "    text = text.lower().strip()\n",
    "    text = re.sub(r'[^\\w\\s]', '', text)  # Remove punctuation\n",
    "    return text\n",
    "\n",
    "df_users_copy['clean_name'] = df_users_copy['name'].apply(clean_text)\n",
    "df_books_copy['clean_name'] = df_books_copy['name'].apply(clean_text)"
   ]
  },
  {
   "cell_type": "code",
   "execution_count": 34,
   "id": "79a6d9a7-5337-4e04-b42a-cba0a31046b3",
   "metadata": {
    "tags": []
   },
   "outputs": [],
   "source": [
    "# mapping name and bookid\n",
    "name_to_book_id_map = df_books_copy.set_index('clean_name')['book_id'].to_dict()\n",
    "df_users_copy['book_id'] = df_users_copy['clean_name'].map(name_to_book_id_map)"
   ]
  },
  {
   "cell_type": "code",
   "execution_count": 35,
   "id": "e39e039a-bff3-4253-ac1a-49d44d5001ad",
   "metadata": {
    "tags": []
   },
   "outputs": [
    {
     "name": "stdout",
     "output_type": "stream",
     "text": [
      "Directly matched count: 234734\n"
     ]
    }
   ],
   "source": [
    "# finding the matched count in both the books and users dataframe\n",
    "matched_count = df_users_copy['book_id'].notna().sum()\n",
    "print(f\"Directly matched count: {matched_count}\")"
   ]
  },
  {
   "cell_type": "code",
   "execution_count": 36,
   "id": "5dbb2c18-711d-4230-b1d7-4311f775f9f0",
   "metadata": {
    "tags": []
   },
   "outputs": [
    {
     "name": "stdout",
     "output_type": "stream",
     "text": [
      "Directly not matched count: 127862\n"
     ]
    }
   ],
   "source": [
    "# finding the unmatched count in both the books and users dataframe\n",
    "unmatched_count = df_users_copy['book_id'].isna().sum()\n",
    "print(f\"Directly not matched count: {unmatched_count}\")"
   ]
  },
  {
   "cell_type": "code",
   "execution_count": 37,
   "id": "81734922-8058-4743-8ee4-96c83c8101f0",
   "metadata": {
    "tags": []
   },
   "outputs": [
    {
     "name": "stdout",
     "output_type": "stream",
     "text": [
      "Directly matched count: 234734\n"
     ]
    }
   ],
   "source": [
    "# First, map directly where names match exactly (FAST)\n",
    "df_users_copy['book_id'] = df_users_copy['clean_name'].map(name_to_book_id_map)\n",
    "\n",
    "# Count directly matched entries\n",
    "matched_count = df_users_copy['book_id'].notna().sum()\n",
    "print(f\"Directly matched count: {matched_count}\")\n"
   ]
  },
  {
   "cell_type": "code",
   "execution_count": 38,
   "id": "2866c161-19c7-4785-9e84-d22b3c9e1acb",
   "metadata": {
    "tags": []
   },
   "outputs": [
    {
     "data": {
      "text/html": [
       "<div>\n",
       "<style scoped>\n",
       "    .dataframe tbody tr th:only-of-type {\n",
       "        vertical-align: middle;\n",
       "    }\n",
       "\n",
       "    .dataframe tbody tr th {\n",
       "        vertical-align: top;\n",
       "    }\n",
       "\n",
       "    .dataframe thead th {\n",
       "        text-align: right;\n",
       "    }\n",
       "</style>\n",
       "<table border=\"1\" class=\"dataframe\">\n",
       "  <thead>\n",
       "    <tr style=\"text-align: right;\">\n",
       "      <th></th>\n",
       "      <th>user_id</th>\n",
       "      <th>name</th>\n",
       "      <th>rating</th>\n",
       "      <th>rating in numbers</th>\n",
       "      <th>clean_name</th>\n",
       "      <th>book_id</th>\n",
       "    </tr>\n",
       "  </thead>\n",
       "  <tbody>\n",
       "    <tr>\n",
       "      <th>0</th>\n",
       "      <td>1</td>\n",
       "      <td>Agile Web Development with Rails: A Pragmatic ...</td>\n",
       "      <td>it was amazing</td>\n",
       "      <td>5</td>\n",
       "      <td>agile web development with rails a pragmatic g...</td>\n",
       "      <td>45.0</td>\n",
       "    </tr>\n",
       "    <tr>\n",
       "      <th>1</th>\n",
       "      <td>1</td>\n",
       "      <td>The Restaurant at the End of the Universe (Hit...</td>\n",
       "      <td>it was amazing</td>\n",
       "      <td>5</td>\n",
       "      <td>the restaurant at the end of the universe hitc...</td>\n",
       "      <td>862825.0</td>\n",
       "    </tr>\n",
       "    <tr>\n",
       "      <th>2</th>\n",
       "      <td>1</td>\n",
       "      <td>Siddhartha</td>\n",
       "      <td>it was amazing</td>\n",
       "      <td>5</td>\n",
       "      <td>siddhartha</td>\n",
       "      <td>828548.0</td>\n",
       "    </tr>\n",
       "    <tr>\n",
       "      <th>3</th>\n",
       "      <td>1</td>\n",
       "      <td>The Clock of the Long Now: Time and Responsibi...</td>\n",
       "      <td>really liked it</td>\n",
       "      <td>4</td>\n",
       "      <td>the clock of the long now time and responsibility</td>\n",
       "      <td>1788479.0</td>\n",
       "    </tr>\n",
       "    <tr>\n",
       "      <th>4</th>\n",
       "      <td>1</td>\n",
       "      <td>Ready Player One (Ready Player One, #1)</td>\n",
       "      <td>really liked it</td>\n",
       "      <td>4</td>\n",
       "      <td>ready player one ready player one 1</td>\n",
       "      <td>NaN</td>\n",
       "    </tr>\n",
       "  </tbody>\n",
       "</table>\n",
       "</div>"
      ],
      "text/plain": [
       "   user_id                                               name  \\\n",
       "0        1  Agile Web Development with Rails: A Pragmatic ...   \n",
       "1        1  The Restaurant at the End of the Universe (Hit...   \n",
       "2        1                                         Siddhartha   \n",
       "3        1  The Clock of the Long Now: Time and Responsibi...   \n",
       "4        1            Ready Player One (Ready Player One, #1)   \n",
       "\n",
       "            rating  rating in numbers  \\\n",
       "0   it was amazing                  5   \n",
       "1   it was amazing                  5   \n",
       "2   it was amazing                  5   \n",
       "3  really liked it                  4   \n",
       "4  really liked it                  4   \n",
       "\n",
       "                                          clean_name    book_id  \n",
       "0  agile web development with rails a pragmatic g...       45.0  \n",
       "1  the restaurant at the end of the universe hitc...   862825.0  \n",
       "2                                         siddhartha   828548.0  \n",
       "3  the clock of the long now time and responsibility  1788479.0  \n",
       "4                ready player one ready player one 1        NaN  "
      ]
     },
     "execution_count": 38,
     "metadata": {},
     "output_type": "execute_result"
    }
   ],
   "source": [
    "df_users_copy.head(5)"
   ]
  },
  {
   "cell_type": "code",
   "execution_count": 39,
   "id": "510dfeda-70be-4139-a616-ef479986f91c",
   "metadata": {
    "tags": []
   },
   "outputs": [],
   "source": [
    "# storing it in a csv file\n",
    "unmatched_rows = df_users_copy[df_users_copy['book_id'].isna()]\n",
    "unmatched_rows.to_csv(\"unmatched_books.csv\", index=False)"
   ]
  },
  {
   "cell_type": "code",
   "execution_count": 40,
   "id": "f1b794f2-3af0-4131-9c12-618ab1b2fd16",
   "metadata": {
    "tags": []
   },
   "outputs": [],
   "source": [
    "# storing it in a csv file\n",
    "matched_rows = df_users_copy[df_users_copy['book_id'].notna()]\n",
    "matched_rows.to_csv(\"matched_books.csv\", index=False)"
   ]
  },
  {
   "cell_type": "code",
   "execution_count": 41,
   "id": "c9dc7d1d-4ef6-453d-b94f-504c38e601e5",
   "metadata": {
    "tags": []
   },
   "outputs": [
    {
     "name": "stdout",
     "output_type": "stream",
     "text": [
      "Total unique book IDs: 51336\n"
     ]
    }
   ],
   "source": [
    "unique_book_ids = df_users_copy['book_id'].nunique()\n",
    "print(f\"Total unique book IDs: {unique_book_ids}\")"
   ]
  },
  {
   "cell_type": "code",
   "execution_count": 42,
   "id": "e8253978-7c15-449e-971f-6857375abbb8",
   "metadata": {},
   "outputs": [
    {
     "data": {
      "text/plain": [
       "user_id              0\n",
       "name                 0\n",
       "rating               0\n",
       "rating in numbers    0\n",
       "clean_name           0\n",
       "book_id              0\n",
       "dtype: int64"
      ]
     },
     "execution_count": 42,
     "metadata": {},
     "output_type": "execute_result"
    }
   ],
   "source": [
    "missing_values = matched_rows.isna().sum()\n",
    "missing_values"
   ]
  },
  {
   "cell_type": "code",
   "execution_count": 43,
   "id": "bfaa5805-e40d-4cce-8fad-81bf5f3fc11b",
   "metadata": {},
   "outputs": [
    {
     "data": {
      "text/plain": [
       "book_id            0\n",
       "name               0\n",
       "ratingdist1        0\n",
       "pagesNumber        0\n",
       "ratingdist4        0\n",
       "ratingdisttotal    0\n",
       "publishmonth       0\n",
       "publishday         0\n",
       "publisher          0\n",
       "countsofreview     0\n",
       "publishyear        0\n",
       "language           0\n",
       "authors            0\n",
       "rating             0\n",
       "ratingdist2        0\n",
       "ratingdist5        0\n",
       "ratingdist3        0\n",
       "description        0\n",
       "clean_name         0\n",
       "dtype: int64"
      ]
     },
     "execution_count": 43,
     "metadata": {},
     "output_type": "execute_result"
    }
   ],
   "source": [
    "# Check for missing (NaN) values across all columns\n",
    "missing_values = df_books_copy.isna().sum()\n",
    "missing_values"
   ]
  },
  {
   "cell_type": "markdown",
   "id": "d8b31507-d824-4d2e-a936-636dc635cd2f",
   "metadata": {},
   "source": [
    "#### For unique book ids - which has 51k rows"
   ]
  },
  {
   "cell_type": "markdown",
   "id": "972c95cd-11ad-4581-8c0a-79ea0a81518d",
   "metadata": {},
   "source": [
    "##### In the code below we are filtering the books which has user ratings only. We are leaving out the books which doesn't have the user ratings. This also helps us to work with a smaller subset."
   ]
  },
  {
   "cell_type": "code",
   "execution_count": 369,
   "id": "c028e885-d239-477f-98ae-fa900115b00d",
   "metadata": {},
   "outputs": [],
   "source": [
    "# Extract unique book IDs from users_df\n",
    "unique_book_ids = matched_rows['book_id'].unique()\n",
    "\n",
    "# Filter book_df to keep only books that exist in users_df\n",
    "filtered_books_df = df_books_copy[df_books_copy['book_id'].isin(unique_book_ids)].copy()\n",
    "\n",
    "# Ensure only unique book entries remain\n",
    "filtered_books_df = filtered_books_df.drop_duplicates(subset=['book_id'])"
   ]
  },
  {
   "cell_type": "markdown",
   "id": "ea4c7a53-1fc9-4ceb-894d-a84c6e0ffb93",
   "metadata": {},
   "source": [
    "#### **Simple Recommender System**\n",
    "\n",
    "A **Simple Recommender System** suggests items based on their overall popularity and ratings rather than individual user preferences. This method is commonly used when **personalized user data is unavailable** and provides recommendations that are **the same for all users**. It ranks items using a **weighted rating formula**, ensuring that items with a high number of ratings are favored over those with fewer ratings.\n",
    "\n",
    "#### **Understanding the Weighted Rating Formula**\n",
    "\n",
    "To fairly rank items, the **Weighted Rating (WR)** is computed using the formula:\n",
    "\n",
    "\n",
    "Weighted Rating (WR) = ((v/v+m) * R) + ((m/v+m) * C)\n",
    "\n",
    "\n",
    "Where:\n",
    "- **\\( R \\)** = Average rating of the item.\n",
    "- **\\( v \\)** = Number of votes (ratings) received by the item.\n",
    "- **\\( m \\)** = Minimum votes required for an item to be considered (threshold).\n",
    "- **\\( C \\)** = Mean rating across all items.\n",
    "\n",
    "#### **Explanation of the Formula**\n",
    "- **If an item has many ratings**, its weighted rating is closer to its own average rating (\\( R \\)).\n",
    "- **If an item has few ratings**, it is weighted more toward the overall average rating (\\( C \\)), preventing unreliable rankings due to limited data.\n",
    "- **This ensures that an item with only a few high ratings doesn’t unfairly outrank items with a large number of good ratings**.\n",
    "\n",
    "#### **Why Use Weighted Rating?**\n",
    "- Prevents **bias** toward items with very few ratings.\n",
    "- Ensures recommendations are **more reliable** by giving more importance to well-rated items with substantial feedback.\n",
    "- Commonly used in platforms like **IMDb**, **Goodreads**, and other rating-based recommendation systems."
   ]
  },
  {
   "cell_type": "code",
   "execution_count": 371,
   "id": "2eeaac9c-8e08-498b-9ac8-e1d15fc3dd0e",
   "metadata": {},
   "outputs": [],
   "source": [
    "def compute_weighted_recommendations(books_df, quantile_threshold=0.90):\n",
    "    # Compute the mean rating across all books\n",
    "    mean_rating = books_df['rating'].mean()\n",
    "\n",
    "    # Determine the minimum number of reviews required for a book to be considered\n",
    "    min_no_of_reviews = books_df['countsofreview'].quantile(quantile_threshold)\n",
    "\n",
    "    # Filter books with at least `min_no_of_reviews` reviews\n",
    "    popular_books = books_df[books_df['countsofreview'] >= min_no_of_reviews].copy()\n",
    "\n",
    "    # Define the IMDB Weighted Rating function\n",
    "    def weighted_rating(x, m=min_no_of_reviews, C=mean_rating):\n",
    "        v = x['countsofreview']  # Number of reviews\n",
    "        R = x['rating']          # Average rating\n",
    "        return (v / (v + m) * R) + (m / (v + m) * C)\n",
    "\n",
    "    # Apply the weighted rating formula\n",
    "    popular_books['score'] = popular_books.apply(weighted_rating, axis=1)\n",
    "\n",
    "    # Sort books based on score\n",
    "    recommended_books = popular_books.sort_values('score', ascending=False)\n",
    "\n",
    "    return recommended_books"
   ]
  },
  {
   "cell_type": "code",
   "execution_count": 373,
   "id": "1539731a-7986-4066-878b-19e542189d5c",
   "metadata": {},
   "outputs": [],
   "source": [
    "def display_recommended_books(recommended_books, top_n=10, use_rich=True):\n",
    "    # Select relevant columns & handle missing values\n",
    "    top_books = recommended_books[['name', 'authors', 'rating', 'countsofreview', 'score']].copy()\n",
    "    top_books = top_books.fillna(\"N/A\")  # Replace NaN values\n",
    "\n",
    "    # Sort by score (highest first)\n",
    "    top_books = top_books.sort_values(by=\"score\", ascending=False).head(top_n)\n",
    "\n",
    "    # Convert numeric columns to formatted strings (2 decimal places)\n",
    "    top_books[\"rating\"] = top_books[\"rating\"].apply(lambda x: f\"{x:.2f}\" if isinstance(x, (int, float)) else x)\n",
    "    top_books[\"score\"] = top_books[\"score\"].apply(lambda x: f\"{x:.5f}\" if isinstance(x, (int, float)) else x)\n",
    "\n",
    "    # Convert DataFrame to list of lists\n",
    "    book_list = top_books.values.tolist()\n",
    "\n",
    "    # Define headers\n",
    "    headers = [\"📚 Book Title\", \"✍️ Author(s)\", \"⭐ Rating\", \"🗳️ Review Count\", \"🏆 Score\"]\n",
    "\n",
    "    # Use Rich for Beautiful Console Output\n",
    "    if use_rich:\n",
    "        console = Console()\n",
    "        table = Table(title=\"🎉📚 **Top Recommended Books** 📚🎉\", show_lines=True)\n",
    "\n",
    "        # Add headers with styling\n",
    "        table.add_column(\"📚 Book Title\", justify=\"left\", style=\"black\")\n",
    "        table.add_column(\"✍️ Author(s)\", justify=\"left\", style=\"black\")\n",
    "        table.add_column(\"⭐ Rating\", justify=\"center\", style=\"black\")\n",
    "        table.add_column(\"🗳️ Review Count\", justify=\"right\", style=\"black\")\n",
    "        table.add_column(\"🏆 Score\", justify=\"right\", style=\"black\")\n",
    "\n",
    "        # Add rows dynamically\n",
    "        for book in book_list:\n",
    "            table.add_row(book[0], book[1], book[2], str(book[3]), book[4])\n",
    "\n",
    "        console.print(table)\n",
    "\n",
    "    # Use Tabulate for Grid-Style Tables (No Color)\n",
    "    else:\n",
    "        table_str = tabulate(\n",
    "            book_list,\n",
    "            headers=headers,\n",
    "            tablefmt=\"fancy_grid\",\n",
    "            showindex=False\n",
    "        )\n",
    "        print(\"\\n🎉📚 **Top Recommended Books** 📚🎉\\n\")\n",
    "        print(table_str)"
   ]
  },
  {
   "cell_type": "code",
   "execution_count": 375,
   "id": "3168c468-122c-47a7-965b-e299703001d0",
   "metadata": {},
   "outputs": [],
   "source": [
    "recommended_books_wr = compute_weighted_recommendations(filtered_books_df)"
   ]
  },
  {
   "cell_type": "code",
   "execution_count": 377,
   "id": "26cc3598-2299-49c7-8074-d47e2f5b48c4",
   "metadata": {},
   "outputs": [
    {
     "data": {
      "text/html": [
       "<pre style=\"white-space:pre;overflow-x:auto;line-height:normal;font-family:Menlo,'DejaVu Sans Mono',consolas,'Courier New',monospace\"><span style=\"font-style: italic\">                                        🎉📚 **Top Recommended Books** 📚🎉                                        </span>\n",
       "┏━━━━━━━━━━━━━━━━━━━━━━━━━━━━━━━━━━━━━━━━━━━━━━━━━━━━┳━━━━━━━━━━━━━━━━━━━━┳━━━━━━━━━━━┳━━━━━━━━━━━━━━━━┳━━━━━━━━━━┓\n",
       "┃<span style=\"font-weight: bold\"> 📚 Book Title                                      </span>┃<span style=\"font-weight: bold\"> ✍️ Author(s)        </span>┃<span style=\"font-weight: bold\"> ⭐ Rating </span>┃<span style=\"font-weight: bold\"> 🗳️ Review Count </span>┃<span style=\"font-weight: bold\"> 🏆 Score </span>┃\n",
       "┡━━━━━━━━━━━━━━━━━━━━━━━━━━━━━━━━━━━━━━━━━━━━━━━━━━━━╇━━━━━━━━━━━━━━━━━━━━╇━━━━━━━━━━━╇━━━━━━━━━━━━━━━━╇━━━━━━━━━━┩\n",
       "│<span style=\"color: #000000; text-decoration-color: #000000\"> Harry Potter Series Box Set (Harry Potter, #1-7)   </span>│<span style=\"color: #000000; text-decoration-color: #000000\"> J.K. Rowling       </span>│<span style=\"color: #000000; text-decoration-color: #000000\">   4.74    </span>│<span style=\"color: #000000; text-decoration-color: #000000\">           6522 </span>│<span style=\"color: #000000; text-decoration-color: #000000\">  4.71786 </span>│\n",
       "├────────────────────────────────────────────────────┼────────────────────┼───────────┼────────────────┼──────────┤\n",
       "│<span style=\"color: #000000; text-decoration-color: #000000\"> The Complete Calvin and Hobbes                     </span>│<span style=\"color: #000000; text-decoration-color: #000000\"> Bill Watterson     </span>│<span style=\"color: #000000; text-decoration-color: #000000\">   4.82    </span>│<span style=\"color: #000000; text-decoration-color: #000000\">            940 </span>│<span style=\"color: #000000; text-decoration-color: #000000\">  4.67414 </span>│\n",
       "├────────────────────────────────────────────────────┼────────────────────┼───────────┼────────────────┼──────────┤\n",
       "│<span style=\"color: #000000; text-decoration-color: #000000\"> Mark of the Lion Trilogy                           </span>│<span style=\"color: #000000; text-decoration-color: #000000\"> Francine Rivers    </span>│<span style=\"color: #000000; text-decoration-color: #000000\">   4.77    </span>│<span style=\"color: #000000; text-decoration-color: #000000\">            757 </span>│<span style=\"color: #000000; text-decoration-color: #000000\">  4.60425 </span>│\n",
       "├────────────────────────────────────────────────────┼────────────────────┼───────────┼────────────────┼──────────┤\n",
       "│<span style=\"color: #000000; text-decoration-color: #000000\"> Harry Potter Collection (Harry Potter, #1-6)       </span>│<span style=\"color: #000000; text-decoration-color: #000000\"> J.K. Rowling       </span>│<span style=\"color: #000000; text-decoration-color: #000000\">   4.73    </span>│<span style=\"color: #000000; text-decoration-color: #000000\">            809 </span>│<span style=\"color: #000000; text-decoration-color: #000000\">  4.57991 </span>│\n",
       "├────────────────────────────────────────────────────┼────────────────────┼───────────┼────────────────┼──────────┤\n",
       "│<span style=\"color: #000000; text-decoration-color: #000000\"> The Jesus Storybook Bible: Every Story Whispers    </span>│<span style=\"color: #000000; text-decoration-color: #000000\"> Sally Lloyd-Jones  </span>│<span style=\"color: #000000; text-decoration-color: #000000\">   4.75    </span>│<span style=\"color: #000000; text-decoration-color: #000000\">            620 </span>│<span style=\"color: #000000; text-decoration-color: #000000\">  4.55961 </span>│\n",
       "│<span style=\"color: #000000; text-decoration-color: #000000\"> His Name                                           </span>│<span style=\"color: #000000; text-decoration-color: #000000\">                    </span>│<span style=\"color: #000000; text-decoration-color: #000000\">           </span>│<span style=\"color: #000000; text-decoration-color: #000000\">                </span>│<span style=\"color: #000000; text-decoration-color: #000000\">          </span>│\n",
       "├────────────────────────────────────────────────────┼────────────────────┼───────────┼────────────────┼──────────┤\n",
       "│<span style=\"color: #000000; text-decoration-color: #000000\"> Acheron (Dark-Hunter #14)                          </span>│<span style=\"color: #000000; text-decoration-color: #000000\"> Sherrilyn Kenyon   </span>│<span style=\"color: #000000; text-decoration-color: #000000\">   4.58    </span>│<span style=\"color: #000000; text-decoration-color: #000000\">           3196 </span>│<span style=\"color: #000000; text-decoration-color: #000000\">  4.54389 </span>│\n",
       "├────────────────────────────────────────────────────┼────────────────────┼───────────┼────────────────┼──────────┤\n",
       "│<span style=\"color: #000000; text-decoration-color: #000000\"> The Complete Maus                                  </span>│<span style=\"color: #000000; text-decoration-color: #000000\"> Art Spiegelman     </span>│<span style=\"color: #000000; text-decoration-color: #000000\">   4.55    </span>│<span style=\"color: #000000; text-decoration-color: #000000\">           6147 </span>│<span style=\"color: #000000; text-decoration-color: #000000\">  4.53156 </span>│\n",
       "├────────────────────────────────────────────────────┼────────────────────┼───────────┼────────────────┼──────────┤\n",
       "│<span style=\"color: #000000; text-decoration-color: #000000\"> J.R.R. Tolkien 4-Book Boxed Set: The Hobbit and    </span>│<span style=\"color: #000000; text-decoration-color: #000000\"> J.R.R. Tolkien     </span>│<span style=\"color: #000000; text-decoration-color: #000000\">   4.60    </span>│<span style=\"color: #000000; text-decoration-color: #000000\">           1548 </span>│<span style=\"color: #000000; text-decoration-color: #000000\">  4.52723 </span>│\n",
       "│<span style=\"color: #000000; text-decoration-color: #000000\"> The Lord of the Rings                              </span>│<span style=\"color: #000000; text-decoration-color: #000000\">                    </span>│<span style=\"color: #000000; text-decoration-color: #000000\">           </span>│<span style=\"color: #000000; text-decoration-color: #000000\">                </span>│<span style=\"color: #000000; text-decoration-color: #000000\">          </span>│\n",
       "├────────────────────────────────────────────────────┼────────────────────┼───────────┼────────────────┼──────────┤\n",
       "│<span style=\"color: #000000; text-decoration-color: #000000\"> The Last Olympian (Percy Jackson and the           </span>│<span style=\"color: #000000; text-decoration-color: #000000\"> Rick Riordan       </span>│<span style=\"color: #000000; text-decoration-color: #000000\">   4.50    </span>│<span style=\"color: #000000; text-decoration-color: #000000\">          12170 </span>│<span style=\"color: #000000; text-decoration-color: #000000\">  4.49124 </span>│\n",
       "│<span style=\"color: #000000; text-decoration-color: #000000\"> Olympians, #5)                                     </span>│<span style=\"color: #000000; text-decoration-color: #000000\">                    </span>│<span style=\"color: #000000; text-decoration-color: #000000\">           </span>│<span style=\"color: #000000; text-decoration-color: #000000\">                </span>│<span style=\"color: #000000; text-decoration-color: #000000\">          </span>│\n",
       "├────────────────────────────────────────────────────┼────────────────────┼───────────┼────────────────┼──────────┤\n",
       "│<span style=\"color: #000000; text-decoration-color: #000000\"> A Storm of Swords: Blood and Gold (A Song of Ice   </span>│<span style=\"color: #000000; text-decoration-color: #000000\"> George R.R. Martin </span>│<span style=\"color: #000000; text-decoration-color: #000000\">   4.55    </span>│<span style=\"color: #000000; text-decoration-color: #000000\">           1561 </span>│<span style=\"color: #000000; text-decoration-color: #000000\">  4.48260 </span>│\n",
       "│<span style=\"color: #000000; text-decoration-color: #000000\"> and Fire, #3: Part 2 of 2)                         </span>│<span style=\"color: #000000; text-decoration-color: #000000\">                    </span>│<span style=\"color: #000000; text-decoration-color: #000000\">           </span>│<span style=\"color: #000000; text-decoration-color: #000000\">                </span>│<span style=\"color: #000000; text-decoration-color: #000000\">          </span>│\n",
       "└────────────────────────────────────────────────────┴────────────────────┴───────────┴────────────────┴──────────┘\n",
       "</pre>\n"
      ],
      "text/plain": [
       "\u001b[3m                                        🎉📚 **Top Recommended Books** 📚🎉                                        \u001b[0m\n",
       "┏━━━━━━━━━━━━━━━━━━━━━━━━━━━━━━━━━━━━━━━━━━━━━━━━━━━━┳━━━━━━━━━━━━━━━━━━━━┳━━━━━━━━━━━┳━━━━━━━━━━━━━━━━┳━━━━━━━━━━┓\n",
       "┃\u001b[1m \u001b[0m\u001b[1m📚 Book Title                                     \u001b[0m\u001b[1m \u001b[0m┃\u001b[1m \u001b[0m\u001b[1m✍️ Author(s)       \u001b[0m\u001b[1m \u001b[0m┃\u001b[1m \u001b[0m\u001b[1m⭐ Rating\u001b[0m\u001b[1m \u001b[0m┃\u001b[1m \u001b[0m\u001b[1m🗳️ Review Count\u001b[0m\u001b[1m \u001b[0m┃\u001b[1m \u001b[0m\u001b[1m🏆 Score\u001b[0m\u001b[1m \u001b[0m┃\n",
       "┡━━━━━━━━━━━━━━━━━━━━━━━━━━━━━━━━━━━━━━━━━━━━━━━━━━━━╇━━━━━━━━━━━━━━━━━━━━╇━━━━━━━━━━━╇━━━━━━━━━━━━━━━━╇━━━━━━━━━━┩\n",
       "│\u001b[30m \u001b[0m\u001b[30mHarry Potter Series Box Set (Harry Potter, #1-7)  \u001b[0m\u001b[30m \u001b[0m│\u001b[30m \u001b[0m\u001b[30mJ.K. Rowling      \u001b[0m\u001b[30m \u001b[0m│\u001b[30m \u001b[0m\u001b[30m  4.74   \u001b[0m\u001b[30m \u001b[0m│\u001b[30m \u001b[0m\u001b[30m          6522\u001b[0m\u001b[30m \u001b[0m│\u001b[30m \u001b[0m\u001b[30m 4.71786\u001b[0m\u001b[30m \u001b[0m│\n",
       "├────────────────────────────────────────────────────┼────────────────────┼───────────┼────────────────┼──────────┤\n",
       "│\u001b[30m \u001b[0m\u001b[30mThe Complete Calvin and Hobbes                    \u001b[0m\u001b[30m \u001b[0m│\u001b[30m \u001b[0m\u001b[30mBill Watterson    \u001b[0m\u001b[30m \u001b[0m│\u001b[30m \u001b[0m\u001b[30m  4.82   \u001b[0m\u001b[30m \u001b[0m│\u001b[30m \u001b[0m\u001b[30m           940\u001b[0m\u001b[30m \u001b[0m│\u001b[30m \u001b[0m\u001b[30m 4.67414\u001b[0m\u001b[30m \u001b[0m│\n",
       "├────────────────────────────────────────────────────┼────────────────────┼───────────┼────────────────┼──────────┤\n",
       "│\u001b[30m \u001b[0m\u001b[30mMark of the Lion Trilogy                          \u001b[0m\u001b[30m \u001b[0m│\u001b[30m \u001b[0m\u001b[30mFrancine Rivers   \u001b[0m\u001b[30m \u001b[0m│\u001b[30m \u001b[0m\u001b[30m  4.77   \u001b[0m\u001b[30m \u001b[0m│\u001b[30m \u001b[0m\u001b[30m           757\u001b[0m\u001b[30m \u001b[0m│\u001b[30m \u001b[0m\u001b[30m 4.60425\u001b[0m\u001b[30m \u001b[0m│\n",
       "├────────────────────────────────────────────────────┼────────────────────┼───────────┼────────────────┼──────────┤\n",
       "│\u001b[30m \u001b[0m\u001b[30mHarry Potter Collection (Harry Potter, #1-6)      \u001b[0m\u001b[30m \u001b[0m│\u001b[30m \u001b[0m\u001b[30mJ.K. Rowling      \u001b[0m\u001b[30m \u001b[0m│\u001b[30m \u001b[0m\u001b[30m  4.73   \u001b[0m\u001b[30m \u001b[0m│\u001b[30m \u001b[0m\u001b[30m           809\u001b[0m\u001b[30m \u001b[0m│\u001b[30m \u001b[0m\u001b[30m 4.57991\u001b[0m\u001b[30m \u001b[0m│\n",
       "├────────────────────────────────────────────────────┼────────────────────┼───────────┼────────────────┼──────────┤\n",
       "│\u001b[30m \u001b[0m\u001b[30mThe Jesus Storybook Bible: Every Story Whispers   \u001b[0m\u001b[30m \u001b[0m│\u001b[30m \u001b[0m\u001b[30mSally Lloyd-Jones \u001b[0m\u001b[30m \u001b[0m│\u001b[30m \u001b[0m\u001b[30m  4.75   \u001b[0m\u001b[30m \u001b[0m│\u001b[30m \u001b[0m\u001b[30m           620\u001b[0m\u001b[30m \u001b[0m│\u001b[30m \u001b[0m\u001b[30m 4.55961\u001b[0m\u001b[30m \u001b[0m│\n",
       "│\u001b[30m \u001b[0m\u001b[30mHis Name                                          \u001b[0m\u001b[30m \u001b[0m│\u001b[30m                    \u001b[0m│\u001b[30m           \u001b[0m│\u001b[30m                \u001b[0m│\u001b[30m          \u001b[0m│\n",
       "├────────────────────────────────────────────────────┼────────────────────┼───────────┼────────────────┼──────────┤\n",
       "│\u001b[30m \u001b[0m\u001b[30mAcheron (Dark-Hunter #14)                         \u001b[0m\u001b[30m \u001b[0m│\u001b[30m \u001b[0m\u001b[30mSherrilyn Kenyon  \u001b[0m\u001b[30m \u001b[0m│\u001b[30m \u001b[0m\u001b[30m  4.58   \u001b[0m\u001b[30m \u001b[0m│\u001b[30m \u001b[0m\u001b[30m          3196\u001b[0m\u001b[30m \u001b[0m│\u001b[30m \u001b[0m\u001b[30m 4.54389\u001b[0m\u001b[30m \u001b[0m│\n",
       "├────────────────────────────────────────────────────┼────────────────────┼───────────┼────────────────┼──────────┤\n",
       "│\u001b[30m \u001b[0m\u001b[30mThe Complete Maus                                 \u001b[0m\u001b[30m \u001b[0m│\u001b[30m \u001b[0m\u001b[30mArt Spiegelman    \u001b[0m\u001b[30m \u001b[0m│\u001b[30m \u001b[0m\u001b[30m  4.55   \u001b[0m\u001b[30m \u001b[0m│\u001b[30m \u001b[0m\u001b[30m          6147\u001b[0m\u001b[30m \u001b[0m│\u001b[30m \u001b[0m\u001b[30m 4.53156\u001b[0m\u001b[30m \u001b[0m│\n",
       "├────────────────────────────────────────────────────┼────────────────────┼───────────┼────────────────┼──────────┤\n",
       "│\u001b[30m \u001b[0m\u001b[30mJ.R.R. Tolkien 4-Book Boxed Set: The Hobbit and   \u001b[0m\u001b[30m \u001b[0m│\u001b[30m \u001b[0m\u001b[30mJ.R.R. Tolkien    \u001b[0m\u001b[30m \u001b[0m│\u001b[30m \u001b[0m\u001b[30m  4.60   \u001b[0m\u001b[30m \u001b[0m│\u001b[30m \u001b[0m\u001b[30m          1548\u001b[0m\u001b[30m \u001b[0m│\u001b[30m \u001b[0m\u001b[30m 4.52723\u001b[0m\u001b[30m \u001b[0m│\n",
       "│\u001b[30m \u001b[0m\u001b[30mThe Lord of the Rings                             \u001b[0m\u001b[30m \u001b[0m│\u001b[30m                    \u001b[0m│\u001b[30m           \u001b[0m│\u001b[30m                \u001b[0m│\u001b[30m          \u001b[0m│\n",
       "├────────────────────────────────────────────────────┼────────────────────┼───────────┼────────────────┼──────────┤\n",
       "│\u001b[30m \u001b[0m\u001b[30mThe Last Olympian (Percy Jackson and the          \u001b[0m\u001b[30m \u001b[0m│\u001b[30m \u001b[0m\u001b[30mRick Riordan      \u001b[0m\u001b[30m \u001b[0m│\u001b[30m \u001b[0m\u001b[30m  4.50   \u001b[0m\u001b[30m \u001b[0m│\u001b[30m \u001b[0m\u001b[30m         12170\u001b[0m\u001b[30m \u001b[0m│\u001b[30m \u001b[0m\u001b[30m 4.49124\u001b[0m\u001b[30m \u001b[0m│\n",
       "│\u001b[30m \u001b[0m\u001b[30mOlympians, #5)                                    \u001b[0m\u001b[30m \u001b[0m│\u001b[30m                    \u001b[0m│\u001b[30m           \u001b[0m│\u001b[30m                \u001b[0m│\u001b[30m          \u001b[0m│\n",
       "├────────────────────────────────────────────────────┼────────────────────┼───────────┼────────────────┼──────────┤\n",
       "│\u001b[30m \u001b[0m\u001b[30mA Storm of Swords: Blood and Gold (A Song of Ice  \u001b[0m\u001b[30m \u001b[0m│\u001b[30m \u001b[0m\u001b[30mGeorge R.R. Martin\u001b[0m\u001b[30m \u001b[0m│\u001b[30m \u001b[0m\u001b[30m  4.55   \u001b[0m\u001b[30m \u001b[0m│\u001b[30m \u001b[0m\u001b[30m          1561\u001b[0m\u001b[30m \u001b[0m│\u001b[30m \u001b[0m\u001b[30m 4.48260\u001b[0m\u001b[30m \u001b[0m│\n",
       "│\u001b[30m \u001b[0m\u001b[30mand Fire, #3: Part 2 of 2)                        \u001b[0m\u001b[30m \u001b[0m│\u001b[30m                    \u001b[0m│\u001b[30m           \u001b[0m│\u001b[30m                \u001b[0m│\u001b[30m          \u001b[0m│\n",
       "└────────────────────────────────────────────────────┴────────────────────┴───────────┴────────────────┴──────────┘\n"
      ]
     },
     "metadata": {},
     "output_type": "display_data"
    }
   ],
   "source": [
    "display_recommended_books(recommended_books_wr, use_rich=True, top_n=10)  # Show Top 10 Books"
   ]
  },
  {
   "cell_type": "markdown",
   "id": "ba82c3dc-06be-4902-9a1c-3c2ad13ff210",
   "metadata": {},
   "source": [
    "#### For the entire books data frame - which has more than 1 million rows"
   ]
  },
  {
   "cell_type": "code",
   "execution_count": 380,
   "id": "f65cb56a-e748-4f9c-9041-3f5abe94db03",
   "metadata": {},
   "outputs": [],
   "source": [
    "recommended_books_whole_wr = compute_weighted_recommendations(df_books_copy)"
   ]
  },
  {
   "cell_type": "code",
   "execution_count": 381,
   "id": "4b6a2055-a5a8-438f-9bfd-6ca8efb54ba3",
   "metadata": {},
   "outputs": [
    {
     "data": {
      "text/html": [
       "<pre style=\"white-space:pre;overflow-x:auto;line-height:normal;font-family:Menlo,'DejaVu Sans Mono',consolas,'Courier New',monospace\"><span style=\"font-style: italic\">                                        🎉📚 **Top Recommended Books** 📚🎉                                        </span>\n",
       "┏━━━━━━━━━━━━━━━━━━━━━━━━━━━━━━━━━━━━━━━━━━━━━━━━━━━━━┳━━━━━━━━━━━━━━━━━━━┳━━━━━━━━━━━┳━━━━━━━━━━━━━━━━┳━━━━━━━━━━┓\n",
       "┃<span style=\"font-weight: bold\"> 📚 Book Title                                       </span>┃<span style=\"font-weight: bold\"> ✍️ Author(s)       </span>┃<span style=\"font-weight: bold\"> ⭐ Rating </span>┃<span style=\"font-weight: bold\"> 🗳️ Review Count </span>┃<span style=\"font-weight: bold\"> 🏆 Score </span>┃\n",
       "┡━━━━━━━━━━━━━━━━━━━━━━━━━━━━━━━━━━━━━━━━━━━━━━━━━━━━━╇━━━━━━━━━━━━━━━━━━━╇━━━━━━━━━━━╇━━━━━━━━━━━━━━━━╇━━━━━━━━━━┩\n",
       "│<span style=\"color: #000000; text-decoration-color: #000000\"> The Complete Calvin and Hobbes                      </span>│<span style=\"color: #000000; text-decoration-color: #000000\"> Bill Watterson    </span>│<span style=\"color: #000000; text-decoration-color: #000000\">   4.82    </span>│<span style=\"color: #000000; text-decoration-color: #000000\">            940 </span>│<span style=\"color: #000000; text-decoration-color: #000000\">  4.80375 </span>│\n",
       "├─────────────────────────────────────────────────────┼───────────────────┼───────────┼────────────────┼──────────┤\n",
       "│<span style=\"color: #000000; text-decoration-color: #000000\"> Mark of the Lion Trilogy                            </span>│<span style=\"color: #000000; text-decoration-color: #000000\"> Francine Rivers   </span>│<span style=\"color: #000000; text-decoration-color: #000000\">   4.77    </span>│<span style=\"color: #000000; text-decoration-color: #000000\">            757 </span>│<span style=\"color: #000000; text-decoration-color: #000000\">  4.75038 </span>│\n",
       "├─────────────────────────────────────────────────────┼───────────────────┼───────────┼────────────────┼──────────┤\n",
       "│<span style=\"color: #000000; text-decoration-color: #000000\"> Harry Potter Series Box Set (Harry Potter, #1-7)    </span>│<span style=\"color: #000000; text-decoration-color: #000000\"> J.K. Rowling      </span>│<span style=\"color: #000000; text-decoration-color: #000000\">   4.74    </span>│<span style=\"color: #000000; text-decoration-color: #000000\">           6522 </span>│<span style=\"color: #000000; text-decoration-color: #000000\">  4.73774 </span>│\n",
       "├─────────────────────────────────────────────────────┼───────────────────┼───────────┼────────────────┼──────────┤\n",
       "│<span style=\"color: #000000; text-decoration-color: #000000\"> The Jesus Storybook Bible: Every Story Whispers His </span>│<span style=\"color: #000000; text-decoration-color: #000000\"> Sally Lloyd-Jones </span>│<span style=\"color: #000000; text-decoration-color: #000000\">   4.75    </span>│<span style=\"color: #000000; text-decoration-color: #000000\">            620 </span>│<span style=\"color: #000000; text-decoration-color: #000000\">  4.72636 </span>│\n",
       "│<span style=\"color: #000000; text-decoration-color: #000000\"> Name                                                </span>│<span style=\"color: #000000; text-decoration-color: #000000\">                   </span>│<span style=\"color: #000000; text-decoration-color: #000000\">           </span>│<span style=\"color: #000000; text-decoration-color: #000000\">                </span>│<span style=\"color: #000000; text-decoration-color: #000000\">          </span>│\n",
       "├─────────────────────────────────────────────────────┼───────────────────┼───────────┼────────────────┼──────────┤\n",
       "│<span style=\"color: #000000; text-decoration-color: #000000\"> It's a Magical World (Calvin and Hobbes, #11)       </span>│<span style=\"color: #000000; text-decoration-color: #000000\"> Bill Watterson    </span>│<span style=\"color: #000000; text-decoration-color: #000000\">   4.76    </span>│<span style=\"color: #000000; text-decoration-color: #000000\">            304 </span>│<span style=\"color: #000000; text-decoration-color: #000000\">  4.71216 </span>│\n",
       "├─────────────────────────────────────────────────────┼───────────────────┼───────────┼────────────────┼──────────┤\n",
       "│<span style=\"color: #000000; text-decoration-color: #000000\"> Harry Potter Collection (Harry Potter, #1-6)        </span>│<span style=\"color: #000000; text-decoration-color: #000000\"> J.K. Rowling      </span>│<span style=\"color: #000000; text-decoration-color: #000000\">   4.73    </span>│<span style=\"color: #000000; text-decoration-color: #000000\">            809 </span>│<span style=\"color: #000000; text-decoration-color: #000000\">  4.71202 </span>│\n",
       "├─────────────────────────────────────────────────────┼───────────────────┼───────────┼────────────────┼──────────┤\n",
       "│<span style=\"color: #000000; text-decoration-color: #000000\"> The Authoritative Calvin and Hobbes: A Calvin and   </span>│<span style=\"color: #000000; text-decoration-color: #000000\"> Bill Watterson    </span>│<span style=\"color: #000000; text-decoration-color: #000000\">   4.74    </span>│<span style=\"color: #000000; text-decoration-color: #000000\">            413 </span>│<span style=\"color: #000000; text-decoration-color: #000000\">  4.70492 </span>│\n",
       "│<span style=\"color: #000000; text-decoration-color: #000000\"> Hobbes Treasury                                     </span>│<span style=\"color: #000000; text-decoration-color: #000000\">                   </span>│<span style=\"color: #000000; text-decoration-color: #000000\">           </span>│<span style=\"color: #000000; text-decoration-color: #000000\">                </span>│<span style=\"color: #000000; text-decoration-color: #000000\">          </span>│\n",
       "├─────────────────────────────────────────────────────┼───────────────────┼───────────┼────────────────┼──────────┤\n",
       "│<span style=\"color: #000000; text-decoration-color: #000000\"> Harry Potter Boxed Set, Books 1-5 (Harry Potter,    </span>│<span style=\"color: #000000; text-decoration-color: #000000\"> J.K. Rowling      </span>│<span style=\"color: #000000; text-decoration-color: #000000\">   4.78    </span>│<span style=\"color: #000000; text-decoration-color: #000000\">            166 </span>│<span style=\"color: #000000; text-decoration-color: #000000\">  4.69329 </span>│\n",
       "│<span style=\"color: #000000; text-decoration-color: #000000\"> #1-5)                                               </span>│<span style=\"color: #000000; text-decoration-color: #000000\">                   </span>│<span style=\"color: #000000; text-decoration-color: #000000\">           </span>│<span style=\"color: #000000; text-decoration-color: #000000\">                </span>│<span style=\"color: #000000; text-decoration-color: #000000\">          </span>│\n",
       "├─────────────────────────────────────────────────────┼───────────────────┼───────────┼────────────────┼──────────┤\n",
       "│<span style=\"color: #000000; text-decoration-color: #000000\"> Toda Mafalda                                        </span>│<span style=\"color: #000000; text-decoration-color: #000000\"> Quino             </span>│<span style=\"color: #000000; text-decoration-color: #000000\">   4.76    </span>│<span style=\"color: #000000; text-decoration-color: #000000\">            195 </span>│<span style=\"color: #000000; text-decoration-color: #000000\">  4.68647 </span>│\n",
       "├─────────────────────────────────────────────────────┼───────────────────┼───────────┼────────────────┼──────────┤\n",
       "│<span style=\"color: #000000; text-decoration-color: #000000\"> Homicidal Psycho Jungle Cat (Calvin and Hobbes #9)  </span>│<span style=\"color: #000000; text-decoration-color: #000000\"> Bill Watterson    </span>│<span style=\"color: #000000; text-decoration-color: #000000\">   4.72    </span>│<span style=\"color: #000000; text-decoration-color: #000000\">            292 </span>│<span style=\"color: #000000; text-decoration-color: #000000\">  4.67131 </span>│\n",
       "└─────────────────────────────────────────────────────┴───────────────────┴───────────┴────────────────┴──────────┘\n",
       "</pre>\n"
      ],
      "text/plain": [
       "\u001b[3m                                        🎉📚 **Top Recommended Books** 📚🎉                                        \u001b[0m\n",
       "┏━━━━━━━━━━━━━━━━━━━━━━━━━━━━━━━━━━━━━━━━━━━━━━━━━━━━━┳━━━━━━━━━━━━━━━━━━━┳━━━━━━━━━━━┳━━━━━━━━━━━━━━━━┳━━━━━━━━━━┓\n",
       "┃\u001b[1m \u001b[0m\u001b[1m📚 Book Title                                      \u001b[0m\u001b[1m \u001b[0m┃\u001b[1m \u001b[0m\u001b[1m✍️ Author(s)      \u001b[0m\u001b[1m \u001b[0m┃\u001b[1m \u001b[0m\u001b[1m⭐ Rating\u001b[0m\u001b[1m \u001b[0m┃\u001b[1m \u001b[0m\u001b[1m🗳️ Review Count\u001b[0m\u001b[1m \u001b[0m┃\u001b[1m \u001b[0m\u001b[1m🏆 Score\u001b[0m\u001b[1m \u001b[0m┃\n",
       "┡━━━━━━━━━━━━━━━━━━━━━━━━━━━━━━━━━━━━━━━━━━━━━━━━━━━━━╇━━━━━━━━━━━━━━━━━━━╇━━━━━━━━━━━╇━━━━━━━━━━━━━━━━╇━━━━━━━━━━┩\n",
       "│\u001b[30m \u001b[0m\u001b[30mThe Complete Calvin and Hobbes                     \u001b[0m\u001b[30m \u001b[0m│\u001b[30m \u001b[0m\u001b[30mBill Watterson   \u001b[0m\u001b[30m \u001b[0m│\u001b[30m \u001b[0m\u001b[30m  4.82   \u001b[0m\u001b[30m \u001b[0m│\u001b[30m \u001b[0m\u001b[30m           940\u001b[0m\u001b[30m \u001b[0m│\u001b[30m \u001b[0m\u001b[30m 4.80375\u001b[0m\u001b[30m \u001b[0m│\n",
       "├─────────────────────────────────────────────────────┼───────────────────┼───────────┼────────────────┼──────────┤\n",
       "│\u001b[30m \u001b[0m\u001b[30mMark of the Lion Trilogy                           \u001b[0m\u001b[30m \u001b[0m│\u001b[30m \u001b[0m\u001b[30mFrancine Rivers  \u001b[0m\u001b[30m \u001b[0m│\u001b[30m \u001b[0m\u001b[30m  4.77   \u001b[0m\u001b[30m \u001b[0m│\u001b[30m \u001b[0m\u001b[30m           757\u001b[0m\u001b[30m \u001b[0m│\u001b[30m \u001b[0m\u001b[30m 4.75038\u001b[0m\u001b[30m \u001b[0m│\n",
       "├─────────────────────────────────────────────────────┼───────────────────┼───────────┼────────────────┼──────────┤\n",
       "│\u001b[30m \u001b[0m\u001b[30mHarry Potter Series Box Set (Harry Potter, #1-7)   \u001b[0m\u001b[30m \u001b[0m│\u001b[30m \u001b[0m\u001b[30mJ.K. Rowling     \u001b[0m\u001b[30m \u001b[0m│\u001b[30m \u001b[0m\u001b[30m  4.74   \u001b[0m\u001b[30m \u001b[0m│\u001b[30m \u001b[0m\u001b[30m          6522\u001b[0m\u001b[30m \u001b[0m│\u001b[30m \u001b[0m\u001b[30m 4.73774\u001b[0m\u001b[30m \u001b[0m│\n",
       "├─────────────────────────────────────────────────────┼───────────────────┼───────────┼────────────────┼──────────┤\n",
       "│\u001b[30m \u001b[0m\u001b[30mThe Jesus Storybook Bible: Every Story Whispers His\u001b[0m\u001b[30m \u001b[0m│\u001b[30m \u001b[0m\u001b[30mSally Lloyd-Jones\u001b[0m\u001b[30m \u001b[0m│\u001b[30m \u001b[0m\u001b[30m  4.75   \u001b[0m\u001b[30m \u001b[0m│\u001b[30m \u001b[0m\u001b[30m           620\u001b[0m\u001b[30m \u001b[0m│\u001b[30m \u001b[0m\u001b[30m 4.72636\u001b[0m\u001b[30m \u001b[0m│\n",
       "│\u001b[30m \u001b[0m\u001b[30mName                                               \u001b[0m\u001b[30m \u001b[0m│\u001b[30m                   \u001b[0m│\u001b[30m           \u001b[0m│\u001b[30m                \u001b[0m│\u001b[30m          \u001b[0m│\n",
       "├─────────────────────────────────────────────────────┼───────────────────┼───────────┼────────────────┼──────────┤\n",
       "│\u001b[30m \u001b[0m\u001b[30mIt's a Magical World (Calvin and Hobbes, #11)      \u001b[0m\u001b[30m \u001b[0m│\u001b[30m \u001b[0m\u001b[30mBill Watterson   \u001b[0m\u001b[30m \u001b[0m│\u001b[30m \u001b[0m\u001b[30m  4.76   \u001b[0m\u001b[30m \u001b[0m│\u001b[30m \u001b[0m\u001b[30m           304\u001b[0m\u001b[30m \u001b[0m│\u001b[30m \u001b[0m\u001b[30m 4.71216\u001b[0m\u001b[30m \u001b[0m│\n",
       "├─────────────────────────────────────────────────────┼───────────────────┼───────────┼────────────────┼──────────┤\n",
       "│\u001b[30m \u001b[0m\u001b[30mHarry Potter Collection (Harry Potter, #1-6)       \u001b[0m\u001b[30m \u001b[0m│\u001b[30m \u001b[0m\u001b[30mJ.K. Rowling     \u001b[0m\u001b[30m \u001b[0m│\u001b[30m \u001b[0m\u001b[30m  4.73   \u001b[0m\u001b[30m \u001b[0m│\u001b[30m \u001b[0m\u001b[30m           809\u001b[0m\u001b[30m \u001b[0m│\u001b[30m \u001b[0m\u001b[30m 4.71202\u001b[0m\u001b[30m \u001b[0m│\n",
       "├─────────────────────────────────────────────────────┼───────────────────┼───────────┼────────────────┼──────────┤\n",
       "│\u001b[30m \u001b[0m\u001b[30mThe Authoritative Calvin and Hobbes: A Calvin and  \u001b[0m\u001b[30m \u001b[0m│\u001b[30m \u001b[0m\u001b[30mBill Watterson   \u001b[0m\u001b[30m \u001b[0m│\u001b[30m \u001b[0m\u001b[30m  4.74   \u001b[0m\u001b[30m \u001b[0m│\u001b[30m \u001b[0m\u001b[30m           413\u001b[0m\u001b[30m \u001b[0m│\u001b[30m \u001b[0m\u001b[30m 4.70492\u001b[0m\u001b[30m \u001b[0m│\n",
       "│\u001b[30m \u001b[0m\u001b[30mHobbes Treasury                                    \u001b[0m\u001b[30m \u001b[0m│\u001b[30m                   \u001b[0m│\u001b[30m           \u001b[0m│\u001b[30m                \u001b[0m│\u001b[30m          \u001b[0m│\n",
       "├─────────────────────────────────────────────────────┼───────────────────┼───────────┼────────────────┼──────────┤\n",
       "│\u001b[30m \u001b[0m\u001b[30mHarry Potter Boxed Set, Books 1-5 (Harry Potter,   \u001b[0m\u001b[30m \u001b[0m│\u001b[30m \u001b[0m\u001b[30mJ.K. Rowling     \u001b[0m\u001b[30m \u001b[0m│\u001b[30m \u001b[0m\u001b[30m  4.78   \u001b[0m\u001b[30m \u001b[0m│\u001b[30m \u001b[0m\u001b[30m           166\u001b[0m\u001b[30m \u001b[0m│\u001b[30m \u001b[0m\u001b[30m 4.69329\u001b[0m\u001b[30m \u001b[0m│\n",
       "│\u001b[30m \u001b[0m\u001b[30m#1-5)                                              \u001b[0m\u001b[30m \u001b[0m│\u001b[30m                   \u001b[0m│\u001b[30m           \u001b[0m│\u001b[30m                \u001b[0m│\u001b[30m          \u001b[0m│\n",
       "├─────────────────────────────────────────────────────┼───────────────────┼───────────┼────────────────┼──────────┤\n",
       "│\u001b[30m \u001b[0m\u001b[30mToda Mafalda                                       \u001b[0m\u001b[30m \u001b[0m│\u001b[30m \u001b[0m\u001b[30mQuino            \u001b[0m\u001b[30m \u001b[0m│\u001b[30m \u001b[0m\u001b[30m  4.76   \u001b[0m\u001b[30m \u001b[0m│\u001b[30m \u001b[0m\u001b[30m           195\u001b[0m\u001b[30m \u001b[0m│\u001b[30m \u001b[0m\u001b[30m 4.68647\u001b[0m\u001b[30m \u001b[0m│\n",
       "├─────────────────────────────────────────────────────┼───────────────────┼───────────┼────────────────┼──────────┤\n",
       "│\u001b[30m \u001b[0m\u001b[30mHomicidal Psycho Jungle Cat (Calvin and Hobbes #9) \u001b[0m\u001b[30m \u001b[0m│\u001b[30m \u001b[0m\u001b[30mBill Watterson   \u001b[0m\u001b[30m \u001b[0m│\u001b[30m \u001b[0m\u001b[30m  4.72   \u001b[0m\u001b[30m \u001b[0m│\u001b[30m \u001b[0m\u001b[30m           292\u001b[0m\u001b[30m \u001b[0m│\u001b[30m \u001b[0m\u001b[30m 4.67131\u001b[0m\u001b[30m \u001b[0m│\n",
       "└─────────────────────────────────────────────────────┴───────────────────┴───────────┴────────────────┴──────────┘\n"
      ]
     },
     "metadata": {},
     "output_type": "display_data"
    }
   ],
   "source": [
    "display_recommended_books(recommended_books_whole_wr, use_rich=True, top_n=10)  # Show Top 10 Books"
   ]
  },
  {
   "cell_type": "markdown",
   "id": "cd4a75e7-c5eb-4b96-b717-cf6f8b4f1c5f",
   "metadata": {},
   "source": [
    "#### Content Based Recommender"
   ]
  },
  {
   "cell_type": "code",
   "execution_count": 450,
   "id": "09751b49-f4a7-4633-8986-305f57a21e76",
   "metadata": {},
   "outputs": [],
   "source": [
    "def content_recommender(df_book, n_neighbors=10):\n",
    "    \n",
    "    # Convert descriptions into TF-IDF Vectors\n",
    "    tfidf = TfidfVectorizer(stop_words='english', max_features=5000)  # Limiting to 5000 features for efficiency\n",
    "    tfidf_matrix = tfidf.fit_transform(df_book['description'])\n",
    "\n",
    "    # Nearest Neighbors Model (Efficient for Large Datasets)\n",
    "    nn_model = NearestNeighbors(metric='cosine', algorithm='brute', n_neighbors=n_neighbors + 1, n_jobs=-1)\n",
    "    nn_model.fit(tfidf_matrix)\n",
    "\n",
    "    # Create a Reverse Mapping (Book Title to Index)\n",
    "    df_book = df_book.reset_index(drop=True)  # Ensure indices match the dataset\n",
    "    indices = pd.Series(df_book.index, index=df_book['name']).drop_duplicates()\n",
    "\n",
    "    #  Recommendation Function\n",
    "    def get_recommendations(title, df=df_book, model=nn_model, tfidf_matrix=tfidf_matrix, n=n_neighbors):\n",
    "        \n",
    "        # Check if the title exists, else find the closest match\n",
    "        if title not in indices:\n",
    "            book_titles = df['name'].tolist()\n",
    "            matched_title = get_close_matches(title, book_titles, n=1, cutoff=0.6)\n",
    "            if matched_title:\n",
    "                title = matched_title[0]\n",
    "            else:\n",
    "                print(\"No close matches found. Please check the title and try again.\")\n",
    "                return None\n",
    "\n",
    "        #  Get the index of the book that matches the title\n",
    "        idx = indices[title]\n",
    "\n",
    "        # Find the most similar books\n",
    "        distances, indices_nn = model.kneighbors(tfidf_matrix[idx], n_neighbors=n + 1)\n",
    "\n",
    "        # Extract book indices (excluding the first one, which is the input book itself)\n",
    "        book_indices = indices_nn[0][1:]\n",
    "\n",
    "        # Return the top recommended books\n",
    "        return df[['book_id', 'name', 'authors', 'publisher']].iloc[book_indices]\n",
    "\n",
    "    return get_recommendations"
   ]
  },
  {
   "cell_type": "code",
   "execution_count": 452,
   "id": "c9acbbbe-66bd-43ef-89aa-721fab0cb57d",
   "metadata": {},
   "outputs": [],
   "source": [
    "def display_recommendations_in_table(recommended_books, use_rich=True):\n",
    "\n",
    "    headers = [\"📖 Book ID\", \"📚 Book Title\", \"✍️ Author(s)\", \"🏢 Publisher\"]\n",
    "\n",
    "    # Convert DataFrame to list of lists\n",
    "    book_list = recommended_books.values.tolist()\n",
    "\n",
    "    # Use Rich for Beautiful Console Output\n",
    "    if use_rich:\n",
    "        console = Console()\n",
    "        table = Table(title=\"🎉📚 **Top Recommended Books** 📚🎉\", show_lines=True)\n",
    "\n",
    "        # Add headers\n",
    "        table.add_column(\"📖 Book ID\", justify=\"center\", style=\"black\", no_wrap=True)\n",
    "        table.add_column(\"📚 Book Title\", justify=\"left\", style=\"black\")\n",
    "        table.add_column(\"✍️ Author(s)\", justify=\"left\", style=\"black\")\n",
    "        table.add_column(\"🏢 Publisher\", justify=\"left\", style=\"black\")\n",
    "\n",
    "        # Add rows\n",
    "        for book in book_list:\n",
    "            table.add_row(str(book[0]), book[1], book[2], book[3])\n",
    "\n",
    "        console.print(table)\n",
    "\n",
    "    # Use Tabulate for Grid-Style Tables (No Color)\n",
    "    else:\n",
    "        table_str = tabulate(\n",
    "            book_list,\n",
    "            headers=headers,\n",
    "            tablefmt=\"fancy_grid\",\n",
    "            showindex=False\n",
    "        )\n",
    "        print(\"\\n🎉📚 **Top Recommended Books** 📚🎉\\n\")\n",
    "        print(table_str)"
   ]
  },
  {
   "cell_type": "code",
   "execution_count": 454,
   "id": "ba75b97e-69a9-4ef6-a408-f38f5ebcc949",
   "metadata": {},
   "outputs": [
    {
     "data": {
      "text/html": [
       "<pre style=\"white-space:pre;overflow-x:auto;line-height:normal;font-family:Menlo,'DejaVu Sans Mono',consolas,'Courier New',monospace\"><span style=\"font-style: italic\">                                        🎉📚 **Top Recommended Books** 📚🎉                                        </span>\n",
       "┏━━━━━━━━━━━━┳━━━━━━━━━━━━━━━━━━━━━━━━━━━━━━━━━━━━━━━━━━━━━━━━━━━━━━┳━━━━━━━━━━━━━━━━━━━━┳━━━━━━━━━━━━━━━━━━━━━━━━┓\n",
       "┃<span style=\"font-weight: bold\"> 📖 Book ID </span>┃<span style=\"font-weight: bold\"> 📚 Book Title                                        </span>┃<span style=\"font-weight: bold\"> ✍️ Author(s)        </span>┃<span style=\"font-weight: bold\"> 🏢 Publisher           </span>┃\n",
       "┡━━━━━━━━━━━━╇━━━━━━━━━━━━━━━━━━━━━━━━━━━━━━━━━━━━━━━━━━━━━━━━━━━━━━╇━━━━━━━━━━━━━━━━━━━━╇━━━━━━━━━━━━━━━━━━━━━━━━┩\n",
       "│<span style=\"color: #000000; text-decoration-color: #000000\">  3130430   </span>│<span style=\"color: #000000; text-decoration-color: #000000\"> Harry, a History: The True Story of a Boy Wizard,    </span>│<span style=\"color: #000000; text-decoration-color: #000000\"> Melissa Anelli     </span>│<span style=\"color: #000000; text-decoration-color: #000000\"> Gallery Books          </span>│\n",
       "│<span style=\"color: #000000; text-decoration-color: #000000\">            </span>│<span style=\"color: #000000; text-decoration-color: #000000\"> His Fans, and Life Inside the Harry Potter           </span>│<span style=\"color: #000000; text-decoration-color: #000000\">                    </span>│<span style=\"color: #000000; text-decoration-color: #000000\">                        </span>│\n",
       "│<span style=\"color: #000000; text-decoration-color: #000000\">            </span>│<span style=\"color: #000000; text-decoration-color: #000000\"> Phenomenon                                           </span>│<span style=\"color: #000000; text-decoration-color: #000000\">                    </span>│<span style=\"color: #000000; text-decoration-color: #000000\">                        </span>│\n",
       "├────────────┼──────────────────────────────────────────────────────┼────────────────────┼────────────────────────┤\n",
       "│<span style=\"color: #000000; text-decoration-color: #000000\">   546106   </span>│<span style=\"color: #000000; text-decoration-color: #000000\"> A Cry of Stone (Children of the Last Days #6)        </span>│<span style=\"color: #000000; text-decoration-color: #000000\"> Michael D. O'Brien </span>│<span style=\"color: #000000; text-decoration-color: #000000\"> Ignatius Press         </span>│\n",
       "├────────────┼──────────────────────────────────────────────────────┼────────────────────┼────────────────────────┤\n",
       "│<span style=\"color: #000000; text-decoration-color: #000000\">   848654   </span>│<span style=\"color: #000000; text-decoration-color: #000000\"> Harry Potter and the Philosopher's Stone (Harry      </span>│<span style=\"color: #000000; text-decoration-color: #000000\"> J.K. Rowling       </span>│<span style=\"color: #000000; text-decoration-color: #000000\"> Bloomsbury Publishing  </span>│\n",
       "│<span style=\"color: #000000; text-decoration-color: #000000\">            </span>│<span style=\"color: #000000; text-decoration-color: #000000\"> Potter, #1)                                          </span>│<span style=\"color: #000000; text-decoration-color: #000000\">                    </span>│<span style=\"color: #000000; text-decoration-color: #000000\">                        </span>│\n",
       "├────────────┼──────────────────────────────────────────────────────┼────────────────────┼────────────────────────┤\n",
       "│<span style=\"color: #000000; text-decoration-color: #000000\">   220946   </span>│<span style=\"color: #000000; text-decoration-color: #000000\"> Snow White and the Seven Dwarfs: A Read-Aloud        </span>│<span style=\"color: #000000; text-decoration-color: #000000\"> Liza Baker         </span>│<span style=\"color: #000000; text-decoration-color: #000000\"> RH/Disney              </span>│\n",
       "│<span style=\"color: #000000; text-decoration-color: #000000\">            </span>│<span style=\"color: #000000; text-decoration-color: #000000\"> Storybook                                            </span>│<span style=\"color: #000000; text-decoration-color: #000000\">                    </span>│<span style=\"color: #000000; text-decoration-color: #000000\">                        </span>│\n",
       "├────────────┼──────────────────────────────────────────────────────┼────────────────────┼────────────────────────┤\n",
       "│<span style=\"color: #000000; text-decoration-color: #000000\">  3584379   </span>│<span style=\"color: #000000; text-decoration-color: #000000\"> Harry Potter und der Orden des Phönix (Harry Potter, </span>│<span style=\"color: #000000; text-decoration-color: #000000\"> J.K. Rowling       </span>│<span style=\"color: #000000; text-decoration-color: #000000\"> Carlsen Verlag GmbH    </span>│\n",
       "│<span style=\"color: #000000; text-decoration-color: #000000\">            </span>│<span style=\"color: #000000; text-decoration-color: #000000\"> #5)                                                  </span>│<span style=\"color: #000000; text-decoration-color: #000000\">                    </span>│<span style=\"color: #000000; text-decoration-color: #000000\">                        </span>│\n",
       "├────────────┼──────────────────────────────────────────────────────┼────────────────────┼────────────────────────┤\n",
       "│<span style=\"color: #000000; text-decoration-color: #000000\">   943346   </span>│<span style=\"color: #000000; text-decoration-color: #000000\"> Harry Potter and the Chamber of Secrets (Harry       </span>│<span style=\"color: #000000; text-decoration-color: #000000\"> J.K. Rowling       </span>│<span style=\"color: #000000; text-decoration-color: #000000\"> National Braille Press </span>│\n",
       "│<span style=\"color: #000000; text-decoration-color: #000000\">            </span>│<span style=\"color: #000000; text-decoration-color: #000000\"> Potter, #2)                                          </span>│<span style=\"color: #000000; text-decoration-color: #000000\">                    </span>│<span style=\"color: #000000; text-decoration-color: #000000\">                        </span>│\n",
       "├────────────┼──────────────────────────────────────────────────────┼────────────────────┼────────────────────────┤\n",
       "│<span style=\"color: #000000; text-decoration-color: #000000\">   885497   </span>│<span style=\"color: #000000; text-decoration-color: #000000\"> The Tale of Squirrel Nutkin                          </span>│<span style=\"color: #000000; text-decoration-color: #000000\"> Beatrix Potter     </span>│<span style=\"color: #000000; text-decoration-color: #000000\"> Warne                  </span>│\n",
       "├────────────┼──────────────────────────────────────────────────────┼────────────────────┼────────────────────────┤\n",
       "│<span style=\"color: #000000; text-decoration-color: #000000\">   526065   </span>│<span style=\"color: #000000; text-decoration-color: #000000\"> Fantastic Beasts and Where to Find Them              </span>│<span style=\"color: #000000; text-decoration-color: #000000\"> Newt Scamander     </span>│<span style=\"color: #000000; text-decoration-color: #000000\"> Turtleback Books       </span>│\n",
       "├────────────┼──────────────────────────────────────────────────────┼────────────────────┼────────────────────────┤\n",
       "│<span style=\"color: #000000; text-decoration-color: #000000\">  2814194   </span>│<span style=\"color: #000000; text-decoration-color: #000000\"> The Sorcerer's Companion: A Guide to the Magical     </span>│<span style=\"color: #000000; text-decoration-color: #000000\"> Allan Zola Kronzek </span>│<span style=\"color: #000000; text-decoration-color: #000000\"> Turtleback Books       </span>│\n",
       "│<span style=\"color: #000000; text-decoration-color: #000000\">            </span>│<span style=\"color: #000000; text-decoration-color: #000000\"> World of Harry Potter                                </span>│<span style=\"color: #000000; text-decoration-color: #000000\">                    </span>│<span style=\"color: #000000; text-decoration-color: #000000\">                        </span>│\n",
       "├────────────┼──────────────────────────────────────────────────────┼────────────────────┼────────────────────────┤\n",
       "│<span style=\"color: #000000; text-decoration-color: #000000\">   861388   </span>│<span style=\"color: #000000; text-decoration-color: #000000\"> Harry Potter and the Order of the Phoenix            </span>│<span style=\"color: #000000; text-decoration-color: #000000\"> J.K. Rowling       </span>│<span style=\"color: #000000; text-decoration-color: #000000\"> Bloomsbury             </span>│\n",
       "└────────────┴──────────────────────────────────────────────────────┴────────────────────┴────────────────────────┘\n",
       "</pre>\n"
      ],
      "text/plain": [
       "\u001b[3m                                        🎉📚 **Top Recommended Books** 📚🎉                                        \u001b[0m\n",
       "┏━━━━━━━━━━━━┳━━━━━━━━━━━━━━━━━━━━━━━━━━━━━━━━━━━━━━━━━━━━━━━━━━━━━━┳━━━━━━━━━━━━━━━━━━━━┳━━━━━━━━━━━━━━━━━━━━━━━━┓\n",
       "┃\u001b[1m \u001b[0m\u001b[1m📖 Book ID\u001b[0m\u001b[1m \u001b[0m┃\u001b[1m \u001b[0m\u001b[1m📚 Book Title                                       \u001b[0m\u001b[1m \u001b[0m┃\u001b[1m \u001b[0m\u001b[1m✍️ Author(s)       \u001b[0m\u001b[1m \u001b[0m┃\u001b[1m \u001b[0m\u001b[1m🏢 Publisher          \u001b[0m\u001b[1m \u001b[0m┃\n",
       "┡━━━━━━━━━━━━╇━━━━━━━━━━━━━━━━━━━━━━━━━━━━━━━━━━━━━━━━━━━━━━━━━━━━━━╇━━━━━━━━━━━━━━━━━━━━╇━━━━━━━━━━━━━━━━━━━━━━━━┩\n",
       "│\u001b[30m \u001b[0m\u001b[30m 3130430  \u001b[0m\u001b[30m \u001b[0m│\u001b[30m \u001b[0m\u001b[30mHarry, a History: The True Story of a Boy Wizard,   \u001b[0m\u001b[30m \u001b[0m│\u001b[30m \u001b[0m\u001b[30mMelissa Anelli    \u001b[0m\u001b[30m \u001b[0m│\u001b[30m \u001b[0m\u001b[30mGallery Books         \u001b[0m\u001b[30m \u001b[0m│\n",
       "│\u001b[30m            \u001b[0m│\u001b[30m \u001b[0m\u001b[30mHis Fans, and Life Inside the Harry Potter          \u001b[0m\u001b[30m \u001b[0m│\u001b[30m                    \u001b[0m│\u001b[30m                        \u001b[0m│\n",
       "│\u001b[30m            \u001b[0m│\u001b[30m \u001b[0m\u001b[30mPhenomenon                                          \u001b[0m\u001b[30m \u001b[0m│\u001b[30m                    \u001b[0m│\u001b[30m                        \u001b[0m│\n",
       "├────────────┼──────────────────────────────────────────────────────┼────────────────────┼────────────────────────┤\n",
       "│\u001b[30m \u001b[0m\u001b[30m  546106  \u001b[0m\u001b[30m \u001b[0m│\u001b[30m \u001b[0m\u001b[30mA Cry of Stone (Children of the Last Days #6)       \u001b[0m\u001b[30m \u001b[0m│\u001b[30m \u001b[0m\u001b[30mMichael D. O'Brien\u001b[0m\u001b[30m \u001b[0m│\u001b[30m \u001b[0m\u001b[30mIgnatius Press        \u001b[0m\u001b[30m \u001b[0m│\n",
       "├────────────┼──────────────────────────────────────────────────────┼────────────────────┼────────────────────────┤\n",
       "│\u001b[30m \u001b[0m\u001b[30m  848654  \u001b[0m\u001b[30m \u001b[0m│\u001b[30m \u001b[0m\u001b[30mHarry Potter and the Philosopher's Stone (Harry     \u001b[0m\u001b[30m \u001b[0m│\u001b[30m \u001b[0m\u001b[30mJ.K. Rowling      \u001b[0m\u001b[30m \u001b[0m│\u001b[30m \u001b[0m\u001b[30mBloomsbury Publishing \u001b[0m\u001b[30m \u001b[0m│\n",
       "│\u001b[30m            \u001b[0m│\u001b[30m \u001b[0m\u001b[30mPotter, #1)                                         \u001b[0m\u001b[30m \u001b[0m│\u001b[30m                    \u001b[0m│\u001b[30m                        \u001b[0m│\n",
       "├────────────┼──────────────────────────────────────────────────────┼────────────────────┼────────────────────────┤\n",
       "│\u001b[30m \u001b[0m\u001b[30m  220946  \u001b[0m\u001b[30m \u001b[0m│\u001b[30m \u001b[0m\u001b[30mSnow White and the Seven Dwarfs: A Read-Aloud       \u001b[0m\u001b[30m \u001b[0m│\u001b[30m \u001b[0m\u001b[30mLiza Baker        \u001b[0m\u001b[30m \u001b[0m│\u001b[30m \u001b[0m\u001b[30mRH/Disney             \u001b[0m\u001b[30m \u001b[0m│\n",
       "│\u001b[30m            \u001b[0m│\u001b[30m \u001b[0m\u001b[30mStorybook                                           \u001b[0m\u001b[30m \u001b[0m│\u001b[30m                    \u001b[0m│\u001b[30m                        \u001b[0m│\n",
       "├────────────┼──────────────────────────────────────────────────────┼────────────────────┼────────────────────────┤\n",
       "│\u001b[30m \u001b[0m\u001b[30m 3584379  \u001b[0m\u001b[30m \u001b[0m│\u001b[30m \u001b[0m\u001b[30mHarry Potter und der Orden des Phönix (Harry Potter,\u001b[0m\u001b[30m \u001b[0m│\u001b[30m \u001b[0m\u001b[30mJ.K. Rowling      \u001b[0m\u001b[30m \u001b[0m│\u001b[30m \u001b[0m\u001b[30mCarlsen Verlag GmbH   \u001b[0m\u001b[30m \u001b[0m│\n",
       "│\u001b[30m            \u001b[0m│\u001b[30m \u001b[0m\u001b[30m#5)                                                 \u001b[0m\u001b[30m \u001b[0m│\u001b[30m                    \u001b[0m│\u001b[30m                        \u001b[0m│\n",
       "├────────────┼──────────────────────────────────────────────────────┼────────────────────┼────────────────────────┤\n",
       "│\u001b[30m \u001b[0m\u001b[30m  943346  \u001b[0m\u001b[30m \u001b[0m│\u001b[30m \u001b[0m\u001b[30mHarry Potter and the Chamber of Secrets (Harry      \u001b[0m\u001b[30m \u001b[0m│\u001b[30m \u001b[0m\u001b[30mJ.K. Rowling      \u001b[0m\u001b[30m \u001b[0m│\u001b[30m \u001b[0m\u001b[30mNational Braille Press\u001b[0m\u001b[30m \u001b[0m│\n",
       "│\u001b[30m            \u001b[0m│\u001b[30m \u001b[0m\u001b[30mPotter, #2)                                         \u001b[0m\u001b[30m \u001b[0m│\u001b[30m                    \u001b[0m│\u001b[30m                        \u001b[0m│\n",
       "├────────────┼──────────────────────────────────────────────────────┼────────────────────┼────────────────────────┤\n",
       "│\u001b[30m \u001b[0m\u001b[30m  885497  \u001b[0m\u001b[30m \u001b[0m│\u001b[30m \u001b[0m\u001b[30mThe Tale of Squirrel Nutkin                         \u001b[0m\u001b[30m \u001b[0m│\u001b[30m \u001b[0m\u001b[30mBeatrix Potter    \u001b[0m\u001b[30m \u001b[0m│\u001b[30m \u001b[0m\u001b[30mWarne                 \u001b[0m\u001b[30m \u001b[0m│\n",
       "├────────────┼──────────────────────────────────────────────────────┼────────────────────┼────────────────────────┤\n",
       "│\u001b[30m \u001b[0m\u001b[30m  526065  \u001b[0m\u001b[30m \u001b[0m│\u001b[30m \u001b[0m\u001b[30mFantastic Beasts and Where to Find Them             \u001b[0m\u001b[30m \u001b[0m│\u001b[30m \u001b[0m\u001b[30mNewt Scamander    \u001b[0m\u001b[30m \u001b[0m│\u001b[30m \u001b[0m\u001b[30mTurtleback Books      \u001b[0m\u001b[30m \u001b[0m│\n",
       "├────────────┼──────────────────────────────────────────────────────┼────────────────────┼────────────────────────┤\n",
       "│\u001b[30m \u001b[0m\u001b[30m 2814194  \u001b[0m\u001b[30m \u001b[0m│\u001b[30m \u001b[0m\u001b[30mThe Sorcerer's Companion: A Guide to the Magical    \u001b[0m\u001b[30m \u001b[0m│\u001b[30m \u001b[0m\u001b[30mAllan Zola Kronzek\u001b[0m\u001b[30m \u001b[0m│\u001b[30m \u001b[0m\u001b[30mTurtleback Books      \u001b[0m\u001b[30m \u001b[0m│\n",
       "│\u001b[30m            \u001b[0m│\u001b[30m \u001b[0m\u001b[30mWorld of Harry Potter                               \u001b[0m\u001b[30m \u001b[0m│\u001b[30m                    \u001b[0m│\u001b[30m                        \u001b[0m│\n",
       "├────────────┼──────────────────────────────────────────────────────┼────────────────────┼────────────────────────┤\n",
       "│\u001b[30m \u001b[0m\u001b[30m  861388  \u001b[0m\u001b[30m \u001b[0m│\u001b[30m \u001b[0m\u001b[30mHarry Potter and the Order of the Phoenix           \u001b[0m\u001b[30m \u001b[0m│\u001b[30m \u001b[0m\u001b[30mJ.K. Rowling      \u001b[0m\u001b[30m \u001b[0m│\u001b[30m \u001b[0m\u001b[30mBloomsbury            \u001b[0m\u001b[30m \u001b[0m│\n",
       "└────────────┴──────────────────────────────────────────────────────┴────────────────────┴────────────────────────┘\n"
      ]
     },
     "metadata": {},
     "output_type": "display_data"
    }
   ],
   "source": [
    "content_recommender = content_recommender(filtered_books_df)\n",
    "recommended_books_cr = content_recommender('Harry Potter Series Box Set (Harry Potter, #1-7)')\n",
    "display_recommendations_in_table(recommended_books_cr, use_rich=True)"
   ]
  },
  {
   "cell_type": "code",
   "execution_count": 446,
   "id": "19a59164-ca39-40d1-a11a-64afc598e8fe",
   "metadata": {},
   "outputs": [],
   "source": [
    "def metadata_recommender(df_book, feature_columns, n_neighbors=10):\n",
    "    # Combine all metadata features into a single column\n",
    "    df_book['metadata'] = df_book[feature_columns].astype(str).apply(lambda x: ' '.join(x), axis=1)\n",
    "\n",
    "    #Convert metadata into TF-IDF vectors\n",
    "    tfidf = TfidfVectorizer(stop_words='english', max_features=5000)  # Limits memory usage\n",
    "    tfidf_matrix = tfidf.fit_transform(df_book['metadata'])\n",
    "\n",
    "    # Use Nearest Neighbors for Efficient Similarity Search\n",
    "    nn_model = NearestNeighbors(metric='cosine', algorithm='brute', n_neighbors=n_neighbors + 1, n_jobs=-1)\n",
    "    nn_model.fit(tfidf_matrix)\n",
    "\n",
    "    # Create a Reverse Mapping (Book Title to Index)\n",
    "    df_book = df_book.reset_index(drop=True)  # Ensure indices are aligned\n",
    "    indices = pd.Series(df_book.index, index=df_book['name']).drop_duplicates()\n",
    "\n",
    "    # Metadata-Based Recommendation Function\n",
    "    def get_recommendations(title, df=df_book, model=nn_model, tfidf_matrix=tfidf_matrix, n=n_neighbors):\n",
    "        # Ensure title exists, else find closest match\n",
    "        if title not in indices:\n",
    "            matched_title = get_close_matches(title, df['name'].tolist(), n=1, cutoff=0.6)\n",
    "            if matched_title:\n",
    "                title = matched_title[0]\n",
    "            else:\n",
    "                print(\"No close matches found. Please check the title and try again.\")\n",
    "                return None\n",
    "\n",
    "        # Get index of the book\n",
    "        idx = indices[title]\n",
    "\n",
    "        # Find similar books using Nearest Neighbors\n",
    "        distances, indices_nn = model.kneighbors(tfidf_matrix[idx], n_neighbors=n + 1)\n",
    "\n",
    "        # Extract book indices (excluding the input book itself)\n",
    "        book_indices = indices_nn[0][1:]\n",
    "\n",
    "        # Return the top recommended books\n",
    "        return df[['book_id', 'name', 'authors', 'publisher']].iloc[book_indices]\n",
    "\n",
    "    return get_recommendations"
   ]
  },
  {
   "cell_type": "code",
   "execution_count": 448,
   "id": "cb3a4175-0e54-4e7d-981c-a7ed419b50ea",
   "metadata": {},
   "outputs": [
    {
     "data": {
      "text/html": [
       "<pre style=\"white-space:pre;overflow-x:auto;line-height:normal;font-family:Menlo,'DejaVu Sans Mono',consolas,'Courier New',monospace\"><span style=\"font-style: italic\">                                        🎉📚 **Top Recommended Books** 📚🎉                                        </span>\n",
       "┏━━━━━━━━━━━━┳━━━━━━━━━━━━━━━━━━━━━━━━━━━━━━━━━━━━━━━━━━━━━━━━━━━━━━┳━━━━━━━━━━━━━━┳━━━━━━━━━━━━━━━━━━━━━━━━━━━━━━┓\n",
       "┃<span style=\"font-weight: bold\"> 📖 Book ID </span>┃<span style=\"font-weight: bold\"> 📚 Book Title                                        </span>┃<span style=\"font-weight: bold\"> ✍️ Author(s)  </span>┃<span style=\"font-weight: bold\"> 🏢 Publisher                 </span>┃\n",
       "┡━━━━━━━━━━━━╇━━━━━━━━━━━━━━━━━━━━━━━━━━━━━━━━━━━━━━━━━━━━━━━━━━━━━━╇━━━━━━━━━━━━━━╇━━━━━━━━━━━━━━━━━━━━━━━━━━━━━━┩\n",
       "│<span style=\"color: #000000; text-decoration-color: #000000\">   912224   </span>│<span style=\"color: #000000; text-decoration-color: #000000\"> Harry Potter and the Deathly Hallows (Harry Potter,  </span>│<span style=\"color: #000000; text-decoration-color: #000000\"> J.K. Rowling </span>│<span style=\"color: #000000; text-decoration-color: #000000\"> Arthur A. Levine Books       </span>│\n",
       "│<span style=\"color: #000000; text-decoration-color: #000000\">            </span>│<span style=\"color: #000000; text-decoration-color: #000000\"> #7)                                                  </span>│<span style=\"color: #000000; text-decoration-color: #000000\">              </span>│<span style=\"color: #000000; text-decoration-color: #000000\">                              </span>│\n",
       "├────────────┼──────────────────────────────────────────────────────┼──────────────┼──────────────────────────────┤\n",
       "│<span style=\"color: #000000; text-decoration-color: #000000\">   862710   </span>│<span style=\"color: #000000; text-decoration-color: #000000\"> Harry Potter and the Goblet of Fire (Harry Potter,   </span>│<span style=\"color: #000000; text-decoration-color: #000000\"> J.K. Rowling </span>│<span style=\"color: #000000; text-decoration-color: #000000\"> Raincoast Books              </span>│\n",
       "│<span style=\"color: #000000; text-decoration-color: #000000\">            </span>│<span style=\"color: #000000; text-decoration-color: #000000\"> #4)                                                  </span>│<span style=\"color: #000000; text-decoration-color: #000000\">              </span>│<span style=\"color: #000000; text-decoration-color: #000000\">                              </span>│\n",
       "├────────────┼──────────────────────────────────────────────────────┼──────────────┼──────────────────────────────┤\n",
       "│<span style=\"color: #000000; text-decoration-color: #000000\">    2002    </span>│<span style=\"color: #000000; text-decoration-color: #000000\"> Harry Potter Schoolbooks Box Set: Two Classic Books  </span>│<span style=\"color: #000000; text-decoration-color: #000000\"> J.K. Rowling </span>│<span style=\"color: #000000; text-decoration-color: #000000\"> Arthur A. Levine             </span>│\n",
       "│<span style=\"color: #000000; text-decoration-color: #000000\">            </span>│<span style=\"color: #000000; text-decoration-color: #000000\"> from the Library of Hogwarts School of Witchcraft    </span>│<span style=\"color: #000000; text-decoration-color: #000000\">              </span>│<span style=\"color: #000000; text-decoration-color: #000000\">                              </span>│\n",
       "│<span style=\"color: #000000; text-decoration-color: #000000\">            </span>│<span style=\"color: #000000; text-decoration-color: #000000\"> and Wizardry                                         </span>│<span style=\"color: #000000; text-decoration-color: #000000\">              </span>│<span style=\"color: #000000; text-decoration-color: #000000\">                              </span>│\n",
       "├────────────┼──────────────────────────────────────────────────────┼──────────────┼──────────────────────────────┤\n",
       "│<span style=\"color: #000000; text-decoration-color: #000000\">  3484606   </span>│<span style=\"color: #000000; text-decoration-color: #000000\"> Harry Potter e a Pedra Filosofal (Harry Potter, #1)  </span>│<span style=\"color: #000000; text-decoration-color: #000000\"> J.K. Rowling </span>│<span style=\"color: #000000; text-decoration-color: #000000\"> Editorial Presença           </span>│\n",
       "├────────────┼──────────────────────────────────────────────────────┼──────────────┼──────────────────────────────┤\n",
       "│<span style=\"color: #000000; text-decoration-color: #000000\">   142294   </span>│<span style=\"color: #000000; text-decoration-color: #000000\"> Harry Potter Y El Prisionero De Azkaban (Harry       </span>│<span style=\"color: #000000; text-decoration-color: #000000\"> J.K. Rowling </span>│<span style=\"color: #000000; text-decoration-color: #000000\"> Turtleback Books             </span>│\n",
       "│<span style=\"color: #000000; text-decoration-color: #000000\">            </span>│<span style=\"color: #000000; text-decoration-color: #000000\"> Potter, #3)                                          </span>│<span style=\"color: #000000; text-decoration-color: #000000\">              </span>│<span style=\"color: #000000; text-decoration-color: #000000\">                              </span>│\n",
       "├────────────┼──────────────────────────────────────────────────────┼──────────────┼──────────────────────────────┤\n",
       "│<span style=\"color: #000000; text-decoration-color: #000000\">   49871    </span>│<span style=\"color: #000000; text-decoration-color: #000000\"> Harry Potter aur Azkaban ka Qaidi (Harry Potter, #3) </span>│<span style=\"color: #000000; text-decoration-color: #000000\"> J.K. Rowling </span>│<span style=\"color: #000000; text-decoration-color: #000000\"> Oxford University Press, USA </span>│\n",
       "├────────────┼──────────────────────────────────────────────────────┼──────────────┼──────────────────────────────┤\n",
       "│<span style=\"color: #000000; text-decoration-color: #000000\">   299222   </span>│<span style=\"color: #000000; text-decoration-color: #000000\"> Harry Potter y la Orden del Fénix (Harry Potter, #5) </span>│<span style=\"color: #000000; text-decoration-color: #000000\"> J.K. Rowling </span>│<span style=\"color: #000000; text-decoration-color: #000000\"> Lectorum Publications        </span>│\n",
       "├────────────┼──────────────────────────────────────────────────────┼──────────────┼──────────────────────────────┤\n",
       "│<span style=\"color: #000000; text-decoration-color: #000000\">   818067   </span>│<span style=\"color: #000000; text-decoration-color: #000000\"> Harry Potter and the Order of the Phoenix (Harry     </span>│<span style=\"color: #000000; text-decoration-color: #000000\"> J.K. Rowling </span>│<span style=\"color: #000000; text-decoration-color: #000000\"> Raincoast Books              </span>│\n",
       "│<span style=\"color: #000000; text-decoration-color: #000000\">            </span>│<span style=\"color: #000000; text-decoration-color: #000000\"> Potter, #5)                                          </span>│<span style=\"color: #000000; text-decoration-color: #000000\">              </span>│<span style=\"color: #000000; text-decoration-color: #000000\">                              </span>│\n",
       "├────────────┼──────────────────────────────────────────────────────┼──────────────┼──────────────────────────────┤\n",
       "│<span style=\"color: #000000; text-decoration-color: #000000\">   840699   </span>│<span style=\"color: #000000; text-decoration-color: #000000\"> Harry Potter and the Half-Blood Prince (Harry        </span>│<span style=\"color: #000000; text-decoration-color: #000000\"> J.K. Rowling </span>│<span style=\"color: #000000; text-decoration-color: #000000\"> Bloomsbury Publishing        </span>│\n",
       "│<span style=\"color: #000000; text-decoration-color: #000000\">            </span>│<span style=\"color: #000000; text-decoration-color: #000000\"> Potter, #6)                                          </span>│<span style=\"color: #000000; text-decoration-color: #000000\">              </span>│<span style=\"color: #000000; text-decoration-color: #000000\">                              </span>│\n",
       "├────────────┼──────────────────────────────────────────────────────┼──────────────┼──────────────────────────────┤\n",
       "│<span style=\"color: #000000; text-decoration-color: #000000\">   943346   </span>│<span style=\"color: #000000; text-decoration-color: #000000\"> Harry Potter and the Chamber of Secrets (Harry       </span>│<span style=\"color: #000000; text-decoration-color: #000000\"> J.K. Rowling </span>│<span style=\"color: #000000; text-decoration-color: #000000\"> National Braille Press       </span>│\n",
       "│<span style=\"color: #000000; text-decoration-color: #000000\">            </span>│<span style=\"color: #000000; text-decoration-color: #000000\"> Potter, #2)                                          </span>│<span style=\"color: #000000; text-decoration-color: #000000\">              </span>│<span style=\"color: #000000; text-decoration-color: #000000\">                              </span>│\n",
       "└────────────┴──────────────────────────────────────────────────────┴──────────────┴──────────────────────────────┘\n",
       "</pre>\n"
      ],
      "text/plain": [
       "\u001b[3m                                        🎉📚 **Top Recommended Books** 📚🎉                                        \u001b[0m\n",
       "┏━━━━━━━━━━━━┳━━━━━━━━━━━━━━━━━━━━━━━━━━━━━━━━━━━━━━━━━━━━━━━━━━━━━━┳━━━━━━━━━━━━━━┳━━━━━━━━━━━━━━━━━━━━━━━━━━━━━━┓\n",
       "┃\u001b[1m \u001b[0m\u001b[1m📖 Book ID\u001b[0m\u001b[1m \u001b[0m┃\u001b[1m \u001b[0m\u001b[1m📚 Book Title                                       \u001b[0m\u001b[1m \u001b[0m┃\u001b[1m \u001b[0m\u001b[1m✍️ Author(s) \u001b[0m\u001b[1m \u001b[0m┃\u001b[1m \u001b[0m\u001b[1m🏢 Publisher                \u001b[0m\u001b[1m \u001b[0m┃\n",
       "┡━━━━━━━━━━━━╇━━━━━━━━━━━━━━━━━━━━━━━━━━━━━━━━━━━━━━━━━━━━━━━━━━━━━━╇━━━━━━━━━━━━━━╇━━━━━━━━━━━━━━━━━━━━━━━━━━━━━━┩\n",
       "│\u001b[30m \u001b[0m\u001b[30m  912224  \u001b[0m\u001b[30m \u001b[0m│\u001b[30m \u001b[0m\u001b[30mHarry Potter and the Deathly Hallows (Harry Potter, \u001b[0m\u001b[30m \u001b[0m│\u001b[30m \u001b[0m\u001b[30mJ.K. Rowling\u001b[0m\u001b[30m \u001b[0m│\u001b[30m \u001b[0m\u001b[30mArthur A. Levine Books      \u001b[0m\u001b[30m \u001b[0m│\n",
       "│\u001b[30m            \u001b[0m│\u001b[30m \u001b[0m\u001b[30m#7)                                                 \u001b[0m\u001b[30m \u001b[0m│\u001b[30m              \u001b[0m│\u001b[30m                              \u001b[0m│\n",
       "├────────────┼──────────────────────────────────────────────────────┼──────────────┼──────────────────────────────┤\n",
       "│\u001b[30m \u001b[0m\u001b[30m  862710  \u001b[0m\u001b[30m \u001b[0m│\u001b[30m \u001b[0m\u001b[30mHarry Potter and the Goblet of Fire (Harry Potter,  \u001b[0m\u001b[30m \u001b[0m│\u001b[30m \u001b[0m\u001b[30mJ.K. Rowling\u001b[0m\u001b[30m \u001b[0m│\u001b[30m \u001b[0m\u001b[30mRaincoast Books             \u001b[0m\u001b[30m \u001b[0m│\n",
       "│\u001b[30m            \u001b[0m│\u001b[30m \u001b[0m\u001b[30m#4)                                                 \u001b[0m\u001b[30m \u001b[0m│\u001b[30m              \u001b[0m│\u001b[30m                              \u001b[0m│\n",
       "├────────────┼──────────────────────────────────────────────────────┼──────────────┼──────────────────────────────┤\n",
       "│\u001b[30m \u001b[0m\u001b[30m   2002   \u001b[0m\u001b[30m \u001b[0m│\u001b[30m \u001b[0m\u001b[30mHarry Potter Schoolbooks Box Set: Two Classic Books \u001b[0m\u001b[30m \u001b[0m│\u001b[30m \u001b[0m\u001b[30mJ.K. Rowling\u001b[0m\u001b[30m \u001b[0m│\u001b[30m \u001b[0m\u001b[30mArthur A. Levine            \u001b[0m\u001b[30m \u001b[0m│\n",
       "│\u001b[30m            \u001b[0m│\u001b[30m \u001b[0m\u001b[30mfrom the Library of Hogwarts School of Witchcraft   \u001b[0m\u001b[30m \u001b[0m│\u001b[30m              \u001b[0m│\u001b[30m                              \u001b[0m│\n",
       "│\u001b[30m            \u001b[0m│\u001b[30m \u001b[0m\u001b[30mand Wizardry                                        \u001b[0m\u001b[30m \u001b[0m│\u001b[30m              \u001b[0m│\u001b[30m                              \u001b[0m│\n",
       "├────────────┼──────────────────────────────────────────────────────┼──────────────┼──────────────────────────────┤\n",
       "│\u001b[30m \u001b[0m\u001b[30m 3484606  \u001b[0m\u001b[30m \u001b[0m│\u001b[30m \u001b[0m\u001b[30mHarry Potter e a Pedra Filosofal (Harry Potter, #1) \u001b[0m\u001b[30m \u001b[0m│\u001b[30m \u001b[0m\u001b[30mJ.K. Rowling\u001b[0m\u001b[30m \u001b[0m│\u001b[30m \u001b[0m\u001b[30mEditorial Presença          \u001b[0m\u001b[30m \u001b[0m│\n",
       "├────────────┼──────────────────────────────────────────────────────┼──────────────┼──────────────────────────────┤\n",
       "│\u001b[30m \u001b[0m\u001b[30m  142294  \u001b[0m\u001b[30m \u001b[0m│\u001b[30m \u001b[0m\u001b[30mHarry Potter Y El Prisionero De Azkaban (Harry      \u001b[0m\u001b[30m \u001b[0m│\u001b[30m \u001b[0m\u001b[30mJ.K. Rowling\u001b[0m\u001b[30m \u001b[0m│\u001b[30m \u001b[0m\u001b[30mTurtleback Books            \u001b[0m\u001b[30m \u001b[0m│\n",
       "│\u001b[30m            \u001b[0m│\u001b[30m \u001b[0m\u001b[30mPotter, #3)                                         \u001b[0m\u001b[30m \u001b[0m│\u001b[30m              \u001b[0m│\u001b[30m                              \u001b[0m│\n",
       "├────────────┼──────────────────────────────────────────────────────┼──────────────┼──────────────────────────────┤\n",
       "│\u001b[30m \u001b[0m\u001b[30m  49871   \u001b[0m\u001b[30m \u001b[0m│\u001b[30m \u001b[0m\u001b[30mHarry Potter aur Azkaban ka Qaidi (Harry Potter, #3)\u001b[0m\u001b[30m \u001b[0m│\u001b[30m \u001b[0m\u001b[30mJ.K. Rowling\u001b[0m\u001b[30m \u001b[0m│\u001b[30m \u001b[0m\u001b[30mOxford University Press, USA\u001b[0m\u001b[30m \u001b[0m│\n",
       "├────────────┼──────────────────────────────────────────────────────┼──────────────┼──────────────────────────────┤\n",
       "│\u001b[30m \u001b[0m\u001b[30m  299222  \u001b[0m\u001b[30m \u001b[0m│\u001b[30m \u001b[0m\u001b[30mHarry Potter y la Orden del Fénix (Harry Potter, #5)\u001b[0m\u001b[30m \u001b[0m│\u001b[30m \u001b[0m\u001b[30mJ.K. Rowling\u001b[0m\u001b[30m \u001b[0m│\u001b[30m \u001b[0m\u001b[30mLectorum Publications       \u001b[0m\u001b[30m \u001b[0m│\n",
       "├────────────┼──────────────────────────────────────────────────────┼──────────────┼──────────────────────────────┤\n",
       "│\u001b[30m \u001b[0m\u001b[30m  818067  \u001b[0m\u001b[30m \u001b[0m│\u001b[30m \u001b[0m\u001b[30mHarry Potter and the Order of the Phoenix (Harry    \u001b[0m\u001b[30m \u001b[0m│\u001b[30m \u001b[0m\u001b[30mJ.K. Rowling\u001b[0m\u001b[30m \u001b[0m│\u001b[30m \u001b[0m\u001b[30mRaincoast Books             \u001b[0m\u001b[30m \u001b[0m│\n",
       "│\u001b[30m            \u001b[0m│\u001b[30m \u001b[0m\u001b[30mPotter, #5)                                         \u001b[0m\u001b[30m \u001b[0m│\u001b[30m              \u001b[0m│\u001b[30m                              \u001b[0m│\n",
       "├────────────┼──────────────────────────────────────────────────────┼──────────────┼──────────────────────────────┤\n",
       "│\u001b[30m \u001b[0m\u001b[30m  840699  \u001b[0m\u001b[30m \u001b[0m│\u001b[30m \u001b[0m\u001b[30mHarry Potter and the Half-Blood Prince (Harry       \u001b[0m\u001b[30m \u001b[0m│\u001b[30m \u001b[0m\u001b[30mJ.K. Rowling\u001b[0m\u001b[30m \u001b[0m│\u001b[30m \u001b[0m\u001b[30mBloomsbury Publishing       \u001b[0m\u001b[30m \u001b[0m│\n",
       "│\u001b[30m            \u001b[0m│\u001b[30m \u001b[0m\u001b[30mPotter, #6)                                         \u001b[0m\u001b[30m \u001b[0m│\u001b[30m              \u001b[0m│\u001b[30m                              \u001b[0m│\n",
       "├────────────┼──────────────────────────────────────────────────────┼──────────────┼──────────────────────────────┤\n",
       "│\u001b[30m \u001b[0m\u001b[30m  943346  \u001b[0m\u001b[30m \u001b[0m│\u001b[30m \u001b[0m\u001b[30mHarry Potter and the Chamber of Secrets (Harry      \u001b[0m\u001b[30m \u001b[0m│\u001b[30m \u001b[0m\u001b[30mJ.K. Rowling\u001b[0m\u001b[30m \u001b[0m│\u001b[30m \u001b[0m\u001b[30mNational Braille Press      \u001b[0m\u001b[30m \u001b[0m│\n",
       "│\u001b[30m            \u001b[0m│\u001b[30m \u001b[0m\u001b[30mPotter, #2)                                         \u001b[0m\u001b[30m \u001b[0m│\u001b[30m              \u001b[0m│\u001b[30m                              \u001b[0m│\n",
       "└────────────┴──────────────────────────────────────────────────────┴──────────────┴──────────────────────────────┘\n"
      ]
     },
     "metadata": {},
     "output_type": "display_data"
    }
   ],
   "source": [
    "feature_columns = ['authors', 'clean_name', 'publisher']\n",
    "metadata_recommender = metadata_recommender(filtered_books_df, feature_columns, n_neighbors = 10)\n",
    "recommended_books_md_r = metadata_recommender('Harry Potter Series Box Set (Harry Potter, #1-7)')\n",
    "display_recommendations_in_table(recommended_books_md_r)"
   ]
  },
  {
   "cell_type": "code",
   "execution_count": 392,
   "id": "f014b3e5-7395-4b5f-964f-4a5cfb5214e8",
   "metadata": {},
   "outputs": [],
   "source": [
    "def hybrid_metadata_recommender(df_book, feature_columns, vector_size=100, n_neighbors=10):\n",
    "    df_book = df_book.reset_index(drop=True)\n",
    "    df_book[feature_columns] = df_book[feature_columns].fillna('')\n",
    "    \n",
    "    # Combine all metadata features into a single column\n",
    "    df_book['metadata'] = df_book[feature_columns].astype(str).apply(lambda x: ' '.join(x), axis=1)\n",
    "\n",
    "    # Applying TF-IDF Vectorization\n",
    "    tfidf = TfidfVectorizer(stop_words='english', max_features=5000)\n",
    "    tfidf_matrix = tfidf.fit_transform(df_book['metadata'])\n",
    "\n",
    "    # Applying LSA (Truncated SVD)\n",
    "    svd = TruncatedSVD(n_components=200)  # Reduce dimensions to 200 topics\n",
    "    lsa_matrix = svd.fit_transform(tfidf_matrix)\n",
    "\n",
    "    # Train Word2Vec on metadata\n",
    "    sentences = [row.split() for row in df_book['metadata']]\n",
    "    w2v_model = Word2Vec(sentences, vector_size=vector_size, window=5, min_count=1, workers=-1)\n",
    "\n",
    "    # Compute Word2Vec embeddings for each book\n",
    "    def get_embedding(text):\n",
    "        words = text.split()\n",
    "        word_vectors = [w2v_model.wv[word] for word in words if word in w2v_model.wv]\n",
    "        return np.mean(word_vectors, axis=0) if word_vectors else np.zeros(vector_size)\n",
    "\n",
    "    df_book['w2v_embedding'] = df_book['metadata'].apply(get_embedding)\n",
    "    word2vec_matrix = np.vstack(df_book['w2v_embedding'].values)\n",
    "\n",
    "    # Combing LSA and Word2Vec embeddings\n",
    "    combined_matrix = np.hstack((lsa_matrix, word2vec_matrix))\n",
    "\n",
    "    # Using Nearest Neighbors for efficient similarity search\n",
    "    nn_model = NearestNeighbors(metric='cosine', algorithm='brute', n_neighbors=n_neighbors + 1, n_jobs=-1)\n",
    "    nn_model.fit(combined_matrix)\n",
    "\n",
    "    # Create a Reverse Mapping (Book Title to Index)\n",
    "    indices = pd.Series(df_book.index, index=df_book['name']).drop_duplicates()\n",
    "\n",
    "    # Hybrid Recommendation Function\n",
    "    def get_recommendations(title, df=df_book, model=nn_model, combined_matrix=combined_matrix, n=n_neighbors):\n",
    "        # Ensure title exists, else find closest match\n",
    "        if title not in indices:\n",
    "            matched_title = get_close_matches(title, df['name'].tolist(), n=1, cutoff=0.6)\n",
    "            if matched_title:\n",
    "                title = matched_title[0]\n",
    "            else:\n",
    "                print(\" No close matches found. Please check the title and try again.\")\n",
    "                return None\n",
    "\n",
    "        # Get index of the book\n",
    "        idx = indices[title]\n",
    "\n",
    "        # Find similar books using Nearest Neighbors\n",
    "        distances, indices_nn = model.kneighbors(combined_matrix[idx].reshape(1, -1), n_neighbors=n + 1)\n",
    "\n",
    "        # Extract book indices (excluding the input book itself)\n",
    "        book_indices = indices_nn[0][1:]\n",
    "\n",
    "        # Return the top recommended books\n",
    "        return df[['book_id', 'name', 'authors', 'publisher']].iloc[book_indices]\n",
    "\n",
    "    return get_recommendations"
   ]
  },
  {
   "cell_type": "code",
   "execution_count": 440,
   "id": "e306b438-ae86-4564-a675-0da113935161",
   "metadata": {},
   "outputs": [
    {
     "data": {
      "text/html": [
       "<pre style=\"white-space:pre;overflow-x:auto;line-height:normal;font-family:Menlo,'DejaVu Sans Mono',consolas,'Courier New',monospace\"><span style=\"font-style: italic\">                                        🎉📚 **Top Recommended Books** 📚🎉                                        </span>\n",
       "┏━━━━━━━━━━━━┳━━━━━━━━━━━━━━━━━━━━━━━━━━━━━━━━━━━━━━━━━━━━━━━━━━━━━━━━━━━━┳━━━━━━━━━━━━━━┳━━━━━━━━━━━━━━━━━━━━━━━━┓\n",
       "┃<span style=\"font-weight: bold\"> 📖 Book ID </span>┃<span style=\"font-weight: bold\"> 📚 Book Title                                              </span>┃<span style=\"font-weight: bold\"> ✍️ Author(s)  </span>┃<span style=\"font-weight: bold\"> 🏢 Publisher           </span>┃\n",
       "┡━━━━━━━━━━━━╇━━━━━━━━━━━━━━━━━━━━━━━━━━━━━━━━━━━━━━━━━━━━━━━━━━━━━━━━━━━━╇━━━━━━━━━━━━━━╇━━━━━━━━━━━━━━━━━━━━━━━━┩\n",
       "│<span style=\"color: #000000; text-decoration-color: #000000\">   912224   </span>│<span style=\"color: #000000; text-decoration-color: #000000\"> Harry Potter and the Deathly Hallows (Harry Potter, #7)    </span>│<span style=\"color: #000000; text-decoration-color: #000000\"> J.K. Rowling </span>│<span style=\"color: #000000; text-decoration-color: #000000\"> Arthur A. Levine Books </span>│\n",
       "├────────────┼────────────────────────────────────────────────────────────┼──────────────┼────────────────────────┤\n",
       "│<span style=\"color: #000000; text-decoration-color: #000000\">   862710   </span>│<span style=\"color: #000000; text-decoration-color: #000000\"> Harry Potter and the Goblet of Fire (Harry Potter, #4)     </span>│<span style=\"color: #000000; text-decoration-color: #000000\"> J.K. Rowling </span>│<span style=\"color: #000000; text-decoration-color: #000000\"> Raincoast Books        </span>│\n",
       "├────────────┼────────────────────────────────────────────────────────────┼──────────────┼────────────────────────┤\n",
       "│<span style=\"color: #000000; text-decoration-color: #000000\">   818067   </span>│<span style=\"color: #000000; text-decoration-color: #000000\"> Harry Potter and the Order of the Phoenix (Harry Potter,   </span>│<span style=\"color: #000000; text-decoration-color: #000000\"> J.K. Rowling </span>│<span style=\"color: #000000; text-decoration-color: #000000\"> Raincoast Books        </span>│\n",
       "│<span style=\"color: #000000; text-decoration-color: #000000\">            </span>│<span style=\"color: #000000; text-decoration-color: #000000\"> #5)                                                        </span>│<span style=\"color: #000000; text-decoration-color: #000000\">              </span>│<span style=\"color: #000000; text-decoration-color: #000000\">                        </span>│\n",
       "├────────────┼────────────────────────────────────────────────────────────┼──────────────┼────────────────────────┤\n",
       "│<span style=\"color: #000000; text-decoration-color: #000000\">  3484606   </span>│<span style=\"color: #000000; text-decoration-color: #000000\"> Harry Potter e a Pedra Filosofal (Harry Potter, #1)        </span>│<span style=\"color: #000000; text-decoration-color: #000000\"> J.K. Rowling </span>│<span style=\"color: #000000; text-decoration-color: #000000\"> Editorial Presença     </span>│\n",
       "├────────────┼────────────────────────────────────────────────────────────┼──────────────┼────────────────────────┤\n",
       "│<span style=\"color: #000000; text-decoration-color: #000000\">   257320   </span>│<span style=\"color: #000000; text-decoration-color: #000000\"> J. K. Rowling: The Wizard Behind Harry Potter: The Wizard  </span>│<span style=\"color: #000000; text-decoration-color: #000000\"> Marc Shapiro </span>│<span style=\"color: #000000; text-decoration-color: #000000\"> Griffin                </span>│\n",
       "│<span style=\"color: #000000; text-decoration-color: #000000\">            </span>│<span style=\"color: #000000; text-decoration-color: #000000\"> Behind Harry Potter                                        </span>│<span style=\"color: #000000; text-decoration-color: #000000\">              </span>│<span style=\"color: #000000; text-decoration-color: #000000\">                        </span>│\n",
       "├────────────┼────────────────────────────────────────────────────────────┼──────────────┼────────────────────────┤\n",
       "│<span style=\"color: #000000; text-decoration-color: #000000\">   943346   </span>│<span style=\"color: #000000; text-decoration-color: #000000\"> Harry Potter and the Chamber of Secrets (Harry Potter, #2) </span>│<span style=\"color: #000000; text-decoration-color: #000000\"> J.K. Rowling </span>│<span style=\"color: #000000; text-decoration-color: #000000\"> National Braille Press </span>│\n",
       "├────────────┼────────────────────────────────────────────────────────────┼──────────────┼────────────────────────┤\n",
       "│<span style=\"color: #000000; text-decoration-color: #000000\">     8      </span>│<span style=\"color: #000000; text-decoration-color: #000000\"> Harry Potter Boxed Set, Books 1-5 (Harry Potter, #1-5)     </span>│<span style=\"color: #000000; text-decoration-color: #000000\"> J.K. Rowling </span>│<span style=\"color: #000000; text-decoration-color: #000000\"> Scholastic             </span>│\n",
       "├────────────┼────────────────────────────────────────────────────────────┼──────────────┼────────────────────────┤\n",
       "│<span style=\"color: #000000; text-decoration-color: #000000\">  1213834   </span>│<span style=\"color: #000000; text-decoration-color: #000000\"> Harry Potter und der Feuerkelch (Harry Potter, #4)         </span>│<span style=\"color: #000000; text-decoration-color: #000000\"> J.K. Rowling </span>│<span style=\"color: #000000; text-decoration-color: #000000\"> Carlsen Verlag         </span>│\n",
       "├────────────┼────────────────────────────────────────────────────────────┼──────────────┼────────────────────────┤\n",
       "│<span style=\"color: #000000; text-decoration-color: #000000\">    2002    </span>│<span style=\"color: #000000; text-decoration-color: #000000\"> Harry Potter Schoolbooks Box Set: Two Classic Books from   </span>│<span style=\"color: #000000; text-decoration-color: #000000\"> J.K. Rowling </span>│<span style=\"color: #000000; text-decoration-color: #000000\"> Arthur A. Levine       </span>│\n",
       "│<span style=\"color: #000000; text-decoration-color: #000000\">            </span>│<span style=\"color: #000000; text-decoration-color: #000000\"> the Library of Hogwarts School of Witchcraft and Wizardry  </span>│<span style=\"color: #000000; text-decoration-color: #000000\">              </span>│<span style=\"color: #000000; text-decoration-color: #000000\">                        </span>│\n",
       "├────────────┼────────────────────────────────────────────────────────────┼──────────────┼────────────────────────┤\n",
       "│<span style=\"color: #000000; text-decoration-color: #000000\">   819073   </span>│<span style=\"color: #000000; text-decoration-color: #000000\"> Harry Potter and the Prisoner of Azkaban (Harry Potter,    </span>│<span style=\"color: #000000; text-decoration-color: #000000\"> J.K. Rowling </span>│<span style=\"color: #000000; text-decoration-color: #000000\"> Bloomsbury             </span>│\n",
       "│<span style=\"color: #000000; text-decoration-color: #000000\">            </span>│<span style=\"color: #000000; text-decoration-color: #000000\"> #3)                                                        </span>│<span style=\"color: #000000; text-decoration-color: #000000\">              </span>│<span style=\"color: #000000; text-decoration-color: #000000\">                        </span>│\n",
       "└────────────┴────────────────────────────────────────────────────────────┴──────────────┴────────────────────────┘\n",
       "</pre>\n"
      ],
      "text/plain": [
       "\u001b[3m                                        🎉📚 **Top Recommended Books** 📚🎉                                        \u001b[0m\n",
       "┏━━━━━━━━━━━━┳━━━━━━━━━━━━━━━━━━━━━━━━━━━━━━━━━━━━━━━━━━━━━━━━━━━━━━━━━━━━┳━━━━━━━━━━━━━━┳━━━━━━━━━━━━━━━━━━━━━━━━┓\n",
       "┃\u001b[1m \u001b[0m\u001b[1m📖 Book ID\u001b[0m\u001b[1m \u001b[0m┃\u001b[1m \u001b[0m\u001b[1m📚 Book Title                                             \u001b[0m\u001b[1m \u001b[0m┃\u001b[1m \u001b[0m\u001b[1m✍️ Author(s) \u001b[0m\u001b[1m \u001b[0m┃\u001b[1m \u001b[0m\u001b[1m🏢 Publisher          \u001b[0m\u001b[1m \u001b[0m┃\n",
       "┡━━━━━━━━━━━━╇━━━━━━━━━━━━━━━━━━━━━━━━━━━━━━━━━━━━━━━━━━━━━━━━━━━━━━━━━━━━╇━━━━━━━━━━━━━━╇━━━━━━━━━━━━━━━━━━━━━━━━┩\n",
       "│\u001b[30m \u001b[0m\u001b[30m  912224  \u001b[0m\u001b[30m \u001b[0m│\u001b[30m \u001b[0m\u001b[30mHarry Potter and the Deathly Hallows (Harry Potter, #7)   \u001b[0m\u001b[30m \u001b[0m│\u001b[30m \u001b[0m\u001b[30mJ.K. Rowling\u001b[0m\u001b[30m \u001b[0m│\u001b[30m \u001b[0m\u001b[30mArthur A. Levine Books\u001b[0m\u001b[30m \u001b[0m│\n",
       "├────────────┼────────────────────────────────────────────────────────────┼──────────────┼────────────────────────┤\n",
       "│\u001b[30m \u001b[0m\u001b[30m  862710  \u001b[0m\u001b[30m \u001b[0m│\u001b[30m \u001b[0m\u001b[30mHarry Potter and the Goblet of Fire (Harry Potter, #4)    \u001b[0m\u001b[30m \u001b[0m│\u001b[30m \u001b[0m\u001b[30mJ.K. Rowling\u001b[0m\u001b[30m \u001b[0m│\u001b[30m \u001b[0m\u001b[30mRaincoast Books       \u001b[0m\u001b[30m \u001b[0m│\n",
       "├────────────┼────────────────────────────────────────────────────────────┼──────────────┼────────────────────────┤\n",
       "│\u001b[30m \u001b[0m\u001b[30m  818067  \u001b[0m\u001b[30m \u001b[0m│\u001b[30m \u001b[0m\u001b[30mHarry Potter and the Order of the Phoenix (Harry Potter,  \u001b[0m\u001b[30m \u001b[0m│\u001b[30m \u001b[0m\u001b[30mJ.K. Rowling\u001b[0m\u001b[30m \u001b[0m│\u001b[30m \u001b[0m\u001b[30mRaincoast Books       \u001b[0m\u001b[30m \u001b[0m│\n",
       "│\u001b[30m            \u001b[0m│\u001b[30m \u001b[0m\u001b[30m#5)                                                       \u001b[0m\u001b[30m \u001b[0m│\u001b[30m              \u001b[0m│\u001b[30m                        \u001b[0m│\n",
       "├────────────┼────────────────────────────────────────────────────────────┼──────────────┼────────────────────────┤\n",
       "│\u001b[30m \u001b[0m\u001b[30m 3484606  \u001b[0m\u001b[30m \u001b[0m│\u001b[30m \u001b[0m\u001b[30mHarry Potter e a Pedra Filosofal (Harry Potter, #1)       \u001b[0m\u001b[30m \u001b[0m│\u001b[30m \u001b[0m\u001b[30mJ.K. Rowling\u001b[0m\u001b[30m \u001b[0m│\u001b[30m \u001b[0m\u001b[30mEditorial Presença    \u001b[0m\u001b[30m \u001b[0m│\n",
       "├────────────┼────────────────────────────────────────────────────────────┼──────────────┼────────────────────────┤\n",
       "│\u001b[30m \u001b[0m\u001b[30m  257320  \u001b[0m\u001b[30m \u001b[0m│\u001b[30m \u001b[0m\u001b[30mJ. K. Rowling: The Wizard Behind Harry Potter: The Wizard \u001b[0m\u001b[30m \u001b[0m│\u001b[30m \u001b[0m\u001b[30mMarc Shapiro\u001b[0m\u001b[30m \u001b[0m│\u001b[30m \u001b[0m\u001b[30mGriffin               \u001b[0m\u001b[30m \u001b[0m│\n",
       "│\u001b[30m            \u001b[0m│\u001b[30m \u001b[0m\u001b[30mBehind Harry Potter                                       \u001b[0m\u001b[30m \u001b[0m│\u001b[30m              \u001b[0m│\u001b[30m                        \u001b[0m│\n",
       "├────────────┼────────────────────────────────────────────────────────────┼──────────────┼────────────────────────┤\n",
       "│\u001b[30m \u001b[0m\u001b[30m  943346  \u001b[0m\u001b[30m \u001b[0m│\u001b[30m \u001b[0m\u001b[30mHarry Potter and the Chamber of Secrets (Harry Potter, #2)\u001b[0m\u001b[30m \u001b[0m│\u001b[30m \u001b[0m\u001b[30mJ.K. Rowling\u001b[0m\u001b[30m \u001b[0m│\u001b[30m \u001b[0m\u001b[30mNational Braille Press\u001b[0m\u001b[30m \u001b[0m│\n",
       "├────────────┼────────────────────────────────────────────────────────────┼──────────────┼────────────────────────┤\n",
       "│\u001b[30m \u001b[0m\u001b[30m    8     \u001b[0m\u001b[30m \u001b[0m│\u001b[30m \u001b[0m\u001b[30mHarry Potter Boxed Set, Books 1-5 (Harry Potter, #1-5)    \u001b[0m\u001b[30m \u001b[0m│\u001b[30m \u001b[0m\u001b[30mJ.K. Rowling\u001b[0m\u001b[30m \u001b[0m│\u001b[30m \u001b[0m\u001b[30mScholastic            \u001b[0m\u001b[30m \u001b[0m│\n",
       "├────────────┼────────────────────────────────────────────────────────────┼──────────────┼────────────────────────┤\n",
       "│\u001b[30m \u001b[0m\u001b[30m 1213834  \u001b[0m\u001b[30m \u001b[0m│\u001b[30m \u001b[0m\u001b[30mHarry Potter und der Feuerkelch (Harry Potter, #4)        \u001b[0m\u001b[30m \u001b[0m│\u001b[30m \u001b[0m\u001b[30mJ.K. Rowling\u001b[0m\u001b[30m \u001b[0m│\u001b[30m \u001b[0m\u001b[30mCarlsen Verlag        \u001b[0m\u001b[30m \u001b[0m│\n",
       "├────────────┼────────────────────────────────────────────────────────────┼──────────────┼────────────────────────┤\n",
       "│\u001b[30m \u001b[0m\u001b[30m   2002   \u001b[0m\u001b[30m \u001b[0m│\u001b[30m \u001b[0m\u001b[30mHarry Potter Schoolbooks Box Set: Two Classic Books from  \u001b[0m\u001b[30m \u001b[0m│\u001b[30m \u001b[0m\u001b[30mJ.K. Rowling\u001b[0m\u001b[30m \u001b[0m│\u001b[30m \u001b[0m\u001b[30mArthur A. Levine      \u001b[0m\u001b[30m \u001b[0m│\n",
       "│\u001b[30m            \u001b[0m│\u001b[30m \u001b[0m\u001b[30mthe Library of Hogwarts School of Witchcraft and Wizardry \u001b[0m\u001b[30m \u001b[0m│\u001b[30m              \u001b[0m│\u001b[30m                        \u001b[0m│\n",
       "├────────────┼────────────────────────────────────────────────────────────┼──────────────┼────────────────────────┤\n",
       "│\u001b[30m \u001b[0m\u001b[30m  819073  \u001b[0m\u001b[30m \u001b[0m│\u001b[30m \u001b[0m\u001b[30mHarry Potter and the Prisoner of Azkaban (Harry Potter,   \u001b[0m\u001b[30m \u001b[0m│\u001b[30m \u001b[0m\u001b[30mJ.K. Rowling\u001b[0m\u001b[30m \u001b[0m│\u001b[30m \u001b[0m\u001b[30mBloomsbury            \u001b[0m\u001b[30m \u001b[0m│\n",
       "│\u001b[30m            \u001b[0m│\u001b[30m \u001b[0m\u001b[30m#3)                                                       \u001b[0m\u001b[30m \u001b[0m│\u001b[30m              \u001b[0m│\u001b[30m                        \u001b[0m│\n",
       "└────────────┴────────────────────────────────────────────────────────────┴──────────────┴────────────────────────┘\n"
      ]
     },
     "metadata": {},
     "output_type": "display_data"
    }
   ],
   "source": [
    "feature_columns = ['authors', 'publisher', 'clean_name']\n",
    "hybrid_recommender = hybrid_metadata_recommender(filtered_books_df, feature_columns)\n",
    "recommended_books_hy_r = hybrid_recommender('Harry Potter Series Box Set (Harry Potter, #1-7)')\n",
    "display_recommendations_in_table(recommended_books_hy_r)"
   ]
  },
  {
   "cell_type": "code",
   "execution_count": 401,
   "id": "ad523923-3ce6-468f-87ba-9ff70c9e41b6",
   "metadata": {},
   "outputs": [],
   "source": [
    "def feature_based_recommender(df_book, feature_columns, n_neighbors=10):\n",
    "    # Create a copy of the DataFrame to prevent modifying the original\n",
    "    df_copy = df_book.copy()\n",
    "\n",
    "    # Preserve the original publisher column before encoding\n",
    "    df_copy['publisher_original'] = df_copy['publisher']\n",
    "\n",
    "    # Encode categorical features (on the copied DataFrame)\n",
    "    label_encoders = {}  # Store encoders in case they are needed later\n",
    "    for col in feature_columns:\n",
    "        if df_copy[col].dtype == \"object\":\n",
    "            le = LabelEncoder()\n",
    "            df_copy[col] = le.fit_transform(df_copy[col])\n",
    "            label_encoders[col] = le  # encoder for debugging if needed\n",
    "\n",
    "    # Scale features\n",
    "    scaled_features = MinMaxScaler().fit_transform(df_copy[feature_columns])\n",
    "\n",
    "    # Train Nearest Neighbors model\n",
    "    nn_model = NearestNeighbors(metric='cosine', n_neighbors=n_neighbors + 1, n_jobs=-1)\n",
    "    nn_model.fit(scaled_features)\n",
    "\n",
    "    # Create reverse mapping for book titles\n",
    "    df_copy = df_copy.reset_index(drop=True)\n",
    "    indices = pd.Series(df_copy.index, index=df_copy['name']).drop_duplicates()\n",
    "\n",
    "    # Returns top similar books based on features\n",
    "    def get_recommendations(title, n_neighbors=n_neighbors):\n",
    "        if title not in indices:\n",
    "            match = get_close_matches(title, indices.index, n=1, cutoff=0.6)\n",
    "            if match:\n",
    "                title = match[0]\n",
    "            else:\n",
    "                print(\"No close matches found.\")\n",
    "                return None\n",
    "\n",
    "        idx = indices[title]\n",
    "        distances, neighbors = nn_model.kneighbors([scaled_features[idx]], n_neighbors=n_neighbors + 1)\n",
    "\n",
    "        # Return recommended books (excluding the input book itself)\n",
    "        return df_copy[['book_id', 'name', 'authors', 'publisher_original']].iloc[neighbors[0][1:]].rename(columns={'publisher_original': 'publisher'})\n",
    "\n",
    "    return get_recommendations"
   ]
  },
  {
   "cell_type": "code",
   "execution_count": 438,
   "id": "7cb34fba-f28a-4829-a65c-ee25a5a81a13",
   "metadata": {},
   "outputs": [
    {
     "data": {
      "text/html": [
       "<pre style=\"white-space:pre;overflow-x:auto;line-height:normal;font-family:Menlo,'DejaVu Sans Mono',consolas,'Courier New',monospace\"><span style=\"font-style: italic\">                                        🎉📚 **Top Recommended Books** 📚🎉                                        </span>\n",
       "┏━━━━━━━━━━━━┳━━━━━━━━━━━━━━━━━━━━━━━━━━━━━━━━━━━━━┳━━━━━━━━━━━━━━━━━━━━━━━━┳━━━━━━━━━━━━━━━━━━━━━━━━━━━━━━━━━━━━━┓\n",
       "┃<span style=\"font-weight: bold\"> 📖 Book ID </span>┃<span style=\"font-weight: bold\"> 📚 Book Title                       </span>┃<span style=\"font-weight: bold\"> ✍️ Author(s)            </span>┃<span style=\"font-weight: bold\"> 🏢 Publisher                        </span>┃\n",
       "┡━━━━━━━━━━━━╇━━━━━━━━━━━━━━━━━━━━━━━━━━━━━━━━━━━━━╇━━━━━━━━━━━━━━━━━━━━━━━━╇━━━━━━━━━━━━━━━━━━━━━━━━━━━━━━━━━━━━━┩\n",
       "│<span style=\"color: #000000; text-decoration-color: #000000\">  2071706   </span>│<span style=\"color: #000000; text-decoration-color: #000000\"> The Definitive Journals of Lewis    </span>│<span style=\"color: #000000; text-decoration-color: #000000\"> Meriwether Lewis       </span>│<span style=\"color: #000000; text-decoration-color: #000000\"> Bison Books                         </span>│\n",
       "│<span style=\"color: #000000; text-decoration-color: #000000\">            </span>│<span style=\"color: #000000; text-decoration-color: #000000\"> and Clark, 7 Vols                   </span>│<span style=\"color: #000000; text-decoration-color: #000000\">                        </span>│<span style=\"color: #000000; text-decoration-color: #000000\">                                     </span>│\n",
       "├────────────┼─────────────────────────────────────┼────────────────────────┼─────────────────────────────────────┤\n",
       "│<span style=\"color: #000000; text-decoration-color: #000000\">   753098   </span>│<span style=\"color: #000000; text-decoration-color: #000000\"> The Holy Quran                      </span>│<span style=\"color: #000000; text-decoration-color: #000000\"> Anonymous              </span>│<span style=\"color: #000000; text-decoration-color: #000000\"> American Trust Publications         </span>│\n",
       "├────────────┼─────────────────────────────────────┼────────────────────────┼─────────────────────────────────────┤\n",
       "│<span style=\"color: #000000; text-decoration-color: #000000\">  2009998   </span>│<span style=\"color: #000000; text-decoration-color: #000000\"> Millenium: La trilogie              </span>│<span style=\"color: #000000; text-decoration-color: #000000\"> Stieg Larsson          </span>│<span style=\"color: #000000; text-decoration-color: #000000\"> Actes Sud                           </span>│\n",
       "├────────────┼─────────────────────────────────────┼────────────────────────┼─────────────────────────────────────┤\n",
       "│<span style=\"color: #000000; text-decoration-color: #000000\">     30     </span>│<span style=\"color: #000000; text-decoration-color: #000000\"> J.R.R. Tolkien 4-Book Boxed Set:    </span>│<span style=\"color: #000000; text-decoration-color: #000000\"> J.R.R. Tolkien         </span>│<span style=\"color: #000000; text-decoration-color: #000000\"> Ballantine Books                    </span>│\n",
       "│<span style=\"color: #000000; text-decoration-color: #000000\">            </span>│<span style=\"color: #000000; text-decoration-color: #000000\"> The Hobbit and The Lord of the      </span>│<span style=\"color: #000000; text-decoration-color: #000000\">                        </span>│<span style=\"color: #000000; text-decoration-color: #000000\">                                     </span>│\n",
       "│<span style=\"color: #000000; text-decoration-color: #000000\">            </span>│<span style=\"color: #000000; text-decoration-color: #000000\"> Rings                               </span>│<span style=\"color: #000000; text-decoration-color: #000000\">                        </span>│<span style=\"color: #000000; text-decoration-color: #000000\">                                     </span>│\n",
       "├────────────┼─────────────────────────────────────┼────────────────────────┼─────────────────────────────────────┤\n",
       "│<span style=\"color: #000000; text-decoration-color: #000000\">   850794   </span>│<span style=\"color: #000000; text-decoration-color: #000000\"> The Man Without Qualities           </span>│<span style=\"color: #000000; text-decoration-color: #000000\"> Robert Musil           </span>│<span style=\"color: #000000; text-decoration-color: #000000\"> Alfred a Knopf                      </span>│\n",
       "├────────────┼─────────────────────────────────────┼────────────────────────┼─────────────────────────────────────┤\n",
       "│<span style=\"color: #000000; text-decoration-color: #000000\">   301199   </span>│<span style=\"color: #000000; text-decoration-color: #000000\"> Longman Advanced American           </span>│<span style=\"color: #000000; text-decoration-color: #000000\"> Addison Wesley Longman </span>│<span style=\"color: #000000; text-decoration-color: #000000\"> Addison Wesley Publishing Company   </span>│\n",
       "│<span style=\"color: #000000; text-decoration-color: #000000\">            </span>│<span style=\"color: #000000; text-decoration-color: #000000\"> Dictionary                          </span>│<span style=\"color: #000000; text-decoration-color: #000000\">                        </span>│<span style=\"color: #000000; text-decoration-color: #000000\">                                     </span>│\n",
       "├────────────┼─────────────────────────────────────┼────────────────────────┼─────────────────────────────────────┤\n",
       "│<span style=\"color: #000000; text-decoration-color: #000000\">  3215105   </span>│<span style=\"color: #000000; text-decoration-color: #000000\"> The Story and Its Writer: An        </span>│<span style=\"color: #000000; text-decoration-color: #000000\"> Ann Charters           </span>│<span style=\"color: #000000; text-decoration-color: #000000\"> Bedford Books                       </span>│\n",
       "│<span style=\"color: #000000; text-decoration-color: #000000\">            </span>│<span style=\"color: #000000; text-decoration-color: #000000\"> Introduction to Short Fiction       </span>│<span style=\"color: #000000; text-decoration-color: #000000\">                        </span>│<span style=\"color: #000000; text-decoration-color: #000000\">                                     </span>│\n",
       "├────────────┼─────────────────────────────────────┼────────────────────────┼─────────────────────────────────────┤\n",
       "│<span style=\"color: #000000; text-decoration-color: #000000\">   19082    </span>│<span style=\"color: #000000; text-decoration-color: #000000\"> The Complete Works: The Revised     </span>│<span style=\"color: #000000; text-decoration-color: #000000\"> Aristotle              </span>│<span style=\"color: #000000; text-decoration-color: #000000\"> Bollingen/Princeton University      </span>│\n",
       "│<span style=\"color: #000000; text-decoration-color: #000000\">            </span>│<span style=\"color: #000000; text-decoration-color: #000000\"> Oxford Translation, Vol. 1          </span>│<span style=\"color: #000000; text-decoration-color: #000000\">                        </span>│<span style=\"color: #000000; text-decoration-color: #000000\"> Press (NJ)                          </span>│\n",
       "├────────────┼─────────────────────────────────────┼────────────────────────┼─────────────────────────────────────┤\n",
       "│<span style=\"color: #000000; text-decoration-color: #000000\">   182785   </span>│<span style=\"color: #000000; text-decoration-color: #000000\"> How Arbitration Works: Elkouri &amp;    </span>│<span style=\"color: #000000; text-decoration-color: #000000\"> Frank Elkouri          </span>│<span style=\"color: #000000; text-decoration-color: #000000\"> Bureau of National Affairs          </span>│\n",
       "│<span style=\"color: #000000; text-decoration-color: #000000\">            </span>│<span style=\"color: #000000; text-decoration-color: #000000\"> Elkouri                             </span>│<span style=\"color: #000000; text-decoration-color: #000000\">                        </span>│<span style=\"color: #000000; text-decoration-color: #000000\">                                     </span>│\n",
       "├────────────┼─────────────────────────────────────┼────────────────────────┼─────────────────────────────────────┤\n",
       "│<span style=\"color: #000000; text-decoration-color: #000000\">   169025   </span>│<span style=\"color: #000000; text-decoration-color: #000000\"> Mac OS X Internals: A Systems       </span>│<span style=\"color: #000000; text-decoration-color: #000000\"> Amit Singh             </span>│<span style=\"color: #000000; text-decoration-color: #000000\"> Addison-Wesley Professional         </span>│\n",
       "│<span style=\"color: #000000; text-decoration-color: #000000\">            </span>│<span style=\"color: #000000; text-decoration-color: #000000\"> Approach                            </span>│<span style=\"color: #000000; text-decoration-color: #000000\">                        </span>│<span style=\"color: #000000; text-decoration-color: #000000\">                                     </span>│\n",
       "└────────────┴─────────────────────────────────────┴────────────────────────┴─────────────────────────────────────┘\n",
       "</pre>\n"
      ],
      "text/plain": [
       "\u001b[3m                                        🎉📚 **Top Recommended Books** 📚🎉                                        \u001b[0m\n",
       "┏━━━━━━━━━━━━┳━━━━━━━━━━━━━━━━━━━━━━━━━━━━━━━━━━━━━┳━━━━━━━━━━━━━━━━━━━━━━━━┳━━━━━━━━━━━━━━━━━━━━━━━━━━━━━━━━━━━━━┓\n",
       "┃\u001b[1m \u001b[0m\u001b[1m📖 Book ID\u001b[0m\u001b[1m \u001b[0m┃\u001b[1m \u001b[0m\u001b[1m📚 Book Title                      \u001b[0m\u001b[1m \u001b[0m┃\u001b[1m \u001b[0m\u001b[1m✍️ Author(s)           \u001b[0m\u001b[1m \u001b[0m┃\u001b[1m \u001b[0m\u001b[1m🏢 Publisher                       \u001b[0m\u001b[1m \u001b[0m┃\n",
       "┡━━━━━━━━━━━━╇━━━━━━━━━━━━━━━━━━━━━━━━━━━━━━━━━━━━━╇━━━━━━━━━━━━━━━━━━━━━━━━╇━━━━━━━━━━━━━━━━━━━━━━━━━━━━━━━━━━━━━┩\n",
       "│\u001b[30m \u001b[0m\u001b[30m 2071706  \u001b[0m\u001b[30m \u001b[0m│\u001b[30m \u001b[0m\u001b[30mThe Definitive Journals of Lewis   \u001b[0m\u001b[30m \u001b[0m│\u001b[30m \u001b[0m\u001b[30mMeriwether Lewis      \u001b[0m\u001b[30m \u001b[0m│\u001b[30m \u001b[0m\u001b[30mBison Books                        \u001b[0m\u001b[30m \u001b[0m│\n",
       "│\u001b[30m            \u001b[0m│\u001b[30m \u001b[0m\u001b[30mand Clark, 7 Vols                  \u001b[0m\u001b[30m \u001b[0m│\u001b[30m                        \u001b[0m│\u001b[30m                                     \u001b[0m│\n",
       "├────────────┼─────────────────────────────────────┼────────────────────────┼─────────────────────────────────────┤\n",
       "│\u001b[30m \u001b[0m\u001b[30m  753098  \u001b[0m\u001b[30m \u001b[0m│\u001b[30m \u001b[0m\u001b[30mThe Holy Quran                     \u001b[0m\u001b[30m \u001b[0m│\u001b[30m \u001b[0m\u001b[30mAnonymous             \u001b[0m\u001b[30m \u001b[0m│\u001b[30m \u001b[0m\u001b[30mAmerican Trust Publications        \u001b[0m\u001b[30m \u001b[0m│\n",
       "├────────────┼─────────────────────────────────────┼────────────────────────┼─────────────────────────────────────┤\n",
       "│\u001b[30m \u001b[0m\u001b[30m 2009998  \u001b[0m\u001b[30m \u001b[0m│\u001b[30m \u001b[0m\u001b[30mMillenium: La trilogie             \u001b[0m\u001b[30m \u001b[0m│\u001b[30m \u001b[0m\u001b[30mStieg Larsson         \u001b[0m\u001b[30m \u001b[0m│\u001b[30m \u001b[0m\u001b[30mActes Sud                          \u001b[0m\u001b[30m \u001b[0m│\n",
       "├────────────┼─────────────────────────────────────┼────────────────────────┼─────────────────────────────────────┤\n",
       "│\u001b[30m \u001b[0m\u001b[30m    30    \u001b[0m\u001b[30m \u001b[0m│\u001b[30m \u001b[0m\u001b[30mJ.R.R. Tolkien 4-Book Boxed Set:   \u001b[0m\u001b[30m \u001b[0m│\u001b[30m \u001b[0m\u001b[30mJ.R.R. Tolkien        \u001b[0m\u001b[30m \u001b[0m│\u001b[30m \u001b[0m\u001b[30mBallantine Books                   \u001b[0m\u001b[30m \u001b[0m│\n",
       "│\u001b[30m            \u001b[0m│\u001b[30m \u001b[0m\u001b[30mThe Hobbit and The Lord of the     \u001b[0m\u001b[30m \u001b[0m│\u001b[30m                        \u001b[0m│\u001b[30m                                     \u001b[0m│\n",
       "│\u001b[30m            \u001b[0m│\u001b[30m \u001b[0m\u001b[30mRings                              \u001b[0m\u001b[30m \u001b[0m│\u001b[30m                        \u001b[0m│\u001b[30m                                     \u001b[0m│\n",
       "├────────────┼─────────────────────────────────────┼────────────────────────┼─────────────────────────────────────┤\n",
       "│\u001b[30m \u001b[0m\u001b[30m  850794  \u001b[0m\u001b[30m \u001b[0m│\u001b[30m \u001b[0m\u001b[30mThe Man Without Qualities          \u001b[0m\u001b[30m \u001b[0m│\u001b[30m \u001b[0m\u001b[30mRobert Musil          \u001b[0m\u001b[30m \u001b[0m│\u001b[30m \u001b[0m\u001b[30mAlfred a Knopf                     \u001b[0m\u001b[30m \u001b[0m│\n",
       "├────────────┼─────────────────────────────────────┼────────────────────────┼─────────────────────────────────────┤\n",
       "│\u001b[30m \u001b[0m\u001b[30m  301199  \u001b[0m\u001b[30m \u001b[0m│\u001b[30m \u001b[0m\u001b[30mLongman Advanced American          \u001b[0m\u001b[30m \u001b[0m│\u001b[30m \u001b[0m\u001b[30mAddison Wesley Longman\u001b[0m\u001b[30m \u001b[0m│\u001b[30m \u001b[0m\u001b[30mAddison Wesley Publishing Company  \u001b[0m\u001b[30m \u001b[0m│\n",
       "│\u001b[30m            \u001b[0m│\u001b[30m \u001b[0m\u001b[30mDictionary                         \u001b[0m\u001b[30m \u001b[0m│\u001b[30m                        \u001b[0m│\u001b[30m                                     \u001b[0m│\n",
       "├────────────┼─────────────────────────────────────┼────────────────────────┼─────────────────────────────────────┤\n",
       "│\u001b[30m \u001b[0m\u001b[30m 3215105  \u001b[0m\u001b[30m \u001b[0m│\u001b[30m \u001b[0m\u001b[30mThe Story and Its Writer: An       \u001b[0m\u001b[30m \u001b[0m│\u001b[30m \u001b[0m\u001b[30mAnn Charters          \u001b[0m\u001b[30m \u001b[0m│\u001b[30m \u001b[0m\u001b[30mBedford Books                      \u001b[0m\u001b[30m \u001b[0m│\n",
       "│\u001b[30m            \u001b[0m│\u001b[30m \u001b[0m\u001b[30mIntroduction to Short Fiction      \u001b[0m\u001b[30m \u001b[0m│\u001b[30m                        \u001b[0m│\u001b[30m                                     \u001b[0m│\n",
       "├────────────┼─────────────────────────────────────┼────────────────────────┼─────────────────────────────────────┤\n",
       "│\u001b[30m \u001b[0m\u001b[30m  19082   \u001b[0m\u001b[30m \u001b[0m│\u001b[30m \u001b[0m\u001b[30mThe Complete Works: The Revised    \u001b[0m\u001b[30m \u001b[0m│\u001b[30m \u001b[0m\u001b[30mAristotle             \u001b[0m\u001b[30m \u001b[0m│\u001b[30m \u001b[0m\u001b[30mBollingen/Princeton University     \u001b[0m\u001b[30m \u001b[0m│\n",
       "│\u001b[30m            \u001b[0m│\u001b[30m \u001b[0m\u001b[30mOxford Translation, Vol. 1         \u001b[0m\u001b[30m \u001b[0m│\u001b[30m                        \u001b[0m│\u001b[30m \u001b[0m\u001b[30mPress (NJ)                         \u001b[0m\u001b[30m \u001b[0m│\n",
       "├────────────┼─────────────────────────────────────┼────────────────────────┼─────────────────────────────────────┤\n",
       "│\u001b[30m \u001b[0m\u001b[30m  182785  \u001b[0m\u001b[30m \u001b[0m│\u001b[30m \u001b[0m\u001b[30mHow Arbitration Works: Elkouri &   \u001b[0m\u001b[30m \u001b[0m│\u001b[30m \u001b[0m\u001b[30mFrank Elkouri         \u001b[0m\u001b[30m \u001b[0m│\u001b[30m \u001b[0m\u001b[30mBureau of National Affairs         \u001b[0m\u001b[30m \u001b[0m│\n",
       "│\u001b[30m            \u001b[0m│\u001b[30m \u001b[0m\u001b[30mElkouri                            \u001b[0m\u001b[30m \u001b[0m│\u001b[30m                        \u001b[0m│\u001b[30m                                     \u001b[0m│\n",
       "├────────────┼─────────────────────────────────────┼────────────────────────┼─────────────────────────────────────┤\n",
       "│\u001b[30m \u001b[0m\u001b[30m  169025  \u001b[0m\u001b[30m \u001b[0m│\u001b[30m \u001b[0m\u001b[30mMac OS X Internals: A Systems      \u001b[0m\u001b[30m \u001b[0m│\u001b[30m \u001b[0m\u001b[30mAmit Singh            \u001b[0m\u001b[30m \u001b[0m│\u001b[30m \u001b[0m\u001b[30mAddison-Wesley Professional        \u001b[0m\u001b[30m \u001b[0m│\n",
       "│\u001b[30m            \u001b[0m│\u001b[30m \u001b[0m\u001b[30mApproach                           \u001b[0m\u001b[30m \u001b[0m│\u001b[30m                        \u001b[0m│\u001b[30m                                     \u001b[0m│\n",
       "└────────────┴─────────────────────────────────────┴────────────────────────┴─────────────────────────────────────┘\n"
      ]
     },
     "metadata": {},
     "output_type": "display_data"
    }
   ],
   "source": [
    "feature_columns = ['pagesNumber', 'publisher', 'rating', 'countsofreview', 'publishyear']\n",
    "feature_recommender_system = feature_based_recommender(filtered_books_df, feature_columns)\n",
    "recommended_books_fr_r = feature_recommender_system(\"Harry Potter Series Box Set (Harry Potter, #1-7)\", n_neighbors=10)\n",
    "display_recommendations_in_table(recommended_books_fr_r)"
   ]
  },
  {
   "cell_type": "code",
   "execution_count": 422,
   "id": "7cc2f5bf-9927-4b04-a3ca-af5b51dd41fb",
   "metadata": {},
   "outputs": [],
   "source": [
    "# filtered_books_df.loc[filtered_books_df['name'] == \"J.R.R. Tolkien 4-Book Boxed Set: The Hobbit and The Lord of the Rings\"]"
   ]
  },
  {
   "cell_type": "markdown",
   "id": "c6a66009-446d-4f41-88c7-f7e0f1128c2a",
   "metadata": {},
   "source": [
    "#### Read the description of the books to confirm if the recommended books makes sense"
   ]
  },
  {
   "cell_type": "code",
   "execution_count": 436,
   "id": "6b06ec69-301c-483d-9dfa-b757a7600161",
   "metadata": {},
   "outputs": [
    {
     "name": "stdout",
     "output_type": "stream",
     "text": [
      "Over 4000 pages of Harry Potter and his world, including all 7 books.<br /><br />All seven eBooks in the multi-award winning, internationally bestselling Harry Potter series, available as one download with stunning cover art by Olly Moss. Enjoy the stories that have captured the imagination of millions worldwide.\n"
     ]
    }
   ],
   "source": [
    "# Identify the correct column name for book titles\n",
    "actual_col_name = [col for col in filtered_books_df.columns if \"name\" in col.lower()]\n",
    "book_title_column = actual_col_name[0] if actual_col_name else \"name\"  # Default to 'name'\n",
    "\n",
    "# Get the description for the specific book\n",
    "book_title = \"Harry Potter Series Box Set (Harry Potter, #1-7)\"\n",
    "book_description = filtered_books_df.loc[filtered_books_df[book_title_column] == book_title, 'description']\n",
    "\n",
    "# Display the result\n",
    "print(book_description.iloc[0] if not book_description.empty else \"Book not found in dataset.\")"
   ]
  },
  {
   "cell_type": "code",
   "execution_count": null,
   "id": "f4239670-8d76-476c-ab28-b140a2e18fac",
   "metadata": {},
   "outputs": [],
   "source": []
  }
 ],
 "metadata": {
  "kernelspec": {
   "display_name": "Python [conda env:base] *",
   "language": "python",
   "name": "conda-base-py"
  },
  "language_info": {
   "codemirror_mode": {
    "name": "ipython",
    "version": 3
   },
   "file_extension": ".py",
   "mimetype": "text/x-python",
   "name": "python",
   "nbconvert_exporter": "python",
   "pygments_lexer": "ipython3",
   "version": "3.11.5"
  }
 },
 "nbformat": 4,
 "nbformat_minor": 5
}
